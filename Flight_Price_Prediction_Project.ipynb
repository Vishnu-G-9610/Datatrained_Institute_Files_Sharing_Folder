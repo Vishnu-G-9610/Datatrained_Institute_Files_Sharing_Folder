{
 "cells": [
  {
   "cell_type": "markdown",
   "metadata": {},
   "source": [
    "# Flight Price Prediction"
   ]
  },
  {
   "cell_type": "markdown",
   "metadata": {},
   "source": [
    "### Problem Statement:\n",
    "\n",
    "Flight ticket prices can be something hard to guess, today we might see a price, check out the price of the same flight tomorrow, it will be a different story. We might have often heard travellers saying that flight ticket prices are so unpredictable. Here you will be provided with prices of flight tickets for various airlines between the months of March and June of 2019 and between various cities.\n",
    "\n",
    "Size of training set: 10683 records\n",
    "\n",
    "Size of test set: 2671 records\n",
    "FEATURES:\n",
    "\n",
    "Airline: The name of the airline.\n",
    "\n",
    "Date_of_Journey: The date of the journey\n",
    "\n",
    "Source: The source from which the service begins.\n",
    "\n",
    "Destination: The destination where the service ends.\n",
    "\n",
    "Route: The route taken by the flight to reach the destination.\n",
    "\n",
    "Dep_Time: The time when the journey starts from the source.\n",
    "\n",
    "Arrival_Time: Time of arrival at the destination.\n",
    "\n",
    "Duration: Total duration of the flight.\n",
    "\n",
    "Total_Stops: Total stops between the source and destination.\n",
    "\n",
    "Additional_Info: Additional information about the flight\n",
    "\n",
    "Price: The price of the ticket"
   ]
  },
  {
   "cell_type": "code",
   "execution_count": 328,
   "metadata": {},
   "outputs": [],
   "source": [
    "# Importing all the required libraries\n",
    "\n",
    "\n",
    "import numpy as np\n",
    "import pandas as pd\n",
    "import matplotlib.pyplot as plt\n",
    "import seaborn as sns\n",
    "import seaborn as sn\n",
    "import sklearn\n",
    "%matplotlib inline\n",
    "import scipy.stats as stats\n",
    "from sklearn.decomposition import PCA\n",
    "from sklearn.feature_selection import SelectKBest, f_classif\n",
    "from sklearn.preprocessing import StandardScaler\n",
    "from statsmodels.stats.outliers_influence import variance_inflation_factor\n",
    "from sklearn.preprocessing import PowerTransformer\n",
    "from sklearn.preprocessing import LabelEncoder\n",
    "from scipy.stats import zscore\n",
    "from sklearn.model_selection import GridSearchCV\n",
    "from sklearn.model_selection import cross_val_score as cvs\n",
    "from sklearn.model_selection import cross_val_score\n",
    "from sklearn.linear_model import Ridge, Lasso\n",
    "from sklearn.ensemble import RandomForestRegressor,AdaBoostRegressor\n",
    "from sklearn.preprocessing import power_transform\n",
    "from sklearn.svm import SVR\n",
    "from sklearn.model_selection import train_test_split\n",
    "from sklearn.metrics import accuracy_score, r2_score, mean_squared_error\n",
    "from sklearn.metrics import confusion_matrix, classification_report, roc_curve, roc_auc_score, plot_roc_curve\n",
    "from sklearn.linear_model import LogisticRegression\n",
    "from sklearn.ensemble import RandomForestClassifier, AdaBoostClassifier\n",
    "from sklearn.tree import DecisionTreeClassifier\n",
    "from sklearn.svm import SVC\n",
    "from sklearn.neighbors import KNeighborsClassifier\n",
    "import joblib\n",
    "import warnings\n",
    "warnings.filterwarnings('ignore')"
   ]
  },
  {
   "cell_type": "code",
   "execution_count": 329,
   "metadata": {},
   "outputs": [
    {
     "data": {
      "text/html": [
       "<div>\n",
       "<style scoped>\n",
       "    .dataframe tbody tr th:only-of-type {\n",
       "        vertical-align: middle;\n",
       "    }\n",
       "\n",
       "    .dataframe tbody tr th {\n",
       "        vertical-align: top;\n",
       "    }\n",
       "\n",
       "    .dataframe thead th {\n",
       "        text-align: right;\n",
       "    }\n",
       "</style>\n",
       "<table border=\"1\" class=\"dataframe\">\n",
       "  <thead>\n",
       "    <tr style=\"text-align: right;\">\n",
       "      <th></th>\n",
       "      <th>Airline</th>\n",
       "      <th>Date_of_Journey</th>\n",
       "      <th>Source</th>\n",
       "      <th>Destination</th>\n",
       "      <th>Route</th>\n",
       "      <th>Dep_Time</th>\n",
       "      <th>Arrival_Time</th>\n",
       "      <th>Duration</th>\n",
       "      <th>Total_Stops</th>\n",
       "      <th>Additional_Info</th>\n",
       "      <th>Price</th>\n",
       "    </tr>\n",
       "  </thead>\n",
       "  <tbody>\n",
       "    <tr>\n",
       "      <th>0</th>\n",
       "      <td>IndiGo</td>\n",
       "      <td>24/03/2019</td>\n",
       "      <td>Banglore</td>\n",
       "      <td>New Delhi</td>\n",
       "      <td>BLR → DEL</td>\n",
       "      <td>22:20</td>\n",
       "      <td>01:10 22 Mar</td>\n",
       "      <td>2h 50m</td>\n",
       "      <td>non-stop</td>\n",
       "      <td>No info</td>\n",
       "      <td>3897</td>\n",
       "    </tr>\n",
       "    <tr>\n",
       "      <th>1</th>\n",
       "      <td>Air India</td>\n",
       "      <td>1/05/2019</td>\n",
       "      <td>Kolkata</td>\n",
       "      <td>Banglore</td>\n",
       "      <td>CCU → IXR → BBI → BLR</td>\n",
       "      <td>05:50</td>\n",
       "      <td>13:15</td>\n",
       "      <td>7h 25m</td>\n",
       "      <td>2 stops</td>\n",
       "      <td>No info</td>\n",
       "      <td>7662</td>\n",
       "    </tr>\n",
       "    <tr>\n",
       "      <th>2</th>\n",
       "      <td>Jet Airways</td>\n",
       "      <td>9/06/2019</td>\n",
       "      <td>Delhi</td>\n",
       "      <td>Cochin</td>\n",
       "      <td>DEL → LKO → BOM → COK</td>\n",
       "      <td>09:25</td>\n",
       "      <td>04:25 10 Jun</td>\n",
       "      <td>19h</td>\n",
       "      <td>2 stops</td>\n",
       "      <td>No info</td>\n",
       "      <td>13882</td>\n",
       "    </tr>\n",
       "    <tr>\n",
       "      <th>3</th>\n",
       "      <td>IndiGo</td>\n",
       "      <td>12/05/2019</td>\n",
       "      <td>Kolkata</td>\n",
       "      <td>Banglore</td>\n",
       "      <td>CCU → NAG → BLR</td>\n",
       "      <td>18:05</td>\n",
       "      <td>23:30</td>\n",
       "      <td>5h 25m</td>\n",
       "      <td>1 stop</td>\n",
       "      <td>No info</td>\n",
       "      <td>6218</td>\n",
       "    </tr>\n",
       "    <tr>\n",
       "      <th>4</th>\n",
       "      <td>IndiGo</td>\n",
       "      <td>01/03/2019</td>\n",
       "      <td>Banglore</td>\n",
       "      <td>New Delhi</td>\n",
       "      <td>BLR → NAG → DEL</td>\n",
       "      <td>16:50</td>\n",
       "      <td>21:35</td>\n",
       "      <td>4h 45m</td>\n",
       "      <td>1 stop</td>\n",
       "      <td>No info</td>\n",
       "      <td>13302</td>\n",
       "    </tr>\n",
       "    <tr>\n",
       "      <th>...</th>\n",
       "      <td>...</td>\n",
       "      <td>...</td>\n",
       "      <td>...</td>\n",
       "      <td>...</td>\n",
       "      <td>...</td>\n",
       "      <td>...</td>\n",
       "      <td>...</td>\n",
       "      <td>...</td>\n",
       "      <td>...</td>\n",
       "      <td>...</td>\n",
       "      <td>...</td>\n",
       "    </tr>\n",
       "    <tr>\n",
       "      <th>10678</th>\n",
       "      <td>Air Asia</td>\n",
       "      <td>9/04/2019</td>\n",
       "      <td>Kolkata</td>\n",
       "      <td>Banglore</td>\n",
       "      <td>CCU → BLR</td>\n",
       "      <td>19:55</td>\n",
       "      <td>22:25</td>\n",
       "      <td>2h 30m</td>\n",
       "      <td>non-stop</td>\n",
       "      <td>No info</td>\n",
       "      <td>4107</td>\n",
       "    </tr>\n",
       "    <tr>\n",
       "      <th>10679</th>\n",
       "      <td>Air India</td>\n",
       "      <td>27/04/2019</td>\n",
       "      <td>Kolkata</td>\n",
       "      <td>Banglore</td>\n",
       "      <td>CCU → BLR</td>\n",
       "      <td>20:45</td>\n",
       "      <td>23:20</td>\n",
       "      <td>2h 35m</td>\n",
       "      <td>non-stop</td>\n",
       "      <td>No info</td>\n",
       "      <td>4145</td>\n",
       "    </tr>\n",
       "    <tr>\n",
       "      <th>10680</th>\n",
       "      <td>Jet Airways</td>\n",
       "      <td>27/04/2019</td>\n",
       "      <td>Banglore</td>\n",
       "      <td>Delhi</td>\n",
       "      <td>BLR → DEL</td>\n",
       "      <td>08:20</td>\n",
       "      <td>11:20</td>\n",
       "      <td>3h</td>\n",
       "      <td>non-stop</td>\n",
       "      <td>No info</td>\n",
       "      <td>7229</td>\n",
       "    </tr>\n",
       "    <tr>\n",
       "      <th>10681</th>\n",
       "      <td>Vistara</td>\n",
       "      <td>01/03/2019</td>\n",
       "      <td>Banglore</td>\n",
       "      <td>New Delhi</td>\n",
       "      <td>BLR → DEL</td>\n",
       "      <td>11:30</td>\n",
       "      <td>14:10</td>\n",
       "      <td>2h 40m</td>\n",
       "      <td>non-stop</td>\n",
       "      <td>No info</td>\n",
       "      <td>12648</td>\n",
       "    </tr>\n",
       "    <tr>\n",
       "      <th>10682</th>\n",
       "      <td>Air India</td>\n",
       "      <td>9/05/2019</td>\n",
       "      <td>Delhi</td>\n",
       "      <td>Cochin</td>\n",
       "      <td>DEL → GOI → BOM → COK</td>\n",
       "      <td>10:55</td>\n",
       "      <td>19:15</td>\n",
       "      <td>8h 20m</td>\n",
       "      <td>2 stops</td>\n",
       "      <td>No info</td>\n",
       "      <td>11753</td>\n",
       "    </tr>\n",
       "  </tbody>\n",
       "</table>\n",
       "<p>10683 rows × 11 columns</p>\n",
       "</div>"
      ],
      "text/plain": [
       "           Airline Date_of_Journey    Source Destination  \\\n",
       "0           IndiGo      24/03/2019  Banglore   New Delhi   \n",
       "1        Air India       1/05/2019   Kolkata    Banglore   \n",
       "2      Jet Airways       9/06/2019     Delhi      Cochin   \n",
       "3           IndiGo      12/05/2019   Kolkata    Banglore   \n",
       "4           IndiGo      01/03/2019  Banglore   New Delhi   \n",
       "...            ...             ...       ...         ...   \n",
       "10678     Air Asia       9/04/2019   Kolkata    Banglore   \n",
       "10679    Air India      27/04/2019   Kolkata    Banglore   \n",
       "10680  Jet Airways      27/04/2019  Banglore       Delhi   \n",
       "10681      Vistara      01/03/2019  Banglore   New Delhi   \n",
       "10682    Air India       9/05/2019     Delhi      Cochin   \n",
       "\n",
       "                       Route Dep_Time  Arrival_Time Duration Total_Stops  \\\n",
       "0                  BLR → DEL    22:20  01:10 22 Mar   2h 50m    non-stop   \n",
       "1      CCU → IXR → BBI → BLR    05:50         13:15   7h 25m     2 stops   \n",
       "2      DEL → LKO → BOM → COK    09:25  04:25 10 Jun      19h     2 stops   \n",
       "3            CCU → NAG → BLR    18:05         23:30   5h 25m      1 stop   \n",
       "4            BLR → NAG → DEL    16:50         21:35   4h 45m      1 stop   \n",
       "...                      ...      ...           ...      ...         ...   \n",
       "10678              CCU → BLR    19:55         22:25   2h 30m    non-stop   \n",
       "10679              CCU → BLR    20:45         23:20   2h 35m    non-stop   \n",
       "10680              BLR → DEL    08:20         11:20       3h    non-stop   \n",
       "10681              BLR → DEL    11:30         14:10   2h 40m    non-stop   \n",
       "10682  DEL → GOI → BOM → COK    10:55         19:15   8h 20m     2 stops   \n",
       "\n",
       "      Additional_Info  Price  \n",
       "0             No info   3897  \n",
       "1             No info   7662  \n",
       "2             No info  13882  \n",
       "3             No info   6218  \n",
       "4             No info  13302  \n",
       "...               ...    ...  \n",
       "10678         No info   4107  \n",
       "10679         No info   4145  \n",
       "10680         No info   7229  \n",
       "10681         No info  12648  \n",
       "10682         No info  11753  \n",
       "\n",
       "[10683 rows x 11 columns]"
      ]
     },
     "execution_count": 329,
     "metadata": {},
     "output_type": "execute_result"
    }
   ],
   "source": [
    "df=pd.read_excel(\"Data_Train.xlsx\")\n",
    "df"
   ]
  },
  {
   "cell_type": "markdown",
   "metadata": {},
   "source": [
    "Upon review, found target variable Price has continous data so need to approach this dataset as Regression Problem"
   ]
  },
  {
   "cell_type": "code",
   "execution_count": 330,
   "metadata": {},
   "outputs": [
    {
     "data": {
      "text/plain": [
       "(10683, 11)"
      ]
     },
     "execution_count": 330,
     "metadata": {},
     "output_type": "execute_result"
    }
   ],
   "source": [
    "df.shape"
   ]
  },
  {
   "cell_type": "markdown",
   "metadata": {},
   "source": [
    "There are 10683 Rows and 11 Columns including the Target variables in this Dataset"
   ]
  },
  {
   "cell_type": "code",
   "execution_count": 331,
   "metadata": {},
   "outputs": [
    {
     "name": "stdout",
     "output_type": "stream",
     "text": [
      "<class 'pandas.core.frame.DataFrame'>\n",
      "RangeIndex: 10683 entries, 0 to 10682\n",
      "Data columns (total 11 columns):\n",
      " #   Column           Non-Null Count  Dtype \n",
      "---  ------           --------------  ----- \n",
      " 0   Airline          10683 non-null  object\n",
      " 1   Date_of_Journey  10683 non-null  object\n",
      " 2   Source           10683 non-null  object\n",
      " 3   Destination      10683 non-null  object\n",
      " 4   Route            10682 non-null  object\n",
      " 5   Dep_Time         10683 non-null  object\n",
      " 6   Arrival_Time     10683 non-null  object\n",
      " 7   Duration         10683 non-null  object\n",
      " 8   Total_Stops      10682 non-null  object\n",
      " 9   Additional_Info  10683 non-null  object\n",
      " 10  Price            10683 non-null  int64 \n",
      "dtypes: int64(1), object(10)\n",
      "memory usage: 918.2+ KB\n"
     ]
    }
   ],
   "source": [
    "df.info()"
   ]
  },
  {
   "cell_type": "markdown",
   "metadata": {},
   "source": [
    "We can observe there are null values in Total_Stops and Route columns"
   ]
  },
  {
   "cell_type": "code",
   "execution_count": 332,
   "metadata": {},
   "outputs": [
    {
     "data": {
      "text/plain": [
       "Airline            0\n",
       "Date_of_Journey    0\n",
       "Source             0\n",
       "Destination        0\n",
       "Route              1\n",
       "Dep_Time           0\n",
       "Arrival_Time       0\n",
       "Duration           0\n",
       "Total_Stops        1\n",
       "Additional_Info    0\n",
       "Price              0\n",
       "dtype: int64"
      ]
     },
     "execution_count": 332,
     "metadata": {},
     "output_type": "execute_result"
    }
   ],
   "source": [
    "df.isnull().sum()"
   ]
  },
  {
   "cell_type": "markdown",
   "metadata": {},
   "source": [
    "We can observe there are 1 null values in Route and Total_Stops columns"
   ]
  },
  {
   "cell_type": "markdown",
   "metadata": {},
   "source": [
    "### Resolving Null Values"
   ]
  },
  {
   "cell_type": "code",
   "execution_count": 333,
   "metadata": {},
   "outputs": [],
   "source": [
    "df['Route'].fillna(df['Route'].mode()[0], inplace=True)\n",
    "df['Total_Stops'].fillna(df['Total_Stops'].mode()[0], inplace=True)"
   ]
  },
  {
   "cell_type": "markdown",
   "metadata": {},
   "source": [
    "Updating the Null Values in Categorical Columns with Mode"
   ]
  },
  {
   "cell_type": "code",
   "execution_count": 334,
   "metadata": {},
   "outputs": [
    {
     "data": {
      "text/plain": [
       "Airline            0\n",
       "Date_of_Journey    0\n",
       "Source             0\n",
       "Destination        0\n",
       "Route              0\n",
       "Dep_Time           0\n",
       "Arrival_Time       0\n",
       "Duration           0\n",
       "Total_Stops        0\n",
       "Additional_Info    0\n",
       "Price              0\n",
       "dtype: int64"
      ]
     },
     "execution_count": 334,
     "metadata": {},
     "output_type": "execute_result"
    }
   ],
   "source": [
    "df.isnull().sum()"
   ]
  },
  {
   "cell_type": "markdown",
   "metadata": {},
   "source": [
    "Null Values are resolved in the dataset"
   ]
  },
  {
   "cell_type": "markdown",
   "metadata": {},
   "source": [
    "### Checking for Null Values in Test Data"
   ]
  },
  {
   "cell_type": "code",
   "execution_count": 335,
   "metadata": {},
   "outputs": [],
   "source": [
    "ts=pd.read_excel(\"Test_set.xlsx\")"
   ]
  },
  {
   "cell_type": "code",
   "execution_count": 336,
   "metadata": {},
   "outputs": [
    {
     "data": {
      "text/html": [
       "<div>\n",
       "<style scoped>\n",
       "    .dataframe tbody tr th:only-of-type {\n",
       "        vertical-align: middle;\n",
       "    }\n",
       "\n",
       "    .dataframe tbody tr th {\n",
       "        vertical-align: top;\n",
       "    }\n",
       "\n",
       "    .dataframe thead th {\n",
       "        text-align: right;\n",
       "    }\n",
       "</style>\n",
       "<table border=\"1\" class=\"dataframe\">\n",
       "  <thead>\n",
       "    <tr style=\"text-align: right;\">\n",
       "      <th></th>\n",
       "      <th>Airline</th>\n",
       "      <th>Date_of_Journey</th>\n",
       "      <th>Source</th>\n",
       "      <th>Destination</th>\n",
       "      <th>Route</th>\n",
       "      <th>Dep_Time</th>\n",
       "      <th>Arrival_Time</th>\n",
       "      <th>Duration</th>\n",
       "      <th>Total_Stops</th>\n",
       "      <th>Additional_Info</th>\n",
       "    </tr>\n",
       "  </thead>\n",
       "  <tbody>\n",
       "    <tr>\n",
       "      <th>0</th>\n",
       "      <td>Jet Airways</td>\n",
       "      <td>6/06/2019</td>\n",
       "      <td>Delhi</td>\n",
       "      <td>Cochin</td>\n",
       "      <td>DEL → BOM → COK</td>\n",
       "      <td>17:30</td>\n",
       "      <td>04:25 07 Jun</td>\n",
       "      <td>10h 55m</td>\n",
       "      <td>1 stop</td>\n",
       "      <td>No info</td>\n",
       "    </tr>\n",
       "    <tr>\n",
       "      <th>1</th>\n",
       "      <td>IndiGo</td>\n",
       "      <td>12/05/2019</td>\n",
       "      <td>Kolkata</td>\n",
       "      <td>Banglore</td>\n",
       "      <td>CCU → MAA → BLR</td>\n",
       "      <td>06:20</td>\n",
       "      <td>10:20</td>\n",
       "      <td>4h</td>\n",
       "      <td>1 stop</td>\n",
       "      <td>No info</td>\n",
       "    </tr>\n",
       "    <tr>\n",
       "      <th>2</th>\n",
       "      <td>Jet Airways</td>\n",
       "      <td>21/05/2019</td>\n",
       "      <td>Delhi</td>\n",
       "      <td>Cochin</td>\n",
       "      <td>DEL → BOM → COK</td>\n",
       "      <td>19:15</td>\n",
       "      <td>19:00 22 May</td>\n",
       "      <td>23h 45m</td>\n",
       "      <td>1 stop</td>\n",
       "      <td>In-flight meal not included</td>\n",
       "    </tr>\n",
       "    <tr>\n",
       "      <th>3</th>\n",
       "      <td>Multiple carriers</td>\n",
       "      <td>21/05/2019</td>\n",
       "      <td>Delhi</td>\n",
       "      <td>Cochin</td>\n",
       "      <td>DEL → BOM → COK</td>\n",
       "      <td>08:00</td>\n",
       "      <td>21:00</td>\n",
       "      <td>13h</td>\n",
       "      <td>1 stop</td>\n",
       "      <td>No info</td>\n",
       "    </tr>\n",
       "    <tr>\n",
       "      <th>4</th>\n",
       "      <td>Air Asia</td>\n",
       "      <td>24/06/2019</td>\n",
       "      <td>Banglore</td>\n",
       "      <td>Delhi</td>\n",
       "      <td>BLR → DEL</td>\n",
       "      <td>23:55</td>\n",
       "      <td>02:45 25 Jun</td>\n",
       "      <td>2h 50m</td>\n",
       "      <td>non-stop</td>\n",
       "      <td>No info</td>\n",
       "    </tr>\n",
       "    <tr>\n",
       "      <th>...</th>\n",
       "      <td>...</td>\n",
       "      <td>...</td>\n",
       "      <td>...</td>\n",
       "      <td>...</td>\n",
       "      <td>...</td>\n",
       "      <td>...</td>\n",
       "      <td>...</td>\n",
       "      <td>...</td>\n",
       "      <td>...</td>\n",
       "      <td>...</td>\n",
       "    </tr>\n",
       "    <tr>\n",
       "      <th>2666</th>\n",
       "      <td>Air India</td>\n",
       "      <td>6/06/2019</td>\n",
       "      <td>Kolkata</td>\n",
       "      <td>Banglore</td>\n",
       "      <td>CCU → DEL → BLR</td>\n",
       "      <td>20:30</td>\n",
       "      <td>20:25 07 Jun</td>\n",
       "      <td>23h 55m</td>\n",
       "      <td>1 stop</td>\n",
       "      <td>No info</td>\n",
       "    </tr>\n",
       "    <tr>\n",
       "      <th>2667</th>\n",
       "      <td>IndiGo</td>\n",
       "      <td>27/03/2019</td>\n",
       "      <td>Kolkata</td>\n",
       "      <td>Banglore</td>\n",
       "      <td>CCU → BLR</td>\n",
       "      <td>14:20</td>\n",
       "      <td>16:55</td>\n",
       "      <td>2h 35m</td>\n",
       "      <td>non-stop</td>\n",
       "      <td>No info</td>\n",
       "    </tr>\n",
       "    <tr>\n",
       "      <th>2668</th>\n",
       "      <td>Jet Airways</td>\n",
       "      <td>6/03/2019</td>\n",
       "      <td>Delhi</td>\n",
       "      <td>Cochin</td>\n",
       "      <td>DEL → BOM → COK</td>\n",
       "      <td>21:50</td>\n",
       "      <td>04:25 07 Mar</td>\n",
       "      <td>6h 35m</td>\n",
       "      <td>1 stop</td>\n",
       "      <td>No info</td>\n",
       "    </tr>\n",
       "    <tr>\n",
       "      <th>2669</th>\n",
       "      <td>Air India</td>\n",
       "      <td>6/03/2019</td>\n",
       "      <td>Delhi</td>\n",
       "      <td>Cochin</td>\n",
       "      <td>DEL → BOM → COK</td>\n",
       "      <td>04:00</td>\n",
       "      <td>19:15</td>\n",
       "      <td>15h 15m</td>\n",
       "      <td>1 stop</td>\n",
       "      <td>No info</td>\n",
       "    </tr>\n",
       "    <tr>\n",
       "      <th>2670</th>\n",
       "      <td>Multiple carriers</td>\n",
       "      <td>15/06/2019</td>\n",
       "      <td>Delhi</td>\n",
       "      <td>Cochin</td>\n",
       "      <td>DEL → BOM → COK</td>\n",
       "      <td>04:55</td>\n",
       "      <td>19:15</td>\n",
       "      <td>14h 20m</td>\n",
       "      <td>1 stop</td>\n",
       "      <td>No info</td>\n",
       "    </tr>\n",
       "  </tbody>\n",
       "</table>\n",
       "<p>2671 rows × 10 columns</p>\n",
       "</div>"
      ],
      "text/plain": [
       "                Airline Date_of_Journey    Source Destination  \\\n",
       "0           Jet Airways       6/06/2019     Delhi      Cochin   \n",
       "1                IndiGo      12/05/2019   Kolkata    Banglore   \n",
       "2           Jet Airways      21/05/2019     Delhi      Cochin   \n",
       "3     Multiple carriers      21/05/2019     Delhi      Cochin   \n",
       "4              Air Asia      24/06/2019  Banglore       Delhi   \n",
       "...                 ...             ...       ...         ...   \n",
       "2666          Air India       6/06/2019   Kolkata    Banglore   \n",
       "2667             IndiGo      27/03/2019   Kolkata    Banglore   \n",
       "2668        Jet Airways       6/03/2019     Delhi      Cochin   \n",
       "2669          Air India       6/03/2019     Delhi      Cochin   \n",
       "2670  Multiple carriers      15/06/2019     Delhi      Cochin   \n",
       "\n",
       "                Route Dep_Time  Arrival_Time Duration Total_Stops  \\\n",
       "0     DEL → BOM → COK    17:30  04:25 07 Jun  10h 55m      1 stop   \n",
       "1     CCU → MAA → BLR    06:20         10:20       4h      1 stop   \n",
       "2     DEL → BOM → COK    19:15  19:00 22 May  23h 45m      1 stop   \n",
       "3     DEL → BOM → COK    08:00         21:00      13h      1 stop   \n",
       "4           BLR → DEL    23:55  02:45 25 Jun   2h 50m    non-stop   \n",
       "...               ...      ...           ...      ...         ...   \n",
       "2666  CCU → DEL → BLR    20:30  20:25 07 Jun  23h 55m      1 stop   \n",
       "2667        CCU → BLR    14:20         16:55   2h 35m    non-stop   \n",
       "2668  DEL → BOM → COK    21:50  04:25 07 Mar   6h 35m      1 stop   \n",
       "2669  DEL → BOM → COK    04:00         19:15  15h 15m      1 stop   \n",
       "2670  DEL → BOM → COK    04:55         19:15  14h 20m      1 stop   \n",
       "\n",
       "                  Additional_Info  \n",
       "0                         No info  \n",
       "1                         No info  \n",
       "2     In-flight meal not included  \n",
       "3                         No info  \n",
       "4                         No info  \n",
       "...                           ...  \n",
       "2666                      No info  \n",
       "2667                      No info  \n",
       "2668                      No info  \n",
       "2669                      No info  \n",
       "2670                      No info  \n",
       "\n",
       "[2671 rows x 10 columns]"
      ]
     },
     "execution_count": 336,
     "metadata": {},
     "output_type": "execute_result"
    }
   ],
   "source": [
    "ts"
   ]
  },
  {
   "cell_type": "code",
   "execution_count": 337,
   "metadata": {},
   "outputs": [
    {
     "data": {
      "text/plain": [
       "Airline            0\n",
       "Date_of_Journey    0\n",
       "Source             0\n",
       "Destination        0\n",
       "Route              0\n",
       "Dep_Time           0\n",
       "Arrival_Time       0\n",
       "Duration           0\n",
       "Total_Stops        0\n",
       "Additional_Info    0\n",
       "dtype: int64"
      ]
     },
     "execution_count": 337,
     "metadata": {},
     "output_type": "execute_result"
    }
   ],
   "source": [
    "ts.isnull().sum()"
   ]
  },
  {
   "cell_type": "markdown",
   "metadata": {},
   "source": [
    "There are no null values in the Test data set"
   ]
  },
  {
   "cell_type": "code",
   "execution_count": 338,
   "metadata": {},
   "outputs": [
    {
     "data": {
      "text/plain": [
       "(2671, 10)"
      ]
     },
     "execution_count": 338,
     "metadata": {},
     "output_type": "execute_result"
    }
   ],
   "source": [
    "ts.shape"
   ]
  },
  {
   "cell_type": "markdown",
   "metadata": {},
   "source": [
    "### Checking for any Unique Set of Values/ Elements in all Columns"
   ]
  },
  {
   "cell_type": "code",
   "execution_count": 339,
   "metadata": {},
   "outputs": [
    {
     "data": {
      "text/plain": [
       "Airline              12\n",
       "Date_of_Journey      44\n",
       "Source                5\n",
       "Destination           6\n",
       "Route               128\n",
       "Dep_Time            222\n",
       "Arrival_Time       1343\n",
       "Duration            368\n",
       "Total_Stops           5\n",
       "Additional_Info      10\n",
       "Price              1870\n",
       "dtype: int64"
      ]
     },
     "execution_count": 339,
     "metadata": {},
     "output_type": "execute_result"
    }
   ],
   "source": [
    "df.nunique()"
   ]
  },
  {
   "cell_type": "markdown",
   "metadata": {},
   "source": [
    "Source, Total_Stops, Destination, Additional_Info, Airline columns data has a fixed set of datas."
   ]
  },
  {
   "cell_type": "markdown",
   "metadata": {},
   "source": [
    "### Analyzing the relationship between independent variable and dependent Variable"
   ]
  },
  {
   "cell_type": "markdown",
   "metadata": {},
   "source": [
    "Listing down the names of all the columns present in our filtered dataframe. We will analyze each one of them with the help of some visual plots."
   ]
  },
  {
   "cell_type": "code",
   "execution_count": 340,
   "metadata": {},
   "outputs": [
    {
     "data": {
      "text/plain": [
       "<AxesSubplot:xlabel='Price', ylabel='Density'>"
      ]
     },
     "execution_count": 340,
     "metadata": {},
     "output_type": "execute_result"
    },
    {
     "data": {
      "image/png": "[encoded data removed]",
      "text/plain": [
       "<Figure size 432x288 with 1 Axes>"
      ]
     },
     "metadata": {
      "needs_background": "light"
     },
     "output_type": "display_data"
    }
   ],
   "source": [
    "sns.distplot(df.Price)"
   ]
  },
  {
   "cell_type": "markdown",
   "metadata": {},
   "source": [
    "From the above plot, we can observe that distribution has skewness"
   ]
  },
  {
   "cell_type": "code",
   "execution_count": 341,
   "metadata": {},
   "outputs": [
    {
     "data": {
      "text/html": [
       "<div>\n",
       "<style scoped>\n",
       "    .dataframe tbody tr th:only-of-type {\n",
       "        vertical-align: middle;\n",
       "    }\n",
       "\n",
       "    .dataframe tbody tr th {\n",
       "        vertical-align: top;\n",
       "    }\n",
       "\n",
       "    .dataframe thead th {\n",
       "        text-align: right;\n",
       "    }\n",
       "</style>\n",
       "<table border=\"1\" class=\"dataframe\">\n",
       "  <thead>\n",
       "    <tr style=\"text-align: right;\">\n",
       "      <th></th>\n",
       "      <th>Price</th>\n",
       "    </tr>\n",
       "  </thead>\n",
       "  <tbody>\n",
       "    <tr>\n",
       "      <th>count</th>\n",
       "      <td>10683.000000</td>\n",
       "    </tr>\n",
       "    <tr>\n",
       "      <th>mean</th>\n",
       "      <td>9087.064121</td>\n",
       "    </tr>\n",
       "    <tr>\n",
       "      <th>std</th>\n",
       "      <td>4611.359167</td>\n",
       "    </tr>\n",
       "    <tr>\n",
       "      <th>min</th>\n",
       "      <td>1759.000000</td>\n",
       "    </tr>\n",
       "    <tr>\n",
       "      <th>25%</th>\n",
       "      <td>5277.000000</td>\n",
       "    </tr>\n",
       "    <tr>\n",
       "      <th>50%</th>\n",
       "      <td>8372.000000</td>\n",
       "    </tr>\n",
       "    <tr>\n",
       "      <th>75%</th>\n",
       "      <td>12373.000000</td>\n",
       "    </tr>\n",
       "    <tr>\n",
       "      <th>max</th>\n",
       "      <td>79512.000000</td>\n",
       "    </tr>\n",
       "  </tbody>\n",
       "</table>\n",
       "</div>"
      ],
      "text/plain": [
       "              Price\n",
       "count  10683.000000\n",
       "mean    9087.064121\n",
       "std     4611.359167\n",
       "min     1759.000000\n",
       "25%     5277.000000\n",
       "50%     8372.000000\n",
       "75%    12373.000000\n",
       "max    79512.000000"
      ]
     },
     "execution_count": 341,
     "metadata": {},
     "output_type": "execute_result"
    }
   ],
   "source": [
    "df.describe()"
   ]
  },
  {
   "cell_type": "markdown",
   "metadata": {},
   "source": [
    "we can predict that there will be a skewness in this column since difference between 75% and max is high"
   ]
  },
  {
   "cell_type": "code",
   "execution_count": 342,
   "metadata": {},
   "outputs": [
    {
     "data": {
      "text/plain": [
       "Price    1.812552\n",
       "dtype: float64"
      ]
     },
     "execution_count": 342,
     "metadata": {},
     "output_type": "execute_result"
    }
   ],
   "source": [
    "df.skew()"
   ]
  },
  {
   "cell_type": "markdown",
   "metadata": {},
   "source": [
    "As predicted, skewness is high and out of range -0.50 to +0.50"
   ]
  },
  {
   "cell_type": "code",
   "execution_count": 343,
   "metadata": {},
   "outputs": [
    {
     "data": {
      "text/plain": [
       "Delhi       4537\n",
       "Kolkata     2871\n",
       "Banglore    2197\n",
       "Mumbai       697\n",
       "Chennai      381\n",
       "Name: Source, dtype: int64"
      ]
     },
     "execution_count": 343,
     "metadata": {},
     "output_type": "execute_result"
    }
   ],
   "source": [
    "df['Source'].value_counts()"
   ]
  },
  {
   "cell_type": "code",
   "execution_count": 344,
   "metadata": {},
   "outputs": [
    {
     "data": {
      "text/plain": [
       "<AxesSubplot:xlabel='Source', ylabel='count'>"
      ]
     },
     "execution_count": 344,
     "metadata": {},
     "output_type": "execute_result"
    },
    {
     "data": {
      "image/png": "[encoded data removed]",
      "text/plain": [
       "<Figure size 1440x360 with 1 Axes>"
      ]
     },
     "metadata": {},
     "output_type": "display_data"
    }
   ],
   "source": [
    "plt.figure(figsize=(20,5),facecolor='white')\n",
    "sns.countplot(df['Source'])"
   ]
  },
  {
   "cell_type": "markdown",
   "metadata": {},
   "source": [
    "Majority of Source Location is in Delhi followed by Kolkata and Bangalore"
   ]
  },
  {
   "cell_type": "code",
   "execution_count": 345,
   "metadata": {},
   "outputs": [
    {
     "data": {
      "text/plain": [
       "1 stop      5626\n",
       "non-stop    3491\n",
       "2 stops     1520\n",
       "3 stops       45\n",
       "4 stops        1\n",
       "Name: Total_Stops, dtype: int64"
      ]
     },
     "execution_count": 345,
     "metadata": {},
     "output_type": "execute_result"
    }
   ],
   "source": [
    "df['Total_Stops'].value_counts()"
   ]
  },
  {
   "cell_type": "code",
   "execution_count": 346,
   "metadata": {},
   "outputs": [
    {
     "data": {
      "text/plain": [
       "<AxesSubplot:xlabel='Total_Stops', ylabel='count'>"
      ]
     },
     "execution_count": 346,
     "metadata": {},
     "output_type": "execute_result"
    },
    {
     "data": {
      "image/png": "[encoded data removed]",
      "text/plain": [
       "<Figure size 1440x360 with 1 Axes>"
      ]
     },
     "metadata": {},
     "output_type": "display_data"
    }
   ],
   "source": [
    "plt.figure(figsize=(20,5),facecolor='white')\n",
    "sns.countplot(df['Total_Stops'])"
   ]
  },
  {
   "cell_type": "markdown",
   "metadata": {},
   "source": [
    "Most of the flights have 1 stop followed Non-stop and 2 stops. 4 Stops Flights are least in numbers"
   ]
  },
  {
   "cell_type": "code",
   "execution_count": 347,
   "metadata": {},
   "outputs": [
    {
     "data": {
      "text/plain": [
       "Cochin       4537\n",
       "Banglore     2871\n",
       "Delhi        1265\n",
       "New Delhi     932\n",
       "Hyderabad     697\n",
       "Kolkata       381\n",
       "Name: Destination, dtype: int64"
      ]
     },
     "execution_count": 347,
     "metadata": {},
     "output_type": "execute_result"
    }
   ],
   "source": [
    "df['Destination'].value_counts()"
   ]
  },
  {
   "cell_type": "code",
   "execution_count": 348,
   "metadata": {},
   "outputs": [
    {
     "data": {
      "text/plain": [
       "<AxesSubplot:xlabel='Destination', ylabel='count'>"
      ]
     },
     "execution_count": 348,
     "metadata": {},
     "output_type": "execute_result"
    },
    {
     "data": {
      "image/png": "[encoded data removed]",
      "text/plain": [
       "<Figure size 1440x360 with 1 Axes>"
      ]
     },
     "metadata": {},
     "output_type": "display_data"
    }
   ],
   "source": [
    "plt.figure(figsize=(20,5),facecolor='white')\n",
    "sns.countplot(df['Destination'])"
   ]
  },
  {
   "cell_type": "markdown",
   "metadata": {},
   "source": [
    "Majority of destination Location is Cochin followed by Bangalore and Delhi"
   ]
  },
  {
   "cell_type": "code",
   "execution_count": 349,
   "metadata": {},
   "outputs": [
    {
     "data": {
      "text/plain": [
       "No info                         8345\n",
       "In-flight meal not included     1982\n",
       "No check-in baggage included     320\n",
       "1 Long layover                    19\n",
       "Change airports                    7\n",
       "Business class                     4\n",
       "No Info                            3\n",
       "1 Short layover                    1\n",
       "2 Long layover                     1\n",
       "Red-eye flight                     1\n",
       "Name: Additional_Info, dtype: int64"
      ]
     },
     "execution_count": 349,
     "metadata": {},
     "output_type": "execute_result"
    }
   ],
   "source": [
    "df['Additional_Info'].value_counts()"
   ]
  },
  {
   "cell_type": "code",
   "execution_count": 350,
   "metadata": {},
   "outputs": [
    {
     "data": {
      "text/plain": [
       "<AxesSubplot:xlabel='Additional_Info', ylabel='count'>"
      ]
     },
     "execution_count": 350,
     "metadata": {},
     "output_type": "execute_result"
    },
    {
     "data": {
      "image/png": "[encoded data removed]",
      "text/plain": [
       "<Figure size 1440x360 with 1 Axes>"
      ]
     },
     "metadata": {},
     "output_type": "display_data"
    }
   ],
   "source": [
    "plt.figure(figsize=(20,5),facecolor='white')\n",
    "sns.countplot(df['Additional_Info'])"
   ]
  },
  {
   "cell_type": "code",
   "execution_count": 351,
   "metadata": {},
   "outputs": [
    {
     "data": {
      "text/plain": [
       "array(['No info', 'In-flight meal not included',\n",
       "       'No check-in baggage included', '1 Short layover', 'No Info',\n",
       "       '1 Long layover', 'Change airports', 'Business class',\n",
       "       'Red-eye flight', '2 Long layover'], dtype=object)"
      ]
     },
     "execution_count": 351,
     "metadata": {},
     "output_type": "execute_result"
    }
   ],
   "source": [
    "df['Additional_Info'].unique()"
   ]
  },
  {
   "cell_type": "markdown",
   "metadata": {},
   "source": [
    "Nearly 78% of data in Additional_Info column has No info so it would be better to drop this column for good accuracy"
   ]
  },
  {
   "cell_type": "code",
   "execution_count": 352,
   "metadata": {},
   "outputs": [],
   "source": [
    "df.drop(columns = ['Additional_Info'],inplace=True)"
   ]
  },
  {
   "cell_type": "code",
   "execution_count": 353,
   "metadata": {},
   "outputs": [
    {
     "data": {
      "text/plain": [
       "Jet Airways                          3849\n",
       "IndiGo                               2053\n",
       "Air India                            1752\n",
       "Multiple carriers                    1196\n",
       "SpiceJet                              818\n",
       "Vistara                               479\n",
       "Air Asia                              319\n",
       "GoAir                                 194\n",
       "Multiple carriers Premium economy      13\n",
       "Jet Airways Business                    6\n",
       "Vistara Premium economy                 3\n",
       "Trujet                                  1\n",
       "Name: Airline, dtype: int64"
      ]
     },
     "execution_count": 353,
     "metadata": {},
     "output_type": "execute_result"
    }
   ],
   "source": [
    "df['Airline'].value_counts()"
   ]
  },
  {
   "cell_type": "code",
   "execution_count": 354,
   "metadata": {},
   "outputs": [
    {
     "data": {
      "text/plain": [
       "<AxesSubplot:xlabel='Airline', ylabel='count'>"
      ]
     },
     "execution_count": 354,
     "metadata": {},
     "output_type": "execute_result"
    },
    {
     "data": {
      "image/png": "[encoded data removed]",
      "text/plain": [
       "<Figure size 2880x576 with 1 Axes>"
      ]
     },
     "metadata": {},
     "output_type": "display_data"
    }
   ],
   "source": [
    "plt.figure(figsize=(40,8),facecolor='white')\n",
    "sns.countplot(df['Airline'])"
   ]
  },
  {
   "cell_type": "markdown",
   "metadata": {},
   "source": [
    "Majority of the flight trips or journey is through Jet Airways followed by IndiGo"
   ]
  },
  {
   "cell_type": "code",
   "execution_count": 355,
   "metadata": {},
   "outputs": [
    {
     "data": {
      "text/plain": [
       "18/05/2019    504\n",
       "6/06/2019     503\n",
       "21/05/2019    497\n",
       "9/06/2019     495\n",
       "12/06/2019    493\n",
       "9/05/2019     484\n",
       "21/03/2019    423\n",
       "15/05/2019    405\n",
       "27/05/2019    382\n",
       "27/06/2019    355\n",
       "24/06/2019    351\n",
       "1/06/2019     342\n",
       "3/06/2019     333\n",
       "15/06/2019    328\n",
       "24/03/2019    323\n",
       "6/03/2019     308\n",
       "27/03/2019    299\n",
       "24/05/2019    286\n",
       "6/05/2019     282\n",
       "1/05/2019     277\n",
       "12/05/2019    259\n",
       "1/04/2019     257\n",
       "3/03/2019     218\n",
       "9/03/2019     200\n",
       "15/03/2019    162\n",
       "18/03/2019    156\n",
       "01/03/2019    152\n",
       "12/03/2019    142\n",
       "9/04/2019     125\n",
       "3/04/2019     110\n",
       "21/06/2019    109\n",
       "18/06/2019    105\n",
       "09/03/2019    102\n",
       "6/04/2019     100\n",
       "03/03/2019     97\n",
       "06/03/2019     95\n",
       "27/04/2019     94\n",
       "24/04/2019     92\n",
       "3/05/2019      90\n",
       "15/04/2019     89\n",
       "21/04/2019     82\n",
       "18/04/2019     67\n",
       "12/04/2019     63\n",
       "1/03/2019      47\n",
       "Name: Date_of_Journey, dtype: int64"
      ]
     },
     "execution_count": 355,
     "metadata": {},
     "output_type": "execute_result"
    }
   ],
   "source": [
    "df['Date_of_Journey'].value_counts()"
   ]
  },
  {
   "cell_type": "code",
   "execution_count": 356,
   "metadata": {},
   "outputs": [
    {
     "data": {
      "text/plain": [
       "array(['24/03/2019', '1/05/2019', '9/06/2019', '12/05/2019', '01/03/2019',\n",
       "       '24/06/2019', '12/03/2019', '27/05/2019', '1/06/2019',\n",
       "       '18/04/2019', '9/05/2019', '24/04/2019', '3/03/2019', '15/04/2019',\n",
       "       '12/06/2019', '6/03/2019', '21/03/2019', '3/04/2019', '6/05/2019',\n",
       "       '15/05/2019', '18/06/2019', '15/06/2019', '6/04/2019',\n",
       "       '18/05/2019', '27/06/2019', '21/05/2019', '06/03/2019',\n",
       "       '3/06/2019', '15/03/2019', '3/05/2019', '9/03/2019', '6/06/2019',\n",
       "       '24/05/2019', '09/03/2019', '1/04/2019', '21/04/2019',\n",
       "       '21/06/2019', '27/03/2019', '18/03/2019', '12/04/2019',\n",
       "       '9/04/2019', '1/03/2019', '03/03/2019', '27/04/2019'], dtype=object)"
      ]
     },
     "execution_count": 356,
     "metadata": {},
     "output_type": "execute_result"
    }
   ],
   "source": [
    "df['Date_of_Journey'].unique()"
   ]
  },
  {
   "cell_type": "code",
   "execution_count": 357,
   "metadata": {},
   "outputs": [
    {
     "data": {
      "text/plain": [
       "DEL → BOM → COK                2377\n",
       "BLR → DEL                      1552\n",
       "CCU → BOM → BLR                 979\n",
       "CCU → BLR                       724\n",
       "BOM → HYD                       621\n",
       "                               ... \n",
       "BOM → CCU → HYD                   1\n",
       "BOM → RPR → VTZ → HYD             1\n",
       "BOM → JDH → JAI → DEL → HYD       1\n",
       "BOM → NDC → HYD                   1\n",
       "CCU → RPR → HYD → BLR             1\n",
       "Name: Route, Length: 128, dtype: int64"
      ]
     },
     "execution_count": 357,
     "metadata": {},
     "output_type": "execute_result"
    }
   ],
   "source": [
    "df['Route'].value_counts()"
   ]
  },
  {
   "cell_type": "code",
   "execution_count": 358,
   "metadata": {},
   "outputs": [
    {
     "data": {
      "text/plain": [
       "array(['BLR → DEL', 'CCU → IXR → BBI → BLR', 'DEL → LKO → BOM → COK',\n",
       "       'CCU → NAG → BLR', 'BLR → NAG → DEL', 'CCU → BLR',\n",
       "       'BLR → BOM → DEL', 'DEL → BOM → COK', 'DEL → BLR → COK',\n",
       "       'MAA → CCU', 'CCU → BOM → BLR', 'DEL → AMD → BOM → COK',\n",
       "       'DEL → PNQ → COK', 'DEL → CCU → BOM → COK', 'BLR → COK → DEL',\n",
       "       'DEL → IDR → BOM → COK', 'DEL → LKO → COK',\n",
       "       'CCU → GAU → DEL → BLR', 'DEL → NAG → BOM → COK',\n",
       "       'CCU → MAA → BLR', 'DEL → HYD → COK', 'CCU → HYD → BLR',\n",
       "       'DEL → COK', 'CCU → DEL → BLR', 'BLR → BOM → AMD → DEL',\n",
       "       'BOM → DEL → HYD', 'DEL → MAA → COK', 'BOM → HYD',\n",
       "       'DEL → BHO → BOM → COK', 'DEL → JAI → BOM → COK',\n",
       "       'DEL → ATQ → BOM → COK', 'DEL → JDH → BOM → COK',\n",
       "       'CCU → BBI → BOM → BLR', 'BLR → MAA → DEL',\n",
       "       'DEL → GOI → BOM → COK', 'DEL → BDQ → BOM → COK',\n",
       "       'CCU → JAI → BOM → BLR', 'CCU → BBI → BLR', 'BLR → HYD → DEL',\n",
       "       'DEL → TRV → COK', 'CCU → IXR → DEL → BLR',\n",
       "       'DEL → IXU → BOM → COK', 'CCU → IXB → BLR',\n",
       "       'BLR → BOM → JDH → DEL', 'DEL → UDR → BOM → COK',\n",
       "       'DEL → HYD → MAA → COK', 'CCU → BOM → COK → BLR',\n",
       "       'BLR → CCU → DEL', 'CCU → BOM → GOI → BLR',\n",
       "       'DEL → RPR → NAG → BOM → COK', 'DEL → HYD → BOM → COK',\n",
       "       'CCU → DEL → AMD → BLR', 'CCU → PNQ → BLR',\n",
       "       'BLR → CCU → GAU → DEL', 'CCU → DEL → COK → BLR',\n",
       "       'BLR → PNQ → DEL', 'BOM → JDH → DEL → HYD',\n",
       "       'BLR → BOM → BHO → DEL', 'DEL → AMD → COK', 'BLR → LKO → DEL',\n",
       "       'CCU → GAU → BLR', 'BOM → GOI → HYD', 'CCU → BOM → AMD → BLR',\n",
       "       'CCU → BBI → IXR → DEL → BLR', 'DEL → DED → BOM → COK',\n",
       "       'DEL → MAA → BOM → COK', 'BLR → AMD → DEL', 'BLR → VGA → DEL',\n",
       "       'CCU → JAI → DEL → BLR', 'CCU → AMD → BLR',\n",
       "       'CCU → VNS → DEL → BLR', 'BLR → BOM → IDR → DEL',\n",
       "       'BLR → BBI → DEL', 'BLR → GOI → DEL', 'BOM → AMD → ISK → HYD',\n",
       "       'BOM → DED → DEL → HYD', 'DEL → IXC → BOM → COK',\n",
       "       'CCU → PAT → BLR', 'BLR → CCU → BBI → DEL',\n",
       "       'CCU → BBI → HYD → BLR', 'BLR → BOM → NAG → DEL',\n",
       "       'BLR → CCU → BBI → HYD → DEL', 'BLR → GAU → DEL',\n",
       "       'BOM → BHO → DEL → HYD', 'BOM → JLR → HYD',\n",
       "       'BLR → HYD → VGA → DEL', 'CCU → KNU → BLR',\n",
       "       'CCU → BOM → PNQ → BLR', 'DEL → BBI → COK',\n",
       "       'BLR → VGA → HYD → DEL', 'BOM → JDH → JAI → DEL → HYD',\n",
       "       'DEL → GWL → IDR → BOM → COK', 'CCU → RPR → HYD → BLR',\n",
       "       'CCU → VTZ → BLR', 'CCU → DEL → VGA → BLR',\n",
       "       'BLR → BOM → IDR → GWL → DEL', 'CCU → DEL → COK → TRV → BLR',\n",
       "       'BOM → COK → MAA → HYD', 'BOM → NDC → HYD', 'BLR → BDQ → DEL',\n",
       "       'CCU → BOM → TRV → BLR', 'CCU → BOM → HBX → BLR',\n",
       "       'BOM → BDQ → DEL → HYD', 'BOM → CCU → HYD',\n",
       "       'BLR → TRV → COK → DEL', 'BLR → IDR → DEL',\n",
       "       'CCU → IXZ → MAA → BLR', 'CCU → GAU → IMF → DEL → BLR',\n",
       "       'BOM → GOI → PNQ → HYD', 'BOM → BLR → CCU → BBI → HYD',\n",
       "       'BOM → MAA → HYD', 'BLR → BOM → UDR → DEL',\n",
       "       'BOM → UDR → DEL → HYD', 'BLR → VGA → VTZ → DEL',\n",
       "       'BLR → HBX → BOM → BHO → DEL', 'CCU → IXA → BLR',\n",
       "       'BOM → RPR → VTZ → HYD', 'BLR → HBX → BOM → AMD → DEL',\n",
       "       'BOM → IDR → DEL → HYD', 'BOM → BLR → HYD', 'BLR → STV → DEL',\n",
       "       'CCU → IXB → DEL → BLR', 'BOM → JAI → DEL → HYD',\n",
       "       'BOM → VNS → DEL → HYD', 'BLR → HBX → BOM → NAG → DEL',\n",
       "       'BLR → BOM → IXC → DEL', 'BLR → CCU → BBI → HYD → VGA → DEL',\n",
       "       'BOM → BBI → HYD'], dtype=object)"
      ]
     },
     "execution_count": 358,
     "metadata": {},
     "output_type": "execute_result"
    }
   ],
   "source": [
    "df['Route'].unique()"
   ]
  },
  {
   "cell_type": "markdown",
   "metadata": {},
   "source": [
    "Route Column data indicates the path of flight i.e. the source, destination and stoppages. which is represented by these 3 listed columns so dropping the route column data would be effective approach"
   ]
  },
  {
   "cell_type": "code",
   "execution_count": 359,
   "metadata": {},
   "outputs": [],
   "source": [
    "df.drop(columns = ['Route'],inplace=True)"
   ]
  },
  {
   "cell_type": "code",
   "execution_count": 360,
   "metadata": {},
   "outputs": [
    {
     "data": {
      "text/plain": [
       "18:55    233\n",
       "17:00    227\n",
       "07:05    205\n",
       "10:00    203\n",
       "07:10    202\n",
       "        ... \n",
       "21:40      1\n",
       "01:35      1\n",
       "04:15      1\n",
       "16:25      1\n",
       "04:50      1\n",
       "Name: Dep_Time, Length: 222, dtype: int64"
      ]
     },
     "execution_count": 360,
     "metadata": {},
     "output_type": "execute_result"
    }
   ],
   "source": [
    "df['Dep_Time'].value_counts()"
   ]
  },
  {
   "cell_type": "code",
   "execution_count": 361,
   "metadata": {},
   "outputs": [
    {
     "data": {
      "text/plain": [
       "array(['22:20', '05:50', '09:25', '18:05', '16:50', '09:00', '18:55',\n",
       "       '08:00', '08:55', '11:25', '09:45', '20:20', '11:40', '21:10',\n",
       "       '17:15', '16:40', '08:45', '14:00', '20:15', '16:00', '14:10',\n",
       "       '22:00', '04:00', '21:25', '21:50', '07:00', '07:05', '09:50',\n",
       "       '14:35', '10:35', '15:05', '14:15', '06:45', '20:55', '11:10',\n",
       "       '05:45', '19:00', '23:05', '11:00', '09:35', '21:15', '23:55',\n",
       "       '19:45', '08:50', '15:40', '06:05', '15:00', '13:55', '05:55',\n",
       "       '13:20', '05:05', '06:25', '17:30', '08:20', '19:55', '06:30',\n",
       "       '14:05', '02:00', '09:40', '08:25', '20:25', '13:15', '02:15',\n",
       "       '16:55', '20:45', '05:15', '19:50', '20:00', '06:10', '19:30',\n",
       "       '04:45', '12:55', '18:15', '17:20', '15:25', '23:00', '12:00',\n",
       "       '14:45', '11:50', '11:30', '14:40', '19:10', '06:00', '23:30',\n",
       "       '07:35', '13:05', '12:30', '15:10', '12:50', '18:25', '16:30',\n",
       "       '00:40', '06:50', '13:00', '19:15', '01:30', '17:00', '10:00',\n",
       "       '19:35', '15:30', '12:10', '16:10', '20:35', '22:25', '21:05',\n",
       "       '05:35', '05:10', '06:40', '15:15', '00:30', '08:30', '07:10',\n",
       "       '05:30', '14:25', '05:25', '10:20', '17:45', '13:10', '22:10',\n",
       "       '04:55', '17:50', '21:20', '06:20', '15:55', '20:30', '17:25',\n",
       "       '09:30', '07:30', '02:35', '10:55', '17:10', '09:10', '18:45',\n",
       "       '15:20', '22:50', '14:55', '14:20', '13:25', '22:15', '11:05',\n",
       "       '16:15', '20:10', '06:55', '19:05', '07:55', '07:45', '10:10',\n",
       "       '08:15', '11:35', '21:00', '17:55', '16:45', '18:20', '03:50',\n",
       "       '08:35', '19:20', '20:05', '17:40', '04:40', '17:35', '09:55',\n",
       "       '05:00', '18:00', '02:55', '20:40', '22:55', '22:40', '21:30',\n",
       "       '08:10', '17:05', '07:25', '15:45', '09:15', '15:50', '11:45',\n",
       "       '22:05', '18:35', '00:25', '19:40', '20:50', '22:45', '10:30',\n",
       "       '23:25', '11:55', '10:45', '11:15', '12:20', '14:30', '07:15',\n",
       "       '01:35', '18:40', '09:20', '21:55', '13:50', '01:40', '00:20',\n",
       "       '04:15', '13:45', '18:30', '06:15', '02:05', '12:15', '13:30',\n",
       "       '06:35', '10:05', '08:40', '03:05', '21:35', '16:35', '02:30',\n",
       "       '16:25', '05:40', '15:35', '13:40', '07:20', '04:50', '12:45',\n",
       "       '10:25', '12:05', '11:20', '21:40', '03:00'], dtype=object)"
      ]
     },
     "execution_count": 361,
     "metadata": {},
     "output_type": "execute_result"
    }
   ],
   "source": [
    "df['Dep_Time'].unique()"
   ]
  },
  {
   "cell_type": "code",
   "execution_count": 362,
   "metadata": {},
   "outputs": [
    {
     "data": {
      "text/plain": [
       "2h 50m     550\n",
       "1h 30m     386\n",
       "2h 55m     337\n",
       "2h 45m     337\n",
       "2h 35m     329\n",
       "          ... \n",
       "27h 55m      1\n",
       "42h 45m      1\n",
       "5m           1\n",
       "42h 5m       1\n",
       "29h 30m      1\n",
       "Name: Duration, Length: 368, dtype: int64"
      ]
     },
     "execution_count": 362,
     "metadata": {},
     "output_type": "execute_result"
    }
   ],
   "source": [
    "df['Duration'].value_counts()"
   ]
  },
  {
   "cell_type": "code",
   "execution_count": 363,
   "metadata": {},
   "outputs": [
    {
     "data": {
      "text/plain": [
       "array(['2h 50m', '7h 25m', '19h', '5h 25m', '4h 45m', '2h 25m', '15h 30m',\n",
       "       '21h 5m', '25h 30m', '7h 50m', '13h 15m', '2h 35m', '2h 15m',\n",
       "       '12h 10m', '26h 35m', '4h 30m', '22h 35m', '23h', '20h 35m',\n",
       "       '5h 10m', '15h 20m', '2h 55m', '13h 20m', '15h 10m', '5h 45m',\n",
       "       '5h 55m', '13h 25m', '22h', '5h 30m', '10h 25m', '5h 15m',\n",
       "       '2h 30m', '6h 15m', '11h 55m', '11h 5m', '8h 30m', '22h 5m',\n",
       "       '2h 45m', '12h', '16h 5m', '19h 55m', '3h 15m', '25h 20m', '3h',\n",
       "       '16h 15m', '15h 5m', '6h 30m', '25h 5m', '12h 25m', '27h 20m',\n",
       "       '10h 15m', '10h 30m', '1h 30m', '1h 25m', '26h 30m', '7h 20m',\n",
       "       '13h 30m', '5h', '19h 5m', '14h 50m', '2h 40m', '22h 10m',\n",
       "       '9h 35m', '10h', '21h 20m', '18h 45m', '12h 20m', '18h', '9h 15m',\n",
       "       '17h 30m', '16h 35m', '12h 15m', '7h 30m', '24h', '8h 55m',\n",
       "       '7h 10m', '14h 30m', '30h 20m', '15h', '12h 45m', '10h 10m',\n",
       "       '15h 25m', '14h 5m', '20h 15m', '23h 10m', '18h 10m', '16h',\n",
       "       '2h 20m', '8h', '16h 55m', '3h 10m', '14h', '23h 50m', '21h 40m',\n",
       "       '21h 15m', '10h 50m', '8h 15m', '8h 35m', '11h 50m', '27h 35m',\n",
       "       '8h 25m', '20h 55m', '4h 50m', '8h 10m', '24h 25m', '23h 35m',\n",
       "       '25h 45m', '26h 10m', '28h 50m', '25h 15m', '9h 20m', '9h 10m',\n",
       "       '3h 5m', '11h 30m', '9h 30m', '17h 35m', '5h 5m', '25h 50m', '20h',\n",
       "       '13h', '18h 25m', '24h 10m', '4h 55m', '25h 35m', '6h 20m',\n",
       "       '18h 40m', '19h 25m', '29h 20m', '9h 5m', '10h 45m', '11h 40m',\n",
       "       '22h 55m', '37h 25m', '25h 40m', '13h 55m', '8h 40m', '23h 30m',\n",
       "       '12h 35m', '24h 15m', '1h 20m', '11h', '11h 15m', '14h 35m',\n",
       "       '12h 55m', '9h', '7h 40m', '11h 45m', '24h 55m', '17h 5m',\n",
       "       '29h 55m', '22h 15m', '14h 40m', '7h 15m', '20h 10m', '20h 45m',\n",
       "       '27h', '24h 30m', '20h 25m', '5h 35m', '14h 45m', '5h 40m',\n",
       "       '4h 5m', '15h 55m', '7h 45m', '28h 20m', '4h 20m', '3h 40m',\n",
       "       '8h 50m', '23h 45m', '24h 45m', '21h 35m', '8h 5m', '6h 25m',\n",
       "       '15h 50m', '26h 25m', '24h 50m', '26h', '23h 5m', '7h 55m',\n",
       "       '26h 20m', '23h 15m', '5h 20m', '4h', '9h 45m', '8h 20m',\n",
       "       '17h 25m', '7h 5m', '34h 5m', '6h 5m', '5h 50m', '7h', '4h 25m',\n",
       "       '13h 45m', '19h 15m', '22h 30m', '16h 25m', '13h 50m', '27h 5m',\n",
       "       '28h 10m', '4h 40m', '15h 40m', '4h 35m', '18h 30m', '38h 15m',\n",
       "       '6h 35m', '12h 30m', '11h 20m', '7h 35m', '29h 35m', '26h 55m',\n",
       "       '23h 40m', '12h 50m', '9h 50m', '21h 55m', '10h 55m', '21h 10m',\n",
       "       '20h 40m', '30h', '13h 10m', '8h 45m', '6h 10m', '17h 45m',\n",
       "       '21h 45m', '3h 55m', '17h 20m', '30h 30m', '21h 25m', '12h 40m',\n",
       "       '24h 35m', '19h 10m', '22h 40m', '14h 55m', '21h', '6h 45m',\n",
       "       '28h 40m', '9h 40m', '16h 40m', '16h 20m', '16h 45m', '1h 15m',\n",
       "       '6h 55m', '11h 25m', '14h 20m', '12h 5m', '24h 5m', '28h 15m',\n",
       "       '17h 50m', '20h 20m', '28h 5m', '10h 20m', '14h 15m', '35h 15m',\n",
       "       '35h 35m', '26h 40m', '28h', '14h 25m', '13h 5m', '37h 20m',\n",
       "       '36h 10m', '25h 55m', '35h 5m', '19h 45m', '27h 55m', '47h',\n",
       "       '10h 35m', '1h 35m', '16h 10m', '38h 20m', '6h', '16h 50m',\n",
       "       '14h 10m', '23h 20m', '17h 40m', '11h 35m', '18h 20m', '6h 40m',\n",
       "       '30h 55m', '24h 40m', '29h 50m', '28h 25m', '17h 15m', '22h 45m',\n",
       "       '25h 25m', '21h 50m', '33h 15m', '30h 15m', '3h 35m', '27h 40m',\n",
       "       '30h 25m', '18h 50m', '27h 45m', '15h 15m', '10h 40m', '26h 15m',\n",
       "       '36h 25m', '26h 50m', '15h 45m', '19h 40m', '22h 25m', '19h 35m',\n",
       "       '25h', '26h 45m', '38h', '4h 15m', '25h 10m', '18h 15m', '6h 50m',\n",
       "       '23h 55m', '17h 55m', '23h 25m', '17h 10m', '24h 20m', '28h 30m',\n",
       "       '27h 10m', '19h 20m', '15h 35m', '9h 25m', '21h 30m', '34h 25m',\n",
       "       '18h 35m', '29h 40m', '26h 5m', '29h 5m', '27h 25m', '16h 30m',\n",
       "       '11h 10m', '28h 55m', '29h 10m', '34h', '30h 40m', '30h 45m',\n",
       "       '32h 55m', '10h 5m', '35h 20m', '32h 5m', '31h 40m', '19h 50m',\n",
       "       '33h 45m', '30h 10m', '13h 40m', '19h 30m', '31h 30m', '34h 30m',\n",
       "       '27h 50m', '38h 35m', '42h 5m', '4h 10m', '39h 5m', '3h 50m', '5m',\n",
       "       '32h 30m', '31h 55m', '33h 20m', '27h 30m', '18h 55m', '9h 55m',\n",
       "       '41h 20m', '20h 5m', '31h 50m', '42h 45m', '3h 25m', '37h 10m',\n",
       "       '29h 30m', '32h 20m', '20h 50m', '40h 20m', '13h 35m', '47h 40m'],\n",
       "      dtype=object)"
      ]
     },
     "execution_count": 363,
     "metadata": {},
     "output_type": "execute_result"
    }
   ],
   "source": [
    "df['Duration'].unique()"
   ]
  },
  {
   "cell_type": "code",
   "execution_count": 364,
   "metadata": {},
   "outputs": [
    {
     "data": {
      "text/plain": [
       "19:00           423\n",
       "21:00           360\n",
       "19:15           333\n",
       "16:10           154\n",
       "12:35           122\n",
       "               ... \n",
       "00:50 02 Jun      1\n",
       "03:35 28 Apr      1\n",
       "10:40 02 May      1\n",
       "16:15 02 May      1\n",
       "02:45 28 Jun      1\n",
       "Name: Arrival_Time, Length: 1343, dtype: int64"
      ]
     },
     "execution_count": 364,
     "metadata": {},
     "output_type": "execute_result"
    }
   ],
   "source": [
    "df['Arrival_Time'].value_counts()"
   ]
  },
  {
   "cell_type": "code",
   "execution_count": 365,
   "metadata": {},
   "outputs": [
    {
     "data": {
      "text/plain": [
       "array(['01:10 22 Mar', '13:15', '04:25 10 Jun', ..., '06:50 10 Mar',\n",
       "       '00:05 19 Mar', '21:20 13 Mar'], dtype=object)"
      ]
     },
     "execution_count": 365,
     "metadata": {},
     "output_type": "execute_result"
    }
   ],
   "source": [
    "df['Arrival_Time'].unique()"
   ]
  },
  {
   "cell_type": "markdown",
   "metadata": {},
   "source": [
    "Duration indicates the difference between Arrival_Time and Dep_Time; So we can drop the Arrival_Time and Dep_Time"
   ]
  },
  {
   "cell_type": "code",
   "execution_count": 366,
   "metadata": {},
   "outputs": [],
   "source": [
    "df.drop(columns = ['Arrival_Time', 'Dep_Time'], inplace=True)"
   ]
  },
  {
   "cell_type": "code",
   "execution_count": 367,
   "metadata": {},
   "outputs": [
    {
     "data": {
      "text/html": [
       "<div>\n",
       "<style scoped>\n",
       "    .dataframe tbody tr th:only-of-type {\n",
       "        vertical-align: middle;\n",
       "    }\n",
       "\n",
       "    .dataframe tbody tr th {\n",
       "        vertical-align: top;\n",
       "    }\n",
       "\n",
       "    .dataframe thead th {\n",
       "        text-align: right;\n",
       "    }\n",
       "</style>\n",
       "<table border=\"1\" class=\"dataframe\">\n",
       "  <thead>\n",
       "    <tr style=\"text-align: right;\">\n",
       "      <th></th>\n",
       "      <th>Airline</th>\n",
       "      <th>Date_of_Journey</th>\n",
       "      <th>Source</th>\n",
       "      <th>Destination</th>\n",
       "      <th>Duration</th>\n",
       "      <th>Total_Stops</th>\n",
       "      <th>Price</th>\n",
       "    </tr>\n",
       "  </thead>\n",
       "  <tbody>\n",
       "    <tr>\n",
       "      <th>0</th>\n",
       "      <td>IndiGo</td>\n",
       "      <td>24/03/2019</td>\n",
       "      <td>Banglore</td>\n",
       "      <td>New Delhi</td>\n",
       "      <td>2h 50m</td>\n",
       "      <td>non-stop</td>\n",
       "      <td>3897</td>\n",
       "    </tr>\n",
       "    <tr>\n",
       "      <th>1</th>\n",
       "      <td>Air India</td>\n",
       "      <td>1/05/2019</td>\n",
       "      <td>Kolkata</td>\n",
       "      <td>Banglore</td>\n",
       "      <td>7h 25m</td>\n",
       "      <td>2 stops</td>\n",
       "      <td>7662</td>\n",
       "    </tr>\n",
       "    <tr>\n",
       "      <th>2</th>\n",
       "      <td>Jet Airways</td>\n",
       "      <td>9/06/2019</td>\n",
       "      <td>Delhi</td>\n",
       "      <td>Cochin</td>\n",
       "      <td>19h</td>\n",
       "      <td>2 stops</td>\n",
       "      <td>13882</td>\n",
       "    </tr>\n",
       "    <tr>\n",
       "      <th>3</th>\n",
       "      <td>IndiGo</td>\n",
       "      <td>12/05/2019</td>\n",
       "      <td>Kolkata</td>\n",
       "      <td>Banglore</td>\n",
       "      <td>5h 25m</td>\n",
       "      <td>1 stop</td>\n",
       "      <td>6218</td>\n",
       "    </tr>\n",
       "    <tr>\n",
       "      <th>4</th>\n",
       "      <td>IndiGo</td>\n",
       "      <td>01/03/2019</td>\n",
       "      <td>Banglore</td>\n",
       "      <td>New Delhi</td>\n",
       "      <td>4h 45m</td>\n",
       "      <td>1 stop</td>\n",
       "      <td>13302</td>\n",
       "    </tr>\n",
       "    <tr>\n",
       "      <th>...</th>\n",
       "      <td>...</td>\n",
       "      <td>...</td>\n",
       "      <td>...</td>\n",
       "      <td>...</td>\n",
       "      <td>...</td>\n",
       "      <td>...</td>\n",
       "      <td>...</td>\n",
       "    </tr>\n",
       "    <tr>\n",
       "      <th>10678</th>\n",
       "      <td>Air Asia</td>\n",
       "      <td>9/04/2019</td>\n",
       "      <td>Kolkata</td>\n",
       "      <td>Banglore</td>\n",
       "      <td>2h 30m</td>\n",
       "      <td>non-stop</td>\n",
       "      <td>4107</td>\n",
       "    </tr>\n",
       "    <tr>\n",
       "      <th>10679</th>\n",
       "      <td>Air India</td>\n",
       "      <td>27/04/2019</td>\n",
       "      <td>Kolkata</td>\n",
       "      <td>Banglore</td>\n",
       "      <td>2h 35m</td>\n",
       "      <td>non-stop</td>\n",
       "      <td>4145</td>\n",
       "    </tr>\n",
       "    <tr>\n",
       "      <th>10680</th>\n",
       "      <td>Jet Airways</td>\n",
       "      <td>27/04/2019</td>\n",
       "      <td>Banglore</td>\n",
       "      <td>Delhi</td>\n",
       "      <td>3h</td>\n",
       "      <td>non-stop</td>\n",
       "      <td>7229</td>\n",
       "    </tr>\n",
       "    <tr>\n",
       "      <th>10681</th>\n",
       "      <td>Vistara</td>\n",
       "      <td>01/03/2019</td>\n",
       "      <td>Banglore</td>\n",
       "      <td>New Delhi</td>\n",
       "      <td>2h 40m</td>\n",
       "      <td>non-stop</td>\n",
       "      <td>12648</td>\n",
       "    </tr>\n",
       "    <tr>\n",
       "      <th>10682</th>\n",
       "      <td>Air India</td>\n",
       "      <td>9/05/2019</td>\n",
       "      <td>Delhi</td>\n",
       "      <td>Cochin</td>\n",
       "      <td>8h 20m</td>\n",
       "      <td>2 stops</td>\n",
       "      <td>11753</td>\n",
       "    </tr>\n",
       "  </tbody>\n",
       "</table>\n",
       "<p>10683 rows × 7 columns</p>\n",
       "</div>"
      ],
      "text/plain": [
       "           Airline Date_of_Journey    Source Destination Duration Total_Stops  \\\n",
       "0           IndiGo      24/03/2019  Banglore   New Delhi   2h 50m    non-stop   \n",
       "1        Air India       1/05/2019   Kolkata    Banglore   7h 25m     2 stops   \n",
       "2      Jet Airways       9/06/2019     Delhi      Cochin      19h     2 stops   \n",
       "3           IndiGo      12/05/2019   Kolkata    Banglore   5h 25m      1 stop   \n",
       "4           IndiGo      01/03/2019  Banglore   New Delhi   4h 45m      1 stop   \n",
       "...            ...             ...       ...         ...      ...         ...   \n",
       "10678     Air Asia       9/04/2019   Kolkata    Banglore   2h 30m    non-stop   \n",
       "10679    Air India      27/04/2019   Kolkata    Banglore   2h 35m    non-stop   \n",
       "10680  Jet Airways      27/04/2019  Banglore       Delhi       3h    non-stop   \n",
       "10681      Vistara      01/03/2019  Banglore   New Delhi   2h 40m    non-stop   \n",
       "10682    Air India       9/05/2019     Delhi      Cochin   8h 20m     2 stops   \n",
       "\n",
       "       Price  \n",
       "0       3897  \n",
       "1       7662  \n",
       "2      13882  \n",
       "3       6218  \n",
       "4      13302  \n",
       "...      ...  \n",
       "10678   4107  \n",
       "10679   4145  \n",
       "10680   7229  \n",
       "10681  12648  \n",
       "10682  11753  \n",
       "\n",
       "[10683 rows x 7 columns]"
      ]
     },
     "execution_count": 367,
     "metadata": {},
     "output_type": "execute_result"
    }
   ],
   "source": [
    "df"
   ]
  },
  {
   "cell_type": "markdown",
   "metadata": {},
   "source": [
    "#### Splitting the Date_of_Journey into Date and Month separtely"
   ]
  },
  {
   "cell_type": "code",
   "execution_count": 368,
   "metadata": {},
   "outputs": [],
   "source": [
    "df[\"Journey_date\"] = pd.to_datetime(df.Date_of_Journey, format=\"%d/%m/%Y\").dt.day\n",
    "df[\"Journey_month\"] = pd.to_datetime(df[\"Date_of_Journey\"], format = \"%d/%m/%Y\").dt.month"
   ]
  },
  {
   "cell_type": "code",
   "execution_count": 369,
   "metadata": {},
   "outputs": [],
   "source": [
    "df.drop(columns = ['Date_of_Journey'], inplace=True)"
   ]
  },
  {
   "cell_type": "code",
   "execution_count": 370,
   "metadata": {},
   "outputs": [
    {
     "data": {
      "text/html": [
       "<div>\n",
       "<style scoped>\n",
       "    .dataframe tbody tr th:only-of-type {\n",
       "        vertical-align: middle;\n",
       "    }\n",
       "\n",
       "    .dataframe tbody tr th {\n",
       "        vertical-align: top;\n",
       "    }\n",
       "\n",
       "    .dataframe thead th {\n",
       "        text-align: right;\n",
       "    }\n",
       "</style>\n",
       "<table border=\"1\" class=\"dataframe\">\n",
       "  <thead>\n",
       "    <tr style=\"text-align: right;\">\n",
       "      <th></th>\n",
       "      <th>Airline</th>\n",
       "      <th>Source</th>\n",
       "      <th>Destination</th>\n",
       "      <th>Duration</th>\n",
       "      <th>Total_Stops</th>\n",
       "      <th>Price</th>\n",
       "      <th>Journey_date</th>\n",
       "      <th>Journey_month</th>\n",
       "    </tr>\n",
       "  </thead>\n",
       "  <tbody>\n",
       "    <tr>\n",
       "      <th>0</th>\n",
       "      <td>IndiGo</td>\n",
       "      <td>Banglore</td>\n",
       "      <td>New Delhi</td>\n",
       "      <td>2h 50m</td>\n",
       "      <td>non-stop</td>\n",
       "      <td>3897</td>\n",
       "      <td>24</td>\n",
       "      <td>3</td>\n",
       "    </tr>\n",
       "    <tr>\n",
       "      <th>1</th>\n",
       "      <td>Air India</td>\n",
       "      <td>Kolkata</td>\n",
       "      <td>Banglore</td>\n",
       "      <td>7h 25m</td>\n",
       "      <td>2 stops</td>\n",
       "      <td>7662</td>\n",
       "      <td>1</td>\n",
       "      <td>5</td>\n",
       "    </tr>\n",
       "    <tr>\n",
       "      <th>2</th>\n",
       "      <td>Jet Airways</td>\n",
       "      <td>Delhi</td>\n",
       "      <td>Cochin</td>\n",
       "      <td>19h</td>\n",
       "      <td>2 stops</td>\n",
       "      <td>13882</td>\n",
       "      <td>9</td>\n",
       "      <td>6</td>\n",
       "    </tr>\n",
       "    <tr>\n",
       "      <th>3</th>\n",
       "      <td>IndiGo</td>\n",
       "      <td>Kolkata</td>\n",
       "      <td>Banglore</td>\n",
       "      <td>5h 25m</td>\n",
       "      <td>1 stop</td>\n",
       "      <td>6218</td>\n",
       "      <td>12</td>\n",
       "      <td>5</td>\n",
       "    </tr>\n",
       "    <tr>\n",
       "      <th>4</th>\n",
       "      <td>IndiGo</td>\n",
       "      <td>Banglore</td>\n",
       "      <td>New Delhi</td>\n",
       "      <td>4h 45m</td>\n",
       "      <td>1 stop</td>\n",
       "      <td>13302</td>\n",
       "      <td>1</td>\n",
       "      <td>3</td>\n",
       "    </tr>\n",
       "    <tr>\n",
       "      <th>...</th>\n",
       "      <td>...</td>\n",
       "      <td>...</td>\n",
       "      <td>...</td>\n",
       "      <td>...</td>\n",
       "      <td>...</td>\n",
       "      <td>...</td>\n",
       "      <td>...</td>\n",
       "      <td>...</td>\n",
       "    </tr>\n",
       "    <tr>\n",
       "      <th>10678</th>\n",
       "      <td>Air Asia</td>\n",
       "      <td>Kolkata</td>\n",
       "      <td>Banglore</td>\n",
       "      <td>2h 30m</td>\n",
       "      <td>non-stop</td>\n",
       "      <td>4107</td>\n",
       "      <td>9</td>\n",
       "      <td>4</td>\n",
       "    </tr>\n",
       "    <tr>\n",
       "      <th>10679</th>\n",
       "      <td>Air India</td>\n",
       "      <td>Kolkata</td>\n",
       "      <td>Banglore</td>\n",
       "      <td>2h 35m</td>\n",
       "      <td>non-stop</td>\n",
       "      <td>4145</td>\n",
       "      <td>27</td>\n",
       "      <td>4</td>\n",
       "    </tr>\n",
       "    <tr>\n",
       "      <th>10680</th>\n",
       "      <td>Jet Airways</td>\n",
       "      <td>Banglore</td>\n",
       "      <td>Delhi</td>\n",
       "      <td>3h</td>\n",
       "      <td>non-stop</td>\n",
       "      <td>7229</td>\n",
       "      <td>27</td>\n",
       "      <td>4</td>\n",
       "    </tr>\n",
       "    <tr>\n",
       "      <th>10681</th>\n",
       "      <td>Vistara</td>\n",
       "      <td>Banglore</td>\n",
       "      <td>New Delhi</td>\n",
       "      <td>2h 40m</td>\n",
       "      <td>non-stop</td>\n",
       "      <td>12648</td>\n",
       "      <td>1</td>\n",
       "      <td>3</td>\n",
       "    </tr>\n",
       "    <tr>\n",
       "      <th>10682</th>\n",
       "      <td>Air India</td>\n",
       "      <td>Delhi</td>\n",
       "      <td>Cochin</td>\n",
       "      <td>8h 20m</td>\n",
       "      <td>2 stops</td>\n",
       "      <td>11753</td>\n",
       "      <td>9</td>\n",
       "      <td>5</td>\n",
       "    </tr>\n",
       "  </tbody>\n",
       "</table>\n",
       "<p>10683 rows × 8 columns</p>\n",
       "</div>"
      ],
      "text/plain": [
       "           Airline    Source Destination Duration Total_Stops  Price  \\\n",
       "0           IndiGo  Banglore   New Delhi   2h 50m    non-stop   3897   \n",
       "1        Air India   Kolkata    Banglore   7h 25m     2 stops   7662   \n",
       "2      Jet Airways     Delhi      Cochin      19h     2 stops  13882   \n",
       "3           IndiGo   Kolkata    Banglore   5h 25m      1 stop   6218   \n",
       "4           IndiGo  Banglore   New Delhi   4h 45m      1 stop  13302   \n",
       "...            ...       ...         ...      ...         ...    ...   \n",
       "10678     Air Asia   Kolkata    Banglore   2h 30m    non-stop   4107   \n",
       "10679    Air India   Kolkata    Banglore   2h 35m    non-stop   4145   \n",
       "10680  Jet Airways  Banglore       Delhi       3h    non-stop   7229   \n",
       "10681      Vistara  Banglore   New Delhi   2h 40m    non-stop  12648   \n",
       "10682    Air India     Delhi      Cochin   8h 20m     2 stops  11753   \n",
       "\n",
       "       Journey_date  Journey_month  \n",
       "0                24              3  \n",
       "1                 1              5  \n",
       "2                 9              6  \n",
       "3                12              5  \n",
       "4                 1              3  \n",
       "...             ...            ...  \n",
       "10678             9              4  \n",
       "10679            27              4  \n",
       "10680            27              4  \n",
       "10681             1              3  \n",
       "10682             9              5  \n",
       "\n",
       "[10683 rows x 8 columns]"
      ]
     },
     "execution_count": 370,
     "metadata": {},
     "output_type": "execute_result"
    }
   ],
   "source": [
    "df"
   ]
  },
  {
   "cell_type": "markdown",
   "metadata": {},
   "source": [
    "### Converting the Duration value into Minutes"
   ]
  },
  {
   "cell_type": "code",
   "execution_count": 371,
   "metadata": {},
   "outputs": [],
   "source": [
    "dur=df['Duration'].tolist() \n",
    "\n",
    "for i in range(0,len(dur)):\n",
    "    dur[i]=dur[i].replace(\"h\",\"*60\").replace(\" \",\"+\").replace(\"m\",\"\") \n",
    "for i in range(0,len(dur)):\n",
    "    dur[i]=eval(dur[i])    "
   ]
  },
  {
   "cell_type": "code",
   "execution_count": 372,
   "metadata": {},
   "outputs": [],
   "source": [
    "dur1=pd.DataFrame({\"Duration_mins\":dur})"
   ]
  },
  {
   "cell_type": "code",
   "execution_count": 373,
   "metadata": {},
   "outputs": [],
   "source": [
    "dur1.index=df.index"
   ]
  },
  {
   "cell_type": "code",
   "execution_count": 374,
   "metadata": {},
   "outputs": [],
   "source": [
    "df['Duration_mins'] = dur1['Duration_mins']"
   ]
  },
  {
   "cell_type": "code",
   "execution_count": 375,
   "metadata": {},
   "outputs": [
    {
     "data": {
      "text/html": [
       "<div>\n",
       "<style scoped>\n",
       "    .dataframe tbody tr th:only-of-type {\n",
       "        vertical-align: middle;\n",
       "    }\n",
       "\n",
       "    .dataframe tbody tr th {\n",
       "        vertical-align: top;\n",
       "    }\n",
       "\n",
       "    .dataframe thead th {\n",
       "        text-align: right;\n",
       "    }\n",
       "</style>\n",
       "<table border=\"1\" class=\"dataframe\">\n",
       "  <thead>\n",
       "    <tr style=\"text-align: right;\">\n",
       "      <th></th>\n",
       "      <th>Airline</th>\n",
       "      <th>Source</th>\n",
       "      <th>Destination</th>\n",
       "      <th>Duration</th>\n",
       "      <th>Total_Stops</th>\n",
       "      <th>Price</th>\n",
       "      <th>Journey_date</th>\n",
       "      <th>Journey_month</th>\n",
       "      <th>Duration_mins</th>\n",
       "    </tr>\n",
       "  </thead>\n",
       "  <tbody>\n",
       "    <tr>\n",
       "      <th>0</th>\n",
       "      <td>IndiGo</td>\n",
       "      <td>Banglore</td>\n",
       "      <td>New Delhi</td>\n",
       "      <td>2h 50m</td>\n",
       "      <td>non-stop</td>\n",
       "      <td>3897</td>\n",
       "      <td>24</td>\n",
       "      <td>3</td>\n",
       "      <td>170</td>\n",
       "    </tr>\n",
       "    <tr>\n",
       "      <th>1</th>\n",
       "      <td>Air India</td>\n",
       "      <td>Kolkata</td>\n",
       "      <td>Banglore</td>\n",
       "      <td>7h 25m</td>\n",
       "      <td>2 stops</td>\n",
       "      <td>7662</td>\n",
       "      <td>1</td>\n",
       "      <td>5</td>\n",
       "      <td>445</td>\n",
       "    </tr>\n",
       "    <tr>\n",
       "      <th>2</th>\n",
       "      <td>Jet Airways</td>\n",
       "      <td>Delhi</td>\n",
       "      <td>Cochin</td>\n",
       "      <td>19h</td>\n",
       "      <td>2 stops</td>\n",
       "      <td>13882</td>\n",
       "      <td>9</td>\n",
       "      <td>6</td>\n",
       "      <td>1140</td>\n",
       "    </tr>\n",
       "    <tr>\n",
       "      <th>3</th>\n",
       "      <td>IndiGo</td>\n",
       "      <td>Kolkata</td>\n",
       "      <td>Banglore</td>\n",
       "      <td>5h 25m</td>\n",
       "      <td>1 stop</td>\n",
       "      <td>6218</td>\n",
       "      <td>12</td>\n",
       "      <td>5</td>\n",
       "      <td>325</td>\n",
       "    </tr>\n",
       "    <tr>\n",
       "      <th>4</th>\n",
       "      <td>IndiGo</td>\n",
       "      <td>Banglore</td>\n",
       "      <td>New Delhi</td>\n",
       "      <td>4h 45m</td>\n",
       "      <td>1 stop</td>\n",
       "      <td>13302</td>\n",
       "      <td>1</td>\n",
       "      <td>3</td>\n",
       "      <td>285</td>\n",
       "    </tr>\n",
       "    <tr>\n",
       "      <th>...</th>\n",
       "      <td>...</td>\n",
       "      <td>...</td>\n",
       "      <td>...</td>\n",
       "      <td>...</td>\n",
       "      <td>...</td>\n",
       "      <td>...</td>\n",
       "      <td>...</td>\n",
       "      <td>...</td>\n",
       "      <td>...</td>\n",
       "    </tr>\n",
       "    <tr>\n",
       "      <th>10678</th>\n",
       "      <td>Air Asia</td>\n",
       "      <td>Kolkata</td>\n",
       "      <td>Banglore</td>\n",
       "      <td>2h 30m</td>\n",
       "      <td>non-stop</td>\n",
       "      <td>4107</td>\n",
       "      <td>9</td>\n",
       "      <td>4</td>\n",
       "      <td>150</td>\n",
       "    </tr>\n",
       "    <tr>\n",
       "      <th>10679</th>\n",
       "      <td>Air India</td>\n",
       "      <td>Kolkata</td>\n",
       "      <td>Banglore</td>\n",
       "      <td>2h 35m</td>\n",
       "      <td>non-stop</td>\n",
       "      <td>4145</td>\n",
       "      <td>27</td>\n",
       "      <td>4</td>\n",
       "      <td>155</td>\n",
       "    </tr>\n",
       "    <tr>\n",
       "      <th>10680</th>\n",
       "      <td>Jet Airways</td>\n",
       "      <td>Banglore</td>\n",
       "      <td>Delhi</td>\n",
       "      <td>3h</td>\n",
       "      <td>non-stop</td>\n",
       "      <td>7229</td>\n",
       "      <td>27</td>\n",
       "      <td>4</td>\n",
       "      <td>180</td>\n",
       "    </tr>\n",
       "    <tr>\n",
       "      <th>10681</th>\n",
       "      <td>Vistara</td>\n",
       "      <td>Banglore</td>\n",
       "      <td>New Delhi</td>\n",
       "      <td>2h 40m</td>\n",
       "      <td>non-stop</td>\n",
       "      <td>12648</td>\n",
       "      <td>1</td>\n",
       "      <td>3</td>\n",
       "      <td>160</td>\n",
       "    </tr>\n",
       "    <tr>\n",
       "      <th>10682</th>\n",
       "      <td>Air India</td>\n",
       "      <td>Delhi</td>\n",
       "      <td>Cochin</td>\n",
       "      <td>8h 20m</td>\n",
       "      <td>2 stops</td>\n",
       "      <td>11753</td>\n",
       "      <td>9</td>\n",
       "      <td>5</td>\n",
       "      <td>500</td>\n",
       "    </tr>\n",
       "  </tbody>\n",
       "</table>\n",
       "<p>10683 rows × 9 columns</p>\n",
       "</div>"
      ],
      "text/plain": [
       "           Airline    Source Destination Duration Total_Stops  Price  \\\n",
       "0           IndiGo  Banglore   New Delhi   2h 50m    non-stop   3897   \n",
       "1        Air India   Kolkata    Banglore   7h 25m     2 stops   7662   \n",
       "2      Jet Airways     Delhi      Cochin      19h     2 stops  13882   \n",
       "3           IndiGo   Kolkata    Banglore   5h 25m      1 stop   6218   \n",
       "4           IndiGo  Banglore   New Delhi   4h 45m      1 stop  13302   \n",
       "...            ...       ...         ...      ...         ...    ...   \n",
       "10678     Air Asia   Kolkata    Banglore   2h 30m    non-stop   4107   \n",
       "10679    Air India   Kolkata    Banglore   2h 35m    non-stop   4145   \n",
       "10680  Jet Airways  Banglore       Delhi       3h    non-stop   7229   \n",
       "10681      Vistara  Banglore   New Delhi   2h 40m    non-stop  12648   \n",
       "10682    Air India     Delhi      Cochin   8h 20m     2 stops  11753   \n",
       "\n",
       "       Journey_date  Journey_month  Duration_mins  \n",
       "0                24              3            170  \n",
       "1                 1              5            445  \n",
       "2                 9              6           1140  \n",
       "3                12              5            325  \n",
       "4                 1              3            285  \n",
       "...             ...            ...            ...  \n",
       "10678             9              4            150  \n",
       "10679            27              4            155  \n",
       "10680            27              4            180  \n",
       "10681             1              3            160  \n",
       "10682             9              5            500  \n",
       "\n",
       "[10683 rows x 9 columns]"
      ]
     },
     "execution_count": 375,
     "metadata": {},
     "output_type": "execute_result"
    }
   ],
   "source": [
    "df"
   ]
  },
  {
   "cell_type": "code",
   "execution_count": 376,
   "metadata": {},
   "outputs": [
    {
     "data": {
      "text/html": [
       "<div>\n",
       "<style scoped>\n",
       "    .dataframe tbody tr th:only-of-type {\n",
       "        vertical-align: middle;\n",
       "    }\n",
       "\n",
       "    .dataframe tbody tr th {\n",
       "        vertical-align: top;\n",
       "    }\n",
       "\n",
       "    .dataframe thead th {\n",
       "        text-align: right;\n",
       "    }\n",
       "</style>\n",
       "<table border=\"1\" class=\"dataframe\">\n",
       "  <thead>\n",
       "    <tr style=\"text-align: right;\">\n",
       "      <th></th>\n",
       "      <th>Airline</th>\n",
       "      <th>Source</th>\n",
       "      <th>Destination</th>\n",
       "      <th>Total_Stops</th>\n",
       "      <th>Price</th>\n",
       "      <th>Journey_date</th>\n",
       "      <th>Journey_month</th>\n",
       "      <th>Duration_mins</th>\n",
       "    </tr>\n",
       "  </thead>\n",
       "  <tbody>\n",
       "    <tr>\n",
       "      <th>0</th>\n",
       "      <td>IndiGo</td>\n",
       "      <td>Banglore</td>\n",
       "      <td>New Delhi</td>\n",
       "      <td>non-stop</td>\n",
       "      <td>3897</td>\n",
       "      <td>24</td>\n",
       "      <td>3</td>\n",
       "      <td>170</td>\n",
       "    </tr>\n",
       "    <tr>\n",
       "      <th>1</th>\n",
       "      <td>Air India</td>\n",
       "      <td>Kolkata</td>\n",
       "      <td>Banglore</td>\n",
       "      <td>2 stops</td>\n",
       "      <td>7662</td>\n",
       "      <td>1</td>\n",
       "      <td>5</td>\n",
       "      <td>445</td>\n",
       "    </tr>\n",
       "    <tr>\n",
       "      <th>2</th>\n",
       "      <td>Jet Airways</td>\n",
       "      <td>Delhi</td>\n",
       "      <td>Cochin</td>\n",
       "      <td>2 stops</td>\n",
       "      <td>13882</td>\n",
       "      <td>9</td>\n",
       "      <td>6</td>\n",
       "      <td>1140</td>\n",
       "    </tr>\n",
       "    <tr>\n",
       "      <th>3</th>\n",
       "      <td>IndiGo</td>\n",
       "      <td>Kolkata</td>\n",
       "      <td>Banglore</td>\n",
       "      <td>1 stop</td>\n",
       "      <td>6218</td>\n",
       "      <td>12</td>\n",
       "      <td>5</td>\n",
       "      <td>325</td>\n",
       "    </tr>\n",
       "    <tr>\n",
       "      <th>4</th>\n",
       "      <td>IndiGo</td>\n",
       "      <td>Banglore</td>\n",
       "      <td>New Delhi</td>\n",
       "      <td>1 stop</td>\n",
       "      <td>13302</td>\n",
       "      <td>1</td>\n",
       "      <td>3</td>\n",
       "      <td>285</td>\n",
       "    </tr>\n",
       "    <tr>\n",
       "      <th>...</th>\n",
       "      <td>...</td>\n",
       "      <td>...</td>\n",
       "      <td>...</td>\n",
       "      <td>...</td>\n",
       "      <td>...</td>\n",
       "      <td>...</td>\n",
       "      <td>...</td>\n",
       "      <td>...</td>\n",
       "    </tr>\n",
       "    <tr>\n",
       "      <th>10678</th>\n",
       "      <td>Air Asia</td>\n",
       "      <td>Kolkata</td>\n",
       "      <td>Banglore</td>\n",
       "      <td>non-stop</td>\n",
       "      <td>4107</td>\n",
       "      <td>9</td>\n",
       "      <td>4</td>\n",
       "      <td>150</td>\n",
       "    </tr>\n",
       "    <tr>\n",
       "      <th>10679</th>\n",
       "      <td>Air India</td>\n",
       "      <td>Kolkata</td>\n",
       "      <td>Banglore</td>\n",
       "      <td>non-stop</td>\n",
       "      <td>4145</td>\n",
       "      <td>27</td>\n",
       "      <td>4</td>\n",
       "      <td>155</td>\n",
       "    </tr>\n",
       "    <tr>\n",
       "      <th>10680</th>\n",
       "      <td>Jet Airways</td>\n",
       "      <td>Banglore</td>\n",
       "      <td>Delhi</td>\n",
       "      <td>non-stop</td>\n",
       "      <td>7229</td>\n",
       "      <td>27</td>\n",
       "      <td>4</td>\n",
       "      <td>180</td>\n",
       "    </tr>\n",
       "    <tr>\n",
       "      <th>10681</th>\n",
       "      <td>Vistara</td>\n",
       "      <td>Banglore</td>\n",
       "      <td>New Delhi</td>\n",
       "      <td>non-stop</td>\n",
       "      <td>12648</td>\n",
       "      <td>1</td>\n",
       "      <td>3</td>\n",
       "      <td>160</td>\n",
       "    </tr>\n",
       "    <tr>\n",
       "      <th>10682</th>\n",
       "      <td>Air India</td>\n",
       "      <td>Delhi</td>\n",
       "      <td>Cochin</td>\n",
       "      <td>2 stops</td>\n",
       "      <td>11753</td>\n",
       "      <td>9</td>\n",
       "      <td>5</td>\n",
       "      <td>500</td>\n",
       "    </tr>\n",
       "  </tbody>\n",
       "</table>\n",
       "<p>10683 rows × 8 columns</p>\n",
       "</div>"
      ],
      "text/plain": [
       "           Airline    Source Destination Total_Stops  Price  Journey_date  \\\n",
       "0           IndiGo  Banglore   New Delhi    non-stop   3897            24   \n",
       "1        Air India   Kolkata    Banglore     2 stops   7662             1   \n",
       "2      Jet Airways     Delhi      Cochin     2 stops  13882             9   \n",
       "3           IndiGo   Kolkata    Banglore      1 stop   6218            12   \n",
       "4           IndiGo  Banglore   New Delhi      1 stop  13302             1   \n",
       "...            ...       ...         ...         ...    ...           ...   \n",
       "10678     Air Asia   Kolkata    Banglore    non-stop   4107             9   \n",
       "10679    Air India   Kolkata    Banglore    non-stop   4145            27   \n",
       "10680  Jet Airways  Banglore       Delhi    non-stop   7229            27   \n",
       "10681      Vistara  Banglore   New Delhi    non-stop  12648             1   \n",
       "10682    Air India     Delhi      Cochin     2 stops  11753             9   \n",
       "\n",
       "       Journey_month  Duration_mins  \n",
       "0                  3            170  \n",
       "1                  5            445  \n",
       "2                  6           1140  \n",
       "3                  5            325  \n",
       "4                  3            285  \n",
       "...              ...            ...  \n",
       "10678              4            150  \n",
       "10679              4            155  \n",
       "10680              4            180  \n",
       "10681              3            160  \n",
       "10682              5            500  \n",
       "\n",
       "[10683 rows x 8 columns]"
      ]
     },
     "execution_count": 376,
     "metadata": {},
     "output_type": "execute_result"
    }
   ],
   "source": [
    "df.drop(columns = ['Duration'], inplace=True)\n",
    "df"
   ]
  },
  {
   "cell_type": "code",
   "execution_count": 377,
   "metadata": {},
   "outputs": [
    {
     "data": {
      "image/png": "[encoded data removed]",
      "text/plain": [
       "<Figure size 1584x2016 with 4 Axes>"
      ]
     },
     "metadata": {},
     "output_type": "display_data"
    }
   ],
   "source": [
    "plt.figure(figsize=(22,28),facecolor='white')\n",
    "plot_number=1\n",
    "x_plot = df[['Airline', 'Source', 'Destination', 'Total_Stops']]\n",
    "y_plot = df['Price']\n",
    "for i in x_plot:\n",
    "    if plot_number<=len(x_plot.columns):\n",
    "        ax=plt.subplot(5,3,plot_number)\n",
    "        sns.barplot(y_plot,x_plot[i])\n",
    "        plt.xlabel('Price',fontsize=20)\n",
    "        plt.ylabel(i,fontsize=20)\n",
    "    plot_number+=1\n",
    "plt.show()"
   ]
  },
  {
   "cell_type": "markdown",
   "metadata": {},
   "source": [
    "We can observe the below listed details from above graphs\n",
    "\n",
    "1. Price of Jet Airways Business is costly which is followed by Multiple carriers Premium economy and Jet Airways.\n",
    "   Trujet and Spicejet has low price\n",
    "\n",
    "2. Delhi source flight price are higher followed by Kolkatta and Bangalore\n",
    "   Chennai source flight price is less\n",
    "   \n",
    "3. New Delhi destination flight price are higher followed by Cochin and Bangalore\n",
    "   Kolkatta destination flight price is less\n",
    "   \n",
    "4. Price of 4 stops flight is higher and non-stop flight price is less"
   ]
  },
  {
   "cell_type": "code",
   "execution_count": 378,
   "metadata": {},
   "outputs": [
    {
     "data": {
      "image/png": "[encoded data removed]",
      "text/plain": [
       "<Figure size 720x432 with 1 Axes>"
      ]
     },
     "metadata": {
      "needs_background": "light"
     },
     "output_type": "display_data"
    }
   ],
   "source": [
    "plt.figure(figsize=[10,6])\n",
    "plt.title('Relationship between Errors and Wins')\n",
    "sn.scatterplot(df['Duration_mins'], df['Price']);"
   ]
  },
  {
   "cell_type": "markdown",
   "metadata": {},
   "source": [
    "we can observe that as duration increases, price also increases"
   ]
  },
  {
   "cell_type": "markdown",
   "metadata": {},
   "source": [
    "### Encoding the Categorical Data using Label Encoder"
   ]
  },
  {
   "cell_type": "code",
   "execution_count": 379,
   "metadata": {},
   "outputs": [
    {
     "name": "stdout",
     "output_type": "stream",
     "text": [
      "<class 'pandas.core.frame.DataFrame'>\n",
      "RangeIndex: 10683 entries, 0 to 10682\n",
      "Data columns (total 8 columns):\n",
      " #   Column         Non-Null Count  Dtype \n",
      "---  ------         --------------  ----- \n",
      " 0   Airline        10683 non-null  object\n",
      " 1   Source         10683 non-null  object\n",
      " 2   Destination    10683 non-null  object\n",
      " 3   Total_Stops    10683 non-null  object\n",
      " 4   Price          10683 non-null  int64 \n",
      " 5   Journey_date   10683 non-null  int64 \n",
      " 6   Journey_month  10683 non-null  int64 \n",
      " 7   Duration_mins  10683 non-null  int64 \n",
      "dtypes: int64(4), object(4)\n",
      "memory usage: 667.8+ KB\n"
     ]
    }
   ],
   "source": [
    "df.info()"
   ]
  },
  {
   "cell_type": "code",
   "execution_count": 380,
   "metadata": {},
   "outputs": [],
   "source": [
    "le = LabelEncoder()\n",
    "df['Airline'] = le.fit_transform(df['Airline'])\n",
    "df['Source'] = le.fit_transform(df['Source'])\n",
    "df['Destination'] = le.fit_transform(df['Destination'])\n",
    "df['Total_Stops'] = le.fit_transform(df['Total_Stops'])"
   ]
  },
  {
   "cell_type": "code",
   "execution_count": 381,
   "metadata": {},
   "outputs": [
    {
     "data": {
      "text/plain": [
       "(10683, 8)"
      ]
     },
     "execution_count": 381,
     "metadata": {},
     "output_type": "execute_result"
    }
   ],
   "source": [
    "df.shape"
   ]
  },
  {
   "cell_type": "markdown",
   "metadata": {},
   "source": [
    "Crosschecking whether same Data Shape is retained. Same Data shape is retained"
   ]
  },
  {
   "cell_type": "code",
   "execution_count": 382,
   "metadata": {},
   "outputs": [
    {
     "data": {
      "text/html": [
       "<div>\n",
       "<style scoped>\n",
       "    .dataframe tbody tr th:only-of-type {\n",
       "        vertical-align: middle;\n",
       "    }\n",
       "\n",
       "    .dataframe tbody tr th {\n",
       "        vertical-align: top;\n",
       "    }\n",
       "\n",
       "    .dataframe thead th {\n",
       "        text-align: right;\n",
       "    }\n",
       "</style>\n",
       "<table border=\"1\" class=\"dataframe\">\n",
       "  <thead>\n",
       "    <tr style=\"text-align: right;\">\n",
       "      <th></th>\n",
       "      <th>Airline</th>\n",
       "      <th>Source</th>\n",
       "      <th>Destination</th>\n",
       "      <th>Total_Stops</th>\n",
       "      <th>Price</th>\n",
       "      <th>Journey_date</th>\n",
       "      <th>Journey_month</th>\n",
       "      <th>Duration_mins</th>\n",
       "    </tr>\n",
       "  </thead>\n",
       "  <tbody>\n",
       "    <tr>\n",
       "      <th>0</th>\n",
       "      <td>3</td>\n",
       "      <td>0</td>\n",
       "      <td>5</td>\n",
       "      <td>4</td>\n",
       "      <td>3897</td>\n",
       "      <td>24</td>\n",
       "      <td>3</td>\n",
       "      <td>170</td>\n",
       "    </tr>\n",
       "    <tr>\n",
       "      <th>1</th>\n",
       "      <td>1</td>\n",
       "      <td>3</td>\n",
       "      <td>0</td>\n",
       "      <td>1</td>\n",
       "      <td>7662</td>\n",
       "      <td>1</td>\n",
       "      <td>5</td>\n",
       "      <td>445</td>\n",
       "    </tr>\n",
       "    <tr>\n",
       "      <th>2</th>\n",
       "      <td>4</td>\n",
       "      <td>2</td>\n",
       "      <td>1</td>\n",
       "      <td>1</td>\n",
       "      <td>13882</td>\n",
       "      <td>9</td>\n",
       "      <td>6</td>\n",
       "      <td>1140</td>\n",
       "    </tr>\n",
       "    <tr>\n",
       "      <th>3</th>\n",
       "      <td>3</td>\n",
       "      <td>3</td>\n",
       "      <td>0</td>\n",
       "      <td>0</td>\n",
       "      <td>6218</td>\n",
       "      <td>12</td>\n",
       "      <td>5</td>\n",
       "      <td>325</td>\n",
       "    </tr>\n",
       "    <tr>\n",
       "      <th>4</th>\n",
       "      <td>3</td>\n",
       "      <td>0</td>\n",
       "      <td>5</td>\n",
       "      <td>0</td>\n",
       "      <td>13302</td>\n",
       "      <td>1</td>\n",
       "      <td>3</td>\n",
       "      <td>285</td>\n",
       "    </tr>\n",
       "    <tr>\n",
       "      <th>...</th>\n",
       "      <td>...</td>\n",
       "      <td>...</td>\n",
       "      <td>...</td>\n",
       "      <td>...</td>\n",
       "      <td>...</td>\n",
       "      <td>...</td>\n",
       "      <td>...</td>\n",
       "      <td>...</td>\n",
       "    </tr>\n",
       "    <tr>\n",
       "      <th>10678</th>\n",
       "      <td>0</td>\n",
       "      <td>3</td>\n",
       "      <td>0</td>\n",
       "      <td>4</td>\n",
       "      <td>4107</td>\n",
       "      <td>9</td>\n",
       "      <td>4</td>\n",
       "      <td>150</td>\n",
       "    </tr>\n",
       "    <tr>\n",
       "      <th>10679</th>\n",
       "      <td>1</td>\n",
       "      <td>3</td>\n",
       "      <td>0</td>\n",
       "      <td>4</td>\n",
       "      <td>4145</td>\n",
       "      <td>27</td>\n",
       "      <td>4</td>\n",
       "      <td>155</td>\n",
       "    </tr>\n",
       "    <tr>\n",
       "      <th>10680</th>\n",
       "      <td>4</td>\n",
       "      <td>0</td>\n",
       "      <td>2</td>\n",
       "      <td>4</td>\n",
       "      <td>7229</td>\n",
       "      <td>27</td>\n",
       "      <td>4</td>\n",
       "      <td>180</td>\n",
       "    </tr>\n",
       "    <tr>\n",
       "      <th>10681</th>\n",
       "      <td>10</td>\n",
       "      <td>0</td>\n",
       "      <td>5</td>\n",
       "      <td>4</td>\n",
       "      <td>12648</td>\n",
       "      <td>1</td>\n",
       "      <td>3</td>\n",
       "      <td>160</td>\n",
       "    </tr>\n",
       "    <tr>\n",
       "      <th>10682</th>\n",
       "      <td>1</td>\n",
       "      <td>2</td>\n",
       "      <td>1</td>\n",
       "      <td>1</td>\n",
       "      <td>11753</td>\n",
       "      <td>9</td>\n",
       "      <td>5</td>\n",
       "      <td>500</td>\n",
       "    </tr>\n",
       "  </tbody>\n",
       "</table>\n",
       "<p>10683 rows × 8 columns</p>\n",
       "</div>"
      ],
      "text/plain": [
       "       Airline  Source  Destination  Total_Stops  Price  Journey_date  \\\n",
       "0            3       0            5            4   3897            24   \n",
       "1            1       3            0            1   7662             1   \n",
       "2            4       2            1            1  13882             9   \n",
       "3            3       3            0            0   6218            12   \n",
       "4            3       0            5            0  13302             1   \n",
       "...        ...     ...          ...          ...    ...           ...   \n",
       "10678        0       3            0            4   4107             9   \n",
       "10679        1       3            0            4   4145            27   \n",
       "10680        4       0            2            4   7229            27   \n",
       "10681       10       0            5            4  12648             1   \n",
       "10682        1       2            1            1  11753             9   \n",
       "\n",
       "       Journey_month  Duration_mins  \n",
       "0                  3            170  \n",
       "1                  5            445  \n",
       "2                  6           1140  \n",
       "3                  5            325  \n",
       "4                  3            285  \n",
       "...              ...            ...  \n",
       "10678              4            150  \n",
       "10679              4            155  \n",
       "10680              4            180  \n",
       "10681              3            160  \n",
       "10682              5            500  \n",
       "\n",
       "[10683 rows x 8 columns]"
      ]
     },
     "execution_count": 382,
     "metadata": {},
     "output_type": "execute_result"
    }
   ],
   "source": [
    "df"
   ]
  },
  {
   "cell_type": "markdown",
   "metadata": {},
   "source": [
    "Crosschecking whether categorical data is encoded or not. It can be confirmed that encoding is done correctly"
   ]
  },
  {
   "cell_type": "code",
   "execution_count": 383,
   "metadata": {},
   "outputs": [
    {
     "data": {
      "text/html": [
       "<div>\n",
       "<style scoped>\n",
       "    .dataframe tbody tr th:only-of-type {\n",
       "        vertical-align: middle;\n",
       "    }\n",
       "\n",
       "    .dataframe tbody tr th {\n",
       "        vertical-align: top;\n",
       "    }\n",
       "\n",
       "    .dataframe thead th {\n",
       "        text-align: right;\n",
       "    }\n",
       "</style>\n",
       "<table border=\"1\" class=\"dataframe\">\n",
       "  <thead>\n",
       "    <tr style=\"text-align: right;\">\n",
       "      <th></th>\n",
       "      <th>Airline</th>\n",
       "      <th>Source</th>\n",
       "      <th>Destination</th>\n",
       "      <th>Total_Stops</th>\n",
       "      <th>Price</th>\n",
       "      <th>Journey_date</th>\n",
       "      <th>Journey_month</th>\n",
       "      <th>Duration_mins</th>\n",
       "    </tr>\n",
       "  </thead>\n",
       "  <tbody>\n",
       "    <tr>\n",
       "      <th>count</th>\n",
       "      <td>10683.000000</td>\n",
       "      <td>10683.000000</td>\n",
       "      <td>10683.000000</td>\n",
       "      <td>10683.000000</td>\n",
       "      <td>10683.000000</td>\n",
       "      <td>10683.000000</td>\n",
       "      <td>10683.000000</td>\n",
       "      <td>10683.000000</td>\n",
       "    </tr>\n",
       "    <tr>\n",
       "      <th>mean</th>\n",
       "      <td>3.965927</td>\n",
       "      <td>1.952261</td>\n",
       "      <td>1.436113</td>\n",
       "      <td>1.458111</td>\n",
       "      <td>9087.064121</td>\n",
       "      <td>13.508378</td>\n",
       "      <td>4.708602</td>\n",
       "      <td>643.093232</td>\n",
       "    </tr>\n",
       "    <tr>\n",
       "      <th>std</th>\n",
       "      <td>2.352155</td>\n",
       "      <td>1.177221</td>\n",
       "      <td>1.474782</td>\n",
       "      <td>1.806290</td>\n",
       "      <td>4611.359167</td>\n",
       "      <td>8.479277</td>\n",
       "      <td>1.164357</td>\n",
       "      <td>507.862001</td>\n",
       "    </tr>\n",
       "    <tr>\n",
       "      <th>min</th>\n",
       "      <td>0.000000</td>\n",
       "      <td>0.000000</td>\n",
       "      <td>0.000000</td>\n",
       "      <td>0.000000</td>\n",
       "      <td>1759.000000</td>\n",
       "      <td>1.000000</td>\n",
       "      <td>3.000000</td>\n",
       "      <td>5.000000</td>\n",
       "    </tr>\n",
       "    <tr>\n",
       "      <th>25%</th>\n",
       "      <td>3.000000</td>\n",
       "      <td>2.000000</td>\n",
       "      <td>0.000000</td>\n",
       "      <td>0.000000</td>\n",
       "      <td>5277.000000</td>\n",
       "      <td>6.000000</td>\n",
       "      <td>3.000000</td>\n",
       "      <td>170.000000</td>\n",
       "    </tr>\n",
       "    <tr>\n",
       "      <th>50%</th>\n",
       "      <td>4.000000</td>\n",
       "      <td>2.000000</td>\n",
       "      <td>1.000000</td>\n",
       "      <td>0.000000</td>\n",
       "      <td>8372.000000</td>\n",
       "      <td>12.000000</td>\n",
       "      <td>5.000000</td>\n",
       "      <td>520.000000</td>\n",
       "    </tr>\n",
       "    <tr>\n",
       "      <th>75%</th>\n",
       "      <td>4.000000</td>\n",
       "      <td>3.000000</td>\n",
       "      <td>2.000000</td>\n",
       "      <td>4.000000</td>\n",
       "      <td>12373.000000</td>\n",
       "      <td>21.000000</td>\n",
       "      <td>6.000000</td>\n",
       "      <td>930.000000</td>\n",
       "    </tr>\n",
       "    <tr>\n",
       "      <th>max</th>\n",
       "      <td>11.000000</td>\n",
       "      <td>4.000000</td>\n",
       "      <td>5.000000</td>\n",
       "      <td>4.000000</td>\n",
       "      <td>79512.000000</td>\n",
       "      <td>27.000000</td>\n",
       "      <td>6.000000</td>\n",
       "      <td>2860.000000</td>\n",
       "    </tr>\n",
       "  </tbody>\n",
       "</table>\n",
       "</div>"
      ],
      "text/plain": [
       "            Airline        Source   Destination   Total_Stops         Price  \\\n",
       "count  10683.000000  10683.000000  10683.000000  10683.000000  10683.000000   \n",
       "mean       3.965927      1.952261      1.436113      1.458111   9087.064121   \n",
       "std        2.352155      1.177221      1.474782      1.806290   4611.359167   \n",
       "min        0.000000      0.000000      0.000000      0.000000   1759.000000   \n",
       "25%        3.000000      2.000000      0.000000      0.000000   5277.000000   \n",
       "50%        4.000000      2.000000      1.000000      0.000000   8372.000000   \n",
       "75%        4.000000      3.000000      2.000000      4.000000  12373.000000   \n",
       "max       11.000000      4.000000      5.000000      4.000000  79512.000000   \n",
       "\n",
       "       Journey_date  Journey_month  Duration_mins  \n",
       "count  10683.000000   10683.000000   10683.000000  \n",
       "mean      13.508378       4.708602     643.093232  \n",
       "std        8.479277       1.164357     507.862001  \n",
       "min        1.000000       3.000000       5.000000  \n",
       "25%        6.000000       3.000000     170.000000  \n",
       "50%       12.000000       5.000000     520.000000  \n",
       "75%       21.000000       6.000000     930.000000  \n",
       "max       27.000000       6.000000    2860.000000  "
      ]
     },
     "execution_count": 383,
     "metadata": {},
     "output_type": "execute_result"
    }
   ],
   "source": [
    "df.describe()"
   ]
  },
  {
   "cell_type": "code",
   "execution_count": 384,
   "metadata": {},
   "outputs": [
    {
     "name": "stdout",
     "output_type": "stream",
     "text": [
      "<class 'pandas.core.frame.DataFrame'>\n",
      "RangeIndex: 10683 entries, 0 to 10682\n",
      "Data columns (total 8 columns):\n",
      " #   Column         Non-Null Count  Dtype\n",
      "---  ------         --------------  -----\n",
      " 0   Airline        10683 non-null  int32\n",
      " 1   Source         10683 non-null  int32\n",
      " 2   Destination    10683 non-null  int32\n",
      " 3   Total_Stops    10683 non-null  int32\n",
      " 4   Price          10683 non-null  int64\n",
      " 5   Journey_date   10683 non-null  int64\n",
      " 6   Journey_month  10683 non-null  int64\n",
      " 7   Duration_mins  10683 non-null  int64\n",
      "dtypes: int32(4), int64(4)\n",
      "memory usage: 500.9 KB\n"
     ]
    }
   ],
   "source": [
    "df.info()"
   ]
  },
  {
   "cell_type": "markdown",
   "metadata": {},
   "source": [
    "Analyzing the changes in dataset after encoding. All values are numericals now."
   ]
  },
  {
   "cell_type": "markdown",
   "metadata": {},
   "source": [
    "### Checking Correlation between each columns data"
   ]
  },
  {
   "cell_type": "code",
   "execution_count": 385,
   "metadata": {},
   "outputs": [
    {
     "data": {
      "text/html": [
       "<div>\n",
       "<style scoped>\n",
       "    .dataframe tbody tr th:only-of-type {\n",
       "        vertical-align: middle;\n",
       "    }\n",
       "\n",
       "    .dataframe tbody tr th {\n",
       "        vertical-align: top;\n",
       "    }\n",
       "\n",
       "    .dataframe thead th {\n",
       "        text-align: right;\n",
       "    }\n",
       "</style>\n",
       "<table border=\"1\" class=\"dataframe\">\n",
       "  <thead>\n",
       "    <tr style=\"text-align: right;\">\n",
       "      <th></th>\n",
       "      <th>Airline</th>\n",
       "      <th>Source</th>\n",
       "      <th>Destination</th>\n",
       "      <th>Total_Stops</th>\n",
       "      <th>Price</th>\n",
       "      <th>Journey_date</th>\n",
       "      <th>Journey_month</th>\n",
       "      <th>Duration_mins</th>\n",
       "    </tr>\n",
       "  </thead>\n",
       "  <tbody>\n",
       "    <tr>\n",
       "      <th>Airline</th>\n",
       "      <td>1.000000</td>\n",
       "      <td>-0.013401</td>\n",
       "      <td>0.018479</td>\n",
       "      <td>0.036064</td>\n",
       "      <td>-0.039520</td>\n",
       "      <td>0.026238</td>\n",
       "      <td>0.024643</td>\n",
       "      <td>-0.159803</td>\n",
       "    </tr>\n",
       "    <tr>\n",
       "      <th>Source</th>\n",
       "      <td>-0.013401</td>\n",
       "      <td>1.000000</td>\n",
       "      <td>-0.592574</td>\n",
       "      <td>-0.225601</td>\n",
       "      <td>0.015998</td>\n",
       "      <td>0.004898</td>\n",
       "      <td>0.183268</td>\n",
       "      <td>0.161874</td>\n",
       "    </tr>\n",
       "    <tr>\n",
       "      <th>Destination</th>\n",
       "      <td>0.018479</td>\n",
       "      <td>-0.592574</td>\n",
       "      <td>1.000000</td>\n",
       "      <td>0.337883</td>\n",
       "      <td>-0.071112</td>\n",
       "      <td>-0.040998</td>\n",
       "      <td>-0.364686</td>\n",
       "      <td>-0.257365</td>\n",
       "    </tr>\n",
       "    <tr>\n",
       "      <th>Total_Stops</th>\n",
       "      <td>0.036064</td>\n",
       "      <td>-0.225601</td>\n",
       "      <td>0.337883</td>\n",
       "      <td>1.000000</td>\n",
       "      <td>-0.571174</td>\n",
       "      <td>0.029290</td>\n",
       "      <td>-0.026346</td>\n",
       "      <td>-0.602313</td>\n",
       "    </tr>\n",
       "    <tr>\n",
       "      <th>Price</th>\n",
       "      <td>-0.039520</td>\n",
       "      <td>0.015998</td>\n",
       "      <td>-0.071112</td>\n",
       "      <td>-0.571174</td>\n",
       "      <td>1.000000</td>\n",
       "      <td>-0.153738</td>\n",
       "      <td>-0.103651</td>\n",
       "      <td>0.506371</td>\n",
       "    </tr>\n",
       "    <tr>\n",
       "      <th>Journey_date</th>\n",
       "      <td>0.026238</td>\n",
       "      <td>0.004898</td>\n",
       "      <td>-0.040998</td>\n",
       "      <td>0.029290</td>\n",
       "      <td>-0.153738</td>\n",
       "      <td>1.000000</td>\n",
       "      <td>-0.038378</td>\n",
       "      <td>-0.022562</td>\n",
       "    </tr>\n",
       "    <tr>\n",
       "      <th>Journey_month</th>\n",
       "      <td>0.024643</td>\n",
       "      <td>0.183268</td>\n",
       "      <td>-0.364686</td>\n",
       "      <td>-0.026346</td>\n",
       "      <td>-0.103651</td>\n",
       "      <td>-0.038378</td>\n",
       "      <td>1.000000</td>\n",
       "      <td>0.014870</td>\n",
       "    </tr>\n",
       "    <tr>\n",
       "      <th>Duration_mins</th>\n",
       "      <td>-0.159803</td>\n",
       "      <td>0.161874</td>\n",
       "      <td>-0.257365</td>\n",
       "      <td>-0.602313</td>\n",
       "      <td>0.506371</td>\n",
       "      <td>-0.022562</td>\n",
       "      <td>0.014870</td>\n",
       "      <td>1.000000</td>\n",
       "    </tr>\n",
       "  </tbody>\n",
       "</table>\n",
       "</div>"
      ],
      "text/plain": [
       "                Airline    Source  Destination  Total_Stops     Price  \\\n",
       "Airline        1.000000 -0.013401     0.018479     0.036064 -0.039520   \n",
       "Source        -0.013401  1.000000    -0.592574    -0.225601  0.015998   \n",
       "Destination    0.018479 -0.592574     1.000000     0.337883 -0.071112   \n",
       "Total_Stops    0.036064 -0.225601     0.337883     1.000000 -0.571174   \n",
       "Price         -0.039520  0.015998    -0.071112    -0.571174  1.000000   \n",
       "Journey_date   0.026238  0.004898    -0.040998     0.029290 -0.153738   \n",
       "Journey_month  0.024643  0.183268    -0.364686    -0.026346 -0.103651   \n",
       "Duration_mins -0.159803  0.161874    -0.257365    -0.602313  0.506371   \n",
       "\n",
       "               Journey_date  Journey_month  Duration_mins  \n",
       "Airline            0.026238       0.024643      -0.159803  \n",
       "Source             0.004898       0.183268       0.161874  \n",
       "Destination       -0.040998      -0.364686      -0.257365  \n",
       "Total_Stops        0.029290      -0.026346      -0.602313  \n",
       "Price             -0.153738      -0.103651       0.506371  \n",
       "Journey_date       1.000000      -0.038378      -0.022562  \n",
       "Journey_month     -0.038378       1.000000       0.014870  \n",
       "Duration_mins     -0.022562       0.014870       1.000000  "
      ]
     },
     "execution_count": 385,
     "metadata": {},
     "output_type": "execute_result"
    }
   ],
   "source": [
    "corr_mat=df.corr()\n",
    "corr_mat"
   ]
  },
  {
   "cell_type": "code",
   "execution_count": 386,
   "metadata": {},
   "outputs": [
    {
     "data": {
      "image/png": "[encoded data removed]",
      "text/plain": [
       "<Figure size 1584x864 with 2 Axes>"
      ]
     },
     "metadata": {
      "needs_background": "light"
     },
     "output_type": "display_data"
    }
   ],
   "source": [
    "plt.figure(figsize=[22,12])\n",
    "sns.heatmap(corr_mat,annot=True)\n",
    "plt.title(\"Correlation Matrix\")\n",
    "plt.show()"
   ]
  },
  {
   "cell_type": "code",
   "execution_count": 387,
   "metadata": {},
   "outputs": [
    {
     "data": {
      "text/plain": [
       "<AxesSubplot:>"
      ]
     },
     "execution_count": 387,
     "metadata": {},
     "output_type": "execute_result"
    },
    {
     "data": {
      "image/png": "[encoded data removed]",
      "text/plain": [
       "<Figure size 432x288 with 2 Axes>"
      ]
     },
     "metadata": {
      "needs_background": "light"
     },
     "output_type": "display_data"
    }
   ],
   "source": [
    "sns.heatmap(corr_mat,annot=True,linewidths=10,linecolor='r')"
   ]
  },
  {
   "cell_type": "code",
   "execution_count": 388,
   "metadata": {},
   "outputs": [
    {
     "data": {
      "image/png": "[encoded data removed]",
      "text/plain": [
       "<Figure size 1584x504 with 1 Axes>"
      ]
     },
     "metadata": {
      "needs_background": "light"
     },
     "output_type": "display_data"
    }
   ],
   "source": [
    "plt.figure(figsize=(22,7))\n",
    "df.corr()['Price'].sort_values(ascending=False).drop(['Price']).plot(kind='bar',color='c')\n",
    "plt.xlabel('Feature',fontsize=14)\n",
    "plt.ylabel('column with target names',fontsize=14)\n",
    "plt.title('correlation',fontsize=18)\n",
    "plt.show()"
   ]
  },
  {
   "cell_type": "code",
   "execution_count": 389,
   "metadata": {},
   "outputs": [
    {
     "data": {
      "text/plain": [
       "Price            1.000000\n",
       "Duration_mins    0.506371\n",
       "Source           0.015998\n",
       "Airline         -0.039520\n",
       "Destination     -0.071112\n",
       "Journey_month   -0.103651\n",
       "Journey_date    -0.153738\n",
       "Total_Stops     -0.571174\n",
       "Name: Price, dtype: float64"
      ]
     },
     "execution_count": 389,
     "metadata": {},
     "output_type": "execute_result"
    }
   ],
   "source": [
    "corr_mat[\"Price\"].sort_values(ascending=False)"
   ]
  },
  {
   "cell_type": "markdown",
   "metadata": {},
   "source": [
    "Using Heatmap, Correlation Matrix we can conclude below observations for Target Variable primary_fuel\n",
    "\n",
    "\n",
    "1. Duration_mins is positively correlated with Price Column data (in Positive Correlation Descending Order) reasonably\n",
    "\n",
    "\n",
    "2. Total_Stops, Journey_date, Journey_month are negatively correlated with Price Column data (in Negative Correlation Descending Order)\n",
    "\n",
    "\n",
    "3. Source, Airline column data has very less correlation with Price Column Data. If the Model Accuracy is less, these columns can be dropped because of very less correlationship with Target Variable"
   ]
  },
  {
   "cell_type": "markdown",
   "metadata": {},
   "source": [
    "### Checking for Outliers through boxplots and analyzing each column Outliers "
   ]
  },
  {
   "cell_type": "code",
   "execution_count": 390,
   "metadata": {},
   "outputs": [
    {
     "data": {
      "text/html": [
       "<div>\n",
       "<style scoped>\n",
       "    .dataframe tbody tr th:only-of-type {\n",
       "        vertical-align: middle;\n",
       "    }\n",
       "\n",
       "    .dataframe tbody tr th {\n",
       "        vertical-align: top;\n",
       "    }\n",
       "\n",
       "    .dataframe thead th {\n",
       "        text-align: right;\n",
       "    }\n",
       "</style>\n",
       "<table border=\"1\" class=\"dataframe\">\n",
       "  <thead>\n",
       "    <tr style=\"text-align: right;\">\n",
       "      <th></th>\n",
       "      <th>Airline</th>\n",
       "      <th>Source</th>\n",
       "      <th>Destination</th>\n",
       "      <th>Total_Stops</th>\n",
       "      <th>Journey_date</th>\n",
       "      <th>Journey_month</th>\n",
       "      <th>Duration_mins</th>\n",
       "    </tr>\n",
       "  </thead>\n",
       "  <tbody>\n",
       "    <tr>\n",
       "      <th>0</th>\n",
       "      <td>3</td>\n",
       "      <td>0</td>\n",
       "      <td>5</td>\n",
       "      <td>4</td>\n",
       "      <td>24</td>\n",
       "      <td>3</td>\n",
       "      <td>170</td>\n",
       "    </tr>\n",
       "    <tr>\n",
       "      <th>1</th>\n",
       "      <td>1</td>\n",
       "      <td>3</td>\n",
       "      <td>0</td>\n",
       "      <td>1</td>\n",
       "      <td>1</td>\n",
       "      <td>5</td>\n",
       "      <td>445</td>\n",
       "    </tr>\n",
       "    <tr>\n",
       "      <th>2</th>\n",
       "      <td>4</td>\n",
       "      <td>2</td>\n",
       "      <td>1</td>\n",
       "      <td>1</td>\n",
       "      <td>9</td>\n",
       "      <td>6</td>\n",
       "      <td>1140</td>\n",
       "    </tr>\n",
       "    <tr>\n",
       "      <th>3</th>\n",
       "      <td>3</td>\n",
       "      <td>3</td>\n",
       "      <td>0</td>\n",
       "      <td>0</td>\n",
       "      <td>12</td>\n",
       "      <td>5</td>\n",
       "      <td>325</td>\n",
       "    </tr>\n",
       "    <tr>\n",
       "      <th>4</th>\n",
       "      <td>3</td>\n",
       "      <td>0</td>\n",
       "      <td>5</td>\n",
       "      <td>0</td>\n",
       "      <td>1</td>\n",
       "      <td>3</td>\n",
       "      <td>285</td>\n",
       "    </tr>\n",
       "    <tr>\n",
       "      <th>...</th>\n",
       "      <td>...</td>\n",
       "      <td>...</td>\n",
       "      <td>...</td>\n",
       "      <td>...</td>\n",
       "      <td>...</td>\n",
       "      <td>...</td>\n",
       "      <td>...</td>\n",
       "    </tr>\n",
       "    <tr>\n",
       "      <th>10678</th>\n",
       "      <td>0</td>\n",
       "      <td>3</td>\n",
       "      <td>0</td>\n",
       "      <td>4</td>\n",
       "      <td>9</td>\n",
       "      <td>4</td>\n",
       "      <td>150</td>\n",
       "    </tr>\n",
       "    <tr>\n",
       "      <th>10679</th>\n",
       "      <td>1</td>\n",
       "      <td>3</td>\n",
       "      <td>0</td>\n",
       "      <td>4</td>\n",
       "      <td>27</td>\n",
       "      <td>4</td>\n",
       "      <td>155</td>\n",
       "    </tr>\n",
       "    <tr>\n",
       "      <th>10680</th>\n",
       "      <td>4</td>\n",
       "      <td>0</td>\n",
       "      <td>2</td>\n",
       "      <td>4</td>\n",
       "      <td>27</td>\n",
       "      <td>4</td>\n",
       "      <td>180</td>\n",
       "    </tr>\n",
       "    <tr>\n",
       "      <th>10681</th>\n",
       "      <td>10</td>\n",
       "      <td>0</td>\n",
       "      <td>5</td>\n",
       "      <td>4</td>\n",
       "      <td>1</td>\n",
       "      <td>3</td>\n",
       "      <td>160</td>\n",
       "    </tr>\n",
       "    <tr>\n",
       "      <th>10682</th>\n",
       "      <td>1</td>\n",
       "      <td>2</td>\n",
       "      <td>1</td>\n",
       "      <td>1</td>\n",
       "      <td>9</td>\n",
       "      <td>5</td>\n",
       "      <td>500</td>\n",
       "    </tr>\n",
       "  </tbody>\n",
       "</table>\n",
       "<p>10683 rows × 7 columns</p>\n",
       "</div>"
      ],
      "text/plain": [
       "       Airline  Source  Destination  Total_Stops  Journey_date  Journey_month  \\\n",
       "0            3       0            5            4            24              3   \n",
       "1            1       3            0            1             1              5   \n",
       "2            4       2            1            1             9              6   \n",
       "3            3       3            0            0            12              5   \n",
       "4            3       0            5            0             1              3   \n",
       "...        ...     ...          ...          ...           ...            ...   \n",
       "10678        0       3            0            4             9              4   \n",
       "10679        1       3            0            4            27              4   \n",
       "10680        4       0            2            4            27              4   \n",
       "10681       10       0            5            4             1              3   \n",
       "10682        1       2            1            1             9              5   \n",
       "\n",
       "       Duration_mins  \n",
       "0                170  \n",
       "1                445  \n",
       "2               1140  \n",
       "3                325  \n",
       "4                285  \n",
       "...              ...  \n",
       "10678            150  \n",
       "10679            155  \n",
       "10680            180  \n",
       "10681            160  \n",
       "10682            500  \n",
       "\n",
       "[10683 rows x 7 columns]"
      ]
     },
     "execution_count": 390,
     "metadata": {},
     "output_type": "execute_result"
    }
   ],
   "source": [
    "x1 = df.drop(columns=['Price']).copy()\n",
    "y1 = df['Price'].copy()\n",
    "x1_outlier=x1.copy()\n",
    "x1_outlier"
   ]
  },
  {
   "cell_type": "code",
   "execution_count": 391,
   "metadata": {},
   "outputs": [
    {
     "data": {
      "image/png": "[encoded data removed]",
      "text/plain": [
       "<Figure size 1440x2520 with 7 Axes>"
      ]
     },
     "metadata": {},
     "output_type": "display_data"
    }
   ],
   "source": [
    "plt.figure(figsize=(20,35),facecolor='white')\n",
    "plot_number3=1\n",
    "for i in x1_outlier:\n",
    "    if plot_number3<=31:\n",
    "        plt.subplot(8,4,plot_number3)\n",
    "        sns.boxplot(x1_outlier[i])\n",
    "        plt.xlabel(i,fontsize=20)\n",
    "    plot_number3+=1\n",
    "plt.show()"
   ]
  },
  {
   "cell_type": "markdown",
   "metadata": {},
   "source": [
    "we can confirm that there are outliers in Duration_mins Column Data"
   ]
  },
  {
   "cell_type": "markdown",
   "metadata": {},
   "source": [
    "### Outliers Removal"
   ]
  },
  {
   "cell_type": "markdown",
   "metadata": {},
   "source": [
    "#### Using ZScore Method"
   ]
  },
  {
   "cell_type": "code",
   "execution_count": 392,
   "metadata": {},
   "outputs": [],
   "source": [
    "from scipy.stats import zscore\n",
    "z=np.abs(zscore(x1_outlier[['Duration_mins']]))\n",
    "x_zscore_rg=x1_outlier[(z<3).all(axis=1)]"
   ]
  },
  {
   "cell_type": "markdown",
   "metadata": {},
   "source": [
    "Applying zscore to remove the Outliers"
   ]
  },
  {
   "cell_type": "markdown",
   "metadata": {},
   "source": [
    "##### Obtaining Data Set Shape after Outliers removed using zscore method"
   ]
  },
  {
   "cell_type": "code",
   "execution_count": 393,
   "metadata": {},
   "outputs": [
    {
     "data": {
      "text/plain": [
       "(10617, 7)"
      ]
     },
     "execution_count": 393,
     "metadata": {},
     "output_type": "execute_result"
    }
   ],
   "source": [
    "x_zscore_rg.shape"
   ]
  },
  {
   "cell_type": "markdown",
   "metadata": {},
   "source": [
    "##### Dataset Shape before Outliers removal"
   ]
  },
  {
   "cell_type": "code",
   "execution_count": 394,
   "metadata": {},
   "outputs": [
    {
     "data": {
      "text/plain": [
       "(10683, 7)"
      ]
     },
     "execution_count": 394,
     "metadata": {},
     "output_type": "execute_result"
    }
   ],
   "source": [
    "x1_outlier.shape"
   ]
  },
  {
   "cell_type": "code",
   "execution_count": 395,
   "metadata": {},
   "outputs": [
    {
     "data": {
      "text/plain": [
       "0.6178039876439202"
      ]
     },
     "execution_count": 395,
     "metadata": {},
     "output_type": "execute_result"
    }
   ],
   "source": [
    "zscore_data_loss=((10683-10617)/10683)*100\n",
    "zscore_data_loss"
   ]
  },
  {
   "cell_type": "markdown",
   "metadata": {},
   "source": [
    "Upon analyzing, found 6.17% of Data loss is occured when ZScore Method is used for Outliers removal for this Data set"
   ]
  },
  {
   "cell_type": "markdown",
   "metadata": {},
   "source": [
    "#### Analyzing Outliers through Boxplots after using Zscore"
   ]
  },
  {
   "cell_type": "markdown",
   "metadata": {},
   "source": [
    "### Regression Problem:"
   ]
  },
  {
   "cell_type": "code",
   "execution_count": 396,
   "metadata": {},
   "outputs": [
    {
     "data": {
      "image/png": "[encoded data removed]",
      "text/plain": [
       "<Figure size 1440x2520 with 7 Axes>"
      ]
     },
     "metadata": {},
     "output_type": "display_data"
    }
   ],
   "source": [
    "plt.figure(figsize=(20,35),facecolor='white')\n",
    "plot_number3=1\n",
    "for i in x_zscore_rg:\n",
    "    if plot_number3<=31:\n",
    "        plt.subplot(8,4,plot_number3)\n",
    "        sns.boxplot(x_zscore_rg[i])\n",
    "        plt.xlabel(i,fontsize=20)\n",
    "    plot_number3+=1\n",
    "plt.show()"
   ]
  },
  {
   "cell_type": "markdown",
   "metadata": {},
   "source": [
    "Upon reviewing above boxplots, we can observe significant amount of outliers are removed for both type."
   ]
  },
  {
   "cell_type": "markdown",
   "metadata": {},
   "source": [
    "### Merging the Outlier Removed Feature Data Set with Earlier Original Data Set"
   ]
  },
  {
   "cell_type": "code",
   "execution_count": 397,
   "metadata": {},
   "outputs": [],
   "source": [
    "df_rg=df.copy()"
   ]
  },
  {
   "cell_type": "code",
   "execution_count": 398,
   "metadata": {},
   "outputs": [
    {
     "data": {
      "text/plain": [
       "(10617, 8)"
      ]
     },
     "execution_count": 398,
     "metadata": {},
     "output_type": "execute_result"
    }
   ],
   "source": [
    "drop_index = df_rg.index.difference(x_zscore_rg.index)\n",
    "df_rg.drop(drop_index,inplace = True)\n",
    "df_rg.reset_index(drop=True,inplace = True)\n",
    "df_rg.shape"
   ]
  },
  {
   "cell_type": "markdown",
   "metadata": {},
   "source": [
    "We can observe that Target variable is merged with outlier removed feature data set for both model problem"
   ]
  },
  {
   "cell_type": "markdown",
   "metadata": {},
   "source": [
    "### Skewness Analysis and Skewness Correction"
   ]
  },
  {
   "cell_type": "code",
   "execution_count": 399,
   "metadata": {},
   "outputs": [
    {
     "data": {
      "text/html": [
       "<div>\n",
       "<style scoped>\n",
       "    .dataframe tbody tr th:only-of-type {\n",
       "        vertical-align: middle;\n",
       "    }\n",
       "\n",
       "    .dataframe tbody tr th {\n",
       "        vertical-align: top;\n",
       "    }\n",
       "\n",
       "    .dataframe thead th {\n",
       "        text-align: right;\n",
       "    }\n",
       "</style>\n",
       "<table border=\"1\" class=\"dataframe\">\n",
       "  <thead>\n",
       "    <tr style=\"text-align: right;\">\n",
       "      <th></th>\n",
       "      <th>Airline</th>\n",
       "      <th>Source</th>\n",
       "      <th>Destination</th>\n",
       "      <th>Total_Stops</th>\n",
       "      <th>Price</th>\n",
       "      <th>Journey_date</th>\n",
       "      <th>Journey_month</th>\n",
       "      <th>Duration_mins</th>\n",
       "    </tr>\n",
       "  </thead>\n",
       "  <tbody>\n",
       "    <tr>\n",
       "      <th>0</th>\n",
       "      <td>3</td>\n",
       "      <td>0</td>\n",
       "      <td>5</td>\n",
       "      <td>4</td>\n",
       "      <td>3897</td>\n",
       "      <td>24</td>\n",
       "      <td>3</td>\n",
       "      <td>170</td>\n",
       "    </tr>\n",
       "    <tr>\n",
       "      <th>1</th>\n",
       "      <td>1</td>\n",
       "      <td>3</td>\n",
       "      <td>0</td>\n",
       "      <td>1</td>\n",
       "      <td>7662</td>\n",
       "      <td>1</td>\n",
       "      <td>5</td>\n",
       "      <td>445</td>\n",
       "    </tr>\n",
       "    <tr>\n",
       "      <th>2</th>\n",
       "      <td>4</td>\n",
       "      <td>2</td>\n",
       "      <td>1</td>\n",
       "      <td>1</td>\n",
       "      <td>13882</td>\n",
       "      <td>9</td>\n",
       "      <td>6</td>\n",
       "      <td>1140</td>\n",
       "    </tr>\n",
       "    <tr>\n",
       "      <th>3</th>\n",
       "      <td>3</td>\n",
       "      <td>3</td>\n",
       "      <td>0</td>\n",
       "      <td>0</td>\n",
       "      <td>6218</td>\n",
       "      <td>12</td>\n",
       "      <td>5</td>\n",
       "      <td>325</td>\n",
       "    </tr>\n",
       "    <tr>\n",
       "      <th>4</th>\n",
       "      <td>3</td>\n",
       "      <td>0</td>\n",
       "      <td>5</td>\n",
       "      <td>0</td>\n",
       "      <td>13302</td>\n",
       "      <td>1</td>\n",
       "      <td>3</td>\n",
       "      <td>285</td>\n",
       "    </tr>\n",
       "    <tr>\n",
       "      <th>...</th>\n",
       "      <td>...</td>\n",
       "      <td>...</td>\n",
       "      <td>...</td>\n",
       "      <td>...</td>\n",
       "      <td>...</td>\n",
       "      <td>...</td>\n",
       "      <td>...</td>\n",
       "      <td>...</td>\n",
       "    </tr>\n",
       "    <tr>\n",
       "      <th>10612</th>\n",
       "      <td>0</td>\n",
       "      <td>3</td>\n",
       "      <td>0</td>\n",
       "      <td>4</td>\n",
       "      <td>4107</td>\n",
       "      <td>9</td>\n",
       "      <td>4</td>\n",
       "      <td>150</td>\n",
       "    </tr>\n",
       "    <tr>\n",
       "      <th>10613</th>\n",
       "      <td>1</td>\n",
       "      <td>3</td>\n",
       "      <td>0</td>\n",
       "      <td>4</td>\n",
       "      <td>4145</td>\n",
       "      <td>27</td>\n",
       "      <td>4</td>\n",
       "      <td>155</td>\n",
       "    </tr>\n",
       "    <tr>\n",
       "      <th>10614</th>\n",
       "      <td>4</td>\n",
       "      <td>0</td>\n",
       "      <td>2</td>\n",
       "      <td>4</td>\n",
       "      <td>7229</td>\n",
       "      <td>27</td>\n",
       "      <td>4</td>\n",
       "      <td>180</td>\n",
       "    </tr>\n",
       "    <tr>\n",
       "      <th>10615</th>\n",
       "      <td>10</td>\n",
       "      <td>0</td>\n",
       "      <td>5</td>\n",
       "      <td>4</td>\n",
       "      <td>12648</td>\n",
       "      <td>1</td>\n",
       "      <td>3</td>\n",
       "      <td>160</td>\n",
       "    </tr>\n",
       "    <tr>\n",
       "      <th>10616</th>\n",
       "      <td>1</td>\n",
       "      <td>2</td>\n",
       "      <td>1</td>\n",
       "      <td>1</td>\n",
       "      <td>11753</td>\n",
       "      <td>9</td>\n",
       "      <td>5</td>\n",
       "      <td>500</td>\n",
       "    </tr>\n",
       "  </tbody>\n",
       "</table>\n",
       "<p>10617 rows × 8 columns</p>\n",
       "</div>"
      ],
      "text/plain": [
       "       Airline  Source  Destination  Total_Stops  Price  Journey_date  \\\n",
       "0            3       0            5            4   3897            24   \n",
       "1            1       3            0            1   7662             1   \n",
       "2            4       2            1            1  13882             9   \n",
       "3            3       3            0            0   6218            12   \n",
       "4            3       0            5            0  13302             1   \n",
       "...        ...     ...          ...          ...    ...           ...   \n",
       "10612        0       3            0            4   4107             9   \n",
       "10613        1       3            0            4   4145            27   \n",
       "10614        4       0            2            4   7229            27   \n",
       "10615       10       0            5            4  12648             1   \n",
       "10616        1       2            1            1  11753             9   \n",
       "\n",
       "       Journey_month  Duration_mins  \n",
       "0                  3            170  \n",
       "1                  5            445  \n",
       "2                  6           1140  \n",
       "3                  5            325  \n",
       "4                  3            285  \n",
       "...              ...            ...  \n",
       "10612              4            150  \n",
       "10613              4            155  \n",
       "10614              4            180  \n",
       "10615              3            160  \n",
       "10616              5            500  \n",
       "\n",
       "[10617 rows x 8 columns]"
      ]
     },
     "execution_count": 399,
     "metadata": {},
     "output_type": "execute_result"
    }
   ],
   "source": [
    "df_powertransform_rg = df_rg.copy()\n",
    "df_powertransform_rg"
   ]
  },
  {
   "cell_type": "code",
   "execution_count": 400,
   "metadata": {},
   "outputs": [
    {
     "data": {
      "text/plain": [
       "10262    258\n",
       "10844    212\n",
       "7229     162\n",
       "4804     160\n",
       "4823     131\n",
       "        ... \n",
       "11647      1\n",
       "13875      1\n",
       "7742       1\n",
       "5703       1\n",
       "4098       1\n",
       "Name: Price, Length: 1852, dtype: int64"
      ]
     },
     "execution_count": 400,
     "metadata": {},
     "output_type": "execute_result"
    }
   ],
   "source": [
    "x1_rg = df_powertransform_rg.drop(columns=['Price'])\n",
    "y1_rg = df_powertransform_rg['Price']\n",
    "y1_rg.value_counts()"
   ]
  },
  {
   "cell_type": "code",
   "execution_count": 401,
   "metadata": {},
   "outputs": [
    {
     "data": {
      "text/plain": [
       "Airline          0.728798\n",
       "Source          -0.423207\n",
       "Destination      1.239195\n",
       "Total_Stops      0.627492\n",
       "Journey_date     0.116930\n",
       "Journey_month   -0.395443\n",
       "Duration_mins    0.774266\n",
       "dtype: float64"
      ]
     },
     "execution_count": 401,
     "metadata": {},
     "output_type": "execute_result"
    }
   ],
   "source": [
    "x1_rg.skew()"
   ]
  },
  {
   "cell_type": "markdown",
   "metadata": {},
   "source": [
    "We can observe Duration_mins columns (Original Continous data column) has skewness outside the allowable range of -0.50 to +0.50"
   ]
  },
  {
   "cell_type": "code",
   "execution_count": 402,
   "metadata": {},
   "outputs": [
    {
     "data": {
      "text/plain": [
       "Duration_mins   -0.049319\n",
       "dtype: float64"
      ]
     },
     "execution_count": 402,
     "metadata": {},
     "output_type": "execute_result"
    }
   ],
   "source": [
    "x2_rg=x1_rg[['Duration_mins']]\n",
    "x2_rg_skew = power_transform(x2_rg)\n",
    "x2_rg_skew = pd.DataFrame(x2_rg_skew, columns=x2_rg.columns)\n",
    "x2_rg_skew.skew()"
   ]
  },
  {
   "cell_type": "markdown",
   "metadata": {},
   "source": [
    "We can observe that skewness of Duration_mins column data is reduced drastically and within allowable range of -0.50 to +0.50"
   ]
  },
  {
   "cell_type": "markdown",
   "metadata": {},
   "source": [
    "#### Analyzing the distribution plots after skewness correction"
   ]
  },
  {
   "cell_type": "code",
   "execution_count": 403,
   "metadata": {},
   "outputs": [
    {
     "data": {
      "image/png": "[encoded data removed]",
      "text/plain": [
       "<Figure size 1440x2520 with 1 Axes>"
      ]
     },
     "metadata": {
      "needs_background": "light"
     },
     "output_type": "display_data"
    }
   ],
   "source": [
    "plt.figure(figsize = (20,35))\n",
    "plot_number = 1\n",
    "for i in x2_rg_skew:\n",
    "    if plot_number <=31:\n",
    "        plt.subplot(7,5,plot_number)\n",
    "        sns.distplot(x2_rg_skew[i], color = 'green')\n",
    "        plt.xlabel(i,fontsize = 20)\n",
    "    plot_number+=1\n",
    "plt.show()"
   ]
  },
  {
   "cell_type": "markdown",
   "metadata": {},
   "source": [
    "From these distribution plots, We can observe significant skewness is corrected"
   ]
  },
  {
   "cell_type": "markdown",
   "metadata": {},
   "source": [
    "### Merging the Skewness Corrected Feature Data Set with Earlier Original Data Set"
   ]
  },
  {
   "cell_type": "code",
   "execution_count": 404,
   "metadata": {},
   "outputs": [
    {
     "data": {
      "text/plain": [
       "(10617, 8)"
      ]
     },
     "execution_count": 404,
     "metadata": {},
     "output_type": "execute_result"
    }
   ],
   "source": [
    "drop_index = df_rg.index.difference(x2_rg_skew.index)\n",
    "df_rg.drop(drop_index,inplace = True)\n",
    "df_rg.reset_index(drop=True,inplace = True)\n",
    "df_rg.shape"
   ]
  },
  {
   "cell_type": "markdown",
   "metadata": {},
   "source": [
    "### Feature and Target Selection"
   ]
  },
  {
   "cell_type": "code",
   "execution_count": 405,
   "metadata": {},
   "outputs": [
    {
     "data": {
      "text/plain": [
       "10262    258\n",
       "10844    212\n",
       "7229     162\n",
       "4804     160\n",
       "4823     131\n",
       "        ... \n",
       "11647      1\n",
       "13875      1\n",
       "7742       1\n",
       "5703       1\n",
       "4098       1\n",
       "Name: Price, Length: 1852, dtype: int64"
      ]
     },
     "execution_count": 405,
     "metadata": {},
     "output_type": "execute_result"
    }
   ],
   "source": [
    "x_rg = df_rg.drop(columns=['Price'])\n",
    "y_rg = df_rg['Price']\n",
    "y_rg.value_counts()"
   ]
  },
  {
   "cell_type": "markdown",
   "metadata": {},
   "source": [
    "### Applying Standard Scaler in order to check the Multicollinearity"
   ]
  },
  {
   "cell_type": "code",
   "execution_count": 406,
   "metadata": {},
   "outputs": [
    {
     "data": {
      "text/plain": [
       "array([[-0.41625799, -1.65504247,  2.41308981, ...,  1.23774343,\n",
       "        -1.47588977, -0.94021252],\n",
       "       [-1.26688085,  0.88812415, -0.97299231, ..., -1.47631605,\n",
       "         0.2457519 , -0.38154241],\n",
       "       [ 0.00905344,  0.04040194, -0.29577588, ..., -0.53229536,\n",
       "         1.10657274,  1.03036934],\n",
       "       ...,\n",
       "       [ 0.00905344, -1.65504247,  0.38144054, ...,  1.59175118,\n",
       "        -0.61506893, -0.91989724],\n",
       "       [ 2.56092202, -1.65504247,  2.41308981, ..., -1.47631605,\n",
       "        -1.47588977, -0.9605278 ],\n",
       "       [-1.26688085,  0.04040194, -0.29577588, ..., -0.53229536,\n",
       "         0.2457519 , -0.26980838]])"
      ]
     },
     "execution_count": 406,
     "metadata": {},
     "output_type": "execute_result"
    }
   ],
   "source": [
    "sc=StandardScaler()\n",
    "x_scaled_rg=sc.fit_transform(x_rg)\n",
    "x_scaled_rg"
   ]
  },
  {
   "cell_type": "markdown",
   "metadata": {},
   "source": [
    "### Obtaining Multicollinearity using Variance Inflation Factor"
   ]
  },
  {
   "cell_type": "code",
   "execution_count": 407,
   "metadata": {},
   "outputs": [],
   "source": [
    "vif_rg = pd.DataFrame().copy()"
   ]
  },
  {
   "cell_type": "code",
   "execution_count": 408,
   "metadata": {},
   "outputs": [
    {
     "data": {
      "text/html": [
       "<div>\n",
       "<style scoped>\n",
       "    .dataframe tbody tr th:only-of-type {\n",
       "        vertical-align: middle;\n",
       "    }\n",
       "\n",
       "    .dataframe tbody tr th {\n",
       "        vertical-align: top;\n",
       "    }\n",
       "\n",
       "    .dataframe thead th {\n",
       "        text-align: right;\n",
       "    }\n",
       "</style>\n",
       "<table border=\"1\" class=\"dataframe\">\n",
       "  <thead>\n",
       "    <tr style=\"text-align: right;\">\n",
       "      <th></th>\n",
       "      <th>Columns</th>\n",
       "      <th>vif_rg</th>\n",
       "    </tr>\n",
       "  </thead>\n",
       "  <tbody>\n",
       "    <tr>\n",
       "      <th>0</th>\n",
       "      <td>Airline</td>\n",
       "      <td>1.029136</td>\n",
       "    </tr>\n",
       "    <tr>\n",
       "      <th>1</th>\n",
       "      <td>Source</td>\n",
       "      <td>1.546272</td>\n",
       "    </tr>\n",
       "    <tr>\n",
       "      <th>2</th>\n",
       "      <td>Destination</td>\n",
       "      <td>1.889792</td>\n",
       "    </tr>\n",
       "    <tr>\n",
       "      <th>3</th>\n",
       "      <td>Total_Stops</td>\n",
       "      <td>1.741371</td>\n",
       "    </tr>\n",
       "    <tr>\n",
       "      <th>4</th>\n",
       "      <td>Journey_date</td>\n",
       "      <td>1.009079</td>\n",
       "    </tr>\n",
       "    <tr>\n",
       "      <th>5</th>\n",
       "      <td>Journey_month</td>\n",
       "      <td>1.177395</td>\n",
       "    </tr>\n",
       "    <tr>\n",
       "      <th>6</th>\n",
       "      <td>Duration_mins</td>\n",
       "      <td>1.678304</td>\n",
       "    </tr>\n",
       "  </tbody>\n",
       "</table>\n",
       "</div>"
      ],
      "text/plain": [
       "         Columns    vif_rg\n",
       "0        Airline  1.029136\n",
       "1         Source  1.546272\n",
       "2    Destination  1.889792\n",
       "3    Total_Stops  1.741371\n",
       "4   Journey_date  1.009079\n",
       "5  Journey_month  1.177395\n",
       "6  Duration_mins  1.678304"
      ]
     },
     "execution_count": 408,
     "metadata": {},
     "output_type": "execute_result"
    }
   ],
   "source": [
    "vif_rg[\"Columns\"] = x_rg.columns\n",
    "vif_rg['vif_rg'] = [variance_inflation_factor(x_scaled_rg,i) for i in range(x_scaled_rg.shape[1])]\n",
    "vif_rg"
   ]
  },
  {
   "cell_type": "markdown",
   "metadata": {},
   "source": [
    "From above set, we can observe that most of the columns have same multicollinearity and VIF. So we couldnt get an idea through so we shall proceed with PCA"
   ]
  },
  {
   "cell_type": "markdown",
   "metadata": {},
   "source": [
    "### Principle Component Analysis "
   ]
  },
  {
   "cell_type": "code",
   "execution_count": 409,
   "metadata": {},
   "outputs": [
    {
     "data": {
      "image/png": "[encoded data removed]",
      "text/plain": [
       "<Figure size 432x288 with 1 Axes>"
      ]
     },
     "metadata": {
      "needs_background": "light"
     },
     "output_type": "display_data"
    }
   ],
   "source": [
    "pca_rg = PCA()\n",
    "principle_components_rg = pca_rg.fit_transform(x_scaled_rg)\n",
    "plt.figure()\n",
    "plt.plot(np.cumsum(pca_rg.explained_variance_ratio_))\n",
    "plt.xlabel('Number of Components')\n",
    "plt.ylabel('Variance %')\n",
    "plt.title('Explained Variance')\n",
    "plt.show()"
   ]
  },
  {
   "cell_type": "code",
   "execution_count": 410,
   "metadata": {},
   "outputs": [
    {
     "data": {
      "text/html": [
       "<div>\n",
       "<style scoped>\n",
       "    .dataframe tbody tr th:only-of-type {\n",
       "        vertical-align: middle;\n",
       "    }\n",
       "\n",
       "    .dataframe tbody tr th {\n",
       "        vertical-align: top;\n",
       "    }\n",
       "\n",
       "    .dataframe thead th {\n",
       "        text-align: right;\n",
       "    }\n",
       "</style>\n",
       "<table border=\"1\" class=\"dataframe\">\n",
       "  <thead>\n",
       "    <tr style=\"text-align: right;\">\n",
       "      <th></th>\n",
       "      <th>0</th>\n",
       "      <th>1</th>\n",
       "      <th>2</th>\n",
       "      <th>3</th>\n",
       "      <th>4</th>\n",
       "    </tr>\n",
       "  </thead>\n",
       "  <tbody>\n",
       "    <tr>\n",
       "      <th>0</th>\n",
       "      <td>3.507863</td>\n",
       "      <td>1.014039</td>\n",
       "      <td>1.042189</td>\n",
       "      <td>-0.843613</td>\n",
       "      <td>-0.081583</td>\n",
       "    </tr>\n",
       "    <tr>\n",
       "      <th>1</th>\n",
       "      <td>-1.059987</td>\n",
       "      <td>-0.302037</td>\n",
       "      <td>-1.731855</td>\n",
       "      <td>-0.707700</td>\n",
       "      <td>0.864858</td>\n",
       "    </tr>\n",
       "    <tr>\n",
       "      <th>2</th>\n",
       "      <td>-1.048586</td>\n",
       "      <td>0.003851</td>\n",
       "      <td>-0.685664</td>\n",
       "      <td>0.258265</td>\n",
       "      <td>-0.893883</td>\n",
       "    </tr>\n",
       "    <tr>\n",
       "      <th>3</th>\n",
       "      <td>-1.134298</td>\n",
       "      <td>-0.559202</td>\n",
       "      <td>-0.241707</td>\n",
       "      <td>-0.318739</td>\n",
       "      <td>0.561999</td>\n",
       "    </tr>\n",
       "    <tr>\n",
       "      <th>4</th>\n",
       "      <td>2.320569</td>\n",
       "      <td>2.300759</td>\n",
       "      <td>-1.165740</td>\n",
       "      <td>0.722134</td>\n",
       "      <td>0.186328</td>\n",
       "    </tr>\n",
       "    <tr>\n",
       "      <th>...</th>\n",
       "      <td>...</td>\n",
       "      <td>...</td>\n",
       "      <td>...</td>\n",
       "      <td>...</td>\n",
       "      <td>...</td>\n",
       "    </tr>\n",
       "    <tr>\n",
       "      <th>10612</th>\n",
       "      <td>0.196287</td>\n",
       "      <td>-0.825239</td>\n",
       "      <td>-0.987851</td>\n",
       "      <td>-1.834808</td>\n",
       "      <td>1.627820</td>\n",
       "    </tr>\n",
       "    <tr>\n",
       "      <th>10613</th>\n",
       "      <td>0.247556</td>\n",
       "      <td>-1.129594</td>\n",
       "      <td>1.062020</td>\n",
       "      <td>-2.238071</td>\n",
       "      <td>1.167981</td>\n",
       "    </tr>\n",
       "    <tr>\n",
       "      <th>10614</th>\n",
       "      <td>2.220027</td>\n",
       "      <td>-0.224463</td>\n",
       "      <td>1.340931</td>\n",
       "      <td>-0.801396</td>\n",
       "      <td>-0.538424</td>\n",
       "    </tr>\n",
       "    <tr>\n",
       "      <th>10615</th>\n",
       "      <td>3.721289</td>\n",
       "      <td>0.328494</td>\n",
       "      <td>-0.429133</td>\n",
       "      <td>2.777226</td>\n",
       "      <td>0.417657</td>\n",
       "    </tr>\n",
       "    <tr>\n",
       "      <th>10616</th>\n",
       "      <td>-0.346522</td>\n",
       "      <td>0.169641</td>\n",
       "      <td>-0.931781</td>\n",
       "      <td>-0.925769</td>\n",
       "      <td>0.058119</td>\n",
       "    </tr>\n",
       "  </tbody>\n",
       "</table>\n",
       "<p>10617 rows × 5 columns</p>\n",
       "</div>"
      ],
      "text/plain": [
       "              0         1         2         3         4\n",
       "0      3.507863  1.014039  1.042189 -0.843613 -0.081583\n",
       "1     -1.059987 -0.302037 -1.731855 -0.707700  0.864858\n",
       "2     -1.048586  0.003851 -0.685664  0.258265 -0.893883\n",
       "3     -1.134298 -0.559202 -0.241707 -0.318739  0.561999\n",
       "4      2.320569  2.300759 -1.165740  0.722134  0.186328\n",
       "...         ...       ...       ...       ...       ...\n",
       "10612  0.196287 -0.825239 -0.987851 -1.834808  1.627820\n",
       "10613  0.247556 -1.129594  1.062020 -2.238071  1.167981\n",
       "10614  2.220027 -0.224463  1.340931 -0.801396 -0.538424\n",
       "10615  3.721289  0.328494 -0.429133  2.777226  0.417657\n",
       "10616 -0.346522  0.169641 -0.931781 -0.925769  0.058119\n",
       "\n",
       "[10617 rows x 5 columns]"
      ]
     },
     "execution_count": 410,
     "metadata": {},
     "output_type": "execute_result"
    }
   ],
   "source": [
    "pca_new_rg = PCA(n_components=5)\n",
    "new_components_rg = pca_new_rg.fit_transform(x_scaled_rg)\n",
    "x_principle_rg=pd.DataFrame(new_components_rg,columns=np.arange(5))\n",
    "x_principle_rg"
   ]
  },
  {
   "cell_type": "markdown",
   "metadata": {},
   "source": [
    "We can conclude that for 95% variance, nearly 5 Principle components are contributing. So we can retain 5 components out of 7 components and build the model"
   ]
  },
  {
   "cell_type": "markdown",
   "metadata": {},
   "source": [
    "### Selecting KBest Features"
   ]
  },
  {
   "cell_type": "markdown",
   "metadata": {},
   "source": [
    "#### Through KBest Features Technique, Features with least score can be obtained which will help us in deciding which columns to drop before proceeding to Model Building"
   ]
  },
  {
   "cell_type": "code",
   "execution_count": 411,
   "metadata": {},
   "outputs": [
    {
     "name": "stdout",
     "output_type": "stream",
     "text": [
      "        Features      Scores\n",
      "3    Total_Stops  365.920372\n",
      "1         Source  185.076109\n",
      "2    Destination  111.517397\n",
      "0        Airline   79.388972\n",
      "5  Journey_month   18.029251\n",
      "6  Duration_mins   16.460227\n",
      "4   Journey_date    3.098506\n"
     ]
    }
   ],
   "source": [
    "best_features_rg = SelectKBest(score_func = f_classif, k = 'all')\n",
    "best_fit_rg = best_features_rg.fit(x_rg,y_rg)\n",
    "scores_rg = pd.DataFrame(best_fit_rg.scores_)\n",
    "columns_rg = pd.DataFrame(x_rg.columns)\n",
    "columns_rg.head()\n",
    "featureScores_rg = pd.concat([columns_rg,scores_rg],axis = 1)\n",
    "featureScores_rg.columns = ['Features', 'Scores']\n",
    "print(featureScores_rg.nlargest(7,'Scores'))"
   ]
  },
  {
   "cell_type": "markdown",
   "metadata": {},
   "source": [
    "Upon reviewing Best Features Scores, found Journey_date has least score however, proceeding without dropping any columns since accuracy is almost same when column is retained against when column is dropped"
   ]
  },
  {
   "cell_type": "code",
   "execution_count": 412,
   "metadata": {},
   "outputs": [],
   "source": [
    "x_best_rg = x_rg.copy()"
   ]
  },
  {
   "cell_type": "code",
   "execution_count": 413,
   "metadata": {},
   "outputs": [
    {
     "data": {
      "text/html": [
       "<div>\n",
       "<style scoped>\n",
       "    .dataframe tbody tr th:only-of-type {\n",
       "        vertical-align: middle;\n",
       "    }\n",
       "\n",
       "    .dataframe tbody tr th {\n",
       "        vertical-align: top;\n",
       "    }\n",
       "\n",
       "    .dataframe thead th {\n",
       "        text-align: right;\n",
       "    }\n",
       "</style>\n",
       "<table border=\"1\" class=\"dataframe\">\n",
       "  <thead>\n",
       "    <tr style=\"text-align: right;\">\n",
       "      <th></th>\n",
       "      <th>Airline</th>\n",
       "      <th>Source</th>\n",
       "      <th>Destination</th>\n",
       "      <th>Total_Stops</th>\n",
       "      <th>Journey_date</th>\n",
       "      <th>Journey_month</th>\n",
       "      <th>Duration_mins</th>\n",
       "    </tr>\n",
       "  </thead>\n",
       "  <tbody>\n",
       "    <tr>\n",
       "      <th>0</th>\n",
       "      <td>3</td>\n",
       "      <td>0</td>\n",
       "      <td>5</td>\n",
       "      <td>4</td>\n",
       "      <td>24</td>\n",
       "      <td>3</td>\n",
       "      <td>170</td>\n",
       "    </tr>\n",
       "    <tr>\n",
       "      <th>1</th>\n",
       "      <td>1</td>\n",
       "      <td>3</td>\n",
       "      <td>0</td>\n",
       "      <td>1</td>\n",
       "      <td>1</td>\n",
       "      <td>5</td>\n",
       "      <td>445</td>\n",
       "    </tr>\n",
       "    <tr>\n",
       "      <th>2</th>\n",
       "      <td>4</td>\n",
       "      <td>2</td>\n",
       "      <td>1</td>\n",
       "      <td>1</td>\n",
       "      <td>9</td>\n",
       "      <td>6</td>\n",
       "      <td>1140</td>\n",
       "    </tr>\n",
       "    <tr>\n",
       "      <th>3</th>\n",
       "      <td>3</td>\n",
       "      <td>3</td>\n",
       "      <td>0</td>\n",
       "      <td>0</td>\n",
       "      <td>12</td>\n",
       "      <td>5</td>\n",
       "      <td>325</td>\n",
       "    </tr>\n",
       "    <tr>\n",
       "      <th>4</th>\n",
       "      <td>3</td>\n",
       "      <td>0</td>\n",
       "      <td>5</td>\n",
       "      <td>0</td>\n",
       "      <td>1</td>\n",
       "      <td>3</td>\n",
       "      <td>285</td>\n",
       "    </tr>\n",
       "    <tr>\n",
       "      <th>...</th>\n",
       "      <td>...</td>\n",
       "      <td>...</td>\n",
       "      <td>...</td>\n",
       "      <td>...</td>\n",
       "      <td>...</td>\n",
       "      <td>...</td>\n",
       "      <td>...</td>\n",
       "    </tr>\n",
       "    <tr>\n",
       "      <th>10612</th>\n",
       "      <td>0</td>\n",
       "      <td>3</td>\n",
       "      <td>0</td>\n",
       "      <td>4</td>\n",
       "      <td>9</td>\n",
       "      <td>4</td>\n",
       "      <td>150</td>\n",
       "    </tr>\n",
       "    <tr>\n",
       "      <th>10613</th>\n",
       "      <td>1</td>\n",
       "      <td>3</td>\n",
       "      <td>0</td>\n",
       "      <td>4</td>\n",
       "      <td>27</td>\n",
       "      <td>4</td>\n",
       "      <td>155</td>\n",
       "    </tr>\n",
       "    <tr>\n",
       "      <th>10614</th>\n",
       "      <td>4</td>\n",
       "      <td>0</td>\n",
       "      <td>2</td>\n",
       "      <td>4</td>\n",
       "      <td>27</td>\n",
       "      <td>4</td>\n",
       "      <td>180</td>\n",
       "    </tr>\n",
       "    <tr>\n",
       "      <th>10615</th>\n",
       "      <td>10</td>\n",
       "      <td>0</td>\n",
       "      <td>5</td>\n",
       "      <td>4</td>\n",
       "      <td>1</td>\n",
       "      <td>3</td>\n",
       "      <td>160</td>\n",
       "    </tr>\n",
       "    <tr>\n",
       "      <th>10616</th>\n",
       "      <td>1</td>\n",
       "      <td>2</td>\n",
       "      <td>1</td>\n",
       "      <td>1</td>\n",
       "      <td>9</td>\n",
       "      <td>5</td>\n",
       "      <td>500</td>\n",
       "    </tr>\n",
       "  </tbody>\n",
       "</table>\n",
       "<p>10617 rows × 7 columns</p>\n",
       "</div>"
      ],
      "text/plain": [
       "       Airline  Source  Destination  Total_Stops  Journey_date  Journey_month  \\\n",
       "0            3       0            5            4            24              3   \n",
       "1            1       3            0            1             1              5   \n",
       "2            4       2            1            1             9              6   \n",
       "3            3       3            0            0            12              5   \n",
       "4            3       0            5            0             1              3   \n",
       "...        ...     ...          ...          ...           ...            ...   \n",
       "10612        0       3            0            4             9              4   \n",
       "10613        1       3            0            4            27              4   \n",
       "10614        4       0            2            4            27              4   \n",
       "10615       10       0            5            4             1              3   \n",
       "10616        1       2            1            1             9              5   \n",
       "\n",
       "       Duration_mins  \n",
       "0                170  \n",
       "1                445  \n",
       "2               1140  \n",
       "3                325  \n",
       "4                285  \n",
       "...              ...  \n",
       "10612            150  \n",
       "10613            155  \n",
       "10614            180  \n",
       "10615            160  \n",
       "10616            500  \n",
       "\n",
       "[10617 rows x 7 columns]"
      ]
     },
     "execution_count": 413,
     "metadata": {},
     "output_type": "execute_result"
    }
   ],
   "source": [
    "x_best_rg"
   ]
  },
  {
   "cell_type": "code",
   "execution_count": 414,
   "metadata": {},
   "outputs": [],
   "source": [
    "x_rg = sc.fit_transform(x_rg)\n",
    "y_rg = y_rg.copy()"
   ]
  },
  {
   "cell_type": "markdown",
   "metadata": {},
   "source": [
    "Applying Standard Scaler since scaling will help in better accuracy"
   ]
  },
  {
   "cell_type": "markdown",
   "metadata": {},
   "source": [
    "## Model Building: Regression Problem"
   ]
  },
  {
   "cell_type": "markdown",
   "metadata": {},
   "source": [
    "### Finding the Best Random State "
   ]
  },
  {
   "cell_type": "code",
   "execution_count": 415,
   "metadata": {},
   "outputs": [],
   "source": [
    "x=x_rg.copy()\n",
    "y=y_rg.copy()"
   ]
  },
  {
   "cell_type": "code",
   "execution_count": 416,
   "metadata": {},
   "outputs": [
    {
     "name": "stdout",
     "output_type": "stream",
     "text": [
      "The Best Accuracy is: 0.45234644898589593 at Random State: 62\n"
     ]
    }
   ],
   "source": [
    "maxAcc = 0\n",
    "maxRS=0\n",
    "for i in range(1,100):\n",
    "    x_train,x_test,y_train,y_test = train_test_split(x,y,test_size = .23,random_state = i)\n",
    "    mod_random_state =  Lasso()\n",
    "    mod_random_state.fit(x_train,y_train)\n",
    "    pred = mod_random_state.predict(x_test)\n",
    "    acc  = r2_score(y_test,pred)\n",
    "    if acc>maxAcc:\n",
    "        maxAcc=acc\n",
    "        maxRS=i\n",
    "print(f\"The Best Accuracy is: {maxAcc} at Random State: {maxRS}\")"
   ]
  },
  {
   "cell_type": "code",
   "execution_count": 417,
   "metadata": {},
   "outputs": [],
   "source": [
    "x_train,x_test,y_train,y_test = train_test_split(x,y,test_size = .23, random_state =maxRS)"
   ]
  },
  {
   "cell_type": "code",
   "execution_count": 418,
   "metadata": {},
   "outputs": [],
   "source": [
    "#Random Forest Regressor\n",
    "\n",
    "rf = RandomForestRegressor()\n",
    "rf.fit(x_train,y_train)\n",
    "y_rf_pred = rf.predict(x_test)\n",
    "mean_squared_error(y_test,y_rf_pred)\n",
    "np.sqrt(mean_squared_error(y_test,y_rf_pred))\n",
    "\n",
    "#Ridge Regressor Model\n",
    "\n",
    "r = Ridge()\n",
    "r.fit(x_train,y_train)\n",
    "y_r_pred = r.predict(x_test)\n",
    "mean_squared_error(y_test,y_r_pred)\n",
    "np.sqrt(mean_squared_error(y_test,y_r_pred))\n",
    "\n",
    "#Lasso Regression Model\n",
    "\n",
    "l = Lasso()\n",
    "l.fit(x_train,y_train)\n",
    "y_l_pred = l.predict(x_test)\n",
    "mean_squared_error(y_test,y_l_pred)\n",
    "np.sqrt(mean_squared_error(y_test,y_l_pred))\n",
    "\n",
    "#SVR Model\n",
    "\n",
    "SV= SVR()\n",
    "SV.fit(x_train,y_train)\n",
    "y_SV_pred = SV.predict(x_test)\n",
    "mean_squared_error(y_test,y_SV_pred)\n",
    "np.sqrt(mean_squared_error(y_test,y_SV_pred))\n",
    "\n",
    "#AdaBoost Regressor Model\n",
    "\n",
    "adb = AdaBoostRegressor()\n",
    "adb.fit(x_train,y_train)\n",
    "y_adb_pred = adb.predict(x_test)\n",
    "mean_squared_error(y_test,y_adb_pred)\n",
    "np.sqrt(mean_squared_error(y_test,y_adb_pred))\n",
    "\n",
    "#R2_scores of all the models\n",
    "\n",
    "R1 = r2_score(y_test,y_rf_pred)\n",
    "R2 = r2_score(y_test,y_r_pred)\n",
    "R3 = r2_score(y_test,y_l_pred)\n",
    "R4 = r2_score(y_test,y_SV_pred)\n",
    "R5 = r2_score(y_test,y_adb_pred)\n",
    "\n",
    "#Cross Validation Scores of all the models\n",
    "\n",
    "C1 = cross_val_score(rf,x,y,cv=4).mean()\n",
    "C2 = cross_val_score(r,x,y, cv=4).mean()\n",
    "C3 = cross_val_score(l,x,y,cv=4).mean()\n",
    "C4 = cross_val_score(SV,x,y,cv=4).mean()\n",
    "C5 = cross_val_score(adb,x,y,cv=4).mean()\n",
    "\n",
    "#Mean Squared Errors of all the models\n",
    "\n",
    "M1 = mean_squared_error(y_test,y_rf_pred)\n",
    "M2 = mean_squared_error(y_test,y_r_pred)\n",
    "M3 = mean_squared_error(y_test,y_l_pred)\n",
    "M4 = mean_squared_error(y_test,y_SV_pred)\n",
    "M5 = mean_squared_error(y_test,y_adb_pred)\n",
    "\n",
    "#Square Root of Mean Squared Errors of all the models\n",
    "\n",
    "N1 = np.sqrt(mean_squared_error(y_test,y_rf_pred))\n",
    "N2 = np.sqrt(mean_squared_error(y_test,y_r_pred))\n",
    "N3 = np.sqrt(mean_squared_error(y_test,y_l_pred))\n",
    "N4 = np.sqrt(mean_squared_error(y_test,y_SV_pred))\n",
    "N5 = np.sqrt(mean_squared_error(y_test,y_adb_pred))"
   ]
  },
  {
   "cell_type": "markdown",
   "metadata": {},
   "source": [
    "### Random Forest Regressor Model"
   ]
  },
  {
   "cell_type": "code",
   "execution_count": 419,
   "metadata": {},
   "outputs": [
    {
     "name": "stdout",
     "output_type": "stream",
     "text": [
      "R2 Score:  0.7729594744575402\n",
      "Mean Squared Error (MSE):  4462625.094423397\n",
      "Root Mean Squared Error (RMSE):  2112.4926258861587\n",
      "Cross validation Score:  0.7510717700648055\n"
     ]
    }
   ],
   "source": [
    "print('R2 Score: ',R1)\n",
    "print('Mean Squared Error (MSE): ',M1)\n",
    "print('Root Mean Squared Error (RMSE): ',N1)\n",
    "print('Cross validation Score: ',C1)"
   ]
  },
  {
   "cell_type": "markdown",
   "metadata": {},
   "source": [
    "### Ridge Regression Model"
   ]
  },
  {
   "cell_type": "code",
   "execution_count": 420,
   "metadata": {},
   "outputs": [
    {
     "name": "stdout",
     "output_type": "stream",
     "text": [
      "R2 Score:  0.45231333082067615\n",
      "Mean Squared Error (MSE):  10765127.802277442\n",
      "Root Mean Squared Error (RMSE):  3281.0254193281467\n",
      "Cross validation Score:  0.4126943073603302\n"
     ]
    }
   ],
   "source": [
    "print('R2 Score: ',R2)\n",
    "print('Mean Squared Error (MSE): ',M2)\n",
    "print('Root Mean Squared Error (RMSE): ',N2)\n",
    "print('Cross validation Score: ',C2)"
   ]
  },
  {
   "cell_type": "markdown",
   "metadata": {},
   "source": [
    "### Lasso Regression Model"
   ]
  },
  {
   "cell_type": "code",
   "execution_count": 421,
   "metadata": {},
   "outputs": [
    {
     "name": "stdout",
     "output_type": "stream",
     "text": [
      "R2 Score:  0.45234644898589593\n",
      "Mean Squared Error (MSE):  10764476.843798388\n",
      "Root Mean Squared Error (RMSE):  3280.92621736582\n",
      "Cross validation Score:  0.41269478414333644\n"
     ]
    }
   ],
   "source": [
    "print('R2 Score: ',R3)\n",
    "print('Mean Squared Error (MSE): ',M3)\n",
    "print('Root Mean Squared Error (RMSE): ',N3)\n",
    "print('Cross validation Score: ',C3)"
   ]
  },
  {
   "cell_type": "markdown",
   "metadata": {},
   "source": [
    "### SVR Model"
   ]
  },
  {
   "cell_type": "code",
   "execution_count": 422,
   "metadata": {},
   "outputs": [
    {
     "name": "stdout",
     "output_type": "stream",
     "text": [
      "R2 Score:  0.08230788448989934\n",
      "Mean Squared Error (MSE):  18037818.81602449\n",
      "Root Mean Squared Error (RMSE):  4247.095338702027\n",
      "Cross validation Score:  0.069797440815453\n"
     ]
    }
   ],
   "source": [
    "print('R2 Score: ',R4)\n",
    "print('Mean Squared Error (MSE): ',M4)\n",
    "print('Root Mean Squared Error (RMSE): ',N4)\n",
    "print('Cross validation Score: ',C4)"
   ]
  },
  {
   "cell_type": "markdown",
   "metadata": {},
   "source": [
    "### AdaBoost Regressor Model"
   ]
  },
  {
   "cell_type": "code",
   "execution_count": 423,
   "metadata": {},
   "outputs": [
    {
     "name": "stdout",
     "output_type": "stream",
     "text": [
      "R2 Score:  0.48072441174113023\n",
      "Mean Squared Error (MSE):  10206690.041563217\n",
      "Root Mean Squared Error (RMSE):  3194.7910794859836\n",
      "Cross validation Score:  0.4293139563647149\n"
     ]
    }
   ],
   "source": [
    "print('R2 Score: ',R5)\n",
    "print('Mean Squared Error (MSE): ',M5)\n",
    "print('Root Mean Squared Error (RMSE): ',N5)\n",
    "print('Cross validation Score: ',C5)"
   ]
  },
  {
   "cell_type": "markdown",
   "metadata": {},
   "source": [
    "#### Consolidating all Model R2 Scores and Cross Validation Score"
   ]
  },
  {
   "cell_type": "code",
   "execution_count": 424,
   "metadata": {},
   "outputs": [],
   "source": [
    "Consolidated_Score = pd.DataFrame({'Model':['Random Forest Regressor','Ridge','Lasso','SVR','ABR'], \n",
    "                                   'MSE':[M1,M2,M3,M4,M5], 'RMSE':[N1,N2,N3,N4,N5], 'R2_Score':[R1,R2,R3,R4,R5],\n",
    "                                   'Cross_Validation_Score':[C1,C2,C3,C4,C5],})\n",
    "Consolidated_Score['Difference'] = Consolidated_Score['R2_Score'] - Consolidated_Score['Cross_Validation_Score']"
   ]
  },
  {
   "cell_type": "code",
   "execution_count": 425,
   "metadata": {},
   "outputs": [
    {
     "data": {
      "text/html": [
       "<div>\n",
       "<style scoped>\n",
       "    .dataframe tbody tr th:only-of-type {\n",
       "        vertical-align: middle;\n",
       "    }\n",
       "\n",
       "    .dataframe tbody tr th {\n",
       "        vertical-align: top;\n",
       "    }\n",
       "\n",
       "    .dataframe thead th {\n",
       "        text-align: right;\n",
       "    }\n",
       "</style>\n",
       "<table border=\"1\" class=\"dataframe\">\n",
       "  <thead>\n",
       "    <tr style=\"text-align: right;\">\n",
       "      <th></th>\n",
       "      <th>Model</th>\n",
       "      <th>MSE</th>\n",
       "      <th>RMSE</th>\n",
       "      <th>R2_Score</th>\n",
       "      <th>Cross_Validation_Score</th>\n",
       "      <th>Difference</th>\n",
       "    </tr>\n",
       "  </thead>\n",
       "  <tbody>\n",
       "    <tr>\n",
       "      <th>0</th>\n",
       "      <td>Random Forest Regressor</td>\n",
       "      <td>4.462625e+06</td>\n",
       "      <td>2112.492626</td>\n",
       "      <td>0.772959</td>\n",
       "      <td>0.751072</td>\n",
       "      <td>0.021888</td>\n",
       "    </tr>\n",
       "    <tr>\n",
       "      <th>1</th>\n",
       "      <td>Ridge</td>\n",
       "      <td>1.076513e+07</td>\n",
       "      <td>3281.025419</td>\n",
       "      <td>0.452313</td>\n",
       "      <td>0.412694</td>\n",
       "      <td>0.039619</td>\n",
       "    </tr>\n",
       "    <tr>\n",
       "      <th>2</th>\n",
       "      <td>Lasso</td>\n",
       "      <td>1.076448e+07</td>\n",
       "      <td>3280.926217</td>\n",
       "      <td>0.452346</td>\n",
       "      <td>0.412695</td>\n",
       "      <td>0.039652</td>\n",
       "    </tr>\n",
       "    <tr>\n",
       "      <th>3</th>\n",
       "      <td>SVR</td>\n",
       "      <td>1.803782e+07</td>\n",
       "      <td>4247.095339</td>\n",
       "      <td>0.082308</td>\n",
       "      <td>0.069797</td>\n",
       "      <td>0.012510</td>\n",
       "    </tr>\n",
       "    <tr>\n",
       "      <th>4</th>\n",
       "      <td>ABR</td>\n",
       "      <td>1.020669e+07</td>\n",
       "      <td>3194.791079</td>\n",
       "      <td>0.480724</td>\n",
       "      <td>0.429314</td>\n",
       "      <td>0.051410</td>\n",
       "    </tr>\n",
       "  </tbody>\n",
       "</table>\n",
       "</div>"
      ],
      "text/plain": [
       "                     Model           MSE         RMSE  R2_Score  \\\n",
       "0  Random Forest Regressor  4.462625e+06  2112.492626  0.772959   \n",
       "1                    Ridge  1.076513e+07  3281.025419  0.452313   \n",
       "2                    Lasso  1.076448e+07  3280.926217  0.452346   \n",
       "3                      SVR  1.803782e+07  4247.095339  0.082308   \n",
       "4                      ABR  1.020669e+07  3194.791079  0.480724   \n",
       "\n",
       "   Cross_Validation_Score  Difference  \n",
       "0                0.751072    0.021888  \n",
       "1                0.412694    0.039619  \n",
       "2                0.412695    0.039652  \n",
       "3                0.069797    0.012510  \n",
       "4                0.429314    0.051410  "
      ]
     },
     "execution_count": 425,
     "metadata": {},
     "output_type": "execute_result"
    }
   ],
   "source": [
    "Consolidated_Score"
   ]
  },
  {
   "cell_type": "markdown",
   "metadata": {},
   "source": [
    "Upon review, we can observe following things\n",
    "\n",
    "\n",
    "Least Difference is with SVR and Random Forest Regressor, However, Root Mean Squared Error and Mean Squared Error is high comparatively.\n",
    "\n",
    "\n",
    "So Choosing Random Forest Regressor as Best Model to proceed for Hyper Parameter Tuning since it has the low error values which would predict the target variable with better accuracy"
   ]
  },
  {
   "cell_type": "markdown",
   "metadata": {},
   "source": [
    "### Hyper Parameter Tuning Using Grid Search"
   ]
  },
  {
   "cell_type": "markdown",
   "metadata": {},
   "source": [
    "#### Defining the Parameters list for Random Forest Regressor"
   ]
  },
  {
   "cell_type": "code",
   "execution_count": 426,
   "metadata": {},
   "outputs": [],
   "source": [
    "parameters = {'max_features':[\"auto\", \"sqrt\", \"log2\"],\n",
    "             'n_estimators': [100, 250, 500, 1000],\n",
    "             'n_jobs': [100, 250, 500],\n",
    "             'max_depth': [100, 250, 500]}"
   ]
  },
  {
   "cell_type": "code",
   "execution_count": 427,
   "metadata": {},
   "outputs": [],
   "source": [
    "GridCV = GridSearchCV(RandomForestRegressor(), parameters, cv=5, n_jobs = -1, verbose = 1)"
   ]
  },
  {
   "cell_type": "code",
   "execution_count": 428,
   "metadata": {},
   "outputs": [
    {
     "name": "stdout",
     "output_type": "stream",
     "text": [
      "Fitting 5 folds for each of 108 candidates, totalling 540 fits\n"
     ]
    },
    {
     "data": {
      "text/plain": [
       "GridSearchCV(cv=5, estimator=RandomForestRegressor(), n_jobs=-1,\n",
       "             param_grid={'max_depth': [100, 250, 500],\n",
       "                         'max_features': ['auto', 'sqrt', 'log2'],\n",
       "                         'n_estimators': [100, 250, 500, 1000],\n",
       "                         'n_jobs': [100, 250, 500]},\n",
       "             verbose=1)"
      ]
     },
     "execution_count": 428,
     "metadata": {},
     "output_type": "execute_result"
    }
   ],
   "source": [
    "GridCV.fit(x_train,y_train)"
   ]
  },
  {
   "cell_type": "code",
   "execution_count": 429,
   "metadata": {},
   "outputs": [
    {
     "data": {
      "text/plain": [
       "{'max_depth': 100, 'max_features': 'auto', 'n_estimators': 250, 'n_jobs': 500}"
      ]
     },
     "execution_count": 429,
     "metadata": {},
     "output_type": "execute_result"
    }
   ],
   "source": [
    "GridCV.best_params_"
   ]
  },
  {
   "cell_type": "markdown",
   "metadata": {},
   "source": [
    "Obtaining Best Parameters details for Best Model after training the parameters list given"
   ]
  },
  {
   "cell_type": "markdown",
   "metadata": {},
   "source": [
    "### Training the Best Model with the Best Model Parameters"
   ]
  },
  {
   "cell_type": "code",
   "execution_count": 430,
   "metadata": {},
   "outputs": [],
   "source": [
    "Best_model = RandomForestRegressor(max_features = 'auto', n_estimators= 250, n_jobs = 500, max_depth = 100)"
   ]
  },
  {
   "cell_type": "code",
   "execution_count": 431,
   "metadata": {},
   "outputs": [
    {
     "data": {
      "text/plain": [
       "RandomForestRegressor(max_depth=100, n_estimators=250, n_jobs=500)"
      ]
     },
     "execution_count": 431,
     "metadata": {},
     "output_type": "execute_result"
    }
   ],
   "source": [
    "Best_model.fit(x_train,y_train)"
   ]
  },
  {
   "cell_type": "code",
   "execution_count": 432,
   "metadata": {},
   "outputs": [
    {
     "name": "stdout",
     "output_type": "stream",
     "text": [
      "R2 Score of Best Model is  77.2428326660239\n"
     ]
    }
   ],
   "source": [
    "pred_rfr_bm = Best_model.predict(x_test)\n",
    "R2_Score_bm = r2_score(y_test,pred_rfr_bm)\n",
    "print('R2 Score of Best Model is ',R2_Score_bm*100)"
   ]
  },
  {
   "cell_type": "markdown",
   "metadata": {},
   "source": [
    "### Saving the Best Model"
   ]
  },
  {
   "cell_type": "code",
   "execution_count": 433,
   "metadata": {
    "scrolled": true
   },
   "outputs": [
    {
     "data": {
      "text/plain": [
       "['Flight_Price_Prediction_Project.pkl']"
      ]
     },
     "execution_count": 433,
     "metadata": {},
     "output_type": "execute_result"
    }
   ],
   "source": [
    "joblib.dump(Best_model,\"Flight_Price_Prediction_Project.pkl\")"
   ]
  },
  {
   "cell_type": "markdown",
   "metadata": {},
   "source": [
    "### Test Data Preparation for Model testing"
   ]
  },
  {
   "cell_type": "markdown",
   "metadata": {},
   "source": [
    "#### Performing Skewness Correctness, Outlier removal and dropping the columns in test data set which were dropped for train dataset and converting the duration and Date_of_Journey in a format same as df (x)\n",
    "\n",
    "Tranforming the test data set in same format as train data set for model prediction"
   ]
  },
  {
   "cell_type": "code",
   "execution_count": 434,
   "metadata": {},
   "outputs": [
    {
     "data": {
      "text/html": [
       "<div>\n",
       "<style scoped>\n",
       "    .dataframe tbody tr th:only-of-type {\n",
       "        vertical-align: middle;\n",
       "    }\n",
       "\n",
       "    .dataframe tbody tr th {\n",
       "        vertical-align: top;\n",
       "    }\n",
       "\n",
       "    .dataframe thead th {\n",
       "        text-align: right;\n",
       "    }\n",
       "</style>\n",
       "<table border=\"1\" class=\"dataframe\">\n",
       "  <thead>\n",
       "    <tr style=\"text-align: right;\">\n",
       "      <th></th>\n",
       "      <th>Airline</th>\n",
       "      <th>Date_of_Journey</th>\n",
       "      <th>Source</th>\n",
       "      <th>Destination</th>\n",
       "      <th>Route</th>\n",
       "      <th>Dep_Time</th>\n",
       "      <th>Arrival_Time</th>\n",
       "      <th>Duration</th>\n",
       "      <th>Total_Stops</th>\n",
       "      <th>Additional_Info</th>\n",
       "    </tr>\n",
       "  </thead>\n",
       "  <tbody>\n",
       "    <tr>\n",
       "      <th>0</th>\n",
       "      <td>Jet Airways</td>\n",
       "      <td>6/06/2019</td>\n",
       "      <td>Delhi</td>\n",
       "      <td>Cochin</td>\n",
       "      <td>DEL → BOM → COK</td>\n",
       "      <td>17:30</td>\n",
       "      <td>04:25 07 Jun</td>\n",
       "      <td>10h 55m</td>\n",
       "      <td>1 stop</td>\n",
       "      <td>No info</td>\n",
       "    </tr>\n",
       "    <tr>\n",
       "      <th>1</th>\n",
       "      <td>IndiGo</td>\n",
       "      <td>12/05/2019</td>\n",
       "      <td>Kolkata</td>\n",
       "      <td>Banglore</td>\n",
       "      <td>CCU → MAA → BLR</td>\n",
       "      <td>06:20</td>\n",
       "      <td>10:20</td>\n",
       "      <td>4h</td>\n",
       "      <td>1 stop</td>\n",
       "      <td>No info</td>\n",
       "    </tr>\n",
       "    <tr>\n",
       "      <th>2</th>\n",
       "      <td>Jet Airways</td>\n",
       "      <td>21/05/2019</td>\n",
       "      <td>Delhi</td>\n",
       "      <td>Cochin</td>\n",
       "      <td>DEL → BOM → COK</td>\n",
       "      <td>19:15</td>\n",
       "      <td>19:00 22 May</td>\n",
       "      <td>23h 45m</td>\n",
       "      <td>1 stop</td>\n",
       "      <td>In-flight meal not included</td>\n",
       "    </tr>\n",
       "    <tr>\n",
       "      <th>3</th>\n",
       "      <td>Multiple carriers</td>\n",
       "      <td>21/05/2019</td>\n",
       "      <td>Delhi</td>\n",
       "      <td>Cochin</td>\n",
       "      <td>DEL → BOM → COK</td>\n",
       "      <td>08:00</td>\n",
       "      <td>21:00</td>\n",
       "      <td>13h</td>\n",
       "      <td>1 stop</td>\n",
       "      <td>No info</td>\n",
       "    </tr>\n",
       "    <tr>\n",
       "      <th>4</th>\n",
       "      <td>Air Asia</td>\n",
       "      <td>24/06/2019</td>\n",
       "      <td>Banglore</td>\n",
       "      <td>Delhi</td>\n",
       "      <td>BLR → DEL</td>\n",
       "      <td>23:55</td>\n",
       "      <td>02:45 25 Jun</td>\n",
       "      <td>2h 50m</td>\n",
       "      <td>non-stop</td>\n",
       "      <td>No info</td>\n",
       "    </tr>\n",
       "    <tr>\n",
       "      <th>...</th>\n",
       "      <td>...</td>\n",
       "      <td>...</td>\n",
       "      <td>...</td>\n",
       "      <td>...</td>\n",
       "      <td>...</td>\n",
       "      <td>...</td>\n",
       "      <td>...</td>\n",
       "      <td>...</td>\n",
       "      <td>...</td>\n",
       "      <td>...</td>\n",
       "    </tr>\n",
       "    <tr>\n",
       "      <th>2666</th>\n",
       "      <td>Air India</td>\n",
       "      <td>6/06/2019</td>\n",
       "      <td>Kolkata</td>\n",
       "      <td>Banglore</td>\n",
       "      <td>CCU → DEL → BLR</td>\n",
       "      <td>20:30</td>\n",
       "      <td>20:25 07 Jun</td>\n",
       "      <td>23h 55m</td>\n",
       "      <td>1 stop</td>\n",
       "      <td>No info</td>\n",
       "    </tr>\n",
       "    <tr>\n",
       "      <th>2667</th>\n",
       "      <td>IndiGo</td>\n",
       "      <td>27/03/2019</td>\n",
       "      <td>Kolkata</td>\n",
       "      <td>Banglore</td>\n",
       "      <td>CCU → BLR</td>\n",
       "      <td>14:20</td>\n",
       "      <td>16:55</td>\n",
       "      <td>2h 35m</td>\n",
       "      <td>non-stop</td>\n",
       "      <td>No info</td>\n",
       "    </tr>\n",
       "    <tr>\n",
       "      <th>2668</th>\n",
       "      <td>Jet Airways</td>\n",
       "      <td>6/03/2019</td>\n",
       "      <td>Delhi</td>\n",
       "      <td>Cochin</td>\n",
       "      <td>DEL → BOM → COK</td>\n",
       "      <td>21:50</td>\n",
       "      <td>04:25 07 Mar</td>\n",
       "      <td>6h 35m</td>\n",
       "      <td>1 stop</td>\n",
       "      <td>No info</td>\n",
       "    </tr>\n",
       "    <tr>\n",
       "      <th>2669</th>\n",
       "      <td>Air India</td>\n",
       "      <td>6/03/2019</td>\n",
       "      <td>Delhi</td>\n",
       "      <td>Cochin</td>\n",
       "      <td>DEL → BOM → COK</td>\n",
       "      <td>04:00</td>\n",
       "      <td>19:15</td>\n",
       "      <td>15h 15m</td>\n",
       "      <td>1 stop</td>\n",
       "      <td>No info</td>\n",
       "    </tr>\n",
       "    <tr>\n",
       "      <th>2670</th>\n",
       "      <td>Multiple carriers</td>\n",
       "      <td>15/06/2019</td>\n",
       "      <td>Delhi</td>\n",
       "      <td>Cochin</td>\n",
       "      <td>DEL → BOM → COK</td>\n",
       "      <td>04:55</td>\n",
       "      <td>19:15</td>\n",
       "      <td>14h 20m</td>\n",
       "      <td>1 stop</td>\n",
       "      <td>No info</td>\n",
       "    </tr>\n",
       "  </tbody>\n",
       "</table>\n",
       "<p>2671 rows × 10 columns</p>\n",
       "</div>"
      ],
      "text/plain": [
       "                Airline Date_of_Journey    Source Destination  \\\n",
       "0           Jet Airways       6/06/2019     Delhi      Cochin   \n",
       "1                IndiGo      12/05/2019   Kolkata    Banglore   \n",
       "2           Jet Airways      21/05/2019     Delhi      Cochin   \n",
       "3     Multiple carriers      21/05/2019     Delhi      Cochin   \n",
       "4              Air Asia      24/06/2019  Banglore       Delhi   \n",
       "...                 ...             ...       ...         ...   \n",
       "2666          Air India       6/06/2019   Kolkata    Banglore   \n",
       "2667             IndiGo      27/03/2019   Kolkata    Banglore   \n",
       "2668        Jet Airways       6/03/2019     Delhi      Cochin   \n",
       "2669          Air India       6/03/2019     Delhi      Cochin   \n",
       "2670  Multiple carriers      15/06/2019     Delhi      Cochin   \n",
       "\n",
       "                Route Dep_Time  Arrival_Time Duration Total_Stops  \\\n",
       "0     DEL → BOM → COK    17:30  04:25 07 Jun  10h 55m      1 stop   \n",
       "1     CCU → MAA → BLR    06:20         10:20       4h      1 stop   \n",
       "2     DEL → BOM → COK    19:15  19:00 22 May  23h 45m      1 stop   \n",
       "3     DEL → BOM → COK    08:00         21:00      13h      1 stop   \n",
       "4           BLR → DEL    23:55  02:45 25 Jun   2h 50m    non-stop   \n",
       "...               ...      ...           ...      ...         ...   \n",
       "2666  CCU → DEL → BLR    20:30  20:25 07 Jun  23h 55m      1 stop   \n",
       "2667        CCU → BLR    14:20         16:55   2h 35m    non-stop   \n",
       "2668  DEL → BOM → COK    21:50  04:25 07 Mar   6h 35m      1 stop   \n",
       "2669  DEL → BOM → COK    04:00         19:15  15h 15m      1 stop   \n",
       "2670  DEL → BOM → COK    04:55         19:15  14h 20m      1 stop   \n",
       "\n",
       "                  Additional_Info  \n",
       "0                         No info  \n",
       "1                         No info  \n",
       "2     In-flight meal not included  \n",
       "3                         No info  \n",
       "4                         No info  \n",
       "...                           ...  \n",
       "2666                      No info  \n",
       "2667                      No info  \n",
       "2668                      No info  \n",
       "2669                      No info  \n",
       "2670                      No info  \n",
       "\n",
       "[2671 rows x 10 columns]"
      ]
     },
     "execution_count": 434,
     "metadata": {},
     "output_type": "execute_result"
    }
   ],
   "source": [
    "ts"
   ]
  },
  {
   "cell_type": "code",
   "execution_count": 435,
   "metadata": {},
   "outputs": [
    {
     "data": {
      "text/html": [
       "<div>\n",
       "<style scoped>\n",
       "    .dataframe tbody tr th:only-of-type {\n",
       "        vertical-align: middle;\n",
       "    }\n",
       "\n",
       "    .dataframe tbody tr th {\n",
       "        vertical-align: top;\n",
       "    }\n",
       "\n",
       "    .dataframe thead th {\n",
       "        text-align: right;\n",
       "    }\n",
       "</style>\n",
       "<table border=\"1\" class=\"dataframe\">\n",
       "  <thead>\n",
       "    <tr style=\"text-align: right;\">\n",
       "      <th></th>\n",
       "      <th>Airline</th>\n",
       "      <th>Source</th>\n",
       "      <th>Destination</th>\n",
       "      <th>Total_Stops</th>\n",
       "      <th>Price</th>\n",
       "      <th>Journey_date</th>\n",
       "      <th>Journey_month</th>\n",
       "      <th>Duration_mins</th>\n",
       "    </tr>\n",
       "  </thead>\n",
       "  <tbody>\n",
       "    <tr>\n",
       "      <th>0</th>\n",
       "      <td>3</td>\n",
       "      <td>0</td>\n",
       "      <td>5</td>\n",
       "      <td>4</td>\n",
       "      <td>3897</td>\n",
       "      <td>24</td>\n",
       "      <td>3</td>\n",
       "      <td>170</td>\n",
       "    </tr>\n",
       "    <tr>\n",
       "      <th>1</th>\n",
       "      <td>1</td>\n",
       "      <td>3</td>\n",
       "      <td>0</td>\n",
       "      <td>1</td>\n",
       "      <td>7662</td>\n",
       "      <td>1</td>\n",
       "      <td>5</td>\n",
       "      <td>445</td>\n",
       "    </tr>\n",
       "    <tr>\n",
       "      <th>2</th>\n",
       "      <td>4</td>\n",
       "      <td>2</td>\n",
       "      <td>1</td>\n",
       "      <td>1</td>\n",
       "      <td>13882</td>\n",
       "      <td>9</td>\n",
       "      <td>6</td>\n",
       "      <td>1140</td>\n",
       "    </tr>\n",
       "    <tr>\n",
       "      <th>3</th>\n",
       "      <td>3</td>\n",
       "      <td>3</td>\n",
       "      <td>0</td>\n",
       "      <td>0</td>\n",
       "      <td>6218</td>\n",
       "      <td>12</td>\n",
       "      <td>5</td>\n",
       "      <td>325</td>\n",
       "    </tr>\n",
       "    <tr>\n",
       "      <th>4</th>\n",
       "      <td>3</td>\n",
       "      <td>0</td>\n",
       "      <td>5</td>\n",
       "      <td>0</td>\n",
       "      <td>13302</td>\n",
       "      <td>1</td>\n",
       "      <td>3</td>\n",
       "      <td>285</td>\n",
       "    </tr>\n",
       "    <tr>\n",
       "      <th>...</th>\n",
       "      <td>...</td>\n",
       "      <td>...</td>\n",
       "      <td>...</td>\n",
       "      <td>...</td>\n",
       "      <td>...</td>\n",
       "      <td>...</td>\n",
       "      <td>...</td>\n",
       "      <td>...</td>\n",
       "    </tr>\n",
       "    <tr>\n",
       "      <th>10678</th>\n",
       "      <td>0</td>\n",
       "      <td>3</td>\n",
       "      <td>0</td>\n",
       "      <td>4</td>\n",
       "      <td>4107</td>\n",
       "      <td>9</td>\n",
       "      <td>4</td>\n",
       "      <td>150</td>\n",
       "    </tr>\n",
       "    <tr>\n",
       "      <th>10679</th>\n",
       "      <td>1</td>\n",
       "      <td>3</td>\n",
       "      <td>0</td>\n",
       "      <td>4</td>\n",
       "      <td>4145</td>\n",
       "      <td>27</td>\n",
       "      <td>4</td>\n",
       "      <td>155</td>\n",
       "    </tr>\n",
       "    <tr>\n",
       "      <th>10680</th>\n",
       "      <td>4</td>\n",
       "      <td>0</td>\n",
       "      <td>2</td>\n",
       "      <td>4</td>\n",
       "      <td>7229</td>\n",
       "      <td>27</td>\n",
       "      <td>4</td>\n",
       "      <td>180</td>\n",
       "    </tr>\n",
       "    <tr>\n",
       "      <th>10681</th>\n",
       "      <td>10</td>\n",
       "      <td>0</td>\n",
       "      <td>5</td>\n",
       "      <td>4</td>\n",
       "      <td>12648</td>\n",
       "      <td>1</td>\n",
       "      <td>3</td>\n",
       "      <td>160</td>\n",
       "    </tr>\n",
       "    <tr>\n",
       "      <th>10682</th>\n",
       "      <td>1</td>\n",
       "      <td>2</td>\n",
       "      <td>1</td>\n",
       "      <td>1</td>\n",
       "      <td>11753</td>\n",
       "      <td>9</td>\n",
       "      <td>5</td>\n",
       "      <td>500</td>\n",
       "    </tr>\n",
       "  </tbody>\n",
       "</table>\n",
       "<p>10683 rows × 8 columns</p>\n",
       "</div>"
      ],
      "text/plain": [
       "       Airline  Source  Destination  Total_Stops  Price  Journey_date  \\\n",
       "0            3       0            5            4   3897            24   \n",
       "1            1       3            0            1   7662             1   \n",
       "2            4       2            1            1  13882             9   \n",
       "3            3       3            0            0   6218            12   \n",
       "4            3       0            5            0  13302             1   \n",
       "...        ...     ...          ...          ...    ...           ...   \n",
       "10678        0       3            0            4   4107             9   \n",
       "10679        1       3            0            4   4145            27   \n",
       "10680        4       0            2            4   7229            27   \n",
       "10681       10       0            5            4  12648             1   \n",
       "10682        1       2            1            1  11753             9   \n",
       "\n",
       "       Journey_month  Duration_mins  \n",
       "0                  3            170  \n",
       "1                  5            445  \n",
       "2                  6           1140  \n",
       "3                  5            325  \n",
       "4                  3            285  \n",
       "...              ...            ...  \n",
       "10678              4            150  \n",
       "10679              4            155  \n",
       "10680              4            180  \n",
       "10681              3            160  \n",
       "10682              5            500  \n",
       "\n",
       "[10683 rows x 8 columns]"
      ]
     },
     "execution_count": 435,
     "metadata": {},
     "output_type": "execute_result"
    }
   ],
   "source": [
    "df"
   ]
  },
  {
   "cell_type": "code",
   "execution_count": 436,
   "metadata": {},
   "outputs": [],
   "source": [
    "ts.drop(columns=['Route','Dep_Time', 'Arrival_Time', 'Additional_Info'],inplace=True)"
   ]
  },
  {
   "cell_type": "code",
   "execution_count": 437,
   "metadata": {},
   "outputs": [
    {
     "data": {
      "text/html": [
       "<div>\n",
       "<style scoped>\n",
       "    .dataframe tbody tr th:only-of-type {\n",
       "        vertical-align: middle;\n",
       "    }\n",
       "\n",
       "    .dataframe tbody tr th {\n",
       "        vertical-align: top;\n",
       "    }\n",
       "\n",
       "    .dataframe thead th {\n",
       "        text-align: right;\n",
       "    }\n",
       "</style>\n",
       "<table border=\"1\" class=\"dataframe\">\n",
       "  <thead>\n",
       "    <tr style=\"text-align: right;\">\n",
       "      <th></th>\n",
       "      <th>Airline</th>\n",
       "      <th>Date_of_Journey</th>\n",
       "      <th>Source</th>\n",
       "      <th>Destination</th>\n",
       "      <th>Duration</th>\n",
       "      <th>Total_Stops</th>\n",
       "    </tr>\n",
       "  </thead>\n",
       "  <tbody>\n",
       "    <tr>\n",
       "      <th>0</th>\n",
       "      <td>Jet Airways</td>\n",
       "      <td>6/06/2019</td>\n",
       "      <td>Delhi</td>\n",
       "      <td>Cochin</td>\n",
       "      <td>10h 55m</td>\n",
       "      <td>1 stop</td>\n",
       "    </tr>\n",
       "    <tr>\n",
       "      <th>1</th>\n",
       "      <td>IndiGo</td>\n",
       "      <td>12/05/2019</td>\n",
       "      <td>Kolkata</td>\n",
       "      <td>Banglore</td>\n",
       "      <td>4h</td>\n",
       "      <td>1 stop</td>\n",
       "    </tr>\n",
       "    <tr>\n",
       "      <th>2</th>\n",
       "      <td>Jet Airways</td>\n",
       "      <td>21/05/2019</td>\n",
       "      <td>Delhi</td>\n",
       "      <td>Cochin</td>\n",
       "      <td>23h 45m</td>\n",
       "      <td>1 stop</td>\n",
       "    </tr>\n",
       "    <tr>\n",
       "      <th>3</th>\n",
       "      <td>Multiple carriers</td>\n",
       "      <td>21/05/2019</td>\n",
       "      <td>Delhi</td>\n",
       "      <td>Cochin</td>\n",
       "      <td>13h</td>\n",
       "      <td>1 stop</td>\n",
       "    </tr>\n",
       "    <tr>\n",
       "      <th>4</th>\n",
       "      <td>Air Asia</td>\n",
       "      <td>24/06/2019</td>\n",
       "      <td>Banglore</td>\n",
       "      <td>Delhi</td>\n",
       "      <td>2h 50m</td>\n",
       "      <td>non-stop</td>\n",
       "    </tr>\n",
       "    <tr>\n",
       "      <th>...</th>\n",
       "      <td>...</td>\n",
       "      <td>...</td>\n",
       "      <td>...</td>\n",
       "      <td>...</td>\n",
       "      <td>...</td>\n",
       "      <td>...</td>\n",
       "    </tr>\n",
       "    <tr>\n",
       "      <th>2666</th>\n",
       "      <td>Air India</td>\n",
       "      <td>6/06/2019</td>\n",
       "      <td>Kolkata</td>\n",
       "      <td>Banglore</td>\n",
       "      <td>23h 55m</td>\n",
       "      <td>1 stop</td>\n",
       "    </tr>\n",
       "    <tr>\n",
       "      <th>2667</th>\n",
       "      <td>IndiGo</td>\n",
       "      <td>27/03/2019</td>\n",
       "      <td>Kolkata</td>\n",
       "      <td>Banglore</td>\n",
       "      <td>2h 35m</td>\n",
       "      <td>non-stop</td>\n",
       "    </tr>\n",
       "    <tr>\n",
       "      <th>2668</th>\n",
       "      <td>Jet Airways</td>\n",
       "      <td>6/03/2019</td>\n",
       "      <td>Delhi</td>\n",
       "      <td>Cochin</td>\n",
       "      <td>6h 35m</td>\n",
       "      <td>1 stop</td>\n",
       "    </tr>\n",
       "    <tr>\n",
       "      <th>2669</th>\n",
       "      <td>Air India</td>\n",
       "      <td>6/03/2019</td>\n",
       "      <td>Delhi</td>\n",
       "      <td>Cochin</td>\n",
       "      <td>15h 15m</td>\n",
       "      <td>1 stop</td>\n",
       "    </tr>\n",
       "    <tr>\n",
       "      <th>2670</th>\n",
       "      <td>Multiple carriers</td>\n",
       "      <td>15/06/2019</td>\n",
       "      <td>Delhi</td>\n",
       "      <td>Cochin</td>\n",
       "      <td>14h 20m</td>\n",
       "      <td>1 stop</td>\n",
       "    </tr>\n",
       "  </tbody>\n",
       "</table>\n",
       "<p>2671 rows × 6 columns</p>\n",
       "</div>"
      ],
      "text/plain": [
       "                Airline Date_of_Journey    Source Destination Duration  \\\n",
       "0           Jet Airways       6/06/2019     Delhi      Cochin  10h 55m   \n",
       "1                IndiGo      12/05/2019   Kolkata    Banglore       4h   \n",
       "2           Jet Airways      21/05/2019     Delhi      Cochin  23h 45m   \n",
       "3     Multiple carriers      21/05/2019     Delhi      Cochin      13h   \n",
       "4              Air Asia      24/06/2019  Banglore       Delhi   2h 50m   \n",
       "...                 ...             ...       ...         ...      ...   \n",
       "2666          Air India       6/06/2019   Kolkata    Banglore  23h 55m   \n",
       "2667             IndiGo      27/03/2019   Kolkata    Banglore   2h 35m   \n",
       "2668        Jet Airways       6/03/2019     Delhi      Cochin   6h 35m   \n",
       "2669          Air India       6/03/2019     Delhi      Cochin  15h 15m   \n",
       "2670  Multiple carriers      15/06/2019     Delhi      Cochin  14h 20m   \n",
       "\n",
       "     Total_Stops  \n",
       "0         1 stop  \n",
       "1         1 stop  \n",
       "2         1 stop  \n",
       "3         1 stop  \n",
       "4       non-stop  \n",
       "...          ...  \n",
       "2666      1 stop  \n",
       "2667    non-stop  \n",
       "2668      1 stop  \n",
       "2669      1 stop  \n",
       "2670      1 stop  \n",
       "\n",
       "[2671 rows x 6 columns]"
      ]
     },
     "execution_count": 437,
     "metadata": {},
     "output_type": "execute_result"
    }
   ],
   "source": [
    "ts"
   ]
  },
  {
   "cell_type": "code",
   "execution_count": 438,
   "metadata": {},
   "outputs": [],
   "source": [
    "ts[\"Journey_date\"] = pd.to_datetime(ts.Date_of_Journey, format=\"%d/%m/%Y\").dt.day\n",
    "ts[\"Journey_month\"] = pd.to_datetime(ts[\"Date_of_Journey\"], format = \"%d/%m/%Y\").dt.month"
   ]
  },
  {
   "cell_type": "code",
   "execution_count": 439,
   "metadata": {},
   "outputs": [
    {
     "data": {
      "text/html": [
       "<div>\n",
       "<style scoped>\n",
       "    .dataframe tbody tr th:only-of-type {\n",
       "        vertical-align: middle;\n",
       "    }\n",
       "\n",
       "    .dataframe tbody tr th {\n",
       "        vertical-align: top;\n",
       "    }\n",
       "\n",
       "    .dataframe thead th {\n",
       "        text-align: right;\n",
       "    }\n",
       "</style>\n",
       "<table border=\"1\" class=\"dataframe\">\n",
       "  <thead>\n",
       "    <tr style=\"text-align: right;\">\n",
       "      <th></th>\n",
       "      <th>Airline</th>\n",
       "      <th>Date_of_Journey</th>\n",
       "      <th>Source</th>\n",
       "      <th>Destination</th>\n",
       "      <th>Duration</th>\n",
       "      <th>Total_Stops</th>\n",
       "      <th>Journey_date</th>\n",
       "      <th>Journey_month</th>\n",
       "    </tr>\n",
       "  </thead>\n",
       "  <tbody>\n",
       "    <tr>\n",
       "      <th>0</th>\n",
       "      <td>Jet Airways</td>\n",
       "      <td>6/06/2019</td>\n",
       "      <td>Delhi</td>\n",
       "      <td>Cochin</td>\n",
       "      <td>10h 55m</td>\n",
       "      <td>1 stop</td>\n",
       "      <td>6</td>\n",
       "      <td>6</td>\n",
       "    </tr>\n",
       "    <tr>\n",
       "      <th>1</th>\n",
       "      <td>IndiGo</td>\n",
       "      <td>12/05/2019</td>\n",
       "      <td>Kolkata</td>\n",
       "      <td>Banglore</td>\n",
       "      <td>4h</td>\n",
       "      <td>1 stop</td>\n",
       "      <td>12</td>\n",
       "      <td>5</td>\n",
       "    </tr>\n",
       "    <tr>\n",
       "      <th>2</th>\n",
       "      <td>Jet Airways</td>\n",
       "      <td>21/05/2019</td>\n",
       "      <td>Delhi</td>\n",
       "      <td>Cochin</td>\n",
       "      <td>23h 45m</td>\n",
       "      <td>1 stop</td>\n",
       "      <td>21</td>\n",
       "      <td>5</td>\n",
       "    </tr>\n",
       "    <tr>\n",
       "      <th>3</th>\n",
       "      <td>Multiple carriers</td>\n",
       "      <td>21/05/2019</td>\n",
       "      <td>Delhi</td>\n",
       "      <td>Cochin</td>\n",
       "      <td>13h</td>\n",
       "      <td>1 stop</td>\n",
       "      <td>21</td>\n",
       "      <td>5</td>\n",
       "    </tr>\n",
       "    <tr>\n",
       "      <th>4</th>\n",
       "      <td>Air Asia</td>\n",
       "      <td>24/06/2019</td>\n",
       "      <td>Banglore</td>\n",
       "      <td>Delhi</td>\n",
       "      <td>2h 50m</td>\n",
       "      <td>non-stop</td>\n",
       "      <td>24</td>\n",
       "      <td>6</td>\n",
       "    </tr>\n",
       "    <tr>\n",
       "      <th>...</th>\n",
       "      <td>...</td>\n",
       "      <td>...</td>\n",
       "      <td>...</td>\n",
       "      <td>...</td>\n",
       "      <td>...</td>\n",
       "      <td>...</td>\n",
       "      <td>...</td>\n",
       "      <td>...</td>\n",
       "    </tr>\n",
       "    <tr>\n",
       "      <th>2666</th>\n",
       "      <td>Air India</td>\n",
       "      <td>6/06/2019</td>\n",
       "      <td>Kolkata</td>\n",
       "      <td>Banglore</td>\n",
       "      <td>23h 55m</td>\n",
       "      <td>1 stop</td>\n",
       "      <td>6</td>\n",
       "      <td>6</td>\n",
       "    </tr>\n",
       "    <tr>\n",
       "      <th>2667</th>\n",
       "      <td>IndiGo</td>\n",
       "      <td>27/03/2019</td>\n",
       "      <td>Kolkata</td>\n",
       "      <td>Banglore</td>\n",
       "      <td>2h 35m</td>\n",
       "      <td>non-stop</td>\n",
       "      <td>27</td>\n",
       "      <td>3</td>\n",
       "    </tr>\n",
       "    <tr>\n",
       "      <th>2668</th>\n",
       "      <td>Jet Airways</td>\n",
       "      <td>6/03/2019</td>\n",
       "      <td>Delhi</td>\n",
       "      <td>Cochin</td>\n",
       "      <td>6h 35m</td>\n",
       "      <td>1 stop</td>\n",
       "      <td>6</td>\n",
       "      <td>3</td>\n",
       "    </tr>\n",
       "    <tr>\n",
       "      <th>2669</th>\n",
       "      <td>Air India</td>\n",
       "      <td>6/03/2019</td>\n",
       "      <td>Delhi</td>\n",
       "      <td>Cochin</td>\n",
       "      <td>15h 15m</td>\n",
       "      <td>1 stop</td>\n",
       "      <td>6</td>\n",
       "      <td>3</td>\n",
       "    </tr>\n",
       "    <tr>\n",
       "      <th>2670</th>\n",
       "      <td>Multiple carriers</td>\n",
       "      <td>15/06/2019</td>\n",
       "      <td>Delhi</td>\n",
       "      <td>Cochin</td>\n",
       "      <td>14h 20m</td>\n",
       "      <td>1 stop</td>\n",
       "      <td>15</td>\n",
       "      <td>6</td>\n",
       "    </tr>\n",
       "  </tbody>\n",
       "</table>\n",
       "<p>2671 rows × 8 columns</p>\n",
       "</div>"
      ],
      "text/plain": [
       "                Airline Date_of_Journey    Source Destination Duration  \\\n",
       "0           Jet Airways       6/06/2019     Delhi      Cochin  10h 55m   \n",
       "1                IndiGo      12/05/2019   Kolkata    Banglore       4h   \n",
       "2           Jet Airways      21/05/2019     Delhi      Cochin  23h 45m   \n",
       "3     Multiple carriers      21/05/2019     Delhi      Cochin      13h   \n",
       "4              Air Asia      24/06/2019  Banglore       Delhi   2h 50m   \n",
       "...                 ...             ...       ...         ...      ...   \n",
       "2666          Air India       6/06/2019   Kolkata    Banglore  23h 55m   \n",
       "2667             IndiGo      27/03/2019   Kolkata    Banglore   2h 35m   \n",
       "2668        Jet Airways       6/03/2019     Delhi      Cochin   6h 35m   \n",
       "2669          Air India       6/03/2019     Delhi      Cochin  15h 15m   \n",
       "2670  Multiple carriers      15/06/2019     Delhi      Cochin  14h 20m   \n",
       "\n",
       "     Total_Stops  Journey_date  Journey_month  \n",
       "0         1 stop             6              6  \n",
       "1         1 stop            12              5  \n",
       "2         1 stop            21              5  \n",
       "3         1 stop            21              5  \n",
       "4       non-stop            24              6  \n",
       "...          ...           ...            ...  \n",
       "2666      1 stop             6              6  \n",
       "2667    non-stop            27              3  \n",
       "2668      1 stop             6              3  \n",
       "2669      1 stop             6              3  \n",
       "2670      1 stop            15              6  \n",
       "\n",
       "[2671 rows x 8 columns]"
      ]
     },
     "execution_count": 439,
     "metadata": {},
     "output_type": "execute_result"
    }
   ],
   "source": [
    "ts"
   ]
  },
  {
   "cell_type": "code",
   "execution_count": 440,
   "metadata": {},
   "outputs": [],
   "source": [
    "ts.drop(columns=['Date_of_Journey'],inplace=True)"
   ]
  },
  {
   "cell_type": "code",
   "execution_count": 441,
   "metadata": {},
   "outputs": [
    {
     "data": {
      "text/html": [
       "<div>\n",
       "<style scoped>\n",
       "    .dataframe tbody tr th:only-of-type {\n",
       "        vertical-align: middle;\n",
       "    }\n",
       "\n",
       "    .dataframe tbody tr th {\n",
       "        vertical-align: top;\n",
       "    }\n",
       "\n",
       "    .dataframe thead th {\n",
       "        text-align: right;\n",
       "    }\n",
       "</style>\n",
       "<table border=\"1\" class=\"dataframe\">\n",
       "  <thead>\n",
       "    <tr style=\"text-align: right;\">\n",
       "      <th></th>\n",
       "      <th>Airline</th>\n",
       "      <th>Source</th>\n",
       "      <th>Destination</th>\n",
       "      <th>Duration</th>\n",
       "      <th>Total_Stops</th>\n",
       "      <th>Journey_date</th>\n",
       "      <th>Journey_month</th>\n",
       "    </tr>\n",
       "  </thead>\n",
       "  <tbody>\n",
       "    <tr>\n",
       "      <th>0</th>\n",
       "      <td>Jet Airways</td>\n",
       "      <td>Delhi</td>\n",
       "      <td>Cochin</td>\n",
       "      <td>10h 55m</td>\n",
       "      <td>1 stop</td>\n",
       "      <td>6</td>\n",
       "      <td>6</td>\n",
       "    </tr>\n",
       "    <tr>\n",
       "      <th>1</th>\n",
       "      <td>IndiGo</td>\n",
       "      <td>Kolkata</td>\n",
       "      <td>Banglore</td>\n",
       "      <td>4h</td>\n",
       "      <td>1 stop</td>\n",
       "      <td>12</td>\n",
       "      <td>5</td>\n",
       "    </tr>\n",
       "    <tr>\n",
       "      <th>2</th>\n",
       "      <td>Jet Airways</td>\n",
       "      <td>Delhi</td>\n",
       "      <td>Cochin</td>\n",
       "      <td>23h 45m</td>\n",
       "      <td>1 stop</td>\n",
       "      <td>21</td>\n",
       "      <td>5</td>\n",
       "    </tr>\n",
       "    <tr>\n",
       "      <th>3</th>\n",
       "      <td>Multiple carriers</td>\n",
       "      <td>Delhi</td>\n",
       "      <td>Cochin</td>\n",
       "      <td>13h</td>\n",
       "      <td>1 stop</td>\n",
       "      <td>21</td>\n",
       "      <td>5</td>\n",
       "    </tr>\n",
       "    <tr>\n",
       "      <th>4</th>\n",
       "      <td>Air Asia</td>\n",
       "      <td>Banglore</td>\n",
       "      <td>Delhi</td>\n",
       "      <td>2h 50m</td>\n",
       "      <td>non-stop</td>\n",
       "      <td>24</td>\n",
       "      <td>6</td>\n",
       "    </tr>\n",
       "    <tr>\n",
       "      <th>...</th>\n",
       "      <td>...</td>\n",
       "      <td>...</td>\n",
       "      <td>...</td>\n",
       "      <td>...</td>\n",
       "      <td>...</td>\n",
       "      <td>...</td>\n",
       "      <td>...</td>\n",
       "    </tr>\n",
       "    <tr>\n",
       "      <th>2666</th>\n",
       "      <td>Air India</td>\n",
       "      <td>Kolkata</td>\n",
       "      <td>Banglore</td>\n",
       "      <td>23h 55m</td>\n",
       "      <td>1 stop</td>\n",
       "      <td>6</td>\n",
       "      <td>6</td>\n",
       "    </tr>\n",
       "    <tr>\n",
       "      <th>2667</th>\n",
       "      <td>IndiGo</td>\n",
       "      <td>Kolkata</td>\n",
       "      <td>Banglore</td>\n",
       "      <td>2h 35m</td>\n",
       "      <td>non-stop</td>\n",
       "      <td>27</td>\n",
       "      <td>3</td>\n",
       "    </tr>\n",
       "    <tr>\n",
       "      <th>2668</th>\n",
       "      <td>Jet Airways</td>\n",
       "      <td>Delhi</td>\n",
       "      <td>Cochin</td>\n",
       "      <td>6h 35m</td>\n",
       "      <td>1 stop</td>\n",
       "      <td>6</td>\n",
       "      <td>3</td>\n",
       "    </tr>\n",
       "    <tr>\n",
       "      <th>2669</th>\n",
       "      <td>Air India</td>\n",
       "      <td>Delhi</td>\n",
       "      <td>Cochin</td>\n",
       "      <td>15h 15m</td>\n",
       "      <td>1 stop</td>\n",
       "      <td>6</td>\n",
       "      <td>3</td>\n",
       "    </tr>\n",
       "    <tr>\n",
       "      <th>2670</th>\n",
       "      <td>Multiple carriers</td>\n",
       "      <td>Delhi</td>\n",
       "      <td>Cochin</td>\n",
       "      <td>14h 20m</td>\n",
       "      <td>1 stop</td>\n",
       "      <td>15</td>\n",
       "      <td>6</td>\n",
       "    </tr>\n",
       "  </tbody>\n",
       "</table>\n",
       "<p>2671 rows × 7 columns</p>\n",
       "</div>"
      ],
      "text/plain": [
       "                Airline    Source Destination Duration Total_Stops  \\\n",
       "0           Jet Airways     Delhi      Cochin  10h 55m      1 stop   \n",
       "1                IndiGo   Kolkata    Banglore       4h      1 stop   \n",
       "2           Jet Airways     Delhi      Cochin  23h 45m      1 stop   \n",
       "3     Multiple carriers     Delhi      Cochin      13h      1 stop   \n",
       "4              Air Asia  Banglore       Delhi   2h 50m    non-stop   \n",
       "...                 ...       ...         ...      ...         ...   \n",
       "2666          Air India   Kolkata    Banglore  23h 55m      1 stop   \n",
       "2667             IndiGo   Kolkata    Banglore   2h 35m    non-stop   \n",
       "2668        Jet Airways     Delhi      Cochin   6h 35m      1 stop   \n",
       "2669          Air India     Delhi      Cochin  15h 15m      1 stop   \n",
       "2670  Multiple carriers     Delhi      Cochin  14h 20m      1 stop   \n",
       "\n",
       "      Journey_date  Journey_month  \n",
       "0                6              6  \n",
       "1               12              5  \n",
       "2               21              5  \n",
       "3               21              5  \n",
       "4               24              6  \n",
       "...            ...            ...  \n",
       "2666             6              6  \n",
       "2667            27              3  \n",
       "2668             6              3  \n",
       "2669             6              3  \n",
       "2670            15              6  \n",
       "\n",
       "[2671 rows x 7 columns]"
      ]
     },
     "execution_count": 441,
     "metadata": {},
     "output_type": "execute_result"
    }
   ],
   "source": [
    "ts"
   ]
  },
  {
   "cell_type": "code",
   "execution_count": 442,
   "metadata": {},
   "outputs": [
    {
     "data": {
      "text/html": [
       "<div>\n",
       "<style scoped>\n",
       "    .dataframe tbody tr th:only-of-type {\n",
       "        vertical-align: middle;\n",
       "    }\n",
       "\n",
       "    .dataframe tbody tr th {\n",
       "        vertical-align: top;\n",
       "    }\n",
       "\n",
       "    .dataframe thead th {\n",
       "        text-align: right;\n",
       "    }\n",
       "</style>\n",
       "<table border=\"1\" class=\"dataframe\">\n",
       "  <thead>\n",
       "    <tr style=\"text-align: right;\">\n",
       "      <th></th>\n",
       "      <th>Airline</th>\n",
       "      <th>Source</th>\n",
       "      <th>Destination</th>\n",
       "      <th>Total_Stops</th>\n",
       "      <th>Price</th>\n",
       "      <th>Journey_date</th>\n",
       "      <th>Journey_month</th>\n",
       "      <th>Duration_mins</th>\n",
       "    </tr>\n",
       "  </thead>\n",
       "  <tbody>\n",
       "    <tr>\n",
       "      <th>0</th>\n",
       "      <td>3</td>\n",
       "      <td>0</td>\n",
       "      <td>5</td>\n",
       "      <td>4</td>\n",
       "      <td>3897</td>\n",
       "      <td>24</td>\n",
       "      <td>3</td>\n",
       "      <td>170</td>\n",
       "    </tr>\n",
       "    <tr>\n",
       "      <th>1</th>\n",
       "      <td>1</td>\n",
       "      <td>3</td>\n",
       "      <td>0</td>\n",
       "      <td>1</td>\n",
       "      <td>7662</td>\n",
       "      <td>1</td>\n",
       "      <td>5</td>\n",
       "      <td>445</td>\n",
       "    </tr>\n",
       "    <tr>\n",
       "      <th>2</th>\n",
       "      <td>4</td>\n",
       "      <td>2</td>\n",
       "      <td>1</td>\n",
       "      <td>1</td>\n",
       "      <td>13882</td>\n",
       "      <td>9</td>\n",
       "      <td>6</td>\n",
       "      <td>1140</td>\n",
       "    </tr>\n",
       "    <tr>\n",
       "      <th>3</th>\n",
       "      <td>3</td>\n",
       "      <td>3</td>\n",
       "      <td>0</td>\n",
       "      <td>0</td>\n",
       "      <td>6218</td>\n",
       "      <td>12</td>\n",
       "      <td>5</td>\n",
       "      <td>325</td>\n",
       "    </tr>\n",
       "    <tr>\n",
       "      <th>4</th>\n",
       "      <td>3</td>\n",
       "      <td>0</td>\n",
       "      <td>5</td>\n",
       "      <td>0</td>\n",
       "      <td>13302</td>\n",
       "      <td>1</td>\n",
       "      <td>3</td>\n",
       "      <td>285</td>\n",
       "    </tr>\n",
       "    <tr>\n",
       "      <th>...</th>\n",
       "      <td>...</td>\n",
       "      <td>...</td>\n",
       "      <td>...</td>\n",
       "      <td>...</td>\n",
       "      <td>...</td>\n",
       "      <td>...</td>\n",
       "      <td>...</td>\n",
       "      <td>...</td>\n",
       "    </tr>\n",
       "    <tr>\n",
       "      <th>10678</th>\n",
       "      <td>0</td>\n",
       "      <td>3</td>\n",
       "      <td>0</td>\n",
       "      <td>4</td>\n",
       "      <td>4107</td>\n",
       "      <td>9</td>\n",
       "      <td>4</td>\n",
       "      <td>150</td>\n",
       "    </tr>\n",
       "    <tr>\n",
       "      <th>10679</th>\n",
       "      <td>1</td>\n",
       "      <td>3</td>\n",
       "      <td>0</td>\n",
       "      <td>4</td>\n",
       "      <td>4145</td>\n",
       "      <td>27</td>\n",
       "      <td>4</td>\n",
       "      <td>155</td>\n",
       "    </tr>\n",
       "    <tr>\n",
       "      <th>10680</th>\n",
       "      <td>4</td>\n",
       "      <td>0</td>\n",
       "      <td>2</td>\n",
       "      <td>4</td>\n",
       "      <td>7229</td>\n",
       "      <td>27</td>\n",
       "      <td>4</td>\n",
       "      <td>180</td>\n",
       "    </tr>\n",
       "    <tr>\n",
       "      <th>10681</th>\n",
       "      <td>10</td>\n",
       "      <td>0</td>\n",
       "      <td>5</td>\n",
       "      <td>4</td>\n",
       "      <td>12648</td>\n",
       "      <td>1</td>\n",
       "      <td>3</td>\n",
       "      <td>160</td>\n",
       "    </tr>\n",
       "    <tr>\n",
       "      <th>10682</th>\n",
       "      <td>1</td>\n",
       "      <td>2</td>\n",
       "      <td>1</td>\n",
       "      <td>1</td>\n",
       "      <td>11753</td>\n",
       "      <td>9</td>\n",
       "      <td>5</td>\n",
       "      <td>500</td>\n",
       "    </tr>\n",
       "  </tbody>\n",
       "</table>\n",
       "<p>10683 rows × 8 columns</p>\n",
       "</div>"
      ],
      "text/plain": [
       "       Airline  Source  Destination  Total_Stops  Price  Journey_date  \\\n",
       "0            3       0            5            4   3897            24   \n",
       "1            1       3            0            1   7662             1   \n",
       "2            4       2            1            1  13882             9   \n",
       "3            3       3            0            0   6218            12   \n",
       "4            3       0            5            0  13302             1   \n",
       "...        ...     ...          ...          ...    ...           ...   \n",
       "10678        0       3            0            4   4107             9   \n",
       "10679        1       3            0            4   4145            27   \n",
       "10680        4       0            2            4   7229            27   \n",
       "10681       10       0            5            4  12648             1   \n",
       "10682        1       2            1            1  11753             9   \n",
       "\n",
       "       Journey_month  Duration_mins  \n",
       "0                  3            170  \n",
       "1                  5            445  \n",
       "2                  6           1140  \n",
       "3                  5            325  \n",
       "4                  3            285  \n",
       "...              ...            ...  \n",
       "10678              4            150  \n",
       "10679              4            155  \n",
       "10680              4            180  \n",
       "10681              3            160  \n",
       "10682              5            500  \n",
       "\n",
       "[10683 rows x 8 columns]"
      ]
     },
     "execution_count": 442,
     "metadata": {},
     "output_type": "execute_result"
    }
   ],
   "source": [
    "df"
   ]
  },
  {
   "cell_type": "code",
   "execution_count": 443,
   "metadata": {},
   "outputs": [],
   "source": [
    "dur_ts=ts['Duration'].tolist()"
   ]
  },
  {
   "cell_type": "code",
   "execution_count": 444,
   "metadata": {},
   "outputs": [],
   "source": [
    "for i in range(0,len(dur_ts)):\n",
    "    dur_ts[i]=dur_ts[i].replace(\"h\",\"*60\").replace(\" \",\"+\").replace(\"m\",\"\") \n",
    "for i in range(0,len(dur_ts)):\n",
    "    dur_ts[i]=eval(dur_ts[i])  "
   ]
  },
  {
   "cell_type": "code",
   "execution_count": 445,
   "metadata": {},
   "outputs": [],
   "source": [
    "dur2=pd.DataFrame({\"Duration_mins\":dur_ts})\n",
    "dur2.index=ts.index"
   ]
  },
  {
   "cell_type": "code",
   "execution_count": 446,
   "metadata": {},
   "outputs": [
    {
     "data": {
      "text/html": [
       "<div>\n",
       "<style scoped>\n",
       "    .dataframe tbody tr th:only-of-type {\n",
       "        vertical-align: middle;\n",
       "    }\n",
       "\n",
       "    .dataframe tbody tr th {\n",
       "        vertical-align: top;\n",
       "    }\n",
       "\n",
       "    .dataframe thead th {\n",
       "        text-align: right;\n",
       "    }\n",
       "</style>\n",
       "<table border=\"1\" class=\"dataframe\">\n",
       "  <thead>\n",
       "    <tr style=\"text-align: right;\">\n",
       "      <th></th>\n",
       "      <th>Airline</th>\n",
       "      <th>Source</th>\n",
       "      <th>Destination</th>\n",
       "      <th>Duration</th>\n",
       "      <th>Total_Stops</th>\n",
       "      <th>Journey_date</th>\n",
       "      <th>Journey_month</th>\n",
       "      <th>Duration_mins</th>\n",
       "    </tr>\n",
       "  </thead>\n",
       "  <tbody>\n",
       "    <tr>\n",
       "      <th>0</th>\n",
       "      <td>Jet Airways</td>\n",
       "      <td>Delhi</td>\n",
       "      <td>Cochin</td>\n",
       "      <td>10h 55m</td>\n",
       "      <td>1 stop</td>\n",
       "      <td>6</td>\n",
       "      <td>6</td>\n",
       "      <td>655</td>\n",
       "    </tr>\n",
       "    <tr>\n",
       "      <th>1</th>\n",
       "      <td>IndiGo</td>\n",
       "      <td>Kolkata</td>\n",
       "      <td>Banglore</td>\n",
       "      <td>4h</td>\n",
       "      <td>1 stop</td>\n",
       "      <td>12</td>\n",
       "      <td>5</td>\n",
       "      <td>240</td>\n",
       "    </tr>\n",
       "    <tr>\n",
       "      <th>2</th>\n",
       "      <td>Jet Airways</td>\n",
       "      <td>Delhi</td>\n",
       "      <td>Cochin</td>\n",
       "      <td>23h 45m</td>\n",
       "      <td>1 stop</td>\n",
       "      <td>21</td>\n",
       "      <td>5</td>\n",
       "      <td>1425</td>\n",
       "    </tr>\n",
       "    <tr>\n",
       "      <th>3</th>\n",
       "      <td>Multiple carriers</td>\n",
       "      <td>Delhi</td>\n",
       "      <td>Cochin</td>\n",
       "      <td>13h</td>\n",
       "      <td>1 stop</td>\n",
       "      <td>21</td>\n",
       "      <td>5</td>\n",
       "      <td>780</td>\n",
       "    </tr>\n",
       "    <tr>\n",
       "      <th>4</th>\n",
       "      <td>Air Asia</td>\n",
       "      <td>Banglore</td>\n",
       "      <td>Delhi</td>\n",
       "      <td>2h 50m</td>\n",
       "      <td>non-stop</td>\n",
       "      <td>24</td>\n",
       "      <td>6</td>\n",
       "      <td>170</td>\n",
       "    </tr>\n",
       "    <tr>\n",
       "      <th>...</th>\n",
       "      <td>...</td>\n",
       "      <td>...</td>\n",
       "      <td>...</td>\n",
       "      <td>...</td>\n",
       "      <td>...</td>\n",
       "      <td>...</td>\n",
       "      <td>...</td>\n",
       "      <td>...</td>\n",
       "    </tr>\n",
       "    <tr>\n",
       "      <th>2666</th>\n",
       "      <td>Air India</td>\n",
       "      <td>Kolkata</td>\n",
       "      <td>Banglore</td>\n",
       "      <td>23h 55m</td>\n",
       "      <td>1 stop</td>\n",
       "      <td>6</td>\n",
       "      <td>6</td>\n",
       "      <td>1435</td>\n",
       "    </tr>\n",
       "    <tr>\n",
       "      <th>2667</th>\n",
       "      <td>IndiGo</td>\n",
       "      <td>Kolkata</td>\n",
       "      <td>Banglore</td>\n",
       "      <td>2h 35m</td>\n",
       "      <td>non-stop</td>\n",
       "      <td>27</td>\n",
       "      <td>3</td>\n",
       "      <td>155</td>\n",
       "    </tr>\n",
       "    <tr>\n",
       "      <th>2668</th>\n",
       "      <td>Jet Airways</td>\n",
       "      <td>Delhi</td>\n",
       "      <td>Cochin</td>\n",
       "      <td>6h 35m</td>\n",
       "      <td>1 stop</td>\n",
       "      <td>6</td>\n",
       "      <td>3</td>\n",
       "      <td>395</td>\n",
       "    </tr>\n",
       "    <tr>\n",
       "      <th>2669</th>\n",
       "      <td>Air India</td>\n",
       "      <td>Delhi</td>\n",
       "      <td>Cochin</td>\n",
       "      <td>15h 15m</td>\n",
       "      <td>1 stop</td>\n",
       "      <td>6</td>\n",
       "      <td>3</td>\n",
       "      <td>915</td>\n",
       "    </tr>\n",
       "    <tr>\n",
       "      <th>2670</th>\n",
       "      <td>Multiple carriers</td>\n",
       "      <td>Delhi</td>\n",
       "      <td>Cochin</td>\n",
       "      <td>14h 20m</td>\n",
       "      <td>1 stop</td>\n",
       "      <td>15</td>\n",
       "      <td>6</td>\n",
       "      <td>860</td>\n",
       "    </tr>\n",
       "  </tbody>\n",
       "</table>\n",
       "<p>2671 rows × 8 columns</p>\n",
       "</div>"
      ],
      "text/plain": [
       "                Airline    Source Destination Duration Total_Stops  \\\n",
       "0           Jet Airways     Delhi      Cochin  10h 55m      1 stop   \n",
       "1                IndiGo   Kolkata    Banglore       4h      1 stop   \n",
       "2           Jet Airways     Delhi      Cochin  23h 45m      1 stop   \n",
       "3     Multiple carriers     Delhi      Cochin      13h      1 stop   \n",
       "4              Air Asia  Banglore       Delhi   2h 50m    non-stop   \n",
       "...                 ...       ...         ...      ...         ...   \n",
       "2666          Air India   Kolkata    Banglore  23h 55m      1 stop   \n",
       "2667             IndiGo   Kolkata    Banglore   2h 35m    non-stop   \n",
       "2668        Jet Airways     Delhi      Cochin   6h 35m      1 stop   \n",
       "2669          Air India     Delhi      Cochin  15h 15m      1 stop   \n",
       "2670  Multiple carriers     Delhi      Cochin  14h 20m      1 stop   \n",
       "\n",
       "      Journey_date  Journey_month  Duration_mins  \n",
       "0                6              6            655  \n",
       "1               12              5            240  \n",
       "2               21              5           1425  \n",
       "3               21              5            780  \n",
       "4               24              6            170  \n",
       "...            ...            ...            ...  \n",
       "2666             6              6           1435  \n",
       "2667            27              3            155  \n",
       "2668             6              3            395  \n",
       "2669             6              3            915  \n",
       "2670            15              6            860  \n",
       "\n",
       "[2671 rows x 8 columns]"
      ]
     },
     "execution_count": 446,
     "metadata": {},
     "output_type": "execute_result"
    }
   ],
   "source": [
    "ts['Duration_mins'] = dur2['Duration_mins']\n",
    "ts"
   ]
  },
  {
   "cell_type": "code",
   "execution_count": 447,
   "metadata": {},
   "outputs": [
    {
     "data": {
      "text/html": [
       "<div>\n",
       "<style scoped>\n",
       "    .dataframe tbody tr th:only-of-type {\n",
       "        vertical-align: middle;\n",
       "    }\n",
       "\n",
       "    .dataframe tbody tr th {\n",
       "        vertical-align: top;\n",
       "    }\n",
       "\n",
       "    .dataframe thead th {\n",
       "        text-align: right;\n",
       "    }\n",
       "</style>\n",
       "<table border=\"1\" class=\"dataframe\">\n",
       "  <thead>\n",
       "    <tr style=\"text-align: right;\">\n",
       "      <th></th>\n",
       "      <th>Airline</th>\n",
       "      <th>Source</th>\n",
       "      <th>Destination</th>\n",
       "      <th>Total_Stops</th>\n",
       "      <th>Journey_date</th>\n",
       "      <th>Journey_month</th>\n",
       "      <th>Duration_mins</th>\n",
       "    </tr>\n",
       "  </thead>\n",
       "  <tbody>\n",
       "    <tr>\n",
       "      <th>0</th>\n",
       "      <td>Jet Airways</td>\n",
       "      <td>Delhi</td>\n",
       "      <td>Cochin</td>\n",
       "      <td>1 stop</td>\n",
       "      <td>6</td>\n",
       "      <td>6</td>\n",
       "      <td>655</td>\n",
       "    </tr>\n",
       "    <tr>\n",
       "      <th>1</th>\n",
       "      <td>IndiGo</td>\n",
       "      <td>Kolkata</td>\n",
       "      <td>Banglore</td>\n",
       "      <td>1 stop</td>\n",
       "      <td>12</td>\n",
       "      <td>5</td>\n",
       "      <td>240</td>\n",
       "    </tr>\n",
       "    <tr>\n",
       "      <th>2</th>\n",
       "      <td>Jet Airways</td>\n",
       "      <td>Delhi</td>\n",
       "      <td>Cochin</td>\n",
       "      <td>1 stop</td>\n",
       "      <td>21</td>\n",
       "      <td>5</td>\n",
       "      <td>1425</td>\n",
       "    </tr>\n",
       "    <tr>\n",
       "      <th>3</th>\n",
       "      <td>Multiple carriers</td>\n",
       "      <td>Delhi</td>\n",
       "      <td>Cochin</td>\n",
       "      <td>1 stop</td>\n",
       "      <td>21</td>\n",
       "      <td>5</td>\n",
       "      <td>780</td>\n",
       "    </tr>\n",
       "    <tr>\n",
       "      <th>4</th>\n",
       "      <td>Air Asia</td>\n",
       "      <td>Banglore</td>\n",
       "      <td>Delhi</td>\n",
       "      <td>non-stop</td>\n",
       "      <td>24</td>\n",
       "      <td>6</td>\n",
       "      <td>170</td>\n",
       "    </tr>\n",
       "    <tr>\n",
       "      <th>...</th>\n",
       "      <td>...</td>\n",
       "      <td>...</td>\n",
       "      <td>...</td>\n",
       "      <td>...</td>\n",
       "      <td>...</td>\n",
       "      <td>...</td>\n",
       "      <td>...</td>\n",
       "    </tr>\n",
       "    <tr>\n",
       "      <th>2666</th>\n",
       "      <td>Air India</td>\n",
       "      <td>Kolkata</td>\n",
       "      <td>Banglore</td>\n",
       "      <td>1 stop</td>\n",
       "      <td>6</td>\n",
       "      <td>6</td>\n",
       "      <td>1435</td>\n",
       "    </tr>\n",
       "    <tr>\n",
       "      <th>2667</th>\n",
       "      <td>IndiGo</td>\n",
       "      <td>Kolkata</td>\n",
       "      <td>Banglore</td>\n",
       "      <td>non-stop</td>\n",
       "      <td>27</td>\n",
       "      <td>3</td>\n",
       "      <td>155</td>\n",
       "    </tr>\n",
       "    <tr>\n",
       "      <th>2668</th>\n",
       "      <td>Jet Airways</td>\n",
       "      <td>Delhi</td>\n",
       "      <td>Cochin</td>\n",
       "      <td>1 stop</td>\n",
       "      <td>6</td>\n",
       "      <td>3</td>\n",
       "      <td>395</td>\n",
       "    </tr>\n",
       "    <tr>\n",
       "      <th>2669</th>\n",
       "      <td>Air India</td>\n",
       "      <td>Delhi</td>\n",
       "      <td>Cochin</td>\n",
       "      <td>1 stop</td>\n",
       "      <td>6</td>\n",
       "      <td>3</td>\n",
       "      <td>915</td>\n",
       "    </tr>\n",
       "    <tr>\n",
       "      <th>2670</th>\n",
       "      <td>Multiple carriers</td>\n",
       "      <td>Delhi</td>\n",
       "      <td>Cochin</td>\n",
       "      <td>1 stop</td>\n",
       "      <td>15</td>\n",
       "      <td>6</td>\n",
       "      <td>860</td>\n",
       "    </tr>\n",
       "  </tbody>\n",
       "</table>\n",
       "<p>2671 rows × 7 columns</p>\n",
       "</div>"
      ],
      "text/plain": [
       "                Airline    Source Destination Total_Stops  Journey_date  \\\n",
       "0           Jet Airways     Delhi      Cochin      1 stop             6   \n",
       "1                IndiGo   Kolkata    Banglore      1 stop            12   \n",
       "2           Jet Airways     Delhi      Cochin      1 stop            21   \n",
       "3     Multiple carriers     Delhi      Cochin      1 stop            21   \n",
       "4              Air Asia  Banglore       Delhi    non-stop            24   \n",
       "...                 ...       ...         ...         ...           ...   \n",
       "2666          Air India   Kolkata    Banglore      1 stop             6   \n",
       "2667             IndiGo   Kolkata    Banglore    non-stop            27   \n",
       "2668        Jet Airways     Delhi      Cochin      1 stop             6   \n",
       "2669          Air India     Delhi      Cochin      1 stop             6   \n",
       "2670  Multiple carriers     Delhi      Cochin      1 stop            15   \n",
       "\n",
       "      Journey_month  Duration_mins  \n",
       "0                 6            655  \n",
       "1                 5            240  \n",
       "2                 5           1425  \n",
       "3                 5            780  \n",
       "4                 6            170  \n",
       "...             ...            ...  \n",
       "2666              6           1435  \n",
       "2667              3            155  \n",
       "2668              3            395  \n",
       "2669              3            915  \n",
       "2670              6            860  \n",
       "\n",
       "[2671 rows x 7 columns]"
      ]
     },
     "execution_count": 447,
     "metadata": {},
     "output_type": "execute_result"
    }
   ],
   "source": [
    "ts.drop(columns=['Duration'],inplace=True)\n",
    "ts"
   ]
  },
  {
   "cell_type": "code",
   "execution_count": 448,
   "metadata": {},
   "outputs": [
    {
     "data": {
      "text/html": [
       "<div>\n",
       "<style scoped>\n",
       "    .dataframe tbody tr th:only-of-type {\n",
       "        vertical-align: middle;\n",
       "    }\n",
       "\n",
       "    .dataframe tbody tr th {\n",
       "        vertical-align: top;\n",
       "    }\n",
       "\n",
       "    .dataframe thead th {\n",
       "        text-align: right;\n",
       "    }\n",
       "</style>\n",
       "<table border=\"1\" class=\"dataframe\">\n",
       "  <thead>\n",
       "    <tr style=\"text-align: right;\">\n",
       "      <th></th>\n",
       "      <th>Airline</th>\n",
       "      <th>Source</th>\n",
       "      <th>Destination</th>\n",
       "      <th>Total_Stops</th>\n",
       "      <th>Price</th>\n",
       "      <th>Journey_date</th>\n",
       "      <th>Journey_month</th>\n",
       "      <th>Duration_mins</th>\n",
       "    </tr>\n",
       "  </thead>\n",
       "  <tbody>\n",
       "    <tr>\n",
       "      <th>0</th>\n",
       "      <td>3</td>\n",
       "      <td>0</td>\n",
       "      <td>5</td>\n",
       "      <td>4</td>\n",
       "      <td>3897</td>\n",
       "      <td>24</td>\n",
       "      <td>3</td>\n",
       "      <td>170</td>\n",
       "    </tr>\n",
       "    <tr>\n",
       "      <th>1</th>\n",
       "      <td>1</td>\n",
       "      <td>3</td>\n",
       "      <td>0</td>\n",
       "      <td>1</td>\n",
       "      <td>7662</td>\n",
       "      <td>1</td>\n",
       "      <td>5</td>\n",
       "      <td>445</td>\n",
       "    </tr>\n",
       "    <tr>\n",
       "      <th>2</th>\n",
       "      <td>4</td>\n",
       "      <td>2</td>\n",
       "      <td>1</td>\n",
       "      <td>1</td>\n",
       "      <td>13882</td>\n",
       "      <td>9</td>\n",
       "      <td>6</td>\n",
       "      <td>1140</td>\n",
       "    </tr>\n",
       "    <tr>\n",
       "      <th>3</th>\n",
       "      <td>3</td>\n",
       "      <td>3</td>\n",
       "      <td>0</td>\n",
       "      <td>0</td>\n",
       "      <td>6218</td>\n",
       "      <td>12</td>\n",
       "      <td>5</td>\n",
       "      <td>325</td>\n",
       "    </tr>\n",
       "    <tr>\n",
       "      <th>4</th>\n",
       "      <td>3</td>\n",
       "      <td>0</td>\n",
       "      <td>5</td>\n",
       "      <td>0</td>\n",
       "      <td>13302</td>\n",
       "      <td>1</td>\n",
       "      <td>3</td>\n",
       "      <td>285</td>\n",
       "    </tr>\n",
       "    <tr>\n",
       "      <th>...</th>\n",
       "      <td>...</td>\n",
       "      <td>...</td>\n",
       "      <td>...</td>\n",
       "      <td>...</td>\n",
       "      <td>...</td>\n",
       "      <td>...</td>\n",
       "      <td>...</td>\n",
       "      <td>...</td>\n",
       "    </tr>\n",
       "    <tr>\n",
       "      <th>10678</th>\n",
       "      <td>0</td>\n",
       "      <td>3</td>\n",
       "      <td>0</td>\n",
       "      <td>4</td>\n",
       "      <td>4107</td>\n",
       "      <td>9</td>\n",
       "      <td>4</td>\n",
       "      <td>150</td>\n",
       "    </tr>\n",
       "    <tr>\n",
       "      <th>10679</th>\n",
       "      <td>1</td>\n",
       "      <td>3</td>\n",
       "      <td>0</td>\n",
       "      <td>4</td>\n",
       "      <td>4145</td>\n",
       "      <td>27</td>\n",
       "      <td>4</td>\n",
       "      <td>155</td>\n",
       "    </tr>\n",
       "    <tr>\n",
       "      <th>10680</th>\n",
       "      <td>4</td>\n",
       "      <td>0</td>\n",
       "      <td>2</td>\n",
       "      <td>4</td>\n",
       "      <td>7229</td>\n",
       "      <td>27</td>\n",
       "      <td>4</td>\n",
       "      <td>180</td>\n",
       "    </tr>\n",
       "    <tr>\n",
       "      <th>10681</th>\n",
       "      <td>10</td>\n",
       "      <td>0</td>\n",
       "      <td>5</td>\n",
       "      <td>4</td>\n",
       "      <td>12648</td>\n",
       "      <td>1</td>\n",
       "      <td>3</td>\n",
       "      <td>160</td>\n",
       "    </tr>\n",
       "    <tr>\n",
       "      <th>10682</th>\n",
       "      <td>1</td>\n",
       "      <td>2</td>\n",
       "      <td>1</td>\n",
       "      <td>1</td>\n",
       "      <td>11753</td>\n",
       "      <td>9</td>\n",
       "      <td>5</td>\n",
       "      <td>500</td>\n",
       "    </tr>\n",
       "  </tbody>\n",
       "</table>\n",
       "<p>10683 rows × 8 columns</p>\n",
       "</div>"
      ],
      "text/plain": [
       "       Airline  Source  Destination  Total_Stops  Price  Journey_date  \\\n",
       "0            3       0            5            4   3897            24   \n",
       "1            1       3            0            1   7662             1   \n",
       "2            4       2            1            1  13882             9   \n",
       "3            3       3            0            0   6218            12   \n",
       "4            3       0            5            0  13302             1   \n",
       "...        ...     ...          ...          ...    ...           ...   \n",
       "10678        0       3            0            4   4107             9   \n",
       "10679        1       3            0            4   4145            27   \n",
       "10680        4       0            2            4   7229            27   \n",
       "10681       10       0            5            4  12648             1   \n",
       "10682        1       2            1            1  11753             9   \n",
       "\n",
       "       Journey_month  Duration_mins  \n",
       "0                  3            170  \n",
       "1                  5            445  \n",
       "2                  6           1140  \n",
       "3                  5            325  \n",
       "4                  3            285  \n",
       "...              ...            ...  \n",
       "10678              4            150  \n",
       "10679              4            155  \n",
       "10680              4            180  \n",
       "10681              3            160  \n",
       "10682              5            500  \n",
       "\n",
       "[10683 rows x 8 columns]"
      ]
     },
     "execution_count": 448,
     "metadata": {},
     "output_type": "execute_result"
    }
   ],
   "source": [
    "df"
   ]
  },
  {
   "cell_type": "code",
   "execution_count": 449,
   "metadata": {},
   "outputs": [],
   "source": [
    "le = LabelEncoder()\n",
    "ts['Airline'] = le.fit_transform(ts['Airline'])\n",
    "ts['Source'] = le.fit_transform(ts['Source'])\n",
    "ts['Destination'] = le.fit_transform(ts['Destination'])\n",
    "ts['Total_Stops'] = le.fit_transform(ts['Total_Stops'])"
   ]
  },
  {
   "cell_type": "code",
   "execution_count": 450,
   "metadata": {},
   "outputs": [
    {
     "data": {
      "text/html": [
       "<div>\n",
       "<style scoped>\n",
       "    .dataframe tbody tr th:only-of-type {\n",
       "        vertical-align: middle;\n",
       "    }\n",
       "\n",
       "    .dataframe tbody tr th {\n",
       "        vertical-align: top;\n",
       "    }\n",
       "\n",
       "    .dataframe thead th {\n",
       "        text-align: right;\n",
       "    }\n",
       "</style>\n",
       "<table border=\"1\" class=\"dataframe\">\n",
       "  <thead>\n",
       "    <tr style=\"text-align: right;\">\n",
       "      <th></th>\n",
       "      <th>Airline</th>\n",
       "      <th>Source</th>\n",
       "      <th>Destination</th>\n",
       "      <th>Total_Stops</th>\n",
       "      <th>Journey_date</th>\n",
       "      <th>Journey_month</th>\n",
       "      <th>Duration_mins</th>\n",
       "    </tr>\n",
       "  </thead>\n",
       "  <tbody>\n",
       "    <tr>\n",
       "      <th>0</th>\n",
       "      <td>4</td>\n",
       "      <td>2</td>\n",
       "      <td>1</td>\n",
       "      <td>0</td>\n",
       "      <td>6</td>\n",
       "      <td>6</td>\n",
       "      <td>655</td>\n",
       "    </tr>\n",
       "    <tr>\n",
       "      <th>1</th>\n",
       "      <td>3</td>\n",
       "      <td>3</td>\n",
       "      <td>0</td>\n",
       "      <td>0</td>\n",
       "      <td>12</td>\n",
       "      <td>5</td>\n",
       "      <td>240</td>\n",
       "    </tr>\n",
       "    <tr>\n",
       "      <th>2</th>\n",
       "      <td>4</td>\n",
       "      <td>2</td>\n",
       "      <td>1</td>\n",
       "      <td>0</td>\n",
       "      <td>21</td>\n",
       "      <td>5</td>\n",
       "      <td>1425</td>\n",
       "    </tr>\n",
       "    <tr>\n",
       "      <th>3</th>\n",
       "      <td>6</td>\n",
       "      <td>2</td>\n",
       "      <td>1</td>\n",
       "      <td>0</td>\n",
       "      <td>21</td>\n",
       "      <td>5</td>\n",
       "      <td>780</td>\n",
       "    </tr>\n",
       "    <tr>\n",
       "      <th>4</th>\n",
       "      <td>0</td>\n",
       "      <td>0</td>\n",
       "      <td>2</td>\n",
       "      <td>4</td>\n",
       "      <td>24</td>\n",
       "      <td>6</td>\n",
       "      <td>170</td>\n",
       "    </tr>\n",
       "    <tr>\n",
       "      <th>...</th>\n",
       "      <td>...</td>\n",
       "      <td>...</td>\n",
       "      <td>...</td>\n",
       "      <td>...</td>\n",
       "      <td>...</td>\n",
       "      <td>...</td>\n",
       "      <td>...</td>\n",
       "    </tr>\n",
       "    <tr>\n",
       "      <th>2666</th>\n",
       "      <td>1</td>\n",
       "      <td>3</td>\n",
       "      <td>0</td>\n",
       "      <td>0</td>\n",
       "      <td>6</td>\n",
       "      <td>6</td>\n",
       "      <td>1435</td>\n",
       "    </tr>\n",
       "    <tr>\n",
       "      <th>2667</th>\n",
       "      <td>3</td>\n",
       "      <td>3</td>\n",
       "      <td>0</td>\n",
       "      <td>4</td>\n",
       "      <td>27</td>\n",
       "      <td>3</td>\n",
       "      <td>155</td>\n",
       "    </tr>\n",
       "    <tr>\n",
       "      <th>2668</th>\n",
       "      <td>4</td>\n",
       "      <td>2</td>\n",
       "      <td>1</td>\n",
       "      <td>0</td>\n",
       "      <td>6</td>\n",
       "      <td>3</td>\n",
       "      <td>395</td>\n",
       "    </tr>\n",
       "    <tr>\n",
       "      <th>2669</th>\n",
       "      <td>1</td>\n",
       "      <td>2</td>\n",
       "      <td>1</td>\n",
       "      <td>0</td>\n",
       "      <td>6</td>\n",
       "      <td>3</td>\n",
       "      <td>915</td>\n",
       "    </tr>\n",
       "    <tr>\n",
       "      <th>2670</th>\n",
       "      <td>6</td>\n",
       "      <td>2</td>\n",
       "      <td>1</td>\n",
       "      <td>0</td>\n",
       "      <td>15</td>\n",
       "      <td>6</td>\n",
       "      <td>860</td>\n",
       "    </tr>\n",
       "  </tbody>\n",
       "</table>\n",
       "<p>2671 rows × 7 columns</p>\n",
       "</div>"
      ],
      "text/plain": [
       "      Airline  Source  Destination  Total_Stops  Journey_date  Journey_month  \\\n",
       "0           4       2            1            0             6              6   \n",
       "1           3       3            0            0            12              5   \n",
       "2           4       2            1            0            21              5   \n",
       "3           6       2            1            0            21              5   \n",
       "4           0       0            2            4            24              6   \n",
       "...       ...     ...          ...          ...           ...            ...   \n",
       "2666        1       3            0            0             6              6   \n",
       "2667        3       3            0            4            27              3   \n",
       "2668        4       2            1            0             6              3   \n",
       "2669        1       2            1            0             6              3   \n",
       "2670        6       2            1            0            15              6   \n",
       "\n",
       "      Duration_mins  \n",
       "0               655  \n",
       "1               240  \n",
       "2              1425  \n",
       "3               780  \n",
       "4               170  \n",
       "...             ...  \n",
       "2666           1435  \n",
       "2667            155  \n",
       "2668            395  \n",
       "2669            915  \n",
       "2670            860  \n",
       "\n",
       "[2671 rows x 7 columns]"
      ]
     },
     "execution_count": 450,
     "metadata": {},
     "output_type": "execute_result"
    }
   ],
   "source": [
    "ts"
   ]
  },
  {
   "cell_type": "code",
   "execution_count": 451,
   "metadata": {},
   "outputs": [
    {
     "data": {
      "text/plain": [
       "(2671, 7)"
      ]
     },
     "execution_count": 451,
     "metadata": {},
     "output_type": "execute_result"
    }
   ],
   "source": [
    "z=np.abs(zscore(ts[['Duration_mins']]))\n",
    "ts_zscore_rg=ts[(z<3).all(axis=1)]\n",
    "\n",
    "ts_rg=ts.copy()\n",
    "\n",
    "ts1_rg=ts_rg[['Duration_mins']]\n",
    "ts1_rg_skew = power_transform(ts1_rg)\n",
    "ts1_rg_skew = pd.DataFrame(ts1_rg_skew, columns=ts1_rg.columns)\n",
    "ts1_rg_skew.skew()\n",
    "\n",
    "drop_index1 = ts_rg.index.difference(ts1_rg_skew.index)\n",
    "ts_rg.drop(drop_index,inplace = True)\n",
    "ts_rg.reset_index(drop=True,inplace = True)\n",
    "ts_rg.shape"
   ]
  },
  {
   "cell_type": "code",
   "execution_count": 452,
   "metadata": {},
   "outputs": [],
   "source": [
    "x_best_ts = ts_rg"
   ]
  },
  {
   "cell_type": "code",
   "execution_count": 453,
   "metadata": {},
   "outputs": [],
   "source": [
    "scaled_x_best_ts = sc.fit_transform(x_best_ts)"
   ]
  },
  {
   "cell_type": "code",
   "execution_count": 454,
   "metadata": {},
   "outputs": [
    {
     "data": {
      "text/plain": [
       "(2671, 7)"
      ]
     },
     "execution_count": 454,
     "metadata": {},
     "output_type": "execute_result"
    }
   ],
   "source": [
    "x_best_ts.shape"
   ]
  },
  {
   "cell_type": "code",
   "execution_count": 455,
   "metadata": {},
   "outputs": [
    {
     "data": {
      "text/plain": [
       "(2442,)"
      ]
     },
     "execution_count": 455,
     "metadata": {},
     "output_type": "execute_result"
    }
   ],
   "source": [
    "y_test.shape"
   ]
  },
  {
   "cell_type": "code",
   "execution_count": 456,
   "metadata": {},
   "outputs": [
    {
     "data": {
      "text/html": [
       "<div>\n",
       "<style scoped>\n",
       "    .dataframe tbody tr th:only-of-type {\n",
       "        vertical-align: middle;\n",
       "    }\n",
       "\n",
       "    .dataframe tbody tr th {\n",
       "        vertical-align: top;\n",
       "    }\n",
       "\n",
       "    .dataframe thead th {\n",
       "        text-align: right;\n",
       "    }\n",
       "</style>\n",
       "<table border=\"1\" class=\"dataframe\">\n",
       "  <thead>\n",
       "    <tr style=\"text-align: right;\">\n",
       "      <th></th>\n",
       "      <th>Airline</th>\n",
       "      <th>Source</th>\n",
       "      <th>Destination</th>\n",
       "      <th>Total_Stops</th>\n",
       "      <th>Price</th>\n",
       "      <th>Journey_date</th>\n",
       "      <th>Journey_month</th>\n",
       "      <th>Duration_mins</th>\n",
       "    </tr>\n",
       "  </thead>\n",
       "  <tbody>\n",
       "    <tr>\n",
       "      <th>0</th>\n",
       "      <td>3</td>\n",
       "      <td>0</td>\n",
       "      <td>5</td>\n",
       "      <td>4</td>\n",
       "      <td>3897</td>\n",
       "      <td>24</td>\n",
       "      <td>3</td>\n",
       "      <td>170</td>\n",
       "    </tr>\n",
       "    <tr>\n",
       "      <th>1</th>\n",
       "      <td>1</td>\n",
       "      <td>3</td>\n",
       "      <td>0</td>\n",
       "      <td>1</td>\n",
       "      <td>7662</td>\n",
       "      <td>1</td>\n",
       "      <td>5</td>\n",
       "      <td>445</td>\n",
       "    </tr>\n",
       "    <tr>\n",
       "      <th>2</th>\n",
       "      <td>4</td>\n",
       "      <td>2</td>\n",
       "      <td>1</td>\n",
       "      <td>1</td>\n",
       "      <td>13882</td>\n",
       "      <td>9</td>\n",
       "      <td>6</td>\n",
       "      <td>1140</td>\n",
       "    </tr>\n",
       "    <tr>\n",
       "      <th>3</th>\n",
       "      <td>3</td>\n",
       "      <td>3</td>\n",
       "      <td>0</td>\n",
       "      <td>0</td>\n",
       "      <td>6218</td>\n",
       "      <td>12</td>\n",
       "      <td>5</td>\n",
       "      <td>325</td>\n",
       "    </tr>\n",
       "    <tr>\n",
       "      <th>4</th>\n",
       "      <td>3</td>\n",
       "      <td>0</td>\n",
       "      <td>5</td>\n",
       "      <td>0</td>\n",
       "      <td>13302</td>\n",
       "      <td>1</td>\n",
       "      <td>3</td>\n",
       "      <td>285</td>\n",
       "    </tr>\n",
       "    <tr>\n",
       "      <th>...</th>\n",
       "      <td>...</td>\n",
       "      <td>...</td>\n",
       "      <td>...</td>\n",
       "      <td>...</td>\n",
       "      <td>...</td>\n",
       "      <td>...</td>\n",
       "      <td>...</td>\n",
       "      <td>...</td>\n",
       "    </tr>\n",
       "    <tr>\n",
       "      <th>10612</th>\n",
       "      <td>0</td>\n",
       "      <td>3</td>\n",
       "      <td>0</td>\n",
       "      <td>4</td>\n",
       "      <td>4107</td>\n",
       "      <td>9</td>\n",
       "      <td>4</td>\n",
       "      <td>150</td>\n",
       "    </tr>\n",
       "    <tr>\n",
       "      <th>10613</th>\n",
       "      <td>1</td>\n",
       "      <td>3</td>\n",
       "      <td>0</td>\n",
       "      <td>4</td>\n",
       "      <td>4145</td>\n",
       "      <td>27</td>\n",
       "      <td>4</td>\n",
       "      <td>155</td>\n",
       "    </tr>\n",
       "    <tr>\n",
       "      <th>10614</th>\n",
       "      <td>4</td>\n",
       "      <td>0</td>\n",
       "      <td>2</td>\n",
       "      <td>4</td>\n",
       "      <td>7229</td>\n",
       "      <td>27</td>\n",
       "      <td>4</td>\n",
       "      <td>180</td>\n",
       "    </tr>\n",
       "    <tr>\n",
       "      <th>10615</th>\n",
       "      <td>10</td>\n",
       "      <td>0</td>\n",
       "      <td>5</td>\n",
       "      <td>4</td>\n",
       "      <td>12648</td>\n",
       "      <td>1</td>\n",
       "      <td>3</td>\n",
       "      <td>160</td>\n",
       "    </tr>\n",
       "    <tr>\n",
       "      <th>10616</th>\n",
       "      <td>1</td>\n",
       "      <td>2</td>\n",
       "      <td>1</td>\n",
       "      <td>1</td>\n",
       "      <td>11753</td>\n",
       "      <td>9</td>\n",
       "      <td>5</td>\n",
       "      <td>500</td>\n",
       "    </tr>\n",
       "  </tbody>\n",
       "</table>\n",
       "<p>10617 rows × 8 columns</p>\n",
       "</div>"
      ],
      "text/plain": [
       "       Airline  Source  Destination  Total_Stops  Price  Journey_date  \\\n",
       "0            3       0            5            4   3897            24   \n",
       "1            1       3            0            1   7662             1   \n",
       "2            4       2            1            1  13882             9   \n",
       "3            3       3            0            0   6218            12   \n",
       "4            3       0            5            0  13302             1   \n",
       "...        ...     ...          ...          ...    ...           ...   \n",
       "10612        0       3            0            4   4107             9   \n",
       "10613        1       3            0            4   4145            27   \n",
       "10614        4       0            2            4   7229            27   \n",
       "10615       10       0            5            4  12648             1   \n",
       "10616        1       2            1            1  11753             9   \n",
       "\n",
       "       Journey_month  Duration_mins  \n",
       "0                  3            170  \n",
       "1                  5            445  \n",
       "2                  6           1140  \n",
       "3                  5            325  \n",
       "4                  3            285  \n",
       "...              ...            ...  \n",
       "10612              4            150  \n",
       "10613              4            155  \n",
       "10614              4            180  \n",
       "10615              3            160  \n",
       "10616              5            500  \n",
       "\n",
       "[10617 rows x 8 columns]"
      ]
     },
     "execution_count": 456,
     "metadata": {},
     "output_type": "execute_result"
    }
   ],
   "source": [
    "df_rg"
   ]
  },
  {
   "cell_type": "code",
   "execution_count": 457,
   "metadata": {},
   "outputs": [],
   "source": [
    "y_test=df_rg['Price']"
   ]
  },
  {
   "cell_type": "code",
   "execution_count": 458,
   "metadata": {},
   "outputs": [
    {
     "data": {
      "text/plain": [
       "(10617,)"
      ]
     },
     "execution_count": 458,
     "metadata": {},
     "output_type": "execute_result"
    }
   ],
   "source": [
    "y_test.shape"
   ]
  },
  {
   "cell_type": "markdown",
   "metadata": {},
   "source": [
    "### Loading the Best Model"
   ]
  },
  {
   "cell_type": "code",
   "execution_count": 459,
   "metadata": {},
   "outputs": [],
   "source": [
    "model=joblib.load(\"Flight_Price_Prediction_Project.pkl\")"
   ]
  },
  {
   "cell_type": "markdown",
   "metadata": {},
   "source": [
    "### Comparing Actual Value and Predicted Value "
   ]
  },
  {
   "cell_type": "code",
   "execution_count": 460,
   "metadata": {},
   "outputs": [
    {
     "data": {
      "text/html": [
       "<div>\n",
       "<style scoped>\n",
       "    .dataframe tbody tr th:only-of-type {\n",
       "        vertical-align: middle;\n",
       "    }\n",
       "\n",
       "    .dataframe tbody tr th {\n",
       "        vertical-align: top;\n",
       "    }\n",
       "\n",
       "    .dataframe thead th {\n",
       "        text-align: right;\n",
       "    }\n",
       "</style>\n",
       "<table border=\"1\" class=\"dataframe\">\n",
       "  <thead>\n",
       "    <tr style=\"text-align: right;\">\n",
       "      <th></th>\n",
       "      <th>Actual Value</th>\n",
       "      <th>Predicted Value</th>\n",
       "    </tr>\n",
       "  </thead>\n",
       "  <tbody>\n",
       "    <tr>\n",
       "      <th>0</th>\n",
       "      <td>3897</td>\n",
       "      <td>8777.610000</td>\n",
       "    </tr>\n",
       "    <tr>\n",
       "      <th>1</th>\n",
       "      <td>7662</td>\n",
       "      <td>13792.246810</td>\n",
       "    </tr>\n",
       "    <tr>\n",
       "      <th>2</th>\n",
       "      <td>13882</td>\n",
       "      <td>8777.610000</td>\n",
       "    </tr>\n",
       "    <tr>\n",
       "      <th>3</th>\n",
       "      <td>6218</td>\n",
       "      <td>8777.610000</td>\n",
       "    </tr>\n",
       "    <tr>\n",
       "      <th>4</th>\n",
       "      <td>13302</td>\n",
       "      <td>9059.163933</td>\n",
       "    </tr>\n",
       "    <tr>\n",
       "      <th>...</th>\n",
       "      <td>...</td>\n",
       "      <td>...</td>\n",
       "    </tr>\n",
       "    <tr>\n",
       "      <th>2666</th>\n",
       "      <td>4148</td>\n",
       "      <td>14204.478810</td>\n",
       "    </tr>\n",
       "    <tr>\n",
       "      <th>2667</th>\n",
       "      <td>3597</td>\n",
       "      <td>14225.403810</td>\n",
       "    </tr>\n",
       "    <tr>\n",
       "      <th>2668</th>\n",
       "      <td>5192</td>\n",
       "      <td>8777.610000</td>\n",
       "    </tr>\n",
       "    <tr>\n",
       "      <th>2669</th>\n",
       "      <td>16736</td>\n",
       "      <td>9663.514000</td>\n",
       "    </tr>\n",
       "    <tr>\n",
       "      <th>2670</th>\n",
       "      <td>7933</td>\n",
       "      <td>8777.610000</td>\n",
       "    </tr>\n",
       "  </tbody>\n",
       "</table>\n",
       "<p>2671 rows × 2 columns</p>\n",
       "</div>"
      ],
      "text/plain": [
       "      Actual Value  Predicted Value\n",
       "0             3897      8777.610000\n",
       "1             7662     13792.246810\n",
       "2            13882      8777.610000\n",
       "3             6218      8777.610000\n",
       "4            13302      9059.163933\n",
       "...            ...              ...\n",
       "2666          4148     14204.478810\n",
       "2667          3597     14225.403810\n",
       "2668          5192      8777.610000\n",
       "2669         16736      9663.514000\n",
       "2670          7933      8777.610000\n",
       "\n",
       "[2671 rows x 2 columns]"
      ]
     },
     "execution_count": 460,
     "metadata": {},
     "output_type": "execute_result"
    }
   ],
   "source": [
    "actual_data = np.array(y_test[0:2671])\n",
    "predicted_data = np.array(Best_model.predict(x_best_ts))\n",
    "df_comparision = pd.DataFrame({\"Actual Value\":actual_data, \"Predicted Value\":predicted_data}, index=range(len(actual_data)))\n",
    "df_comparision"
   ]
  },
  {
   "cell_type": "code",
   "execution_count": null,
   "metadata": {},
   "outputs": [],
   "source": []
  }
 ],
 "metadata": {
  "kernelspec": {
   "display_name": "Python 3",
   "language": "python",
   "name": "python3"
  },
  "language_info": {
   "codemirror_mode": {
    "name": "ipython",
    "version": 3
   },
   "file_extension": ".py",
   "mimetype": "text/x-python",
   "name": "python",
   "nbconvert_exporter": "python",
   "pygments_lexer": "ipython3",
   "version": "3.8.5"
  }
 },
 "nbformat": 4,
 "nbformat_minor": 4
}
