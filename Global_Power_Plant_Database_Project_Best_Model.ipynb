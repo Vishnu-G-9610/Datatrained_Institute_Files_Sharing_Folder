{
 "cells": [
  {
   "cell_type": "markdown",
   "metadata": {},
   "source": [
    "# Global Power Plant Database"
   ]
  },
  {
   "cell_type": "markdown",
   "metadata": {},
   "source": [
    "### Problem Statement:\n",
    "\n",
    "Description\n",
    "\n",
    "The Global Power Plant Database is a comprehensive, open source database of power plants around the world. It centralizes power plant data to make it easier to navigate, compare and draw insights for one’s own analysis. The database covers approximately 35,000 power plants from 167 countries and includes thermal plants (e.g. coal, gas, oil, nuclear, biomass, waste, geothermal) and renewables (e.g. hydro, wind, solar). Each power plant is geolocated and entries contain information on plant capacity, generation, ownership, and fuel type. It will be continuously updated as data becomes available.\n",
    "Key attributes of the database\n",
    "\n",
    "The database includes the following indicators:\n",
    "\n",
    "    `country` (text): 3 character country code corresponding to the ISO 3166-1 alpha-3 specification [5]\n",
    "    `country_long` (text): longer form of the country designation\n",
    "    `name` (text): name or title of the power plant, generally in Romanized form\n",
    "    `gppd_idnr` (text): 10 or 12 character identifier for the power plant\n",
    "    `capacity_mw` (number): electrical generating capacity in megawatts\n",
    "    `latitude` (number): geolocation in decimal degrees; WGS84 (EPSG:4326)\n",
    "    `longitude` (number): geolocation in decimal degrees; WGS84 (EPSG:4326)\n",
    "    `primary_fuel` (text): energy source used in primary electricity generation or export\n",
    "    `other_fuel1` (text): energy source used in electricity generation or export\n",
    "    `other_fuel2` (text): energy source used in electricity generation or export\n",
    "    `other_fuel3` (text): energy source used in electricity generation or export\n",
    "     `commissioning_year` (number): year of plant operation, weighted by unit-capacity when data is available\n",
    "    `owner` (text): majority shareholder of the power plant, generally in Romanized form\n",
    "    `source` (text): entity reporting the data; could be an organization, report, or document, generally in Romanized form\n",
    "    `url` (text): web document corresponding to the `source` field\n",
    "    `geolocation_source` (text): attribution for geolocation information\n",
    "    `wepp_id` (text): a reference to a unique plant identifier in the widely-used PLATTS-WEPP database.\n",
    "    `year_of_capacity_data` (number): year the capacity information was reported\n",
    "    `generation_gwh_2013` (number): electricity generation in gigawatt-hours reported for the year 2013\n",
    "    `generation_gwh_2014` (number): electricity generation in gigawatt-hours reported for the year 2014\n",
    "    `generation_gwh_2015` (number): electricity generation in gigawatt-hours reported for the year 2015\n",
    "    `generation_gwh_2016` (number): electricity generation in gigawatt-hours reported for the year 2016\n",
    "    `generation_gwh_2017` (number): electricity generation in gigawatt-hours reported for the year 2017\n",
    "    `generation_gwh_2018` (number): electricity generation in gigawatt-hours reported for the year 2018\n",
    "    `generation_gwh_2019` (number): electricity generation in gigawatt-hours reported for the year 2019\n",
    "    `generation_data_source` (text): attribution for the reported generation information\n",
    "    `estimated_generation_gwh_2013` (number): estimated electricity generation in gigawatt-hours for the year 2013\n",
    "    `estimated_generation_gwh_2014` (number): estimated electricity generation in gigawatt-hours for the year 2014 \n",
    "    `estimated_generation_gwh_2015` (number): estimated electricity generation in gigawatt-hours for the year 2015 \n",
    "    `estimated_generation_gwh_2016` (number): estimated electricity generation in gigawatt-hours for the year 2016 \n",
    "    `estimated_generation_gwh_2017` (number): estimated electricity generation in gigawatt-hours for the year 2017 \n",
    "    'estimated_generation_note_2013` (text): label of the model/method used to estimate generation for the year 2013\n",
    "    `estimated_generation_note_2014` (text): label of the model/method used to estimate generation for the year 2014 \n",
    "    `estimated_generation_note_2015` (text): label of the model/method used to estimate generation for the year 2015\n",
    "    `estimated_generation_note_2016` (text): label of the model/method used to estimate generation for the year 2016\n",
    "    `estimated_generation_note_2017` (text): label of the model/method used to estimate generation for the year 2017 \n",
    "\n",
    "Fuel Type Aggregation\n",
    "\n",
    "We define the \"Fuel Type\" attribute of our database based on common fuel categories. \n",
    "\n",
    "Prediction :   Make two prediction  1) Primary Fuel    2) capacity_mw"
   ]
  },
  {
   "cell_type": "code",
   "execution_count": 224,
   "metadata": {},
   "outputs": [],
   "source": [
    "# Importing all the required libraries\n",
    "\n",
    "\n",
    "import numpy as np\n",
    "import pandas as pd\n",
    "import matplotlib.pyplot as plt\n",
    "import seaborn as sns\n",
    "import sklearn\n",
    "%matplotlib inline\n",
    "import scipy.stats as stats\n",
    "from sklearn.decomposition import PCA\n",
    "from sklearn.feature_selection import SelectKBest, f_classif\n",
    "from sklearn.preprocessing import StandardScaler\n",
    "from statsmodels.stats.outliers_influence import variance_inflation_factor\n",
    "from sklearn.preprocessing import PowerTransformer\n",
    "from sklearn.preprocessing import LabelEncoder\n",
    "from scipy.stats import zscore\n",
    "from sklearn.model_selection import GridSearchCV\n",
    "from sklearn.model_selection import cross_val_score as cvs\n",
    "from sklearn.linear_model import Ridge, Lasso\n",
    "from sklearn.ensemble import RandomForestRegressor,AdaBoostRegressor\n",
    "from sklearn.preprocessing import power_transform\n",
    "from sklearn.svm import SVR\n",
    "from sklearn.model_selection import train_test_split\n",
    "from sklearn.metrics import accuracy_score, r2_score, mean_squared_error\n",
    "from sklearn.metrics import confusion_matrix, classification_report, roc_curve, roc_auc_score, plot_roc_curve\n",
    "from sklearn.linear_model import LogisticRegression\n",
    "from sklearn.ensemble import RandomForestClassifier, AdaBoostClassifier\n",
    "from sklearn.tree import DecisionTreeClassifier\n",
    "from sklearn.svm import SVC\n",
    "from sklearn.neighbors import KNeighborsClassifier\n",
    "import joblib\n",
    "import warnings\n",
    "warnings.filterwarnings('ignore')"
   ]
  },
  {
   "cell_type": "code",
   "execution_count": 117,
   "metadata": {},
   "outputs": [
    {
     "data": {
      "text/html": [
       "<div>\n",
       "<style scoped>\n",
       "    .dataframe tbody tr th:only-of-type {\n",
       "        vertical-align: middle;\n",
       "    }\n",
       "\n",
       "    .dataframe tbody tr th {\n",
       "        vertical-align: top;\n",
       "    }\n",
       "\n",
       "    .dataframe thead th {\n",
       "        text-align: right;\n",
       "    }\n",
       "</style>\n",
       "<table border=\"1\" class=\"dataframe\">\n",
       "  <thead>\n",
       "    <tr style=\"text-align: right;\">\n",
       "      <th></th>\n",
       "      <th>country</th>\n",
       "      <th>country_long</th>\n",
       "      <th>name</th>\n",
       "      <th>gppd_idnr</th>\n",
       "      <th>capacity_mw</th>\n",
       "      <th>latitude</th>\n",
       "      <th>longitude</th>\n",
       "      <th>primary_fuel</th>\n",
       "      <th>other_fuel1</th>\n",
       "      <th>other_fuel2</th>\n",
       "      <th>...</th>\n",
       "      <th>geolocation_source</th>\n",
       "      <th>wepp_id</th>\n",
       "      <th>year_of_capacity_data</th>\n",
       "      <th>generation_gwh_2013</th>\n",
       "      <th>generation_gwh_2014</th>\n",
       "      <th>generation_gwh_2015</th>\n",
       "      <th>generation_gwh_2016</th>\n",
       "      <th>generation_gwh_2017</th>\n",
       "      <th>generation_data_source</th>\n",
       "      <th>estimated_generation_gwh</th>\n",
       "    </tr>\n",
       "  </thead>\n",
       "  <tbody>\n",
       "    <tr>\n",
       "      <th>0</th>\n",
       "      <td>IND</td>\n",
       "      <td>India</td>\n",
       "      <td>ACME Solar Tower</td>\n",
       "      <td>WRI1020239</td>\n",
       "      <td>2.5</td>\n",
       "      <td>28.1839</td>\n",
       "      <td>73.2407</td>\n",
       "      <td>Solar</td>\n",
       "      <td>NaN</td>\n",
       "      <td>NaN</td>\n",
       "      <td>...</td>\n",
       "      <td>National Renewable Energy Laboratory</td>\n",
       "      <td>NaN</td>\n",
       "      <td>NaN</td>\n",
       "      <td>NaN</td>\n",
       "      <td>NaN</td>\n",
       "      <td>NaN</td>\n",
       "      <td>NaN</td>\n",
       "      <td>NaN</td>\n",
       "      <td>NaN</td>\n",
       "      <td>NaN</td>\n",
       "    </tr>\n",
       "    <tr>\n",
       "      <th>1</th>\n",
       "      <td>IND</td>\n",
       "      <td>India</td>\n",
       "      <td>ADITYA CEMENT WORKS</td>\n",
       "      <td>WRI1019881</td>\n",
       "      <td>98.0</td>\n",
       "      <td>24.7663</td>\n",
       "      <td>74.6090</td>\n",
       "      <td>Coal</td>\n",
       "      <td>NaN</td>\n",
       "      <td>NaN</td>\n",
       "      <td>...</td>\n",
       "      <td>WRI</td>\n",
       "      <td>NaN</td>\n",
       "      <td>NaN</td>\n",
       "      <td>NaN</td>\n",
       "      <td>NaN</td>\n",
       "      <td>NaN</td>\n",
       "      <td>NaN</td>\n",
       "      <td>NaN</td>\n",
       "      <td>NaN</td>\n",
       "      <td>NaN</td>\n",
       "    </tr>\n",
       "    <tr>\n",
       "      <th>2</th>\n",
       "      <td>IND</td>\n",
       "      <td>India</td>\n",
       "      <td>AES Saurashtra Windfarms</td>\n",
       "      <td>WRI1026669</td>\n",
       "      <td>39.2</td>\n",
       "      <td>21.9038</td>\n",
       "      <td>69.3732</td>\n",
       "      <td>Wind</td>\n",
       "      <td>NaN</td>\n",
       "      <td>NaN</td>\n",
       "      <td>...</td>\n",
       "      <td>WRI</td>\n",
       "      <td>NaN</td>\n",
       "      <td>NaN</td>\n",
       "      <td>NaN</td>\n",
       "      <td>NaN</td>\n",
       "      <td>NaN</td>\n",
       "      <td>NaN</td>\n",
       "      <td>NaN</td>\n",
       "      <td>NaN</td>\n",
       "      <td>NaN</td>\n",
       "    </tr>\n",
       "    <tr>\n",
       "      <th>3</th>\n",
       "      <td>IND</td>\n",
       "      <td>India</td>\n",
       "      <td>AGARTALA GT</td>\n",
       "      <td>IND0000001</td>\n",
       "      <td>135.0</td>\n",
       "      <td>23.8712</td>\n",
       "      <td>91.3602</td>\n",
       "      <td>Gas</td>\n",
       "      <td>NaN</td>\n",
       "      <td>NaN</td>\n",
       "      <td>...</td>\n",
       "      <td>WRI</td>\n",
       "      <td>NaN</td>\n",
       "      <td>2018.0</td>\n",
       "      <td>631.777928</td>\n",
       "      <td>617.789264</td>\n",
       "      <td>843.747000</td>\n",
       "      <td>886.004428</td>\n",
       "      <td>663.774500</td>\n",
       "      <td>Central Electricity Authority</td>\n",
       "      <td>NaN</td>\n",
       "    </tr>\n",
       "    <tr>\n",
       "      <th>4</th>\n",
       "      <td>IND</td>\n",
       "      <td>India</td>\n",
       "      <td>AKALTARA TPP</td>\n",
       "      <td>IND0000002</td>\n",
       "      <td>1800.0</td>\n",
       "      <td>21.9603</td>\n",
       "      <td>82.4091</td>\n",
       "      <td>Coal</td>\n",
       "      <td>Oil</td>\n",
       "      <td>NaN</td>\n",
       "      <td>...</td>\n",
       "      <td>WRI</td>\n",
       "      <td>NaN</td>\n",
       "      <td>2018.0</td>\n",
       "      <td>1668.290000</td>\n",
       "      <td>3035.550000</td>\n",
       "      <td>5916.370000</td>\n",
       "      <td>6243.000000</td>\n",
       "      <td>5385.579736</td>\n",
       "      <td>Central Electricity Authority</td>\n",
       "      <td>NaN</td>\n",
       "    </tr>\n",
       "    <tr>\n",
       "      <th>...</th>\n",
       "      <td>...</td>\n",
       "      <td>...</td>\n",
       "      <td>...</td>\n",
       "      <td>...</td>\n",
       "      <td>...</td>\n",
       "      <td>...</td>\n",
       "      <td>...</td>\n",
       "      <td>...</td>\n",
       "      <td>...</td>\n",
       "      <td>...</td>\n",
       "      <td>...</td>\n",
       "      <td>...</td>\n",
       "      <td>...</td>\n",
       "      <td>...</td>\n",
       "      <td>...</td>\n",
       "      <td>...</td>\n",
       "      <td>...</td>\n",
       "      <td>...</td>\n",
       "      <td>...</td>\n",
       "      <td>...</td>\n",
       "      <td>...</td>\n",
       "    </tr>\n",
       "    <tr>\n",
       "      <th>903</th>\n",
       "      <td>IND</td>\n",
       "      <td>India</td>\n",
       "      <td>YERMARUS TPP</td>\n",
       "      <td>IND0000513</td>\n",
       "      <td>1600.0</td>\n",
       "      <td>16.2949</td>\n",
       "      <td>77.3568</td>\n",
       "      <td>Coal</td>\n",
       "      <td>Oil</td>\n",
       "      <td>NaN</td>\n",
       "      <td>...</td>\n",
       "      <td>WRI</td>\n",
       "      <td>NaN</td>\n",
       "      <td>2018.0</td>\n",
       "      <td>NaN</td>\n",
       "      <td>NaN</td>\n",
       "      <td>0.994875</td>\n",
       "      <td>233.596650</td>\n",
       "      <td>865.400000</td>\n",
       "      <td>Central Electricity Authority</td>\n",
       "      <td>NaN</td>\n",
       "    </tr>\n",
       "    <tr>\n",
       "      <th>904</th>\n",
       "      <td>IND</td>\n",
       "      <td>India</td>\n",
       "      <td>Yelesandra Solar Power Plant</td>\n",
       "      <td>WRI1026222</td>\n",
       "      <td>3.0</td>\n",
       "      <td>12.8932</td>\n",
       "      <td>78.1654</td>\n",
       "      <td>Solar</td>\n",
       "      <td>NaN</td>\n",
       "      <td>NaN</td>\n",
       "      <td>...</td>\n",
       "      <td>Industry About</td>\n",
       "      <td>NaN</td>\n",
       "      <td>NaN</td>\n",
       "      <td>NaN</td>\n",
       "      <td>NaN</td>\n",
       "      <td>NaN</td>\n",
       "      <td>NaN</td>\n",
       "      <td>NaN</td>\n",
       "      <td>NaN</td>\n",
       "      <td>NaN</td>\n",
       "    </tr>\n",
       "    <tr>\n",
       "      <th>905</th>\n",
       "      <td>IND</td>\n",
       "      <td>India</td>\n",
       "      <td>Yelisirur wind power project</td>\n",
       "      <td>WRI1026776</td>\n",
       "      <td>25.5</td>\n",
       "      <td>15.2758</td>\n",
       "      <td>75.5811</td>\n",
       "      <td>Wind</td>\n",
       "      <td>NaN</td>\n",
       "      <td>NaN</td>\n",
       "      <td>...</td>\n",
       "      <td>WRI</td>\n",
       "      <td>NaN</td>\n",
       "      <td>NaN</td>\n",
       "      <td>NaN</td>\n",
       "      <td>NaN</td>\n",
       "      <td>NaN</td>\n",
       "      <td>NaN</td>\n",
       "      <td>NaN</td>\n",
       "      <td>NaN</td>\n",
       "      <td>NaN</td>\n",
       "    </tr>\n",
       "    <tr>\n",
       "      <th>906</th>\n",
       "      <td>IND</td>\n",
       "      <td>India</td>\n",
       "      <td>ZAWAR MINES</td>\n",
       "      <td>WRI1019901</td>\n",
       "      <td>80.0</td>\n",
       "      <td>24.3500</td>\n",
       "      <td>73.7477</td>\n",
       "      <td>Coal</td>\n",
       "      <td>NaN</td>\n",
       "      <td>NaN</td>\n",
       "      <td>...</td>\n",
       "      <td>WRI</td>\n",
       "      <td>NaN</td>\n",
       "      <td>NaN</td>\n",
       "      <td>NaN</td>\n",
       "      <td>NaN</td>\n",
       "      <td>NaN</td>\n",
       "      <td>NaN</td>\n",
       "      <td>NaN</td>\n",
       "      <td>NaN</td>\n",
       "      <td>NaN</td>\n",
       "    </tr>\n",
       "    <tr>\n",
       "      <th>907</th>\n",
       "      <td>IND</td>\n",
       "      <td>India</td>\n",
       "      <td>iEnergy Theni Wind Farm</td>\n",
       "      <td>WRI1026761</td>\n",
       "      <td>16.5</td>\n",
       "      <td>9.9344</td>\n",
       "      <td>77.4768</td>\n",
       "      <td>Wind</td>\n",
       "      <td>NaN</td>\n",
       "      <td>NaN</td>\n",
       "      <td>...</td>\n",
       "      <td>WRI</td>\n",
       "      <td>NaN</td>\n",
       "      <td>NaN</td>\n",
       "      <td>NaN</td>\n",
       "      <td>NaN</td>\n",
       "      <td>NaN</td>\n",
       "      <td>NaN</td>\n",
       "      <td>NaN</td>\n",
       "      <td>NaN</td>\n",
       "      <td>NaN</td>\n",
       "    </tr>\n",
       "  </tbody>\n",
       "</table>\n",
       "<p>908 rows × 25 columns</p>\n",
       "</div>"
      ],
      "text/plain": [
       "    country country_long                          name   gppd_idnr  \\\n",
       "0       IND        India              ACME Solar Tower  WRI1020239   \n",
       "1       IND        India           ADITYA CEMENT WORKS  WRI1019881   \n",
       "2       IND        India      AES Saurashtra Windfarms  WRI1026669   \n",
       "3       IND        India                   AGARTALA GT  IND0000001   \n",
       "4       IND        India                  AKALTARA TPP  IND0000002   \n",
       "..      ...          ...                           ...         ...   \n",
       "903     IND        India                  YERMARUS TPP  IND0000513   \n",
       "904     IND        India  Yelesandra Solar Power Plant  WRI1026222   \n",
       "905     IND        India  Yelisirur wind power project  WRI1026776   \n",
       "906     IND        India                   ZAWAR MINES  WRI1019901   \n",
       "907     IND        India       iEnergy Theni Wind Farm  WRI1026761   \n",
       "\n",
       "     capacity_mw  latitude  longitude primary_fuel other_fuel1 other_fuel2  \\\n",
       "0            2.5   28.1839    73.2407        Solar         NaN         NaN   \n",
       "1           98.0   24.7663    74.6090         Coal         NaN         NaN   \n",
       "2           39.2   21.9038    69.3732         Wind         NaN         NaN   \n",
       "3          135.0   23.8712    91.3602          Gas         NaN         NaN   \n",
       "4         1800.0   21.9603    82.4091         Coal         Oil         NaN   \n",
       "..           ...       ...        ...          ...         ...         ...   \n",
       "903       1600.0   16.2949    77.3568         Coal         Oil         NaN   \n",
       "904          3.0   12.8932    78.1654        Solar         NaN         NaN   \n",
       "905         25.5   15.2758    75.5811         Wind         NaN         NaN   \n",
       "906         80.0   24.3500    73.7477         Coal         NaN         NaN   \n",
       "907         16.5    9.9344    77.4768         Wind         NaN         NaN   \n",
       "\n",
       "     ...                    geolocation_source  wepp_id year_of_capacity_data  \\\n",
       "0    ...  National Renewable Energy Laboratory      NaN                   NaN   \n",
       "1    ...                                   WRI      NaN                   NaN   \n",
       "2    ...                                   WRI      NaN                   NaN   \n",
       "3    ...                                   WRI      NaN                2018.0   \n",
       "4    ...                                   WRI      NaN                2018.0   \n",
       "..   ...                                   ...      ...                   ...   \n",
       "903  ...                                   WRI      NaN                2018.0   \n",
       "904  ...                        Industry About      NaN                   NaN   \n",
       "905  ...                                   WRI      NaN                   NaN   \n",
       "906  ...                                   WRI      NaN                   NaN   \n",
       "907  ...                                   WRI      NaN                   NaN   \n",
       "\n",
       "    generation_gwh_2013 generation_gwh_2014 generation_gwh_2015  \\\n",
       "0                   NaN                 NaN                 NaN   \n",
       "1                   NaN                 NaN                 NaN   \n",
       "2                   NaN                 NaN                 NaN   \n",
       "3            631.777928          617.789264          843.747000   \n",
       "4           1668.290000         3035.550000         5916.370000   \n",
       "..                  ...                 ...                 ...   \n",
       "903                 NaN                 NaN            0.994875   \n",
       "904                 NaN                 NaN                 NaN   \n",
       "905                 NaN                 NaN                 NaN   \n",
       "906                 NaN                 NaN                 NaN   \n",
       "907                 NaN                 NaN                 NaN   \n",
       "\n",
       "     generation_gwh_2016  generation_gwh_2017         generation_data_source  \\\n",
       "0                    NaN                  NaN                            NaN   \n",
       "1                    NaN                  NaN                            NaN   \n",
       "2                    NaN                  NaN                            NaN   \n",
       "3             886.004428           663.774500  Central Electricity Authority   \n",
       "4            6243.000000          5385.579736  Central Electricity Authority   \n",
       "..                   ...                  ...                            ...   \n",
       "903           233.596650           865.400000  Central Electricity Authority   \n",
       "904                  NaN                  NaN                            NaN   \n",
       "905                  NaN                  NaN                            NaN   \n",
       "906                  NaN                  NaN                            NaN   \n",
       "907                  NaN                  NaN                            NaN   \n",
       "\n",
       "     estimated_generation_gwh  \n",
       "0                         NaN  \n",
       "1                         NaN  \n",
       "2                         NaN  \n",
       "3                         NaN  \n",
       "4                         NaN  \n",
       "..                        ...  \n",
       "903                       NaN  \n",
       "904                       NaN  \n",
       "905                       NaN  \n",
       "906                       NaN  \n",
       "907                       NaN  \n",
       "\n",
       "[908 rows x 25 columns]"
      ]
     },
     "execution_count": 117,
     "metadata": {},
     "output_type": "execute_result"
    }
   ],
   "source": [
    "df=pd.read_csv('https://raw.githubusercontent.com/wri/global-power-plant-database/master/source_databases_csv/database_IND.csv')\n",
    "df"
   ]
  },
  {
   "cell_type": "markdown",
   "metadata": {},
   "source": [
    "Predictions needs to be done for primary_fuel and capacity_mw Column.\n",
    "\n",
    "primary_fuel column data is categorical datatype\n",
    "\n",
    "capacity_mw column data is Continous datatype. \n",
    "\n",
    "As per my analysis, need to build Classification and Regression Models seperately for primary_fuel and capacity_mw target variable\n",
    "\n",
    "Apart from this, rest of data set is a combination of Categorical and Continous datatypes"
   ]
  },
  {
   "cell_type": "code",
   "execution_count": 118,
   "metadata": {},
   "outputs": [
    {
     "data": {
      "text/plain": [
       "(908, 25)"
      ]
     },
     "execution_count": 118,
     "metadata": {},
     "output_type": "execute_result"
    }
   ],
   "source": [
    "df.shape"
   ]
  },
  {
   "cell_type": "markdown",
   "metadata": {},
   "source": [
    "There are 908 Rows and 25 Columns including the Target variables in this Dataset"
   ]
  },
  {
   "cell_type": "code",
   "execution_count": 119,
   "metadata": {},
   "outputs": [
    {
     "name": "stdout",
     "output_type": "stream",
     "text": [
      "<class 'pandas.core.frame.DataFrame'>\n",
      "RangeIndex: 908 entries, 0 to 907\n",
      "Data columns (total 25 columns):\n",
      " #   Column                    Non-Null Count  Dtype  \n",
      "---  ------                    --------------  -----  \n",
      " 0   country                   908 non-null    object \n",
      " 1   country_long              908 non-null    object \n",
      " 2   name                      908 non-null    object \n",
      " 3   gppd_idnr                 908 non-null    object \n",
      " 4   capacity_mw               908 non-null    float64\n",
      " 5   latitude                  862 non-null    float64\n",
      " 6   longitude                 862 non-null    float64\n",
      " 7   primary_fuel              908 non-null    object \n",
      " 8   other_fuel1               199 non-null    object \n",
      " 9   other_fuel2               1 non-null      object \n",
      " 10  other_fuel3               0 non-null      float64\n",
      " 11  commissioning_year        528 non-null    float64\n",
      " 12  owner                     342 non-null    object \n",
      " 13  source                    908 non-null    object \n",
      " 14  url                       908 non-null    object \n",
      " 15  geolocation_source        889 non-null    object \n",
      " 16  wepp_id                   0 non-null      float64\n",
      " 17  year_of_capacity_data     520 non-null    float64\n",
      " 18  generation_gwh_2013       384 non-null    float64\n",
      " 19  generation_gwh_2014       401 non-null    float64\n",
      " 20  generation_gwh_2015       425 non-null    float64\n",
      " 21  generation_gwh_2016       437 non-null    float64\n",
      " 22  generation_gwh_2017       443 non-null    float64\n",
      " 23  generation_data_source    450 non-null    object \n",
      " 24  estimated_generation_gwh  0 non-null      float64\n",
      "dtypes: float64(13), object(12)\n",
      "memory usage: 177.5+ KB\n"
     ]
    }
   ],
   "source": [
    "df.info()"
   ]
  },
  {
   "cell_type": "markdown",
   "metadata": {},
   "source": [
    "We can observe the columns datatype and null values info."
   ]
  },
  {
   "cell_type": "code",
   "execution_count": 120,
   "metadata": {},
   "outputs": [
    {
     "data": {
      "text/plain": [
       "country                       0\n",
       "country_long                  0\n",
       "name                          0\n",
       "gppd_idnr                     0\n",
       "capacity_mw                   0\n",
       "latitude                     46\n",
       "longitude                    46\n",
       "primary_fuel                  0\n",
       "other_fuel1                 709\n",
       "other_fuel2                 907\n",
       "other_fuel3                 908\n",
       "commissioning_year          380\n",
       "owner                       566\n",
       "source                        0\n",
       "url                           0\n",
       "geolocation_source           19\n",
       "wepp_id                     908\n",
       "year_of_capacity_data       388\n",
       "generation_gwh_2013         524\n",
       "generation_gwh_2014         507\n",
       "generation_gwh_2015         483\n",
       "generation_gwh_2016         471\n",
       "generation_gwh_2017         465\n",
       "generation_data_source      458\n",
       "estimated_generation_gwh    908\n",
       "dtype: int64"
      ]
     },
     "execution_count": 120,
     "metadata": {},
     "output_type": "execute_result"
    }
   ],
   "source": [
    "df.isnull().sum()"
   ]
  },
  {
   "cell_type": "markdown",
   "metadata": {},
   "source": [
    "We can observe many columns data set has null/ missing values. Need to obtain the percentage of null values and decide whether to drop those null values or correct the null values"
   ]
  },
  {
   "cell_type": "markdown",
   "metadata": {},
   "source": [
    "908 is total rows count, 50% of this count is 454, we can clearly observe below columns are having null values greater than 50%.\n",
    "\n",
    "so these columns will be dropped.\n",
    "\n",
    "1. other_fuel1\n",
    "\n",
    "2. other_fuel2\n",
    "\n",
    "3. other_fuel3\n",
    "\n",
    "4. owner\n",
    "\n",
    "5. wepp_id\n",
    "\n",
    "6. generation_gwh_2013\n",
    "\n",
    "7. generation_gwh_2014\n",
    "\n",
    "8. generation_gwh_2015\n",
    "\n",
    "9. generation_gwh_2016\n",
    "\n",
    "10. generation_gwh_2017\n",
    "\n",
    "11. generation_data_source\n",
    "\n",
    "12. estimated_generation_gwh"
   ]
  },
  {
   "cell_type": "code",
   "execution_count": 121,
   "metadata": {},
   "outputs": [],
   "source": [
    "df.drop([\"other_fuel1\", \"other_fuel2\", \"other_fuel3\", \"owner\", \"wepp_id\", \"generation_gwh_2013\",\n",
    "        \"generation_gwh_2014\", \"generation_gwh_2015\", \"generation_gwh_2016\", \"generation_gwh_2017\",\n",
    "        \"generation_data_source\", \"estimated_generation_gwh\"], axis=1, inplace=True)"
   ]
  },
  {
   "cell_type": "markdown",
   "metadata": {},
   "source": [
    "As discussed above, dropped the concerned columns"
   ]
  },
  {
   "cell_type": "code",
   "execution_count": 122,
   "metadata": {},
   "outputs": [
    {
     "data": {
      "text/plain": [
       "(908, 13)"
      ]
     },
     "execution_count": 122,
     "metadata": {},
     "output_type": "execute_result"
    }
   ],
   "source": [
    "df.shape"
   ]
  },
  {
   "cell_type": "markdown",
   "metadata": {},
   "source": [
    "We can observe 12 Columns decrement due to the dropping"
   ]
  },
  {
   "cell_type": "markdown",
   "metadata": {},
   "source": [
    "### Checking for any Unique Set of Values/ Elements in all Columns"
   ]
  },
  {
   "cell_type": "code",
   "execution_count": 123,
   "metadata": {},
   "outputs": [
    {
     "data": {
      "text/plain": [
       "country                    1\n",
       "country_long               1\n",
       "name                     908\n",
       "gppd_idnr                908\n",
       "capacity_mw              365\n",
       "latitude                 837\n",
       "longitude                828\n",
       "primary_fuel               8\n",
       "commissioning_year        73\n",
       "source                   191\n",
       "url                      304\n",
       "geolocation_source         3\n",
       "year_of_capacity_data      1\n",
       "dtype: int64"
      ]
     },
     "execution_count": 123,
     "metadata": {},
     "output_type": "execute_result"
    }
   ],
   "source": [
    "df.nunique()"
   ]
  },
  {
   "cell_type": "markdown",
   "metadata": {},
   "source": [
    "1. Country, country_long and year_of_capacity_data column data has only one data for entire set; So we can conclude that dropping these columns would be effective for the model building since these columns will not affect the target variables much.\n",
    "\n",
    "\n",
    "2. geolocation_source, primarry_fuel columns data has a fixed set of datas.\n",
    "\n",
    "\n",
    "3. name, gppd_idnr have unique 908 values so it doesnt affect the target variables. Also url is not related to target variables since it is only a web document corresponding to the source field. So it would be best to drop these columns for better model prediction"
   ]
  },
  {
   "cell_type": "code",
   "execution_count": 124,
   "metadata": {},
   "outputs": [],
   "source": [
    "df.drop([\"country\", \"country_long\", \"year_of_capacity_data\", \"name\", \"gppd_idnr\", \"url\"], axis=1, inplace=True)"
   ]
  },
  {
   "cell_type": "markdown",
   "metadata": {},
   "source": [
    "As discussed dropping the columns which doesnt contribute for prediction"
   ]
  },
  {
   "cell_type": "code",
   "execution_count": 125,
   "metadata": {},
   "outputs": [
    {
     "data": {
      "text/plain": [
       "(908, 7)"
      ]
     },
     "execution_count": 125,
     "metadata": {},
     "output_type": "execute_result"
    }
   ],
   "source": [
    "df.shape"
   ]
  },
  {
   "cell_type": "markdown",
   "metadata": {},
   "source": [
    "we can confirm 6 columns is dropped"
   ]
  },
  {
   "cell_type": "markdown",
   "metadata": {},
   "source": [
    "### Resolving Null Values"
   ]
  },
  {
   "cell_type": "code",
   "execution_count": 126,
   "metadata": {},
   "outputs": [
    {
     "data": {
      "text/plain": [
       "capacity_mw             0\n",
       "latitude               46\n",
       "longitude              46\n",
       "primary_fuel            0\n",
       "commissioning_year    380\n",
       "source                  0\n",
       "geolocation_source     19\n",
       "dtype: int64"
      ]
     },
     "execution_count": 126,
     "metadata": {},
     "output_type": "execute_result"
    }
   ],
   "source": [
    "df.isnull().sum()"
   ]
  },
  {
   "cell_type": "markdown",
   "metadata": {},
   "source": [
    "There are null/ missing values in below listed columns\n",
    "\n",
    "1. latitude\n",
    "\n",
    "2. longitude\n",
    "\n",
    "3. commissioning_year\n",
    "\n",
    "4. geolocation_source\n",
    "\n",
    "These null values need to corrected"
   ]
  },
  {
   "cell_type": "markdown",
   "metadata": {},
   "source": [
    "We can observe 3 columns are object and remaining 4 columns are float data type"
   ]
  },
  {
   "cell_type": "code",
   "execution_count": 127,
   "metadata": {},
   "outputs": [],
   "source": [
    "df['commissioning_year'].fillna(df['commissioning_year'].mode()[0], inplace=True)\n",
    "df['geolocation_source'].fillna(df['geolocation_source'].mode()[0], inplace=True)"
   ]
  },
  {
   "cell_type": "markdown",
   "metadata": {},
   "source": [
    "Updating the Null Values in Categorical Columns with Mode"
   ]
  },
  {
   "cell_type": "code",
   "execution_count": 128,
   "metadata": {},
   "outputs": [],
   "source": [
    "df['latitude'].fillna(df['latitude'].median(), inplace=True)\n",
    "df['longitude'].fillna(df['longitude'].median(), inplace=True)"
   ]
  },
  {
   "cell_type": "markdown",
   "metadata": {},
   "source": [
    "Updating the Null Values in Continous Columns with Median"
   ]
  },
  {
   "cell_type": "code",
   "execution_count": 129,
   "metadata": {},
   "outputs": [
    {
     "data": {
      "text/plain": [
       "capacity_mw           0\n",
       "latitude              0\n",
       "longitude             0\n",
       "primary_fuel          0\n",
       "commissioning_year    0\n",
       "source                0\n",
       "geolocation_source    0\n",
       "dtype: int64"
      ]
     },
     "execution_count": 129,
     "metadata": {},
     "output_type": "execute_result"
    }
   ],
   "source": [
    "df.isnull().sum()"
   ]
  },
  {
   "cell_type": "markdown",
   "metadata": {},
   "source": [
    "All the Null/ Missing Values in the dataset are resolved"
   ]
  },
  {
   "cell_type": "markdown",
   "metadata": {},
   "source": [
    "### Analyzing the relationship between independent variable and dependent Variable"
   ]
  },
  {
   "cell_type": "markdown",
   "metadata": {},
   "source": [
    "Listing down the names of all the columns present in our filtered dataframe. We will analyze each one of them with the help of some visual plots."
   ]
  },
  {
   "cell_type": "code",
   "execution_count": 130,
   "metadata": {},
   "outputs": [
    {
     "data": {
      "image/png": "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\n",
      "text/plain": [
       "<Figure size 720x504 with 1 Axes>"
      ]
     },
     "metadata": {
      "needs_background": "light"
     },
     "output_type": "display_data"
    }
   ],
   "source": [
    "try:\n",
    "    plt.figure(figsize=(10,7))\n",
    "    col_name = 'primary_fuel'\n",
    "    values = df[col_name].value_counts()\n",
    "    index = 0\n",
    "    ax = sns.countplot(df[col_name], palette=\"prism\")\n",
    "\n",
    "    for i in ax.get_xticklabels():\n",
    "        ax.text(index, values[i.get_text()]/2, values[i.get_text()], \n",
    "                horizontalalignment=\"center\", fontweight='bold', color='g')\n",
    "        index += 1\n",
    "    \n",
    "    plt.title(f\"Count Plot for {col_name}\\n\")\n",
    "    plt.ylabel(f\"Number of rows\")\n",
    "    plt.show()\n",
    "    \n",
    "except Exception as e:\n",
    "    pass"
   ]
  },
  {
   "cell_type": "markdown",
   "metadata": {},
   "source": [
    "From the above plot, we can observe that\n",
    "\n",
    "1. Coal is having higher value for primary_fuel target variable followed by hydro and solar.\n",
    "\n",
    "2. Nuclear has the least value for primary_fuel target variable"
   ]
  },
  {
   "cell_type": "code",
   "execution_count": 131,
   "metadata": {},
   "outputs": [
    {
     "data": {
      "image/png": "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\n",
      "text/plain": [
       "<Figure size 720x504 with 1 Axes>"
      ]
     },
     "metadata": {
      "needs_background": "light"
     },
     "output_type": "display_data"
    }
   ],
   "source": [
    "try:\n",
    "    plt.figure(figsize=(10,7))\n",
    "    col_name = 'geolocation_source'\n",
    "    values = df[col_name].value_counts()\n",
    "    index = 0\n",
    "    ax = sns.countplot(df[col_name], palette=\"prism\")\n",
    "\n",
    "    for i in ax.get_xticklabels():\n",
    "        ax.text(index, values[i.get_text()]/2, values[i.get_text()], \n",
    "                horizontalalignment=\"center\", fontweight='bold', color='r')\n",
    "        index += 1\n",
    "    \n",
    "    plt.title(f\"Count Plot {col_name}\\n\")\n",
    "    plt.ylabel(f\"Number\")\n",
    "    plt.show()\n",
    "    \n",
    "except Exception as e:\n",
    "    pass"
   ]
  },
  {
   "cell_type": "markdown",
   "metadata": {},
   "source": [
    "From the above plot, we can observe that\n",
    "\n",
    "WRI is having higher value for geolocation_source and National Renewable Energy Laboratory is having least value"
   ]
  },
  {
   "cell_type": "code",
   "execution_count": 132,
   "metadata": {},
   "outputs": [
    {
     "data": {
      "image/png": "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\n",
      "text/plain": [
       "<Figure size 432x288 with 1 Axes>"
      ]
     },
     "metadata": {},
     "output_type": "display_data"
    }
   ],
   "source": [
    "plt.style.use('ggplot')\n",
    "sns.scatterplot(x=\"commissioning_year\", y=\"capacity_mw\", data=df)\n",
    "plt.show()"
   ]
  },
  {
   "cell_type": "markdown",
   "metadata": {},
   "source": [
    "We can observe that power generation capacity has been increased tremendously in recent years compared to previous years"
   ]
  },
  {
   "cell_type": "code",
   "execution_count": 133,
   "metadata": {},
   "outputs": [
    {
     "data": {
      "image/png": "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\n",
      "text/plain": [
       "<Figure size 432x288 with 1 Axes>"
      ]
     },
     "metadata": {},
     "output_type": "display_data"
    }
   ],
   "source": [
    "sns.scatterplot(x=\"latitude\", y=\"capacity_mw\", data=df)\n",
    "plt.show()"
   ]
  },
  {
   "cell_type": "markdown",
   "metadata": {},
   "source": [
    "We can observe that for latitude range 20 to 25 we have higher power generation capacity"
   ]
  },
  {
   "cell_type": "code",
   "execution_count": 134,
   "metadata": {},
   "outputs": [
    {
     "data": {
      "image/png": "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\n",
      "text/plain": [
       "<Figure size 432x288 with 1 Axes>"
      ]
     },
     "metadata": {},
     "output_type": "display_data"
    }
   ],
   "source": [
    "sns.scatterplot(x=\"longitude\", y=\"capacity_mw\", data=df)\n",
    "plt.show()"
   ]
  },
  {
   "cell_type": "markdown",
   "metadata": {},
   "source": [
    "We can observe that for longitude range 80 to 85 we have higher power generation capacity"
   ]
  },
  {
   "cell_type": "code",
   "execution_count": 135,
   "metadata": {},
   "outputs": [
    {
     "data": {
      "image/png": "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\n",
      "text/plain": [
       "<Figure size 1584x2016 with 3 Axes>"
      ]
     },
     "metadata": {},
     "output_type": "display_data"
    }
   ],
   "source": [
    "plt.figure(figsize=(22,28),facecolor='white')\n",
    "plot_number=1\n",
    "x_plot = df[['capacity_mw','latitude','longitude']]\n",
    "y_plot = df['primary_fuel']\n",
    "for i in x_plot:\n",
    "    if plot_number<=len(x_plot.columns):\n",
    "        ax=plt.subplot(5,3,plot_number)\n",
    "        sns.barplot(y_plot,x_plot[i])\n",
    "        plt.xlabel('Primary Fuel',fontsize=20)\n",
    "        plt.ylabel(i,fontsize=20)\n",
    "    plot_number+=1\n",
    "plt.show()"
   ]
  },
  {
   "cell_type": "markdown",
   "metadata": {},
   "source": [
    "From above plot, we have following observations,\n",
    "\n",
    "1. Nuclear has high value with respect to primary fuel used and capacity.\n",
    "\n",
    "2. Solar has high value with respect to primary fuel used and latitude\n",
    "\n",
    "3. Coal has high value with respect to primary fuel used and longitude"
   ]
  },
  {
   "cell_type": "markdown",
   "metadata": {},
   "source": [
    "### Encoding the Categorical Data using Label Encoder"
   ]
  },
  {
   "cell_type": "code",
   "execution_count": 136,
   "metadata": {},
   "outputs": [
    {
     "name": "stdout",
     "output_type": "stream",
     "text": [
      "<class 'pandas.core.frame.DataFrame'>\n",
      "RangeIndex: 908 entries, 0 to 907\n",
      "Data columns (total 7 columns):\n",
      " #   Column              Non-Null Count  Dtype  \n",
      "---  ------              --------------  -----  \n",
      " 0   capacity_mw         908 non-null    float64\n",
      " 1   latitude            908 non-null    float64\n",
      " 2   longitude           908 non-null    float64\n",
      " 3   primary_fuel        908 non-null    object \n",
      " 4   commissioning_year  908 non-null    float64\n",
      " 5   source              908 non-null    object \n",
      " 6   geolocation_source  908 non-null    object \n",
      "dtypes: float64(4), object(3)\n",
      "memory usage: 49.8+ KB\n"
     ]
    }
   ],
   "source": [
    "df.info()"
   ]
  },
  {
   "cell_type": "code",
   "execution_count": 137,
   "metadata": {},
   "outputs": [],
   "source": [
    "le = LabelEncoder()\n",
    "df['primary_fuel'] = le.fit_transform(df['primary_fuel'])\n",
    "df['geolocation_source'] = le.fit_transform(df['geolocation_source'])\n",
    "df['source'] = le.fit_transform(df['source'])"
   ]
  },
  {
   "cell_type": "code",
   "execution_count": 138,
   "metadata": {},
   "outputs": [
    {
     "data": {
      "text/plain": [
       "(908, 7)"
      ]
     },
     "execution_count": 138,
     "metadata": {},
     "output_type": "execute_result"
    }
   ],
   "source": [
    "df.shape"
   ]
  },
  {
   "cell_type": "markdown",
   "metadata": {},
   "source": [
    "Crosschecking whether same Data Shape is retained. Same Data shape is retained"
   ]
  },
  {
   "cell_type": "code",
   "execution_count": 139,
   "metadata": {},
   "outputs": [
    {
     "data": {
      "text/html": [
       "<div>\n",
       "<style scoped>\n",
       "    .dataframe tbody tr th:only-of-type {\n",
       "        vertical-align: middle;\n",
       "    }\n",
       "\n",
       "    .dataframe tbody tr th {\n",
       "        vertical-align: top;\n",
       "    }\n",
       "\n",
       "    .dataframe thead th {\n",
       "        text-align: right;\n",
       "    }\n",
       "</style>\n",
       "<table border=\"1\" class=\"dataframe\">\n",
       "  <thead>\n",
       "    <tr style=\"text-align: right;\">\n",
       "      <th></th>\n",
       "      <th>capacity_mw</th>\n",
       "      <th>latitude</th>\n",
       "      <th>longitude</th>\n",
       "      <th>primary_fuel</th>\n",
       "      <th>commissioning_year</th>\n",
       "      <th>source</th>\n",
       "      <th>geolocation_source</th>\n",
       "    </tr>\n",
       "  </thead>\n",
       "  <tbody>\n",
       "    <tr>\n",
       "      <th>0</th>\n",
       "      <td>2.5</td>\n",
       "      <td>28.1839</td>\n",
       "      <td>73.2407</td>\n",
       "      <td>6</td>\n",
       "      <td>2011.0</td>\n",
       "      <td>109</td>\n",
       "      <td>1</td>\n",
       "    </tr>\n",
       "    <tr>\n",
       "      <th>1</th>\n",
       "      <td>98.0</td>\n",
       "      <td>24.7663</td>\n",
       "      <td>74.6090</td>\n",
       "      <td>1</td>\n",
       "      <td>2013.0</td>\n",
       "      <td>174</td>\n",
       "      <td>2</td>\n",
       "    </tr>\n",
       "    <tr>\n",
       "      <th>2</th>\n",
       "      <td>39.2</td>\n",
       "      <td>21.9038</td>\n",
       "      <td>69.3732</td>\n",
       "      <td>7</td>\n",
       "      <td>2013.0</td>\n",
       "      <td>21</td>\n",
       "      <td>2</td>\n",
       "    </tr>\n",
       "    <tr>\n",
       "      <th>3</th>\n",
       "      <td>135.0</td>\n",
       "      <td>23.8712</td>\n",
       "      <td>91.3602</td>\n",
       "      <td>2</td>\n",
       "      <td>2004.0</td>\n",
       "      <td>22</td>\n",
       "      <td>2</td>\n",
       "    </tr>\n",
       "    <tr>\n",
       "      <th>4</th>\n",
       "      <td>1800.0</td>\n",
       "      <td>21.9603</td>\n",
       "      <td>82.4091</td>\n",
       "      <td>1</td>\n",
       "      <td>2015.0</td>\n",
       "      <td>22</td>\n",
       "      <td>2</td>\n",
       "    </tr>\n",
       "    <tr>\n",
       "      <th>...</th>\n",
       "      <td>...</td>\n",
       "      <td>...</td>\n",
       "      <td>...</td>\n",
       "      <td>...</td>\n",
       "      <td>...</td>\n",
       "      <td>...</td>\n",
       "      <td>...</td>\n",
       "    </tr>\n",
       "    <tr>\n",
       "      <th>903</th>\n",
       "      <td>1600.0</td>\n",
       "      <td>16.2949</td>\n",
       "      <td>77.3568</td>\n",
       "      <td>1</td>\n",
       "      <td>2016.0</td>\n",
       "      <td>22</td>\n",
       "      <td>2</td>\n",
       "    </tr>\n",
       "    <tr>\n",
       "      <th>904</th>\n",
       "      <td>3.0</td>\n",
       "      <td>12.8932</td>\n",
       "      <td>78.1654</td>\n",
       "      <td>6</td>\n",
       "      <td>2013.0</td>\n",
       "      <td>77</td>\n",
       "      <td>0</td>\n",
       "    </tr>\n",
       "    <tr>\n",
       "      <th>905</th>\n",
       "      <td>25.5</td>\n",
       "      <td>15.2758</td>\n",
       "      <td>75.5811</td>\n",
       "      <td>7</td>\n",
       "      <td>2013.0</td>\n",
       "      <td>21</td>\n",
       "      <td>2</td>\n",
       "    </tr>\n",
       "    <tr>\n",
       "      <th>906</th>\n",
       "      <td>80.0</td>\n",
       "      <td>24.3500</td>\n",
       "      <td>73.7477</td>\n",
       "      <td>1</td>\n",
       "      <td>2013.0</td>\n",
       "      <td>59</td>\n",
       "      <td>2</td>\n",
       "    </tr>\n",
       "    <tr>\n",
       "      <th>907</th>\n",
       "      <td>16.5</td>\n",
       "      <td>9.9344</td>\n",
       "      <td>77.4768</td>\n",
       "      <td>7</td>\n",
       "      <td>2013.0</td>\n",
       "      <td>21</td>\n",
       "      <td>2</td>\n",
       "    </tr>\n",
       "  </tbody>\n",
       "</table>\n",
       "<p>908 rows × 7 columns</p>\n",
       "</div>"
      ],
      "text/plain": [
       "     capacity_mw  latitude  longitude  primary_fuel  commissioning_year  \\\n",
       "0            2.5   28.1839    73.2407             6              2011.0   \n",
       "1           98.0   24.7663    74.6090             1              2013.0   \n",
       "2           39.2   21.9038    69.3732             7              2013.0   \n",
       "3          135.0   23.8712    91.3602             2              2004.0   \n",
       "4         1800.0   21.9603    82.4091             1              2015.0   \n",
       "..           ...       ...        ...           ...                 ...   \n",
       "903       1600.0   16.2949    77.3568             1              2016.0   \n",
       "904          3.0   12.8932    78.1654             6              2013.0   \n",
       "905         25.5   15.2758    75.5811             7              2013.0   \n",
       "906         80.0   24.3500    73.7477             1              2013.0   \n",
       "907         16.5    9.9344    77.4768             7              2013.0   \n",
       "\n",
       "     source  geolocation_source  \n",
       "0       109                   1  \n",
       "1       174                   2  \n",
       "2        21                   2  \n",
       "3        22                   2  \n",
       "4        22                   2  \n",
       "..      ...                 ...  \n",
       "903      22                   2  \n",
       "904      77                   0  \n",
       "905      21                   2  \n",
       "906      59                   2  \n",
       "907      21                   2  \n",
       "\n",
       "[908 rows x 7 columns]"
      ]
     },
     "execution_count": 139,
     "metadata": {},
     "output_type": "execute_result"
    }
   ],
   "source": [
    "df"
   ]
  },
  {
   "cell_type": "markdown",
   "metadata": {},
   "source": [
    "Crosschecking whether categorical data is encoded or not. It can be confirmed that encoding is done correctly"
   ]
  },
  {
   "cell_type": "code",
   "execution_count": 140,
   "metadata": {},
   "outputs": [
    {
     "data": {
      "text/html": [
       "<div>\n",
       "<style scoped>\n",
       "    .dataframe tbody tr th:only-of-type {\n",
       "        vertical-align: middle;\n",
       "    }\n",
       "\n",
       "    .dataframe tbody tr th {\n",
       "        vertical-align: top;\n",
       "    }\n",
       "\n",
       "    .dataframe thead th {\n",
       "        text-align: right;\n",
       "    }\n",
       "</style>\n",
       "<table border=\"1\" class=\"dataframe\">\n",
       "  <thead>\n",
       "    <tr style=\"text-align: right;\">\n",
       "      <th></th>\n",
       "      <th>capacity_mw</th>\n",
       "      <th>latitude</th>\n",
       "      <th>longitude</th>\n",
       "      <th>primary_fuel</th>\n",
       "      <th>commissioning_year</th>\n",
       "      <th>source</th>\n",
       "      <th>geolocation_source</th>\n",
       "    </tr>\n",
       "  </thead>\n",
       "  <tbody>\n",
       "    <tr>\n",
       "      <th>count</th>\n",
       "      <td>908.000000</td>\n",
       "      <td>908.000000</td>\n",
       "      <td>908.000000</td>\n",
       "      <td>908.000000</td>\n",
       "      <td>908.000000</td>\n",
       "      <td>908.000000</td>\n",
       "      <td>908.000000</td>\n",
       "    </tr>\n",
       "    <tr>\n",
       "      <th>mean</th>\n",
       "      <td>321.046378</td>\n",
       "      <td>21.225679</td>\n",
       "      <td>77.410936</td>\n",
       "      <td>3.205947</td>\n",
       "      <td>2003.624449</td>\n",
       "      <td>43.823789</td>\n",
       "      <td>1.733480</td>\n",
       "    </tr>\n",
       "    <tr>\n",
       "      <th>std</th>\n",
       "      <td>580.221767</td>\n",
       "      <td>6.089450</td>\n",
       "      <td>4.783873</td>\n",
       "      <td>2.281339</td>\n",
       "      <td>15.238021</td>\n",
       "      <td>44.624092</td>\n",
       "      <td>0.676835</td>\n",
       "    </tr>\n",
       "    <tr>\n",
       "      <th>min</th>\n",
       "      <td>0.000000</td>\n",
       "      <td>8.168900</td>\n",
       "      <td>68.644700</td>\n",
       "      <td>0.000000</td>\n",
       "      <td>1927.000000</td>\n",
       "      <td>0.000000</td>\n",
       "      <td>0.000000</td>\n",
       "    </tr>\n",
       "    <tr>\n",
       "      <th>25%</th>\n",
       "      <td>16.837500</td>\n",
       "      <td>17.057825</td>\n",
       "      <td>74.390250</td>\n",
       "      <td>1.000000</td>\n",
       "      <td>1997.000000</td>\n",
       "      <td>22.000000</td>\n",
       "      <td>2.000000</td>\n",
       "    </tr>\n",
       "    <tr>\n",
       "      <th>50%</th>\n",
       "      <td>60.000000</td>\n",
       "      <td>21.778300</td>\n",
       "      <td>76.719250</td>\n",
       "      <td>3.000000</td>\n",
       "      <td>2013.000000</td>\n",
       "      <td>22.000000</td>\n",
       "      <td>2.000000</td>\n",
       "    </tr>\n",
       "    <tr>\n",
       "      <th>75%</th>\n",
       "      <td>388.125000</td>\n",
       "      <td>25.183775</td>\n",
       "      <td>79.211600</td>\n",
       "      <td>6.000000</td>\n",
       "      <td>2013.000000</td>\n",
       "      <td>29.250000</td>\n",
       "      <td>2.000000</td>\n",
       "    </tr>\n",
       "    <tr>\n",
       "      <th>max</th>\n",
       "      <td>4760.000000</td>\n",
       "      <td>34.649000</td>\n",
       "      <td>95.408000</td>\n",
       "      <td>7.000000</td>\n",
       "      <td>2018.000000</td>\n",
       "      <td>190.000000</td>\n",
       "      <td>2.000000</td>\n",
       "    </tr>\n",
       "  </tbody>\n",
       "</table>\n",
       "</div>"
      ],
      "text/plain": [
       "       capacity_mw    latitude   longitude  primary_fuel  commissioning_year  \\\n",
       "count   908.000000  908.000000  908.000000    908.000000          908.000000   \n",
       "mean    321.046378   21.225679   77.410936      3.205947         2003.624449   \n",
       "std     580.221767    6.089450    4.783873      2.281339           15.238021   \n",
       "min       0.000000    8.168900   68.644700      0.000000         1927.000000   \n",
       "25%      16.837500   17.057825   74.390250      1.000000         1997.000000   \n",
       "50%      60.000000   21.778300   76.719250      3.000000         2013.000000   \n",
       "75%     388.125000   25.183775   79.211600      6.000000         2013.000000   \n",
       "max    4760.000000   34.649000   95.408000      7.000000         2018.000000   \n",
       "\n",
       "           source  geolocation_source  \n",
       "count  908.000000          908.000000  \n",
       "mean    43.823789            1.733480  \n",
       "std     44.624092            0.676835  \n",
       "min      0.000000            0.000000  \n",
       "25%     22.000000            2.000000  \n",
       "50%     22.000000            2.000000  \n",
       "75%     29.250000            2.000000  \n",
       "max    190.000000            2.000000  "
      ]
     },
     "execution_count": 140,
     "metadata": {},
     "output_type": "execute_result"
    }
   ],
   "source": [
    "df.describe()"
   ]
  },
  {
   "cell_type": "code",
   "execution_count": 141,
   "metadata": {},
   "outputs": [
    {
     "name": "stdout",
     "output_type": "stream",
     "text": [
      "<class 'pandas.core.frame.DataFrame'>\n",
      "RangeIndex: 908 entries, 0 to 907\n",
      "Data columns (total 7 columns):\n",
      " #   Column              Non-Null Count  Dtype  \n",
      "---  ------              --------------  -----  \n",
      " 0   capacity_mw         908 non-null    float64\n",
      " 1   latitude            908 non-null    float64\n",
      " 2   longitude           908 non-null    float64\n",
      " 3   primary_fuel        908 non-null    int32  \n",
      " 4   commissioning_year  908 non-null    float64\n",
      " 5   source              908 non-null    int32  \n",
      " 6   geolocation_source  908 non-null    int32  \n",
      "dtypes: float64(4), int32(3)\n",
      "memory usage: 39.1 KB\n"
     ]
    }
   ],
   "source": [
    "df.info()"
   ]
  },
  {
   "cell_type": "markdown",
   "metadata": {},
   "source": [
    "Analyzing the changes in dataset after encoding. All values are numdericals now."
   ]
  },
  {
   "cell_type": "markdown",
   "metadata": {},
   "source": [
    "### Checking Correlation between each columns data"
   ]
  },
  {
   "cell_type": "code",
   "execution_count": 142,
   "metadata": {},
   "outputs": [
    {
     "data": {
      "text/html": [
       "<div>\n",
       "<style scoped>\n",
       "    .dataframe tbody tr th:only-of-type {\n",
       "        vertical-align: middle;\n",
       "    }\n",
       "\n",
       "    .dataframe tbody tr th {\n",
       "        vertical-align: top;\n",
       "    }\n",
       "\n",
       "    .dataframe thead th {\n",
       "        text-align: right;\n",
       "    }\n",
       "</style>\n",
       "<table border=\"1\" class=\"dataframe\">\n",
       "  <thead>\n",
       "    <tr style=\"text-align: right;\">\n",
       "      <th></th>\n",
       "      <th>capacity_mw</th>\n",
       "      <th>latitude</th>\n",
       "      <th>longitude</th>\n",
       "      <th>primary_fuel</th>\n",
       "      <th>commissioning_year</th>\n",
       "      <th>source</th>\n",
       "      <th>geolocation_source</th>\n",
       "    </tr>\n",
       "  </thead>\n",
       "  <tbody>\n",
       "    <tr>\n",
       "      <th>capacity_mw</th>\n",
       "      <td>1.000000</td>\n",
       "      <td>0.047608</td>\n",
       "      <td>0.200473</td>\n",
       "      <td>-0.377783</td>\n",
       "      <td>0.012518</td>\n",
       "      <td>-0.241701</td>\n",
       "      <td>0.204698</td>\n",
       "    </tr>\n",
       "    <tr>\n",
       "      <th>latitude</th>\n",
       "      <td>0.047608</td>\n",
       "      <td>1.000000</td>\n",
       "      <td>0.030775</td>\n",
       "      <td>-0.010793</td>\n",
       "      <td>0.034731</td>\n",
       "      <td>0.054346</td>\n",
       "      <td>-0.182049</td>\n",
       "    </tr>\n",
       "    <tr>\n",
       "      <th>longitude</th>\n",
       "      <td>0.200473</td>\n",
       "      <td>0.030775</td>\n",
       "      <td>1.000000</td>\n",
       "      <td>-0.352749</td>\n",
       "      <td>-0.144785</td>\n",
       "      <td>-0.236349</td>\n",
       "      <td>0.249233</td>\n",
       "    </tr>\n",
       "    <tr>\n",
       "      <th>primary_fuel</th>\n",
       "      <td>-0.377783</td>\n",
       "      <td>-0.010793</td>\n",
       "      <td>-0.352749</td>\n",
       "      <td>1.000000</td>\n",
       "      <td>0.145487</td>\n",
       "      <td>0.053609</td>\n",
       "      <td>-0.482803</td>\n",
       "    </tr>\n",
       "    <tr>\n",
       "      <th>commissioning_year</th>\n",
       "      <td>0.012518</td>\n",
       "      <td>0.034731</td>\n",
       "      <td>-0.144785</td>\n",
       "      <td>0.145487</td>\n",
       "      <td>1.000000</td>\n",
       "      <td>0.301660</td>\n",
       "      <td>-0.242439</td>\n",
       "    </tr>\n",
       "    <tr>\n",
       "      <th>source</th>\n",
       "      <td>-0.241701</td>\n",
       "      <td>0.054346</td>\n",
       "      <td>-0.236349</td>\n",
       "      <td>0.053609</td>\n",
       "      <td>0.301660</td>\n",
       "      <td>1.000000</td>\n",
       "      <td>-0.505823</td>\n",
       "    </tr>\n",
       "    <tr>\n",
       "      <th>geolocation_source</th>\n",
       "      <td>0.204698</td>\n",
       "      <td>-0.182049</td>\n",
       "      <td>0.249233</td>\n",
       "      <td>-0.482803</td>\n",
       "      <td>-0.242439</td>\n",
       "      <td>-0.505823</td>\n",
       "      <td>1.000000</td>\n",
       "    </tr>\n",
       "  </tbody>\n",
       "</table>\n",
       "</div>"
      ],
      "text/plain": [
       "                    capacity_mw  latitude  longitude  primary_fuel  \\\n",
       "capacity_mw            1.000000  0.047608   0.200473     -0.377783   \n",
       "latitude               0.047608  1.000000   0.030775     -0.010793   \n",
       "longitude              0.200473  0.030775   1.000000     -0.352749   \n",
       "primary_fuel          -0.377783 -0.010793  -0.352749      1.000000   \n",
       "commissioning_year     0.012518  0.034731  -0.144785      0.145487   \n",
       "source                -0.241701  0.054346  -0.236349      0.053609   \n",
       "geolocation_source     0.204698 -0.182049   0.249233     -0.482803   \n",
       "\n",
       "                    commissioning_year    source  geolocation_source  \n",
       "capacity_mw                   0.012518 -0.241701            0.204698  \n",
       "latitude                      0.034731  0.054346           -0.182049  \n",
       "longitude                    -0.144785 -0.236349            0.249233  \n",
       "primary_fuel                  0.145487  0.053609           -0.482803  \n",
       "commissioning_year            1.000000  0.301660           -0.242439  \n",
       "source                        0.301660  1.000000           -0.505823  \n",
       "geolocation_source           -0.242439 -0.505823            1.000000  "
      ]
     },
     "execution_count": 142,
     "metadata": {},
     "output_type": "execute_result"
    }
   ],
   "source": [
    "corr_mat=df.corr()\n",
    "corr_mat"
   ]
  },
  {
   "cell_type": "code",
   "execution_count": 143,
   "metadata": {},
   "outputs": [
    {
     "data": {
      "image/png": "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\n",
      "text/plain": [
       "<Figure size 1584x864 with 2 Axes>"
      ]
     },
     "metadata": {},
     "output_type": "display_data"
    }
   ],
   "source": [
    "plt.figure(figsize=[22,12])\n",
    "sns.heatmap(corr_mat,annot=True)\n",
    "plt.title(\"Correlation Matrix\")\n",
    "plt.show()"
   ]
  },
  {
   "cell_type": "code",
   "execution_count": 144,
   "metadata": {},
   "outputs": [
    {
     "data": {
      "text/plain": [
       "<AxesSubplot:>"
      ]
     },
     "execution_count": 144,
     "metadata": {},
     "output_type": "execute_result"
    },
    {
     "data": {
      "image/png": "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\n",
      "text/plain": [
       "<Figure size 432x288 with 2 Axes>"
      ]
     },
     "metadata": {},
     "output_type": "display_data"
    }
   ],
   "source": [
    "sns.heatmap(corr_mat,annot=True,linewidths=10,linecolor='r')"
   ]
  },
  {
   "cell_type": "code",
   "execution_count": 145,
   "metadata": {},
   "outputs": [
    {
     "data": {
      "image/png": "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\n",
      "text/plain": [
       "<Figure size 1584x504 with 1 Axes>"
      ]
     },
     "metadata": {},
     "output_type": "display_data"
    }
   ],
   "source": [
    "plt.figure(figsize=(22,7))\n",
    "df.corr()['primary_fuel'].sort_values(ascending=False).drop(['primary_fuel']).plot(kind='bar',color='c')\n",
    "plt.xlabel('Feature',fontsize=14)\n",
    "plt.ylabel('column with target names',fontsize=14)\n",
    "plt.title('correlation',fontsize=18)\n",
    "plt.show()"
   ]
  },
  {
   "cell_type": "code",
   "execution_count": 146,
   "metadata": {},
   "outputs": [
    {
     "data": {
      "text/plain": [
       "primary_fuel          1.000000\n",
       "commissioning_year    0.145487\n",
       "source                0.053609\n",
       "latitude             -0.010793\n",
       "longitude            -0.352749\n",
       "capacity_mw          -0.377783\n",
       "geolocation_source   -0.482803\n",
       "Name: primary_fuel, dtype: float64"
      ]
     },
     "execution_count": 146,
     "metadata": {},
     "output_type": "execute_result"
    }
   ],
   "source": [
    "corr_mat[\"primary_fuel\"].sort_values(ascending=False)"
   ]
  },
  {
   "cell_type": "markdown",
   "metadata": {},
   "source": [
    "Using Heatmap, Correlation Matrix we can conclude below observations for Target Variable primary_fuel\n",
    "\n",
    "\n",
    "1. commissioning_year is positively correlated with primary_fuel Column data (in Positive Correlation Descending Order) reasonably\n",
    "\n",
    "\n",
    "2. geolocation_source, capacity_mw, longitude are negatively correlated with primary_fuel Column data (in Negative Correlation Descending Order)\n",
    "\n",
    "\n",
    "3. latitude, source column data has very less correlation with primary_fuel Column Data. If the Model Accuracy is less, these columns can be dropped because of very less correlationship with Target Variable"
   ]
  },
  {
   "cell_type": "code",
   "execution_count": 147,
   "metadata": {},
   "outputs": [
    {
     "data": {
      "image/png": "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\n",
      "text/plain": [
       "<Figure size 1584x504 with 1 Axes>"
      ]
     },
     "metadata": {},
     "output_type": "display_data"
    }
   ],
   "source": [
    "plt.figure(figsize=(22,7))\n",
    "df.corr()['capacity_mw'].sort_values(ascending=False).drop(['capacity_mw']).plot(kind='bar',color='c')\n",
    "plt.xlabel('Feature',fontsize=14)\n",
    "plt.ylabel('column with target names',fontsize=14)\n",
    "plt.title('correlation',fontsize=18)\n",
    "plt.show()"
   ]
  },
  {
   "cell_type": "code",
   "execution_count": 148,
   "metadata": {},
   "outputs": [
    {
     "data": {
      "text/plain": [
       "capacity_mw           1.000000\n",
       "geolocation_source    0.204698\n",
       "longitude             0.200473\n",
       "latitude              0.047608\n",
       "commissioning_year    0.012518\n",
       "source               -0.241701\n",
       "primary_fuel         -0.377783\n",
       "Name: capacity_mw, dtype: float64"
      ]
     },
     "execution_count": 148,
     "metadata": {},
     "output_type": "execute_result"
    }
   ],
   "source": [
    "corr_mat[\"capacity_mw\"].sort_values(ascending=False)"
   ]
  },
  {
   "cell_type": "markdown",
   "metadata": {},
   "source": [
    "Using Heatmap, Correlation Matrix we can conclude below observations for Target Variable capacity_mw\n",
    "\n",
    "\n",
    "1. geolocation_source, longitude are positively correlated with capacity_mw Column data (in Positive Correlation Descending Order) reasonably\n",
    "\n",
    "\n",
    "2. primary_fuel, source are negatively correlated with capacity_mw Column data (in Negative Correlation Descending Order)\n",
    "\n",
    "\n",
    "3. commissioning_year, latitude column data has very less correlation with capacity_mw Column Data. If the Model Accuracy is less, these columns can be dropped because of very less correlationship with Target Variable"
   ]
  },
  {
   "cell_type": "markdown",
   "metadata": {},
   "source": [
    "### Checking for Outliers through boxplots and analyzing each column Outliers "
   ]
  },
  {
   "cell_type": "code",
   "execution_count": 149,
   "metadata": {},
   "outputs": [
    {
     "data": {
      "text/html": [
       "<div>\n",
       "<style scoped>\n",
       "    .dataframe tbody tr th:only-of-type {\n",
       "        vertical-align: middle;\n",
       "    }\n",
       "\n",
       "    .dataframe tbody tr th {\n",
       "        vertical-align: top;\n",
       "    }\n",
       "\n",
       "    .dataframe thead th {\n",
       "        text-align: right;\n",
       "    }\n",
       "</style>\n",
       "<table border=\"1\" class=\"dataframe\">\n",
       "  <thead>\n",
       "    <tr style=\"text-align: right;\">\n",
       "      <th></th>\n",
       "      <th>capacity_mw</th>\n",
       "      <th>latitude</th>\n",
       "      <th>longitude</th>\n",
       "      <th>commissioning_year</th>\n",
       "      <th>source</th>\n",
       "      <th>geolocation_source</th>\n",
       "    </tr>\n",
       "  </thead>\n",
       "  <tbody>\n",
       "    <tr>\n",
       "      <th>0</th>\n",
       "      <td>2.5</td>\n",
       "      <td>28.1839</td>\n",
       "      <td>73.2407</td>\n",
       "      <td>2011.0</td>\n",
       "      <td>109</td>\n",
       "      <td>1</td>\n",
       "    </tr>\n",
       "    <tr>\n",
       "      <th>1</th>\n",
       "      <td>98.0</td>\n",
       "      <td>24.7663</td>\n",
       "      <td>74.6090</td>\n",
       "      <td>2013.0</td>\n",
       "      <td>174</td>\n",
       "      <td>2</td>\n",
       "    </tr>\n",
       "    <tr>\n",
       "      <th>2</th>\n",
       "      <td>39.2</td>\n",
       "      <td>21.9038</td>\n",
       "      <td>69.3732</td>\n",
       "      <td>2013.0</td>\n",
       "      <td>21</td>\n",
       "      <td>2</td>\n",
       "    </tr>\n",
       "    <tr>\n",
       "      <th>3</th>\n",
       "      <td>135.0</td>\n",
       "      <td>23.8712</td>\n",
       "      <td>91.3602</td>\n",
       "      <td>2004.0</td>\n",
       "      <td>22</td>\n",
       "      <td>2</td>\n",
       "    </tr>\n",
       "    <tr>\n",
       "      <th>4</th>\n",
       "      <td>1800.0</td>\n",
       "      <td>21.9603</td>\n",
       "      <td>82.4091</td>\n",
       "      <td>2015.0</td>\n",
       "      <td>22</td>\n",
       "      <td>2</td>\n",
       "    </tr>\n",
       "    <tr>\n",
       "      <th>...</th>\n",
       "      <td>...</td>\n",
       "      <td>...</td>\n",
       "      <td>...</td>\n",
       "      <td>...</td>\n",
       "      <td>...</td>\n",
       "      <td>...</td>\n",
       "    </tr>\n",
       "    <tr>\n",
       "      <th>903</th>\n",
       "      <td>1600.0</td>\n",
       "      <td>16.2949</td>\n",
       "      <td>77.3568</td>\n",
       "      <td>2016.0</td>\n",
       "      <td>22</td>\n",
       "      <td>2</td>\n",
       "    </tr>\n",
       "    <tr>\n",
       "      <th>904</th>\n",
       "      <td>3.0</td>\n",
       "      <td>12.8932</td>\n",
       "      <td>78.1654</td>\n",
       "      <td>2013.0</td>\n",
       "      <td>77</td>\n",
       "      <td>0</td>\n",
       "    </tr>\n",
       "    <tr>\n",
       "      <th>905</th>\n",
       "      <td>25.5</td>\n",
       "      <td>15.2758</td>\n",
       "      <td>75.5811</td>\n",
       "      <td>2013.0</td>\n",
       "      <td>21</td>\n",
       "      <td>2</td>\n",
       "    </tr>\n",
       "    <tr>\n",
       "      <th>906</th>\n",
       "      <td>80.0</td>\n",
       "      <td>24.3500</td>\n",
       "      <td>73.7477</td>\n",
       "      <td>2013.0</td>\n",
       "      <td>59</td>\n",
       "      <td>2</td>\n",
       "    </tr>\n",
       "    <tr>\n",
       "      <th>907</th>\n",
       "      <td>16.5</td>\n",
       "      <td>9.9344</td>\n",
       "      <td>77.4768</td>\n",
       "      <td>2013.0</td>\n",
       "      <td>21</td>\n",
       "      <td>2</td>\n",
       "    </tr>\n",
       "  </tbody>\n",
       "</table>\n",
       "<p>908 rows × 6 columns</p>\n",
       "</div>"
      ],
      "text/plain": [
       "     capacity_mw  latitude  longitude  commissioning_year  source  \\\n",
       "0            2.5   28.1839    73.2407              2011.0     109   \n",
       "1           98.0   24.7663    74.6090              2013.0     174   \n",
       "2           39.2   21.9038    69.3732              2013.0      21   \n",
       "3          135.0   23.8712    91.3602              2004.0      22   \n",
       "4         1800.0   21.9603    82.4091              2015.0      22   \n",
       "..           ...       ...        ...                 ...     ...   \n",
       "903       1600.0   16.2949    77.3568              2016.0      22   \n",
       "904          3.0   12.8932    78.1654              2013.0      77   \n",
       "905         25.5   15.2758    75.5811              2013.0      21   \n",
       "906         80.0   24.3500    73.7477              2013.0      59   \n",
       "907         16.5    9.9344    77.4768              2013.0      21   \n",
       "\n",
       "     geolocation_source  \n",
       "0                     1  \n",
       "1                     2  \n",
       "2                     2  \n",
       "3                     2  \n",
       "4                     2  \n",
       "..                  ...  \n",
       "903                   2  \n",
       "904                   0  \n",
       "905                   2  \n",
       "906                   2  \n",
       "907                   2  \n",
       "\n",
       "[908 rows x 6 columns]"
      ]
     },
     "execution_count": 149,
     "metadata": {},
     "output_type": "execute_result"
    }
   ],
   "source": [
    "x1 = df.drop(columns=['primary_fuel']).copy()\n",
    "y1 = df['primary_fuel'].copy()\n",
    "x1_outlier=x1.copy()\n",
    "x1_outlier"
   ]
  },
  {
   "cell_type": "code",
   "execution_count": 150,
   "metadata": {},
   "outputs": [
    {
     "data": {
      "image/png": "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\n",
      "text/plain": [
       "<Figure size 1440x2520 with 6 Axes>"
      ]
     },
     "metadata": {},
     "output_type": "display_data"
    }
   ],
   "source": [
    "plt.figure(figsize=(20,35),facecolor='white')\n",
    "plot_number3=1\n",
    "for i in x1_outlier:\n",
    "    if plot_number3<=31:\n",
    "        plt.subplot(8,4,plot_number3)\n",
    "        sns.boxplot(x1_outlier[i])\n",
    "        plt.xlabel(i,fontsize=20)\n",
    "    plot_number3+=1\n",
    "plt.show()"
   ]
  },
  {
   "cell_type": "markdown",
   "metadata": {},
   "source": [
    "For primary_fuel target variable (Classification Problem), we can confirm that there are outliers in capacity_mw, longitude, commissioning_year, source, geolocation_source Column Data"
   ]
  },
  {
   "cell_type": "code",
   "execution_count": 151,
   "metadata": {},
   "outputs": [
    {
     "data": {
      "text/html": [
       "<div>\n",
       "<style scoped>\n",
       "    .dataframe tbody tr th:only-of-type {\n",
       "        vertical-align: middle;\n",
       "    }\n",
       "\n",
       "    .dataframe tbody tr th {\n",
       "        vertical-align: top;\n",
       "    }\n",
       "\n",
       "    .dataframe thead th {\n",
       "        text-align: right;\n",
       "    }\n",
       "</style>\n",
       "<table border=\"1\" class=\"dataframe\">\n",
       "  <thead>\n",
       "    <tr style=\"text-align: right;\">\n",
       "      <th></th>\n",
       "      <th>latitude</th>\n",
       "      <th>longitude</th>\n",
       "      <th>primary_fuel</th>\n",
       "      <th>commissioning_year</th>\n",
       "      <th>source</th>\n",
       "      <th>geolocation_source</th>\n",
       "    </tr>\n",
       "  </thead>\n",
       "  <tbody>\n",
       "    <tr>\n",
       "      <th>0</th>\n",
       "      <td>28.1839</td>\n",
       "      <td>73.2407</td>\n",
       "      <td>6</td>\n",
       "      <td>2011.0</td>\n",
       "      <td>109</td>\n",
       "      <td>1</td>\n",
       "    </tr>\n",
       "    <tr>\n",
       "      <th>1</th>\n",
       "      <td>24.7663</td>\n",
       "      <td>74.6090</td>\n",
       "      <td>1</td>\n",
       "      <td>2013.0</td>\n",
       "      <td>174</td>\n",
       "      <td>2</td>\n",
       "    </tr>\n",
       "    <tr>\n",
       "      <th>2</th>\n",
       "      <td>21.9038</td>\n",
       "      <td>69.3732</td>\n",
       "      <td>7</td>\n",
       "      <td>2013.0</td>\n",
       "      <td>21</td>\n",
       "      <td>2</td>\n",
       "    </tr>\n",
       "    <tr>\n",
       "      <th>3</th>\n",
       "      <td>23.8712</td>\n",
       "      <td>91.3602</td>\n",
       "      <td>2</td>\n",
       "      <td>2004.0</td>\n",
       "      <td>22</td>\n",
       "      <td>2</td>\n",
       "    </tr>\n",
       "    <tr>\n",
       "      <th>4</th>\n",
       "      <td>21.9603</td>\n",
       "      <td>82.4091</td>\n",
       "      <td>1</td>\n",
       "      <td>2015.0</td>\n",
       "      <td>22</td>\n",
       "      <td>2</td>\n",
       "    </tr>\n",
       "    <tr>\n",
       "      <th>...</th>\n",
       "      <td>...</td>\n",
       "      <td>...</td>\n",
       "      <td>...</td>\n",
       "      <td>...</td>\n",
       "      <td>...</td>\n",
       "      <td>...</td>\n",
       "    </tr>\n",
       "    <tr>\n",
       "      <th>903</th>\n",
       "      <td>16.2949</td>\n",
       "      <td>77.3568</td>\n",
       "      <td>1</td>\n",
       "      <td>2016.0</td>\n",
       "      <td>22</td>\n",
       "      <td>2</td>\n",
       "    </tr>\n",
       "    <tr>\n",
       "      <th>904</th>\n",
       "      <td>12.8932</td>\n",
       "      <td>78.1654</td>\n",
       "      <td>6</td>\n",
       "      <td>2013.0</td>\n",
       "      <td>77</td>\n",
       "      <td>0</td>\n",
       "    </tr>\n",
       "    <tr>\n",
       "      <th>905</th>\n",
       "      <td>15.2758</td>\n",
       "      <td>75.5811</td>\n",
       "      <td>7</td>\n",
       "      <td>2013.0</td>\n",
       "      <td>21</td>\n",
       "      <td>2</td>\n",
       "    </tr>\n",
       "    <tr>\n",
       "      <th>906</th>\n",
       "      <td>24.3500</td>\n",
       "      <td>73.7477</td>\n",
       "      <td>1</td>\n",
       "      <td>2013.0</td>\n",
       "      <td>59</td>\n",
       "      <td>2</td>\n",
       "    </tr>\n",
       "    <tr>\n",
       "      <th>907</th>\n",
       "      <td>9.9344</td>\n",
       "      <td>77.4768</td>\n",
       "      <td>7</td>\n",
       "      <td>2013.0</td>\n",
       "      <td>21</td>\n",
       "      <td>2</td>\n",
       "    </tr>\n",
       "  </tbody>\n",
       "</table>\n",
       "<p>908 rows × 6 columns</p>\n",
       "</div>"
      ],
      "text/plain": [
       "     latitude  longitude  primary_fuel  commissioning_year  source  \\\n",
       "0     28.1839    73.2407             6              2011.0     109   \n",
       "1     24.7663    74.6090             1              2013.0     174   \n",
       "2     21.9038    69.3732             7              2013.0      21   \n",
       "3     23.8712    91.3602             2              2004.0      22   \n",
       "4     21.9603    82.4091             1              2015.0      22   \n",
       "..        ...        ...           ...                 ...     ...   \n",
       "903   16.2949    77.3568             1              2016.0      22   \n",
       "904   12.8932    78.1654             6              2013.0      77   \n",
       "905   15.2758    75.5811             7              2013.0      21   \n",
       "906   24.3500    73.7477             1              2013.0      59   \n",
       "907    9.9344    77.4768             7              2013.0      21   \n",
       "\n",
       "     geolocation_source  \n",
       "0                     1  \n",
       "1                     2  \n",
       "2                     2  \n",
       "3                     2  \n",
       "4                     2  \n",
       "..                  ...  \n",
       "903                   2  \n",
       "904                   0  \n",
       "905                   2  \n",
       "906                   2  \n",
       "907                   2  \n",
       "\n",
       "[908 rows x 6 columns]"
      ]
     },
     "execution_count": 151,
     "metadata": {},
     "output_type": "execute_result"
    }
   ],
   "source": [
    "x2 = df.drop(columns=['capacity_mw']).copy()\n",
    "y2 = df['capacity_mw'].copy()\n",
    "x2_outlier=x2.copy()\n",
    "x2_outlier"
   ]
  },
  {
   "cell_type": "code",
   "execution_count": 152,
   "metadata": {},
   "outputs": [
    {
     "data": {
      "image/png": "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\n",
      "text/plain": [
       "<Figure size 1440x2520 with 6 Axes>"
      ]
     },
     "metadata": {},
     "output_type": "display_data"
    }
   ],
   "source": [
    "plt.figure(figsize=(20,35),facecolor='white')\n",
    "plot_number3=1\n",
    "for i in x2_outlier:\n",
    "    if plot_number3<=31:\n",
    "        plt.subplot(8,4,plot_number3)\n",
    "        sns.boxplot(x2_outlier[i])\n",
    "        plt.xlabel(i,fontsize=20)\n",
    "    plot_number3+=1\n",
    "plt.show()"
   ]
  },
  {
   "cell_type": "markdown",
   "metadata": {},
   "source": [
    "For capacity_mw target variable (Regression Problem), we can confirm that there are outliers in longitude, commissioning_year, source, geolocation_source Column Data"
   ]
  },
  {
   "cell_type": "markdown",
   "metadata": {},
   "source": [
    "### Outliers Removal"
   ]
  },
  {
   "cell_type": "markdown",
   "metadata": {},
   "source": [
    "### Classification Problem:"
   ]
  },
  {
   "cell_type": "markdown",
   "metadata": {},
   "source": [
    "#### Using ZScore Method"
   ]
  },
  {
   "cell_type": "code",
   "execution_count": 153,
   "metadata": {},
   "outputs": [],
   "source": [
    "from scipy.stats import zscore\n",
    "z=np.abs(zscore(x1_outlier[['capacity_mw', 'latitude', 'longitude', 'commissioning_year']]))\n",
    "x_zscore_cl=x1_outlier[(z<3).all(axis=1)]"
   ]
  },
  {
   "cell_type": "markdown",
   "metadata": {},
   "source": [
    "Applying zscore to remove the Outliers"
   ]
  },
  {
   "cell_type": "markdown",
   "metadata": {},
   "source": [
    "##### Obtaining Data Set Shape after Outliers removed using zscore method"
   ]
  },
  {
   "cell_type": "code",
   "execution_count": 154,
   "metadata": {},
   "outputs": [
    {
     "data": {
      "text/plain": [
       "(854, 6)"
      ]
     },
     "execution_count": 154,
     "metadata": {},
     "output_type": "execute_result"
    }
   ],
   "source": [
    "x_zscore_cl.shape"
   ]
  },
  {
   "cell_type": "markdown",
   "metadata": {},
   "source": [
    "##### Dataset Shape before Outliers removal"
   ]
  },
  {
   "cell_type": "code",
   "execution_count": 155,
   "metadata": {},
   "outputs": [
    {
     "data": {
      "text/plain": [
       "(908, 6)"
      ]
     },
     "execution_count": 155,
     "metadata": {},
     "output_type": "execute_result"
    }
   ],
   "source": [
    "x1_outlier.shape"
   ]
  },
  {
   "cell_type": "code",
   "execution_count": 166,
   "metadata": {},
   "outputs": [
    {
     "data": {
      "text/plain": [
       "5.947136563876652"
      ]
     },
     "execution_count": 166,
     "metadata": {},
     "output_type": "execute_result"
    }
   ],
   "source": [
    "zscore_data_loss=((908-854)/908)*100\n",
    "zscore_data_loss"
   ]
  },
  {
   "cell_type": "markdown",
   "metadata": {},
   "source": [
    "Upon analyzing, found 5.94% of Data loss is occured when ZScore Method is used for Outliers removal for this Data set"
   ]
  },
  {
   "cell_type": "markdown",
   "metadata": {},
   "source": [
    "### Regression Problem:"
   ]
  },
  {
   "cell_type": "markdown",
   "metadata": {},
   "source": [
    "#### Using ZScore Method"
   ]
  },
  {
   "cell_type": "code",
   "execution_count": 157,
   "metadata": {},
   "outputs": [],
   "source": [
    "from scipy.stats import zscore\n",
    "z=np.abs(zscore(x2_outlier[['latitude', 'longitude', 'commissioning_year']]))\n",
    "x_zscore_rg=x2_outlier[(z<3).all(axis=1)]"
   ]
  },
  {
   "cell_type": "markdown",
   "metadata": {},
   "source": [
    "Applying zscore to remove the Outliers"
   ]
  },
  {
   "cell_type": "markdown",
   "metadata": {},
   "source": [
    "##### Obtaining Data Set Shape after Outliers removed using zscore method"
   ]
  },
  {
   "cell_type": "code",
   "execution_count": 158,
   "metadata": {},
   "outputs": [
    {
     "data": {
      "text/plain": [
       "(872, 6)"
      ]
     },
     "execution_count": 158,
     "metadata": {},
     "output_type": "execute_result"
    }
   ],
   "source": [
    "x_zscore_rg.shape"
   ]
  },
  {
   "cell_type": "markdown",
   "metadata": {},
   "source": [
    "##### Dataset Shape before Outliers removal"
   ]
  },
  {
   "cell_type": "code",
   "execution_count": 159,
   "metadata": {},
   "outputs": [
    {
     "data": {
      "text/plain": [
       "(908, 6)"
      ]
     },
     "execution_count": 159,
     "metadata": {},
     "output_type": "execute_result"
    }
   ],
   "source": [
    "x2_outlier.shape"
   ]
  },
  {
   "cell_type": "code",
   "execution_count": 167,
   "metadata": {},
   "outputs": [
    {
     "data": {
      "text/plain": [
       "3.9647577092511015"
      ]
     },
     "execution_count": 167,
     "metadata": {},
     "output_type": "execute_result"
    }
   ],
   "source": [
    "zscore_data_loss=((908-872)/908)*100\n",
    "zscore_data_loss"
   ]
  },
  {
   "cell_type": "markdown",
   "metadata": {},
   "source": [
    "Upon analyzing, found 3.96% of Data loss is occured when ZScore Method is used for Outliers removal for this Data set"
   ]
  },
  {
   "cell_type": "markdown",
   "metadata": {},
   "source": [
    "#### Analyzing Outliers through Boxplots after using Zscore"
   ]
  },
  {
   "cell_type": "markdown",
   "metadata": {},
   "source": [
    "### Classification Problem:"
   ]
  },
  {
   "cell_type": "code",
   "execution_count": 168,
   "metadata": {},
   "outputs": [
    {
     "data": {
      "image/png": "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\n",
      "text/plain": [
       "<Figure size 1440x2520 with 6 Axes>"
      ]
     },
     "metadata": {},
     "output_type": "display_data"
    }
   ],
   "source": [
    "plt.figure(figsize=(20,35),facecolor='white')\n",
    "plot_number3=1\n",
    "for i in x_zscore_cl:\n",
    "    if plot_number3<=31:\n",
    "        plt.subplot(8,4,plot_number3)\n",
    "        sns.boxplot(x_zscore_cl[i])\n",
    "        plt.xlabel(i,fontsize=20)\n",
    "    plot_number3+=1\n",
    "plt.show()"
   ]
  },
  {
   "cell_type": "markdown",
   "metadata": {},
   "source": [
    "### Regression Problem:"
   ]
  },
  {
   "cell_type": "code",
   "execution_count": 169,
   "metadata": {},
   "outputs": [
    {
     "data": {
      "image/png": "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\n",
      "text/plain": [
       "<Figure size 1440x2520 with 6 Axes>"
      ]
     },
     "metadata": {},
     "output_type": "display_data"
    }
   ],
   "source": [
    "plt.figure(figsize=(20,35),facecolor='white')\n",
    "plot_number3=1\n",
    "for i in x_zscore_rg:\n",
    "    if plot_number3<=31:\n",
    "        plt.subplot(8,4,plot_number3)\n",
    "        sns.boxplot(x_zscore_rg[i])\n",
    "        plt.xlabel(i,fontsize=20)\n",
    "    plot_number3+=1\n",
    "plt.show()"
   ]
  },
  {
   "cell_type": "markdown",
   "metadata": {},
   "source": [
    "Upon reviewing above boxplots, we can observe significant amount of outliers are removed for both type."
   ]
  },
  {
   "cell_type": "markdown",
   "metadata": {},
   "source": [
    "### Merging the Outlier Removed Feature Data Set with Earlier Original Data Set"
   ]
  },
  {
   "cell_type": "code",
   "execution_count": 170,
   "metadata": {},
   "outputs": [],
   "source": [
    "df_cl=df.copy()\n",
    "df_rg=df.copy()"
   ]
  },
  {
   "cell_type": "markdown",
   "metadata": {},
   "source": [
    "### Classification Model:"
   ]
  },
  {
   "cell_type": "code",
   "execution_count": 171,
   "metadata": {},
   "outputs": [
    {
     "data": {
      "text/plain": [
       "(854, 7)"
      ]
     },
     "execution_count": 171,
     "metadata": {},
     "output_type": "execute_result"
    }
   ],
   "source": [
    "drop_index = df_cl.index.difference(x_zscore_cl.index)\n",
    "df_cl.drop(drop_index,inplace = True)\n",
    "df_cl.reset_index(drop=True,inplace = True)\n",
    "df_cl.shape"
   ]
  },
  {
   "cell_type": "markdown",
   "metadata": {},
   "source": [
    "### Regression Model:"
   ]
  },
  {
   "cell_type": "code",
   "execution_count": 172,
   "metadata": {},
   "outputs": [
    {
     "data": {
      "text/plain": [
       "(872, 7)"
      ]
     },
     "execution_count": 172,
     "metadata": {},
     "output_type": "execute_result"
    }
   ],
   "source": [
    "drop_index = df_rg.index.difference(x_zscore_rg.index)\n",
    "df_rg.drop(drop_index,inplace = True)\n",
    "df_rg.reset_index(drop=True,inplace = True)\n",
    "df_rg.shape"
   ]
  },
  {
   "cell_type": "markdown",
   "metadata": {},
   "source": [
    "We can observe that Target variable is merged with outlier removed feature data set for both model problem"
   ]
  },
  {
   "cell_type": "markdown",
   "metadata": {},
   "source": [
    "### Skewness Analysis and Skewness Correction"
   ]
  },
  {
   "cell_type": "code",
   "execution_count": 173,
   "metadata": {},
   "outputs": [
    {
     "data": {
      "text/html": [
       "<div>\n",
       "<style scoped>\n",
       "    .dataframe tbody tr th:only-of-type {\n",
       "        vertical-align: middle;\n",
       "    }\n",
       "\n",
       "    .dataframe tbody tr th {\n",
       "        vertical-align: top;\n",
       "    }\n",
       "\n",
       "    .dataframe thead th {\n",
       "        text-align: right;\n",
       "    }\n",
       "</style>\n",
       "<table border=\"1\" class=\"dataframe\">\n",
       "  <thead>\n",
       "    <tr style=\"text-align: right;\">\n",
       "      <th></th>\n",
       "      <th>capacity_mw</th>\n",
       "      <th>latitude</th>\n",
       "      <th>longitude</th>\n",
       "      <th>primary_fuel</th>\n",
       "      <th>commissioning_year</th>\n",
       "      <th>source</th>\n",
       "      <th>geolocation_source</th>\n",
       "    </tr>\n",
       "  </thead>\n",
       "  <tbody>\n",
       "    <tr>\n",
       "      <th>0</th>\n",
       "      <td>2.5</td>\n",
       "      <td>28.1839</td>\n",
       "      <td>73.2407</td>\n",
       "      <td>6</td>\n",
       "      <td>2011.0</td>\n",
       "      <td>109</td>\n",
       "      <td>1</td>\n",
       "    </tr>\n",
       "    <tr>\n",
       "      <th>1</th>\n",
       "      <td>98.0</td>\n",
       "      <td>24.7663</td>\n",
       "      <td>74.6090</td>\n",
       "      <td>1</td>\n",
       "      <td>2013.0</td>\n",
       "      <td>174</td>\n",
       "      <td>2</td>\n",
       "    </tr>\n",
       "    <tr>\n",
       "      <th>2</th>\n",
       "      <td>39.2</td>\n",
       "      <td>21.9038</td>\n",
       "      <td>69.3732</td>\n",
       "      <td>7</td>\n",
       "      <td>2013.0</td>\n",
       "      <td>21</td>\n",
       "      <td>2</td>\n",
       "    </tr>\n",
       "    <tr>\n",
       "      <th>3</th>\n",
       "      <td>135.0</td>\n",
       "      <td>23.8712</td>\n",
       "      <td>91.3602</td>\n",
       "      <td>2</td>\n",
       "      <td>2004.0</td>\n",
       "      <td>22</td>\n",
       "      <td>2</td>\n",
       "    </tr>\n",
       "    <tr>\n",
       "      <th>4</th>\n",
       "      <td>1800.0</td>\n",
       "      <td>21.9603</td>\n",
       "      <td>82.4091</td>\n",
       "      <td>1</td>\n",
       "      <td>2015.0</td>\n",
       "      <td>22</td>\n",
       "      <td>2</td>\n",
       "    </tr>\n",
       "    <tr>\n",
       "      <th>...</th>\n",
       "      <td>...</td>\n",
       "      <td>...</td>\n",
       "      <td>...</td>\n",
       "      <td>...</td>\n",
       "      <td>...</td>\n",
       "      <td>...</td>\n",
       "      <td>...</td>\n",
       "    </tr>\n",
       "    <tr>\n",
       "      <th>849</th>\n",
       "      <td>1600.0</td>\n",
       "      <td>16.2949</td>\n",
       "      <td>77.3568</td>\n",
       "      <td>1</td>\n",
       "      <td>2016.0</td>\n",
       "      <td>22</td>\n",
       "      <td>2</td>\n",
       "    </tr>\n",
       "    <tr>\n",
       "      <th>850</th>\n",
       "      <td>3.0</td>\n",
       "      <td>12.8932</td>\n",
       "      <td>78.1654</td>\n",
       "      <td>6</td>\n",
       "      <td>2013.0</td>\n",
       "      <td>77</td>\n",
       "      <td>0</td>\n",
       "    </tr>\n",
       "    <tr>\n",
       "      <th>851</th>\n",
       "      <td>25.5</td>\n",
       "      <td>15.2758</td>\n",
       "      <td>75.5811</td>\n",
       "      <td>7</td>\n",
       "      <td>2013.0</td>\n",
       "      <td>21</td>\n",
       "      <td>2</td>\n",
       "    </tr>\n",
       "    <tr>\n",
       "      <th>852</th>\n",
       "      <td>80.0</td>\n",
       "      <td>24.3500</td>\n",
       "      <td>73.7477</td>\n",
       "      <td>1</td>\n",
       "      <td>2013.0</td>\n",
       "      <td>59</td>\n",
       "      <td>2</td>\n",
       "    </tr>\n",
       "    <tr>\n",
       "      <th>853</th>\n",
       "      <td>16.5</td>\n",
       "      <td>9.9344</td>\n",
       "      <td>77.4768</td>\n",
       "      <td>7</td>\n",
       "      <td>2013.0</td>\n",
       "      <td>21</td>\n",
       "      <td>2</td>\n",
       "    </tr>\n",
       "  </tbody>\n",
       "</table>\n",
       "<p>854 rows × 7 columns</p>\n",
       "</div>"
      ],
      "text/plain": [
       "     capacity_mw  latitude  longitude  primary_fuel  commissioning_year  \\\n",
       "0            2.5   28.1839    73.2407             6              2011.0   \n",
       "1           98.0   24.7663    74.6090             1              2013.0   \n",
       "2           39.2   21.9038    69.3732             7              2013.0   \n",
       "3          135.0   23.8712    91.3602             2              2004.0   \n",
       "4         1800.0   21.9603    82.4091             1              2015.0   \n",
       "..           ...       ...        ...           ...                 ...   \n",
       "849       1600.0   16.2949    77.3568             1              2016.0   \n",
       "850          3.0   12.8932    78.1654             6              2013.0   \n",
       "851         25.5   15.2758    75.5811             7              2013.0   \n",
       "852         80.0   24.3500    73.7477             1              2013.0   \n",
       "853         16.5    9.9344    77.4768             7              2013.0   \n",
       "\n",
       "     source  geolocation_source  \n",
       "0       109                   1  \n",
       "1       174                   2  \n",
       "2        21                   2  \n",
       "3        22                   2  \n",
       "4        22                   2  \n",
       "..      ...                 ...  \n",
       "849      22                   2  \n",
       "850      77                   0  \n",
       "851      21                   2  \n",
       "852      59                   2  \n",
       "853      21                   2  \n",
       "\n",
       "[854 rows x 7 columns]"
      ]
     },
     "execution_count": 173,
     "metadata": {},
     "output_type": "execute_result"
    }
   ],
   "source": [
    "df_powertransform_cl = df_cl.copy()\n",
    "df_powertransform_cl"
   ]
  },
  {
   "cell_type": "code",
   "execution_count": 174,
   "metadata": {},
   "outputs": [
    {
     "data": {
      "text/html": [
       "<div>\n",
       "<style scoped>\n",
       "    .dataframe tbody tr th:only-of-type {\n",
       "        vertical-align: middle;\n",
       "    }\n",
       "\n",
       "    .dataframe tbody tr th {\n",
       "        vertical-align: top;\n",
       "    }\n",
       "\n",
       "    .dataframe thead th {\n",
       "        text-align: right;\n",
       "    }\n",
       "</style>\n",
       "<table border=\"1\" class=\"dataframe\">\n",
       "  <thead>\n",
       "    <tr style=\"text-align: right;\">\n",
       "      <th></th>\n",
       "      <th>capacity_mw</th>\n",
       "      <th>latitude</th>\n",
       "      <th>longitude</th>\n",
       "      <th>primary_fuel</th>\n",
       "      <th>commissioning_year</th>\n",
       "      <th>source</th>\n",
       "      <th>geolocation_source</th>\n",
       "    </tr>\n",
       "  </thead>\n",
       "  <tbody>\n",
       "    <tr>\n",
       "      <th>0</th>\n",
       "      <td>2.5</td>\n",
       "      <td>28.1839</td>\n",
       "      <td>73.2407</td>\n",
       "      <td>6</td>\n",
       "      <td>2011.0</td>\n",
       "      <td>109</td>\n",
       "      <td>1</td>\n",
       "    </tr>\n",
       "    <tr>\n",
       "      <th>1</th>\n",
       "      <td>98.0</td>\n",
       "      <td>24.7663</td>\n",
       "      <td>74.6090</td>\n",
       "      <td>1</td>\n",
       "      <td>2013.0</td>\n",
       "      <td>174</td>\n",
       "      <td>2</td>\n",
       "    </tr>\n",
       "    <tr>\n",
       "      <th>2</th>\n",
       "      <td>39.2</td>\n",
       "      <td>21.9038</td>\n",
       "      <td>69.3732</td>\n",
       "      <td>7</td>\n",
       "      <td>2013.0</td>\n",
       "      <td>21</td>\n",
       "      <td>2</td>\n",
       "    </tr>\n",
       "    <tr>\n",
       "      <th>3</th>\n",
       "      <td>135.0</td>\n",
       "      <td>23.8712</td>\n",
       "      <td>91.3602</td>\n",
       "      <td>2</td>\n",
       "      <td>2004.0</td>\n",
       "      <td>22</td>\n",
       "      <td>2</td>\n",
       "    </tr>\n",
       "    <tr>\n",
       "      <th>4</th>\n",
       "      <td>1800.0</td>\n",
       "      <td>21.9603</td>\n",
       "      <td>82.4091</td>\n",
       "      <td>1</td>\n",
       "      <td>2015.0</td>\n",
       "      <td>22</td>\n",
       "      <td>2</td>\n",
       "    </tr>\n",
       "    <tr>\n",
       "      <th>...</th>\n",
       "      <td>...</td>\n",
       "      <td>...</td>\n",
       "      <td>...</td>\n",
       "      <td>...</td>\n",
       "      <td>...</td>\n",
       "      <td>...</td>\n",
       "      <td>...</td>\n",
       "    </tr>\n",
       "    <tr>\n",
       "      <th>867</th>\n",
       "      <td>1600.0</td>\n",
       "      <td>16.2949</td>\n",
       "      <td>77.3568</td>\n",
       "      <td>1</td>\n",
       "      <td>2016.0</td>\n",
       "      <td>22</td>\n",
       "      <td>2</td>\n",
       "    </tr>\n",
       "    <tr>\n",
       "      <th>868</th>\n",
       "      <td>3.0</td>\n",
       "      <td>12.8932</td>\n",
       "      <td>78.1654</td>\n",
       "      <td>6</td>\n",
       "      <td>2013.0</td>\n",
       "      <td>77</td>\n",
       "      <td>0</td>\n",
       "    </tr>\n",
       "    <tr>\n",
       "      <th>869</th>\n",
       "      <td>25.5</td>\n",
       "      <td>15.2758</td>\n",
       "      <td>75.5811</td>\n",
       "      <td>7</td>\n",
       "      <td>2013.0</td>\n",
       "      <td>21</td>\n",
       "      <td>2</td>\n",
       "    </tr>\n",
       "    <tr>\n",
       "      <th>870</th>\n",
       "      <td>80.0</td>\n",
       "      <td>24.3500</td>\n",
       "      <td>73.7477</td>\n",
       "      <td>1</td>\n",
       "      <td>2013.0</td>\n",
       "      <td>59</td>\n",
       "      <td>2</td>\n",
       "    </tr>\n",
       "    <tr>\n",
       "      <th>871</th>\n",
       "      <td>16.5</td>\n",
       "      <td>9.9344</td>\n",
       "      <td>77.4768</td>\n",
       "      <td>7</td>\n",
       "      <td>2013.0</td>\n",
       "      <td>21</td>\n",
       "      <td>2</td>\n",
       "    </tr>\n",
       "  </tbody>\n",
       "</table>\n",
       "<p>872 rows × 7 columns</p>\n",
       "</div>"
      ],
      "text/plain": [
       "     capacity_mw  latitude  longitude  primary_fuel  commissioning_year  \\\n",
       "0            2.5   28.1839    73.2407             6              2011.0   \n",
       "1           98.0   24.7663    74.6090             1              2013.0   \n",
       "2           39.2   21.9038    69.3732             7              2013.0   \n",
       "3          135.0   23.8712    91.3602             2              2004.0   \n",
       "4         1800.0   21.9603    82.4091             1              2015.0   \n",
       "..           ...       ...        ...           ...                 ...   \n",
       "867       1600.0   16.2949    77.3568             1              2016.0   \n",
       "868          3.0   12.8932    78.1654             6              2013.0   \n",
       "869         25.5   15.2758    75.5811             7              2013.0   \n",
       "870         80.0   24.3500    73.7477             1              2013.0   \n",
       "871         16.5    9.9344    77.4768             7              2013.0   \n",
       "\n",
       "     source  geolocation_source  \n",
       "0       109                   1  \n",
       "1       174                   2  \n",
       "2        21                   2  \n",
       "3        22                   2  \n",
       "4        22                   2  \n",
       "..      ...                 ...  \n",
       "867      22                   2  \n",
       "868      77                   0  \n",
       "869      21                   2  \n",
       "870      59                   2  \n",
       "871      21                   2  \n",
       "\n",
       "[872 rows x 7 columns]"
      ]
     },
     "execution_count": 174,
     "metadata": {},
     "output_type": "execute_result"
    }
   ],
   "source": [
    "df_powertransform_rg = df_rg.copy()\n",
    "df_powertransform_rg"
   ]
  },
  {
   "cell_type": "code",
   "execution_count": 176,
   "metadata": {},
   "outputs": [
    {
     "data": {
      "text/plain": [
       "1    241\n",
       "3    219\n",
       "6    126\n",
       "7    123\n",
       "2     65\n",
       "0     50\n",
       "5     21\n",
       "4      9\n",
       "Name: primary_fuel, dtype: int64"
      ]
     },
     "execution_count": 176,
     "metadata": {},
     "output_type": "execute_result"
    }
   ],
   "source": [
    "x1_cl = df_powertransform_cl.drop(columns=['primary_fuel'])\n",
    "y1_cl = df_powertransform_cl['primary_fuel']\n",
    "y1_cl.value_counts()"
   ]
  },
  {
   "cell_type": "code",
   "execution_count": 177,
   "metadata": {},
   "outputs": [
    {
     "data": {
      "text/plain": [
       "5.00       37\n",
       "10.00      21\n",
       "600.00     21\n",
       "15.00      19\n",
       "1200.00    19\n",
       "           ..\n",
       "702.86      1\n",
       "272.30      1\n",
       "4.20        1\n",
       "91.80       1\n",
       "2.50        1\n",
       "Name: capacity_mw, Length: 351, dtype: int64"
      ]
     },
     "execution_count": 177,
     "metadata": {},
     "output_type": "execute_result"
    }
   ],
   "source": [
    "x1_rg = df_powertransform_rg.drop(columns=['capacity_mw'])\n",
    "y1_rg = df_powertransform_rg['capacity_mw']\n",
    "y1_rg.value_counts()"
   ]
  },
  {
   "cell_type": "code",
   "execution_count": 181,
   "metadata": {},
   "outputs": [
    {
     "data": {
      "text/plain": [
       "capacity_mw           1.991091\n",
       "latitude             -0.122530\n",
       "longitude             0.885597\n",
       "commissioning_year   -1.604869\n",
       "source                1.739843\n",
       "geolocation_source   -2.072421\n",
       "dtype: float64"
      ]
     },
     "execution_count": 181,
     "metadata": {},
     "output_type": "execute_result"
    }
   ],
   "source": [
    "x1_cl.skew()"
   ]
  },
  {
   "cell_type": "code",
   "execution_count": 180,
   "metadata": {},
   "outputs": [
    {
     "data": {
      "text/plain": [
       "capacity_mw           0.013405\n",
       "latitude             -0.073162\n",
       "longitude            -0.000012\n",
       "commissioning_year   -1.162985\n",
       "dtype: float64"
      ]
     },
     "execution_count": 180,
     "metadata": {},
     "output_type": "execute_result"
    }
   ],
   "source": [
    "x2_cl=x1_cl[['capacity_mw', 'latitude', 'longitude', 'commissioning_year']]\n",
    "x2_cl_skew = power_transform(x2_cl)\n",
    "x2_cl_skew = pd.DataFrame(x2_cl_skew, columns=x2_cl.columns)\n",
    "x2_cl_skew.skew()"
   ]
  },
  {
   "cell_type": "markdown",
   "metadata": {},
   "source": [
    "We can observe except commissioning_year, all columns are within skewness allowable range of -0.50 to +0.50"
   ]
  },
  {
   "cell_type": "code",
   "execution_count": 182,
   "metadata": {},
   "outputs": [
    {
     "data": {
      "text/plain": [
       "latitude             -0.133094\n",
       "longitude             0.838352\n",
       "primary_fuel          0.450137\n",
       "commissioning_year   -1.606103\n",
       "source                1.773061\n",
       "geolocation_source   -2.107415\n",
       "dtype: float64"
      ]
     },
     "execution_count": 182,
     "metadata": {},
     "output_type": "execute_result"
    }
   ],
   "source": [
    "x1_rg.skew()"
   ]
  },
  {
   "cell_type": "code",
   "execution_count": 183,
   "metadata": {},
   "outputs": [
    {
     "data": {
      "text/plain": [
       "latitude             -0.070450\n",
       "longitude             0.003368\n",
       "commissioning_year   -1.155576\n",
       "dtype: float64"
      ]
     },
     "execution_count": 183,
     "metadata": {},
     "output_type": "execute_result"
    }
   ],
   "source": [
    "x2_rg=x1_rg[['latitude', 'longitude', 'commissioning_year']]\n",
    "x2_rg_skew = power_transform(x2_rg)\n",
    "x2_rg_skew = pd.DataFrame(x2_rg_skew, columns=x2_rg.columns)\n",
    "x2_rg_skew.skew()"
   ]
  },
  {
   "cell_type": "markdown",
   "metadata": {},
   "source": [
    "We can observe except commissioning_year, all columns are within skewness allowable range of -0.50 to +0.50"
   ]
  },
  {
   "cell_type": "markdown",
   "metadata": {},
   "source": [
    "#### Analyzing the distribution plots after skewness correction"
   ]
  },
  {
   "cell_type": "code",
   "execution_count": 184,
   "metadata": {},
   "outputs": [
    {
     "data": {
      "image/png": "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\n",
      "text/plain": [
       "<Figure size 1440x2520 with 4 Axes>"
      ]
     },
     "metadata": {
      "needs_background": "light"
     },
     "output_type": "display_data"
    }
   ],
   "source": [
    "plt.figure(figsize = (20,35))\n",
    "plot_number = 1\n",
    "for i in x2_cl_skew:\n",
    "    if plot_number <=31:\n",
    "        plt.subplot(7,5,plot_number)\n",
    "        sns.distplot(x2_cl_skew[i], color = 'green')\n",
    "        plt.xlabel(i,fontsize = 20)\n",
    "    plot_number+=1\n",
    "plt.show()"
   ]
  },
  {
   "cell_type": "code",
   "execution_count": 185,
   "metadata": {},
   "outputs": [
    {
     "data": {
      "image/png": "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\n",
      "text/plain": [
       "<Figure size 1440x2520 with 3 Axes>"
      ]
     },
     "metadata": {
      "needs_background": "light"
     },
     "output_type": "display_data"
    }
   ],
   "source": [
    "plt.figure(figsize = (20,35))\n",
    "plot_number = 1\n",
    "for i in x2_rg_skew:\n",
    "    if plot_number <=31:\n",
    "        plt.subplot(7,5,plot_number)\n",
    "        sns.distplot(x2_rg_skew[i], color = 'green')\n",
    "        plt.xlabel(i,fontsize = 20)\n",
    "    plot_number+=1\n",
    "plt.show()"
   ]
  },
  {
   "cell_type": "markdown",
   "metadata": {},
   "source": [
    "From these distribution plots, We can observe significant skewness is corrected and most of the columns data are normally distributed"
   ]
  },
  {
   "cell_type": "markdown",
   "metadata": {},
   "source": [
    "### Merging the Skewness Corrected Feature Data Set with Earlier Original Data Set"
   ]
  },
  {
   "cell_type": "markdown",
   "metadata": {},
   "source": [
    "### Classification Problem:"
   ]
  },
  {
   "cell_type": "code",
   "execution_count": 186,
   "metadata": {},
   "outputs": [
    {
     "data": {
      "text/plain": [
       "(854, 7)"
      ]
     },
     "execution_count": 186,
     "metadata": {},
     "output_type": "execute_result"
    }
   ],
   "source": [
    "drop_index = df_cl.index.difference(x2_cl_skew.index)\n",
    "df_cl.drop(drop_index,inplace = True)\n",
    "df_cl.reset_index(drop=True,inplace = True)\n",
    "df_cl.shape"
   ]
  },
  {
   "cell_type": "markdown",
   "metadata": {},
   "source": [
    "### Regression Problem:"
   ]
  },
  {
   "cell_type": "code",
   "execution_count": 187,
   "metadata": {},
   "outputs": [
    {
     "data": {
      "text/plain": [
       "(872, 7)"
      ]
     },
     "execution_count": 187,
     "metadata": {},
     "output_type": "execute_result"
    }
   ],
   "source": [
    "drop_index = df_rg.index.difference(x2_rg_skew.index)\n",
    "df_rg.drop(drop_index,inplace = True)\n",
    "df_rg.reset_index(drop=True,inplace = True)\n",
    "df_rg.shape"
   ]
  },
  {
   "cell_type": "markdown",
   "metadata": {},
   "source": [
    "### Feature and Target Selection"
   ]
  },
  {
   "cell_type": "code",
   "execution_count": 188,
   "metadata": {},
   "outputs": [
    {
     "data": {
      "text/plain": [
       "1    241\n",
       "3    219\n",
       "6    126\n",
       "7    123\n",
       "2     65\n",
       "0     50\n",
       "5     21\n",
       "4      9\n",
       "Name: primary_fuel, dtype: int64"
      ]
     },
     "execution_count": 188,
     "metadata": {},
     "output_type": "execute_result"
    }
   ],
   "source": [
    "x_cl = df_cl.drop(columns=['primary_fuel'])\n",
    "y_cl = df_cl['primary_fuel']\n",
    "y_cl.value_counts()"
   ]
  },
  {
   "cell_type": "code",
   "execution_count": 189,
   "metadata": {},
   "outputs": [
    {
     "data": {
      "text/plain": [
       "5.00       37\n",
       "10.00      21\n",
       "600.00     21\n",
       "15.00      19\n",
       "1200.00    19\n",
       "           ..\n",
       "702.86      1\n",
       "272.30      1\n",
       "4.20        1\n",
       "91.80       1\n",
       "2.50        1\n",
       "Name: capacity_mw, Length: 351, dtype: int64"
      ]
     },
     "execution_count": 189,
     "metadata": {},
     "output_type": "execute_result"
    }
   ],
   "source": [
    "x_rg = df_rg.drop(columns=['capacity_mw'])\n",
    "y_rg = df_rg['capacity_mw']\n",
    "y_rg.value_counts()"
   ]
  },
  {
   "cell_type": "markdown",
   "metadata": {},
   "source": [
    "### Applying Standard Scaler in order to check the Multicollinearity"
   ]
  },
  {
   "cell_type": "code",
   "execution_count": 190,
   "metadata": {},
   "outputs": [
    {
     "data": {
      "text/plain": [
       "array([[-0.6302195 ,  1.1526519 , -0.88742986,  0.46047603,  1.40156485,\n",
       "        -1.03947823],\n",
       "       [-0.40898845,  0.59445219, -0.56232267,  0.61051286,  2.82727247,\n",
       "         0.40631071],\n",
       "       [-0.54520192,  0.12691747, -1.80634533,  0.61051286, -0.52862393,\n",
       "         0.40631071],\n",
       "       ...,\n",
       "       [-0.57693873, -0.95563979, -0.33135235,  0.61051286, -0.52862393,\n",
       "         0.40631071],\n",
       "       [-0.45068645,  0.52645753, -0.76696699,  0.61051286,  0.30486668,\n",
       "         0.40631071],\n",
       "       [-0.59778773, -1.8280555 ,  0.11906473,  0.61051286, -0.52862393,\n",
       "         0.40631071]])"
      ]
     },
     "execution_count": 190,
     "metadata": {},
     "output_type": "execute_result"
    }
   ],
   "source": [
    "sc=StandardScaler()\n",
    "x_scaled_cl=sc.fit_transform(x_cl)\n",
    "x_scaled_cl"
   ]
  },
  {
   "cell_type": "code",
   "execution_count": 191,
   "metadata": {},
   "outputs": [
    {
     "data": {
      "text/plain": [
       "array([[ 1.15938824, -0.89551633,  1.19864074,  0.46287066,  1.42306144,\n",
       "        -1.0570513 ],\n",
       "       [ 0.59623521, -0.57397276, -0.95377838,  0.613899  ,  2.85991342,\n",
       "         0.40141188],\n",
       "       [ 0.1245517 , -1.80435924,  1.62912456,  0.613899  , -0.52221508,\n",
       "         0.40141188],\n",
       "       ...,\n",
       "       [-0.9676119 , -0.34553418,  1.62912456,  0.613899  , -0.52221508,\n",
       "         0.40141188],\n",
       "       [ 0.52763718, -0.7763739 , -0.95377838,  0.613899  ,  0.31779069,\n",
       "         0.40141188],\n",
       "       [-1.84776921,  0.09994572,  1.62912456,  0.613899  , -0.52221508,\n",
       "         0.40141188]])"
      ]
     },
     "execution_count": 191,
     "metadata": {},
     "output_type": "execute_result"
    }
   ],
   "source": [
    "sc=StandardScaler()\n",
    "x_scaled_rg=sc.fit_transform(x_rg)\n",
    "x_scaled_rg"
   ]
  },
  {
   "cell_type": "markdown",
   "metadata": {},
   "source": [
    "### Obtaining Multicollinearity using Variance Inflation Factor"
   ]
  },
  {
   "cell_type": "code",
   "execution_count": 196,
   "metadata": {},
   "outputs": [],
   "source": [
    "vif_cl = pd.DataFrame().copy()\n",
    "vif_rg = pd.DataFrame().copy()"
   ]
  },
  {
   "cell_type": "code",
   "execution_count": 197,
   "metadata": {},
   "outputs": [
    {
     "data": {
      "text/html": [
       "<div>\n",
       "<style scoped>\n",
       "    .dataframe tbody tr th:only-of-type {\n",
       "        vertical-align: middle;\n",
       "    }\n",
       "\n",
       "    .dataframe tbody tr th {\n",
       "        vertical-align: top;\n",
       "    }\n",
       "\n",
       "    .dataframe thead th {\n",
       "        text-align: right;\n",
       "    }\n",
       "</style>\n",
       "<table border=\"1\" class=\"dataframe\">\n",
       "  <thead>\n",
       "    <tr style=\"text-align: right;\">\n",
       "      <th></th>\n",
       "      <th>Columns</th>\n",
       "      <th>vif_cl</th>\n",
       "    </tr>\n",
       "  </thead>\n",
       "  <tbody>\n",
       "    <tr>\n",
       "      <th>0</th>\n",
       "      <td>capacity_mw</td>\n",
       "      <td>1.166872</td>\n",
       "    </tr>\n",
       "    <tr>\n",
       "      <th>1</th>\n",
       "      <td>latitude</td>\n",
       "      <td>1.052600</td>\n",
       "    </tr>\n",
       "    <tr>\n",
       "      <th>2</th>\n",
       "      <td>longitude</td>\n",
       "      <td>1.144213</td>\n",
       "    </tr>\n",
       "    <tr>\n",
       "      <th>3</th>\n",
       "      <td>commissioning_year</td>\n",
       "      <td>1.125622</td>\n",
       "    </tr>\n",
       "    <tr>\n",
       "      <th>4</th>\n",
       "      <td>source</td>\n",
       "      <td>1.465101</td>\n",
       "    </tr>\n",
       "    <tr>\n",
       "      <th>5</th>\n",
       "      <td>geolocation_source</td>\n",
       "      <td>1.457637</td>\n",
       "    </tr>\n",
       "  </tbody>\n",
       "</table>\n",
       "</div>"
      ],
      "text/plain": [
       "              Columns    vif_cl\n",
       "0         capacity_mw  1.166872\n",
       "1            latitude  1.052600\n",
       "2           longitude  1.144213\n",
       "3  commissioning_year  1.125622\n",
       "4              source  1.465101\n",
       "5  geolocation_source  1.457637"
      ]
     },
     "execution_count": 197,
     "metadata": {},
     "output_type": "execute_result"
    }
   ],
   "source": [
    "vif_cl[\"Columns\"] = x_cl.columns\n",
    "vif_cl['vif_cl'] = [variance_inflation_factor(x_scaled_cl,i) for i in range(x_scaled_cl.shape[1])]\n",
    "vif_cl"
   ]
  },
  {
   "cell_type": "code",
   "execution_count": 198,
   "metadata": {},
   "outputs": [
    {
     "data": {
      "text/html": [
       "<div>\n",
       "<style scoped>\n",
       "    .dataframe tbody tr th:only-of-type {\n",
       "        vertical-align: middle;\n",
       "    }\n",
       "\n",
       "    .dataframe tbody tr th {\n",
       "        vertical-align: top;\n",
       "    }\n",
       "\n",
       "    .dataframe thead th {\n",
       "        text-align: right;\n",
       "    }\n",
       "</style>\n",
       "<table border=\"1\" class=\"dataframe\">\n",
       "  <thead>\n",
       "    <tr style=\"text-align: right;\">\n",
       "      <th></th>\n",
       "      <th>Columns</th>\n",
       "      <th>vif_rg</th>\n",
       "    </tr>\n",
       "  </thead>\n",
       "  <tbody>\n",
       "    <tr>\n",
       "      <th>0</th>\n",
       "      <td>latitude</td>\n",
       "      <td>1.061512</td>\n",
       "    </tr>\n",
       "    <tr>\n",
       "      <th>1</th>\n",
       "      <td>longitude</td>\n",
       "      <td>1.258912</td>\n",
       "    </tr>\n",
       "    <tr>\n",
       "      <th>2</th>\n",
       "      <td>primary_fuel</td>\n",
       "      <td>1.645813</td>\n",
       "    </tr>\n",
       "    <tr>\n",
       "      <th>3</th>\n",
       "      <td>commissioning_year</td>\n",
       "      <td>1.132741</td>\n",
       "    </tr>\n",
       "    <tr>\n",
       "      <th>4</th>\n",
       "      <td>source</td>\n",
       "      <td>1.598034</td>\n",
       "    </tr>\n",
       "    <tr>\n",
       "      <th>5</th>\n",
       "      <td>geolocation_source</td>\n",
       "      <td>1.959394</td>\n",
       "    </tr>\n",
       "  </tbody>\n",
       "</table>\n",
       "</div>"
      ],
      "text/plain": [
       "              Columns    vif_rg\n",
       "0            latitude  1.061512\n",
       "1           longitude  1.258912\n",
       "2        primary_fuel  1.645813\n",
       "3  commissioning_year  1.132741\n",
       "4              source  1.598034\n",
       "5  geolocation_source  1.959394"
      ]
     },
     "execution_count": 198,
     "metadata": {},
     "output_type": "execute_result"
    }
   ],
   "source": [
    "vif_rg[\"Columns\"] = x_rg.columns\n",
    "vif_rg['vif_rg'] = [variance_inflation_factor(x_scaled_rg,i) for i in range(x_scaled_rg.shape[1])]\n",
    "vif_rg"
   ]
  },
  {
   "cell_type": "markdown",
   "metadata": {},
   "source": [
    "From above set, we can observe that most of the columns have same multicollinearity and VIF. So we couldnt get an idea through so we shall proceed with PCA"
   ]
  },
  {
   "cell_type": "markdown",
   "metadata": {},
   "source": [
    "### Principle Component Analysis "
   ]
  },
  {
   "cell_type": "code",
   "execution_count": 199,
   "metadata": {},
   "outputs": [
    {
     "data": {
      "image/png": "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\n",
      "text/plain": [
       "<Figure size 432x288 with 1 Axes>"
      ]
     },
     "metadata": {
      "needs_background": "light"
     },
     "output_type": "display_data"
    }
   ],
   "source": [
    "pca_cl = PCA()\n",
    "principle_components_cl = pca_cl.fit_transform(x_scaled_cl)\n",
    "plt.figure()\n",
    "plt.plot(np.cumsum(pca_cl.explained_variance_ratio_))\n",
    "plt.xlabel('Number of Components')\n",
    "plt.ylabel('Variance %')\n",
    "plt.title('Explained Variance')\n",
    "plt.show()"
   ]
  },
  {
   "cell_type": "code",
   "execution_count": 200,
   "metadata": {},
   "outputs": [
    {
     "data": {
      "text/html": [
       "<div>\n",
       "<style scoped>\n",
       "    .dataframe tbody tr th:only-of-type {\n",
       "        vertical-align: middle;\n",
       "    }\n",
       "\n",
       "    .dataframe tbody tr th {\n",
       "        vertical-align: top;\n",
       "    }\n",
       "\n",
       "    .dataframe thead th {\n",
       "        text-align: right;\n",
       "    }\n",
       "</style>\n",
       "<table border=\"1\" class=\"dataframe\">\n",
       "  <thead>\n",
       "    <tr style=\"text-align: right;\">\n",
       "      <th></th>\n",
       "      <th>0</th>\n",
       "      <th>1</th>\n",
       "      <th>2</th>\n",
       "      <th>3</th>\n",
       "      <th>4</th>\n",
       "    </tr>\n",
       "  </thead>\n",
       "  <tbody>\n",
       "    <tr>\n",
       "      <th>0</th>\n",
       "      <td>2.207043</td>\n",
       "      <td>0.581123</td>\n",
       "      <td>0.609101</td>\n",
       "      <td>-0.008761</td>\n",
       "      <td>-0.006724</td>\n",
       "    </tr>\n",
       "    <tr>\n",
       "      <th>1</th>\n",
       "      <td>1.967787</td>\n",
       "      <td>0.238437</td>\n",
       "      <td>-0.350308</td>\n",
       "      <td>0.293589</td>\n",
       "      <td>0.015373</td>\n",
       "    </tr>\n",
       "    <tr>\n",
       "      <th>2</th>\n",
       "      <td>0.626029</td>\n",
       "      <td>-0.729448</td>\n",
       "      <td>0.400410</td>\n",
       "      <td>-1.690791</td>\n",
       "      <td>-0.670697</td>\n",
       "    </tr>\n",
       "    <tr>\n",
       "      <th>3</th>\n",
       "      <td>-1.649236</td>\n",
       "      <td>1.160322</td>\n",
       "      <td>-0.567799</td>\n",
       "      <td>2.528064</td>\n",
       "      <td>-1.230942</td>\n",
       "    </tr>\n",
       "    <tr>\n",
       "      <th>4</th>\n",
       "      <td>-2.018108</td>\n",
       "      <td>2.488914</td>\n",
       "      <td>-1.654689</td>\n",
       "      <td>-0.740215</td>\n",
       "      <td>1.271889</td>\n",
       "    </tr>\n",
       "    <tr>\n",
       "      <th>...</th>\n",
       "      <td>...</td>\n",
       "      <td>...</td>\n",
       "      <td>...</td>\n",
       "      <td>...</td>\n",
       "      <td>...</td>\n",
       "    </tr>\n",
       "    <tr>\n",
       "      <th>849</th>\n",
       "      <td>-1.487168</td>\n",
       "      <td>1.215427</td>\n",
       "      <td>-1.773503</td>\n",
       "      <td>-1.485703</td>\n",
       "      <td>1.461238</td>\n",
       "    </tr>\n",
       "    <tr>\n",
       "      <th>850</th>\n",
       "      <td>1.848837</td>\n",
       "      <td>-0.502861</td>\n",
       "      <td>-1.062427</td>\n",
       "      <td>1.102387</td>\n",
       "      <td>0.919829</td>\n",
       "    </tr>\n",
       "    <tr>\n",
       "      <th>851</th>\n",
       "      <td>-0.084412</td>\n",
       "      <td>-1.020636</td>\n",
       "      <td>-0.665539</td>\n",
       "      <td>-0.459762</td>\n",
       "      <td>-0.594181</td>\n",
       "    </tr>\n",
       "    <tr>\n",
       "      <th>852</th>\n",
       "      <td>0.694564</td>\n",
       "      <td>-0.014967</td>\n",
       "      <td>0.147220</td>\n",
       "      <td>-0.664711</td>\n",
       "      <td>-0.683680</td>\n",
       "    </tr>\n",
       "    <tr>\n",
       "      <th>853</th>\n",
       "      <td>-0.373536</td>\n",
       "      <td>-1.497689</td>\n",
       "      <td>-1.305883</td>\n",
       "      <td>-0.047159</td>\n",
       "      <td>-0.399874</td>\n",
       "    </tr>\n",
       "  </tbody>\n",
       "</table>\n",
       "<p>854 rows × 5 columns</p>\n",
       "</div>"
      ],
      "text/plain": [
       "            0         1         2         3         4\n",
       "0    2.207043  0.581123  0.609101 -0.008761 -0.006724\n",
       "1    1.967787  0.238437 -0.350308  0.293589  0.015373\n",
       "2    0.626029 -0.729448  0.400410 -1.690791 -0.670697\n",
       "3   -1.649236  1.160322 -0.567799  2.528064 -1.230942\n",
       "4   -2.018108  2.488914 -1.654689 -0.740215  1.271889\n",
       "..        ...       ...       ...       ...       ...\n",
       "849 -1.487168  1.215427 -1.773503 -1.485703  1.461238\n",
       "850  1.848837 -0.502861 -1.062427  1.102387  0.919829\n",
       "851 -0.084412 -1.020636 -0.665539 -0.459762 -0.594181\n",
       "852  0.694564 -0.014967  0.147220 -0.664711 -0.683680\n",
       "853 -0.373536 -1.497689 -1.305883 -0.047159 -0.399874\n",
       "\n",
       "[854 rows x 5 columns]"
      ]
     },
     "execution_count": 200,
     "metadata": {},
     "output_type": "execute_result"
    }
   ],
   "source": [
    "pca_new_cl = PCA(n_components=5)\n",
    "new_components_cl = pca_new_cl.fit_transform(x_scaled_cl)\n",
    "x_principle_cl=pd.DataFrame(new_components_cl,columns=np.arange(5))\n",
    "x_principle_cl"
   ]
  },
  {
   "cell_type": "code",
   "execution_count": 201,
   "metadata": {},
   "outputs": [
    {
     "data": {
      "image/png": "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\n",
      "text/plain": [
       "<Figure size 432x288 with 1 Axes>"
      ]
     },
     "metadata": {
      "needs_background": "light"
     },
     "output_type": "display_data"
    }
   ],
   "source": [
    "pca_rg = PCA()\n",
    "principle_components_rg = pca_rg.fit_transform(x_scaled_rg)\n",
    "plt.figure()\n",
    "plt.plot(np.cumsum(pca_rg.explained_variance_ratio_))\n",
    "plt.xlabel('Number of Components')\n",
    "plt.ylabel('Variance %')\n",
    "plt.title('Explained Variance')\n",
    "plt.show()"
   ]
  },
  {
   "cell_type": "code",
   "execution_count": 203,
   "metadata": {},
   "outputs": [
    {
     "data": {
      "text/html": [
       "<div>\n",
       "<style scoped>\n",
       "    .dataframe tbody tr th:only-of-type {\n",
       "        vertical-align: middle;\n",
       "    }\n",
       "\n",
       "    .dataframe tbody tr th {\n",
       "        vertical-align: top;\n",
       "    }\n",
       "\n",
       "    .dataframe thead th {\n",
       "        text-align: right;\n",
       "    }\n",
       "</style>\n",
       "<table border=\"1\" class=\"dataframe\">\n",
       "  <thead>\n",
       "    <tr style=\"text-align: right;\">\n",
       "      <th></th>\n",
       "      <th>0</th>\n",
       "      <th>1</th>\n",
       "      <th>2</th>\n",
       "      <th>3</th>\n",
       "    </tr>\n",
       "  </thead>\n",
       "  <tbody>\n",
       "    <tr>\n",
       "      <th>0</th>\n",
       "      <td>2.425334</td>\n",
       "      <td>0.370694</td>\n",
       "      <td>0.694712</td>\n",
       "      <td>0.219256</td>\n",
       "    </tr>\n",
       "    <tr>\n",
       "      <th>1</th>\n",
       "      <td>1.149231</td>\n",
       "      <td>1.921043</td>\n",
       "      <td>-0.907930</td>\n",
       "      <td>1.445543</td>\n",
       "    </tr>\n",
       "    <tr>\n",
       "      <th>2</th>\n",
       "      <td>1.211653</td>\n",
       "      <td>-1.651166</td>\n",
       "      <td>0.360248</td>\n",
       "      <td>-0.793771</td>\n",
       "    </tr>\n",
       "    <tr>\n",
       "      <th>3</th>\n",
       "      <td>-1.996000</td>\n",
       "      <td>1.669695</td>\n",
       "      <td>0.180703</td>\n",
       "      <td>-1.123247</td>\n",
       "    </tr>\n",
       "    <tr>\n",
       "      <th>4</th>\n",
       "      <td>-1.090941</td>\n",
       "      <td>1.116073</td>\n",
       "      <td>-0.397051</td>\n",
       "      <td>-0.900637</td>\n",
       "    </tr>\n",
       "    <tr>\n",
       "      <th>...</th>\n",
       "      <td>...</td>\n",
       "      <td>...</td>\n",
       "      <td>...</td>\n",
       "      <td>...</td>\n",
       "    </tr>\n",
       "    <tr>\n",
       "      <th>867</th>\n",
       "      <td>-0.713309</td>\n",
       "      <td>0.175066</td>\n",
       "      <td>-1.101752</td>\n",
       "      <td>-0.473312</td>\n",
       "    </tr>\n",
       "    <tr>\n",
       "      <th>868</th>\n",
       "      <td>2.165591</td>\n",
       "      <td>-0.502161</td>\n",
       "      <td>-1.037150</td>\n",
       "      <td>-0.085088</td>\n",
       "    </tr>\n",
       "    <tr>\n",
       "      <th>869</th>\n",
       "      <td>0.470314</td>\n",
       "      <td>-1.570459</td>\n",
       "      <td>-0.602640</td>\n",
       "      <td>-1.060271</td>\n",
       "    </tr>\n",
       "    <tr>\n",
       "      <th>870</th>\n",
       "      <td>0.097396</td>\n",
       "      <td>0.740025</td>\n",
       "      <td>-0.145838</td>\n",
       "      <td>0.171992</td>\n",
       "    </tr>\n",
       "    <tr>\n",
       "      <th>871</th>\n",
       "      <td>0.168471</td>\n",
       "      <td>-1.815486</td>\n",
       "      <td>-1.332884</td>\n",
       "      <td>-1.062681</td>\n",
       "    </tr>\n",
       "  </tbody>\n",
       "</table>\n",
       "<p>872 rows × 4 columns</p>\n",
       "</div>"
      ],
      "text/plain": [
       "            0         1         2         3\n",
       "0    2.425334  0.370694  0.694712  0.219256\n",
       "1    1.149231  1.921043 -0.907930  1.445543\n",
       "2    1.211653 -1.651166  0.360248 -0.793771\n",
       "3   -1.996000  1.669695  0.180703 -1.123247\n",
       "4   -1.090941  1.116073 -0.397051 -0.900637\n",
       "..        ...       ...       ...       ...\n",
       "867 -0.713309  0.175066 -1.101752 -0.473312\n",
       "868  2.165591 -0.502161 -1.037150 -0.085088\n",
       "869  0.470314 -1.570459 -0.602640 -1.060271\n",
       "870  0.097396  0.740025 -0.145838  0.171992\n",
       "871  0.168471 -1.815486 -1.332884 -1.062681\n",
       "\n",
       "[872 rows x 4 columns]"
      ]
     },
     "execution_count": 203,
     "metadata": {},
     "output_type": "execute_result"
    }
   ],
   "source": [
    "pca_new_rg = PCA(n_components=4)\n",
    "new_components_rg = pca_new_rg.fit_transform(x_scaled_rg)\n",
    "x_principle_rg=pd.DataFrame(new_components_rg,columns=np.arange(4))\n",
    "x_principle_rg"
   ]
  },
  {
   "cell_type": "markdown",
   "metadata": {},
   "source": [
    "For Classification:\n",
    "\n",
    "We can conclude that for 95% variance, most of the Principle components are contributing. So we have to retain 5 components out of 5 components and build the model\n",
    "\n",
    "\n",
    "For Regression: \n",
    "\n",
    "We can conclude that for 95% variance, nearly 4 Principle components are contributing. So we can retain 4 components out of 5 components and build the model"
   ]
  },
  {
   "cell_type": "markdown",
   "metadata": {},
   "source": [
    "### Selecting KBest Features"
   ]
  },
  {
   "cell_type": "markdown",
   "metadata": {},
   "source": [
    "#### Through KBest Features Technique, Features with least score can be obtained which will help us in deciding which columns to drop before proceeding to Model Building"
   ]
  },
  {
   "cell_type": "code",
   "execution_count": 208,
   "metadata": {},
   "outputs": [
    {
     "name": "stdout",
     "output_type": "stream",
     "text": [
      "             Features       Scores\n",
      "5  geolocation_source  2497.594209\n",
      "4              source   100.785437\n",
      "3  commissioning_year    85.623508\n",
      "0         capacity_mw    59.590795\n",
      "2           longitude    32.869673\n"
     ]
    }
   ],
   "source": [
    "best_features_cl = SelectKBest(score_func = f_classif, k = 5)\n",
    "best_fit_cl = best_features_cl.fit(x_cl,y_cl)\n",
    "scores_cl = pd.DataFrame(best_fit_cl.scores_)\n",
    "columns_cl = pd.DataFrame(x_cl.columns)\n",
    "columns_cl.head()\n",
    "featureScores_cl = pd.concat([columns_cl,scores_cl],axis = 1)\n",
    "featureScores_cl.columns = ['Features', 'Scores']\n",
    "print(featureScores_cl.nlargest(5,'Scores'))"
   ]
  },
  {
   "cell_type": "code",
   "execution_count": 209,
   "metadata": {},
   "outputs": [
    {
     "name": "stdout",
     "output_type": "stream",
     "text": [
      "             Features    Scores\n",
      "5  geolocation_source  3.261779\n",
      "2        primary_fuel  3.090230\n",
      "3  commissioning_year  2.028685\n",
      "1           longitude  1.835201\n",
      "4              source  1.728765\n"
     ]
    }
   ],
   "source": [
    "best_features_rg = SelectKBest(score_func = f_classif, k = 5)\n",
    "best_fit_rg = best_features_rg.fit(x_rg,y_rg)\n",
    "scores_rg = pd.DataFrame(best_fit_rg.scores_)\n",
    "columns_rg = pd.DataFrame(x_rg.columns)\n",
    "columns_rg.head()\n",
    "featureScores_rg = pd.concat([columns_rg,scores_rg],axis = 1)\n",
    "featureScores_rg.columns = ['Features', 'Scores']\n",
    "print(featureScores_rg.nlargest(5,'Scores'))"
   ]
  },
  {
   "cell_type": "markdown",
   "metadata": {},
   "source": [
    "For Classification:\n",
    "\n",
    "Upon reviewing Best Features Scores, found all columns have reasonable scores so proceeding without dropping any column.\n",
    "\n",
    "For Regression:\n",
    "\n",
    "Upon reviewing Best Features Scores, found source has least score. Proceeding without dropping the column since it has reasonable correlation with capacity_mw target variable"
   ]
  },
  {
   "cell_type": "code",
   "execution_count": 210,
   "metadata": {},
   "outputs": [],
   "source": [
    "x_best_cl = x_cl.copy()"
   ]
  },
  {
   "cell_type": "code",
   "execution_count": 211,
   "metadata": {},
   "outputs": [
    {
     "data": {
      "text/html": [
       "<div>\n",
       "<style scoped>\n",
       "    .dataframe tbody tr th:only-of-type {\n",
       "        vertical-align: middle;\n",
       "    }\n",
       "\n",
       "    .dataframe tbody tr th {\n",
       "        vertical-align: top;\n",
       "    }\n",
       "\n",
       "    .dataframe thead th {\n",
       "        text-align: right;\n",
       "    }\n",
       "</style>\n",
       "<table border=\"1\" class=\"dataframe\">\n",
       "  <thead>\n",
       "    <tr style=\"text-align: right;\">\n",
       "      <th></th>\n",
       "      <th>capacity_mw</th>\n",
       "      <th>latitude</th>\n",
       "      <th>longitude</th>\n",
       "      <th>commissioning_year</th>\n",
       "      <th>source</th>\n",
       "      <th>geolocation_source</th>\n",
       "    </tr>\n",
       "  </thead>\n",
       "  <tbody>\n",
       "    <tr>\n",
       "      <th>0</th>\n",
       "      <td>2.5</td>\n",
       "      <td>28.1839</td>\n",
       "      <td>73.2407</td>\n",
       "      <td>2011.0</td>\n",
       "      <td>109</td>\n",
       "      <td>1</td>\n",
       "    </tr>\n",
       "    <tr>\n",
       "      <th>1</th>\n",
       "      <td>98.0</td>\n",
       "      <td>24.7663</td>\n",
       "      <td>74.6090</td>\n",
       "      <td>2013.0</td>\n",
       "      <td>174</td>\n",
       "      <td>2</td>\n",
       "    </tr>\n",
       "    <tr>\n",
       "      <th>2</th>\n",
       "      <td>39.2</td>\n",
       "      <td>21.9038</td>\n",
       "      <td>69.3732</td>\n",
       "      <td>2013.0</td>\n",
       "      <td>21</td>\n",
       "      <td>2</td>\n",
       "    </tr>\n",
       "    <tr>\n",
       "      <th>3</th>\n",
       "      <td>135.0</td>\n",
       "      <td>23.8712</td>\n",
       "      <td>91.3602</td>\n",
       "      <td>2004.0</td>\n",
       "      <td>22</td>\n",
       "      <td>2</td>\n",
       "    </tr>\n",
       "    <tr>\n",
       "      <th>4</th>\n",
       "      <td>1800.0</td>\n",
       "      <td>21.9603</td>\n",
       "      <td>82.4091</td>\n",
       "      <td>2015.0</td>\n",
       "      <td>22</td>\n",
       "      <td>2</td>\n",
       "    </tr>\n",
       "    <tr>\n",
       "      <th>...</th>\n",
       "      <td>...</td>\n",
       "      <td>...</td>\n",
       "      <td>...</td>\n",
       "      <td>...</td>\n",
       "      <td>...</td>\n",
       "      <td>...</td>\n",
       "    </tr>\n",
       "    <tr>\n",
       "      <th>849</th>\n",
       "      <td>1600.0</td>\n",
       "      <td>16.2949</td>\n",
       "      <td>77.3568</td>\n",
       "      <td>2016.0</td>\n",
       "      <td>22</td>\n",
       "      <td>2</td>\n",
       "    </tr>\n",
       "    <tr>\n",
       "      <th>850</th>\n",
       "      <td>3.0</td>\n",
       "      <td>12.8932</td>\n",
       "      <td>78.1654</td>\n",
       "      <td>2013.0</td>\n",
       "      <td>77</td>\n",
       "      <td>0</td>\n",
       "    </tr>\n",
       "    <tr>\n",
       "      <th>851</th>\n",
       "      <td>25.5</td>\n",
       "      <td>15.2758</td>\n",
       "      <td>75.5811</td>\n",
       "      <td>2013.0</td>\n",
       "      <td>21</td>\n",
       "      <td>2</td>\n",
       "    </tr>\n",
       "    <tr>\n",
       "      <th>852</th>\n",
       "      <td>80.0</td>\n",
       "      <td>24.3500</td>\n",
       "      <td>73.7477</td>\n",
       "      <td>2013.0</td>\n",
       "      <td>59</td>\n",
       "      <td>2</td>\n",
       "    </tr>\n",
       "    <tr>\n",
       "      <th>853</th>\n",
       "      <td>16.5</td>\n",
       "      <td>9.9344</td>\n",
       "      <td>77.4768</td>\n",
       "      <td>2013.0</td>\n",
       "      <td>21</td>\n",
       "      <td>2</td>\n",
       "    </tr>\n",
       "  </tbody>\n",
       "</table>\n",
       "<p>854 rows × 6 columns</p>\n",
       "</div>"
      ],
      "text/plain": [
       "     capacity_mw  latitude  longitude  commissioning_year  source  \\\n",
       "0            2.5   28.1839    73.2407              2011.0     109   \n",
       "1           98.0   24.7663    74.6090              2013.0     174   \n",
       "2           39.2   21.9038    69.3732              2013.0      21   \n",
       "3          135.0   23.8712    91.3602              2004.0      22   \n",
       "4         1800.0   21.9603    82.4091              2015.0      22   \n",
       "..           ...       ...        ...                 ...     ...   \n",
       "849       1600.0   16.2949    77.3568              2016.0      22   \n",
       "850          3.0   12.8932    78.1654              2013.0      77   \n",
       "851         25.5   15.2758    75.5811              2013.0      21   \n",
       "852         80.0   24.3500    73.7477              2013.0      59   \n",
       "853         16.5    9.9344    77.4768              2013.0      21   \n",
       "\n",
       "     geolocation_source  \n",
       "0                     1  \n",
       "1                     2  \n",
       "2                     2  \n",
       "3                     2  \n",
       "4                     2  \n",
       "..                  ...  \n",
       "849                   2  \n",
       "850                   0  \n",
       "851                   2  \n",
       "852                   2  \n",
       "853                   2  \n",
       "\n",
       "[854 rows x 6 columns]"
      ]
     },
     "execution_count": 211,
     "metadata": {},
     "output_type": "execute_result"
    }
   ],
   "source": [
    "x_best_cl"
   ]
  },
  {
   "cell_type": "code",
   "execution_count": 212,
   "metadata": {},
   "outputs": [],
   "source": [
    "x_best_rg = x_rg.copy()"
   ]
  },
  {
   "cell_type": "code",
   "execution_count": 213,
   "metadata": {},
   "outputs": [
    {
     "data": {
      "text/html": [
       "<div>\n",
       "<style scoped>\n",
       "    .dataframe tbody tr th:only-of-type {\n",
       "        vertical-align: middle;\n",
       "    }\n",
       "\n",
       "    .dataframe tbody tr th {\n",
       "        vertical-align: top;\n",
       "    }\n",
       "\n",
       "    .dataframe thead th {\n",
       "        text-align: right;\n",
       "    }\n",
       "</style>\n",
       "<table border=\"1\" class=\"dataframe\">\n",
       "  <thead>\n",
       "    <tr style=\"text-align: right;\">\n",
       "      <th></th>\n",
       "      <th>latitude</th>\n",
       "      <th>longitude</th>\n",
       "      <th>primary_fuel</th>\n",
       "      <th>commissioning_year</th>\n",
       "      <th>source</th>\n",
       "      <th>geolocation_source</th>\n",
       "    </tr>\n",
       "  </thead>\n",
       "  <tbody>\n",
       "    <tr>\n",
       "      <th>0</th>\n",
       "      <td>28.1839</td>\n",
       "      <td>73.2407</td>\n",
       "      <td>6</td>\n",
       "      <td>2011.0</td>\n",
       "      <td>109</td>\n",
       "      <td>1</td>\n",
       "    </tr>\n",
       "    <tr>\n",
       "      <th>1</th>\n",
       "      <td>24.7663</td>\n",
       "      <td>74.6090</td>\n",
       "      <td>1</td>\n",
       "      <td>2013.0</td>\n",
       "      <td>174</td>\n",
       "      <td>2</td>\n",
       "    </tr>\n",
       "    <tr>\n",
       "      <th>2</th>\n",
       "      <td>21.9038</td>\n",
       "      <td>69.3732</td>\n",
       "      <td>7</td>\n",
       "      <td>2013.0</td>\n",
       "      <td>21</td>\n",
       "      <td>2</td>\n",
       "    </tr>\n",
       "    <tr>\n",
       "      <th>3</th>\n",
       "      <td>23.8712</td>\n",
       "      <td>91.3602</td>\n",
       "      <td>2</td>\n",
       "      <td>2004.0</td>\n",
       "      <td>22</td>\n",
       "      <td>2</td>\n",
       "    </tr>\n",
       "    <tr>\n",
       "      <th>4</th>\n",
       "      <td>21.9603</td>\n",
       "      <td>82.4091</td>\n",
       "      <td>1</td>\n",
       "      <td>2015.0</td>\n",
       "      <td>22</td>\n",
       "      <td>2</td>\n",
       "    </tr>\n",
       "    <tr>\n",
       "      <th>...</th>\n",
       "      <td>...</td>\n",
       "      <td>...</td>\n",
       "      <td>...</td>\n",
       "      <td>...</td>\n",
       "      <td>...</td>\n",
       "      <td>...</td>\n",
       "    </tr>\n",
       "    <tr>\n",
       "      <th>867</th>\n",
       "      <td>16.2949</td>\n",
       "      <td>77.3568</td>\n",
       "      <td>1</td>\n",
       "      <td>2016.0</td>\n",
       "      <td>22</td>\n",
       "      <td>2</td>\n",
       "    </tr>\n",
       "    <tr>\n",
       "      <th>868</th>\n",
       "      <td>12.8932</td>\n",
       "      <td>78.1654</td>\n",
       "      <td>6</td>\n",
       "      <td>2013.0</td>\n",
       "      <td>77</td>\n",
       "      <td>0</td>\n",
       "    </tr>\n",
       "    <tr>\n",
       "      <th>869</th>\n",
       "      <td>15.2758</td>\n",
       "      <td>75.5811</td>\n",
       "      <td>7</td>\n",
       "      <td>2013.0</td>\n",
       "      <td>21</td>\n",
       "      <td>2</td>\n",
       "    </tr>\n",
       "    <tr>\n",
       "      <th>870</th>\n",
       "      <td>24.3500</td>\n",
       "      <td>73.7477</td>\n",
       "      <td>1</td>\n",
       "      <td>2013.0</td>\n",
       "      <td>59</td>\n",
       "      <td>2</td>\n",
       "    </tr>\n",
       "    <tr>\n",
       "      <th>871</th>\n",
       "      <td>9.9344</td>\n",
       "      <td>77.4768</td>\n",
       "      <td>7</td>\n",
       "      <td>2013.0</td>\n",
       "      <td>21</td>\n",
       "      <td>2</td>\n",
       "    </tr>\n",
       "  </tbody>\n",
       "</table>\n",
       "<p>872 rows × 6 columns</p>\n",
       "</div>"
      ],
      "text/plain": [
       "     latitude  longitude  primary_fuel  commissioning_year  source  \\\n",
       "0     28.1839    73.2407             6              2011.0     109   \n",
       "1     24.7663    74.6090             1              2013.0     174   \n",
       "2     21.9038    69.3732             7              2013.0      21   \n",
       "3     23.8712    91.3602             2              2004.0      22   \n",
       "4     21.9603    82.4091             1              2015.0      22   \n",
       "..        ...        ...           ...                 ...     ...   \n",
       "867   16.2949    77.3568             1              2016.0      22   \n",
       "868   12.8932    78.1654             6              2013.0      77   \n",
       "869   15.2758    75.5811             7              2013.0      21   \n",
       "870   24.3500    73.7477             1              2013.0      59   \n",
       "871    9.9344    77.4768             7              2013.0      21   \n",
       "\n",
       "     geolocation_source  \n",
       "0                     1  \n",
       "1                     2  \n",
       "2                     2  \n",
       "3                     2  \n",
       "4                     2  \n",
       "..                  ...  \n",
       "867                   2  \n",
       "868                   0  \n",
       "869                   2  \n",
       "870                   2  \n",
       "871                   2  \n",
       "\n",
       "[872 rows x 6 columns]"
      ]
     },
     "execution_count": 213,
     "metadata": {},
     "output_type": "execute_result"
    }
   ],
   "source": [
    "x_best_rg"
   ]
  },
  {
   "cell_type": "markdown",
   "metadata": {},
   "source": [
    "### Resolving Class Imbalance using Oversampling (SMOTE Technique)"
   ]
  },
  {
   "cell_type": "code",
   "execution_count": 214,
   "metadata": {},
   "outputs": [],
   "source": [
    "from imblearn.over_sampling import SMOTE\n",
    "Sm = SMOTE()\n",
    "x_over_cl, y_over_cl = Sm.fit_resample(x_best_cl,y_cl)"
   ]
  },
  {
   "cell_type": "code",
   "execution_count": 215,
   "metadata": {},
   "outputs": [
    {
     "data": {
      "text/plain": [
       "7    241\n",
       "6    241\n",
       "5    241\n",
       "4    241\n",
       "3    241\n",
       "2    241\n",
       "1    241\n",
       "0    241\n",
       "Name: primary_fuel, dtype: int64"
      ]
     },
     "execution_count": 215,
     "metadata": {},
     "output_type": "execute_result"
    }
   ],
   "source": [
    "y_over_cl.value_counts()"
   ]
  },
  {
   "cell_type": "code",
   "execution_count": 216,
   "metadata": {},
   "outputs": [],
   "source": [
    "x_cl = sc.fit_transform(x_over_cl)\n",
    "y_cl = y_over_cl.copy()"
   ]
  },
  {
   "cell_type": "code",
   "execution_count": 217,
   "metadata": {},
   "outputs": [],
   "source": [
    "x_rg = sc.fit_transform(x_rg)\n",
    "y_rg = y_rg.copy()"
   ]
  },
  {
   "cell_type": "markdown",
   "metadata": {},
   "source": [
    "Applying Standard Scaler since scaling will help in better accuracy"
   ]
  },
  {
   "cell_type": "markdown",
   "metadata": {},
   "source": [
    "## Model Building: Classification Problem"
   ]
  },
  {
   "cell_type": "markdown",
   "metadata": {},
   "source": [
    "### Finding the Best Random State "
   ]
  },
  {
   "cell_type": "code",
   "execution_count": 218,
   "metadata": {},
   "outputs": [],
   "source": [
    "x=x_cl.copy()\n",
    "y=y_cl.copy()"
   ]
  },
  {
   "cell_type": "code",
   "execution_count": 219,
   "metadata": {},
   "outputs": [
    {
     "name": "stdout",
     "output_type": "stream",
     "text": [
      "Best Accuracy is: 0.6872909698996655 on random_state: 12\n"
     ]
    }
   ],
   "source": [
    "maxAcc = 0\n",
    "maxRS=0\n",
    "for i in range(1,100):\n",
    "    x_train,x_test,y_train,y_test = train_test_split(x,y,test_size = .31, random_state = i)\n",
    "    modRF =  LogisticRegression()\n",
    "    modRF.fit(x_train,y_train)\n",
    "    pred = modRF.predict(x_test)\n",
    "    acc  = accuracy_score(y_test,pred)\n",
    "    if acc>maxAcc:\n",
    "        maxAcc=acc\n",
    "        maxRS=i\n",
    "print(f\"Best Accuracy is: {maxAcc} on random_state: {maxRS}\")"
   ]
  },
  {
   "cell_type": "code",
   "execution_count": 220,
   "metadata": {},
   "outputs": [],
   "source": [
    "x_train,x_test,y_train,y_test = train_test_split(x,y,test_size = .31, random_state = maxRS)"
   ]
  },
  {
   "cell_type": "code",
   "execution_count": 226,
   "metadata": {},
   "outputs": [],
   "source": [
    "#Random Forest Classifier\n",
    "\n",
    "rfc = RandomForestClassifier()\n",
    "rfc.fit(x_train,y_train)\n",
    "rfc_pred = rfc.predict(x_test)\n",
    "accuracy_rfc = classification_report(y_test,rfc_pred)\n",
    "confusion_matrix_rfc = confusion_matrix(y_test,rfc_pred)\n",
    "cvs_rfc=cvs(rfc,x,y,cv=5).mean()\n",
    "\n",
    "#Logistic Regression Model\n",
    "\n",
    "lrc= LogisticRegression(solver='liblinear')\n",
    "lrc.fit(x_train,y_train)\n",
    "lrc_pred = lrc.predict(x_test)\n",
    "accuracy_lrc = classification_report(y_test,lrc_pred)\n",
    "confusion_matrix_lrc = confusion_matrix(y_test,lrc_pred)\n",
    "cvs_lrc=cvs(lrc,x,y,cv=5).mean()\n",
    "\n",
    "#Decision Tree Classifier Model\n",
    "\n",
    "dtc = DecisionTreeClassifier()\n",
    "dtc.fit(x_train,y_train)\n",
    "dtc_pred = dtc.predict(x_test)\n",
    "accuracy_dtc = classification_report(y_test,dtc_pred)\n",
    "confusion_matrix_dtc = confusion_matrix(y_test,dtc_pred)\n",
    "cvs_dtc=cvs(dtc,x,y,cv=5).mean()\n",
    "\n",
    "#SVC Model\n",
    "\n",
    "sv= SVC()\n",
    "sv.fit(x_train,y_train)\n",
    "sv_pred = sv.predict(x_test)\n",
    "accuracy_sv = classification_report(y_test,sv_pred)\n",
    "confusion_matrix_sv = confusion_matrix(y_test,sv_pred)\n",
    "cvs_sv=cvs(sv,x,y,cv=5).mean()\n",
    "\n",
    "#K Nearest Neighbors Classifier Model\n",
    "\n",
    "knn = KNeighborsClassifier()\n",
    "knn.fit(x_train,y_train)\n",
    "knn_pred = knn.predict(x_test)\n",
    "accuracy_knn = classification_report(y_test,knn_pred)\n",
    "confusion_matrix_knn = confusion_matrix(y_test,knn_pred)\n",
    "cvs_knn=cvs(knn,x,y,cv=5).mean()"
   ]
  },
  {
   "cell_type": "markdown",
   "metadata": {},
   "source": [
    "### Random Forest Classifier "
   ]
  },
  {
   "cell_type": "code",
   "execution_count": 227,
   "metadata": {},
   "outputs": [
    {
     "data": {
      "text/plain": [
       "array([[84,  0,  0,  0,  0,  0,  0,  0],\n",
       "       [ 3, 56,  6,  7,  4,  1,  0,  0],\n",
       "       [ 1,  4, 53,  2,  3,  3,  0,  0],\n",
       "       [ 0,  4,  3, 51,  4,  1,  0,  0],\n",
       "       [ 0,  1,  3,  0, 76,  0,  0,  0],\n",
       "       [ 0,  1,  1,  1,  0, 64,  0,  0],\n",
       "       [ 0,  3,  0,  0,  0,  0, 85,  0],\n",
       "       [ 0,  0,  0,  0,  0,  0,  0, 73]], dtype=int64)"
      ]
     },
     "execution_count": 227,
     "metadata": {},
     "output_type": "execute_result"
    }
   ],
   "source": [
    "confusion_matrix_rfc"
   ]
  },
  {
   "cell_type": "code",
   "execution_count": 228,
   "metadata": {},
   "outputs": [
    {
     "name": "stdout",
     "output_type": "stream",
     "text": [
      "              precision    recall  f1-score   support\n",
      "\n",
      "           0       0.95      1.00      0.98        84\n",
      "           1       0.81      0.73      0.77        77\n",
      "           2       0.80      0.80      0.80        66\n",
      "           3       0.84      0.81      0.82        63\n",
      "           4       0.87      0.95      0.91        80\n",
      "           5       0.93      0.96      0.94        67\n",
      "           6       1.00      0.97      0.98        88\n",
      "           7       1.00      1.00      1.00        73\n",
      "\n",
      "    accuracy                           0.91       598\n",
      "   macro avg       0.90      0.90      0.90       598\n",
      "weighted avg       0.91      0.91      0.91       598\n",
      "\n"
     ]
    }
   ],
   "source": [
    "print(accuracy_rfc)"
   ]
  },
  {
   "cell_type": "code",
   "execution_count": 229,
   "metadata": {},
   "outputs": [
    {
     "name": "stdout",
     "output_type": "stream",
     "text": [
      "0.8998950272525402\n"
     ]
    }
   ],
   "source": [
    "print(cvs_rfc)"
   ]
  },
  {
   "cell_type": "markdown",
   "metadata": {},
   "source": [
    "rfc_difference = 91-89.98 = 1.02"
   ]
  },
  {
   "cell_type": "markdown",
   "metadata": {},
   "source": [
    "### Logistic Regression Model"
   ]
  },
  {
   "cell_type": "code",
   "execution_count": 230,
   "metadata": {},
   "outputs": [
    {
     "data": {
      "text/plain": [
       "array([[63,  0,  0,  0,  0,  0,  0, 21],\n",
       "       [11, 40,  3,  5, 10,  0,  0,  8],\n",
       "       [ 9, 14,  7,  3, 11, 16,  0,  6],\n",
       "       [ 0, 13,  0, 27,  5, 16,  0,  2],\n",
       "       [ 0,  0,  0, 14, 66,  0,  0,  0],\n",
       "       [15,  0,  3, 14,  0, 31,  0,  4],\n",
       "       [ 3,  0,  0,  0,  0,  0, 85,  0],\n",
       "       [ 0,  0,  0,  0,  0,  0,  0, 73]], dtype=int64)"
      ]
     },
     "execution_count": 230,
     "metadata": {},
     "output_type": "execute_result"
    }
   ],
   "source": [
    "confusion_matrix_lrc"
   ]
  },
  {
   "cell_type": "code",
   "execution_count": 231,
   "metadata": {},
   "outputs": [
    {
     "name": "stdout",
     "output_type": "stream",
     "text": [
      "              precision    recall  f1-score   support\n",
      "\n",
      "           0       0.62      0.75      0.68        84\n",
      "           1       0.60      0.52      0.56        77\n",
      "           2       0.54      0.11      0.18        66\n",
      "           3       0.43      0.43      0.43        63\n",
      "           4       0.72      0.82      0.77        80\n",
      "           5       0.49      0.46      0.48        67\n",
      "           6       1.00      0.97      0.98        88\n",
      "           7       0.64      1.00      0.78        73\n",
      "\n",
      "    accuracy                           0.66       598\n",
      "   macro avg       0.63      0.63      0.61       598\n",
      "weighted avg       0.65      0.66      0.63       598\n",
      "\n"
     ]
    }
   ],
   "source": [
    "print(accuracy_lrc)"
   ]
  },
  {
   "cell_type": "code",
   "execution_count": 232,
   "metadata": {},
   "outputs": [
    {
     "name": "stdout",
     "output_type": "stream",
     "text": [
      "0.620340488527017\n"
     ]
    }
   ],
   "source": [
    "print(cvs_lrc)"
   ]
  },
  {
   "cell_type": "markdown",
   "metadata": {},
   "source": [
    "rfc_difference = 66-62.03 = 3.97"
   ]
  },
  {
   "cell_type": "markdown",
   "metadata": {},
   "source": [
    "### Decision Tree Classifier Model"
   ]
  },
  {
   "cell_type": "code",
   "execution_count": 233,
   "metadata": {},
   "outputs": [
    {
     "data": {
      "text/plain": [
       "array([[82,  2,  0,  0,  0,  0,  0,  0],\n",
       "       [ 1, 61,  4,  6,  4,  1,  0,  0],\n",
       "       [ 0,  9, 47,  4,  5,  1,  0,  0],\n",
       "       [ 0,  7,  9, 43,  3,  1,  0,  0],\n",
       "       [ 0,  3,  8,  3, 66,  0,  0,  0],\n",
       "       [ 0,  1,  1,  1,  2, 62,  0,  0],\n",
       "       [ 0,  3,  0,  0,  0,  0, 85,  0],\n",
       "       [ 0,  0,  0,  0,  0,  0,  0, 73]], dtype=int64)"
      ]
     },
     "execution_count": 233,
     "metadata": {},
     "output_type": "execute_result"
    }
   ],
   "source": [
    "confusion_matrix_dtc"
   ]
  },
  {
   "cell_type": "code",
   "execution_count": 234,
   "metadata": {},
   "outputs": [
    {
     "name": "stdout",
     "output_type": "stream",
     "text": [
      "              precision    recall  f1-score   support\n",
      "\n",
      "           0       0.99      0.98      0.98        84\n",
      "           1       0.71      0.79      0.75        77\n",
      "           2       0.68      0.71      0.70        66\n",
      "           3       0.75      0.68      0.72        63\n",
      "           4       0.82      0.82      0.82        80\n",
      "           5       0.95      0.93      0.94        67\n",
      "           6       1.00      0.97      0.98        88\n",
      "           7       1.00      1.00      1.00        73\n",
      "\n",
      "    accuracy                           0.87       598\n",
      "   macro avg       0.86      0.86      0.86       598\n",
      "weighted avg       0.87      0.87      0.87       598\n",
      "\n"
     ]
    }
   ],
   "source": [
    "print(accuracy_dtc)"
   ]
  },
  {
   "cell_type": "code",
   "execution_count": 235,
   "metadata": {},
   "outputs": [
    {
     "name": "stdout",
     "output_type": "stream",
     "text": [
      "0.8516573581858555\n"
     ]
    }
   ],
   "source": [
    "print(cvs_dtc)"
   ]
  },
  {
   "cell_type": "markdown",
   "metadata": {},
   "source": [
    "dtc_difference = 87-85.16 = 1.84"
   ]
  },
  {
   "cell_type": "markdown",
   "metadata": {},
   "source": [
    "### SVC Model"
   ]
  },
  {
   "cell_type": "code",
   "execution_count": 236,
   "metadata": {},
   "outputs": [
    {
     "data": {
      "text/plain": [
       "array([[71,  1,  0,  0,  0,  0,  0, 12],\n",
       "       [ 8, 43,  7,  7,  7,  0,  0,  5],\n",
       "       [ 1,  4, 28,  1,  8, 19,  0,  5],\n",
       "       [ 0,  5,  4, 38,  3, 12,  0,  1],\n",
       "       [ 0,  0,  3,  0, 77,  0,  0,  0],\n",
       "       [ 5,  0,  0,  5,  0, 53,  0,  4],\n",
       "       [ 3,  0,  0,  0,  0,  0, 85,  0],\n",
       "       [ 0,  0,  0,  0,  0,  0,  0, 73]], dtype=int64)"
      ]
     },
     "execution_count": 236,
     "metadata": {},
     "output_type": "execute_result"
    }
   ],
   "source": [
    "confusion_matrix_sv"
   ]
  },
  {
   "cell_type": "code",
   "execution_count": 237,
   "metadata": {},
   "outputs": [
    {
     "name": "stdout",
     "output_type": "stream",
     "text": [
      "              precision    recall  f1-score   support\n",
      "\n",
      "           0       0.81      0.85      0.83        84\n",
      "           1       0.81      0.56      0.66        77\n",
      "           2       0.67      0.42      0.52        66\n",
      "           3       0.75      0.60      0.67        63\n",
      "           4       0.81      0.96      0.88        80\n",
      "           5       0.63      0.79      0.70        67\n",
      "           6       1.00      0.97      0.98        88\n",
      "           7       0.73      1.00      0.84        73\n",
      "\n",
      "    accuracy                           0.78       598\n",
      "   macro avg       0.78      0.77      0.76       598\n",
      "weighted avg       0.79      0.78      0.77       598\n",
      "\n"
     ]
    }
   ],
   "source": [
    "print(accuracy_sv)"
   ]
  },
  {
   "cell_type": "code",
   "execution_count": 238,
   "metadata": {},
   "outputs": [
    {
     "name": "stdout",
     "output_type": "stream",
     "text": [
      "0.7805854249377566\n"
     ]
    }
   ],
   "source": [
    "print(cvs_sv)"
   ]
  },
  {
   "cell_type": "markdown",
   "metadata": {},
   "source": [
    "sv_difference = 78-78.05 = -0.05"
   ]
  },
  {
   "cell_type": "markdown",
   "metadata": {},
   "source": [
    "### K Nearest Neighbors Classifier Model"
   ]
  },
  {
   "cell_type": "code",
   "execution_count": 239,
   "metadata": {},
   "outputs": [
    {
     "data": {
      "text/plain": [
       "array([[82,  0,  0,  0,  0,  0,  0,  2],\n",
       "       [ 7, 41, 14,  8,  6,  0,  0,  1],\n",
       "       [ 1,  5, 47,  3,  4,  5,  0,  1],\n",
       "       [ 0,  4,  6, 45,  3,  5,  0,  0],\n",
       "       [ 0,  1,  5,  0, 74,  0,  0,  0],\n",
       "       [ 2,  0,  2,  4,  0, 59,  0,  0],\n",
       "       [ 3,  0,  0,  0,  0,  0, 85,  0],\n",
       "       [ 1,  0,  0,  0,  0,  1,  0, 71]], dtype=int64)"
      ]
     },
     "execution_count": 239,
     "metadata": {},
     "output_type": "execute_result"
    }
   ],
   "source": [
    "confusion_matrix_knn"
   ]
  },
  {
   "cell_type": "code",
   "execution_count": 240,
   "metadata": {},
   "outputs": [
    {
     "name": "stdout",
     "output_type": "stream",
     "text": [
      "              precision    recall  f1-score   support\n",
      "\n",
      "           0       0.85      0.98      0.91        84\n",
      "           1       0.80      0.53      0.64        77\n",
      "           2       0.64      0.71      0.67        66\n",
      "           3       0.75      0.71      0.73        63\n",
      "           4       0.85      0.93      0.89        80\n",
      "           5       0.84      0.88      0.86        67\n",
      "           6       1.00      0.97      0.98        88\n",
      "           7       0.95      0.97      0.96        73\n",
      "\n",
      "    accuracy                           0.84       598\n",
      "   macro avg       0.84      0.83      0.83       598\n",
      "weighted avg       0.84      0.84      0.84       598\n",
      "\n"
     ]
    }
   ],
   "source": [
    "print(accuracy_knn)"
   ]
  },
  {
   "cell_type": "code",
   "execution_count": 241,
   "metadata": {},
   "outputs": [
    {
     "name": "stdout",
     "output_type": "stream",
     "text": [
      "0.8272552318148174\n"
     ]
    }
   ],
   "source": [
    "print(cvs_knn)"
   ]
  },
  {
   "cell_type": "markdown",
   "metadata": {},
   "source": [
    "knn_difference = 84-82.72 = 1.28"
   ]
  },
  {
   "cell_type": "markdown",
   "metadata": {},
   "source": [
    "Upon reviewing the difference between Accuracy and cross validation score, SV Classifier model ranks least with least difference followed by Random Forest Classifier Model. However, Random Forest Classifier has highest accuracy So proceeding with both model for Hyper Parameter Tuning."
   ]
  },
  {
   "cell_type": "markdown",
   "metadata": {},
   "source": [
    "### Hyper Parameter Tuning Using Grid Search "
   ]
  },
  {
   "cell_type": "markdown",
   "metadata": {},
   "source": [
    "#### Defining the Parameters list for Random Forest Classifier"
   ]
  },
  {
   "cell_type": "code",
   "execution_count": 242,
   "metadata": {},
   "outputs": [],
   "source": [
    "parameters = {'ccp_alpha': np.array([5,0.5,0.05,0.005,0.0005,1,0.1,0.01,0.001,0.0001,0]),\n",
    "             'bootstrap': [True,False],\n",
    "             'criterion': [\"gini\",\"entropy\"],\n",
    "             'max_depth': [300,200,150],\n",
    "             'max_features': [\"auto\",\"sqrt\",\"log2\"]}"
   ]
  },
  {
   "cell_type": "code",
   "execution_count": 243,
   "metadata": {},
   "outputs": [],
   "source": [
    "GridCV = GridSearchCV(RandomForestClassifier(),parameters,cv=5,n_jobs = -1,verbose=2)"
   ]
  },
  {
   "cell_type": "code",
   "execution_count": 244,
   "metadata": {},
   "outputs": [
    {
     "name": "stdout",
     "output_type": "stream",
     "text": [
      "Fitting 5 folds for each of 396 candidates, totalling 1980 fits\n"
     ]
    },
    {
     "data": {
      "text/plain": [
       "GridSearchCV(cv=5, estimator=RandomForestClassifier(), n_jobs=-1,\n",
       "             param_grid={'bootstrap': [True, False],\n",
       "                         'ccp_alpha': array([5.e+00, 5.e-01, 5.e-02, 5.e-03, 5.e-04, 1.e+00, 1.e-01, 1.e-02,\n",
       "       1.e-03, 1.e-04, 0.e+00]),\n",
       "                         'criterion': ['gini', 'entropy'],\n",
       "                         'max_depth': [300, 200, 150],\n",
       "                         'max_features': ['auto', 'sqrt', 'log2']},\n",
       "             verbose=2)"
      ]
     },
     "execution_count": 244,
     "metadata": {},
     "output_type": "execute_result"
    }
   ],
   "source": [
    "GridCV.fit(x_train,y_train)"
   ]
  },
  {
   "cell_type": "code",
   "execution_count": 245,
   "metadata": {},
   "outputs": [
    {
     "data": {
      "text/plain": [
       "{'bootstrap': False,\n",
       " 'ccp_alpha': 0.0001,\n",
       " 'criterion': 'entropy',\n",
       " 'max_depth': 200,\n",
       " 'max_features': 'auto'}"
      ]
     },
     "execution_count": 245,
     "metadata": {},
     "output_type": "execute_result"
    }
   ],
   "source": [
    "GridCV.best_params_"
   ]
  },
  {
   "cell_type": "markdown",
   "metadata": {},
   "source": [
    "Obtaining Best Parameters details for Best Model after training the parameters list given"
   ]
  },
  {
   "cell_type": "markdown",
   "metadata": {},
   "source": [
    "### Training the Best Model with the Best Model Parameters"
   ]
  },
  {
   "cell_type": "code",
   "execution_count": 246,
   "metadata": {},
   "outputs": [
    {
     "name": "stdout",
     "output_type": "stream",
     "text": [
      "91.30434782608695\n"
     ]
    }
   ],
   "source": [
    "Best_model = RandomForestClassifier(ccp_alpha = 0.0001, bootstrap = False, criterion = 'entropy', max_depth = 200, max_features = 'auto')\n",
    "Best_model.fit(x_train,y_train)\n",
    "pred_rfc_bm = Best_model.predict(x_test)\n",
    "accuracy_rfc_bm = accuracy_score(y_test,pred_rfc_bm)\n",
    "print(accuracy_rfc_bm*100)"
   ]
  },
  {
   "cell_type": "code",
   "execution_count": 247,
   "metadata": {},
   "outputs": [
    {
     "data": {
      "text/plain": [
       "array([[84,  0,  0,  0,  0,  0,  0,  0],\n",
       "       [ 2, 57,  5,  7,  5,  1,  0,  0],\n",
       "       [ 1,  4, 54,  2,  3,  2,  0,  0],\n",
       "       [ 0,  4,  1, 53,  3,  2,  0,  0],\n",
       "       [ 0,  3,  3,  0, 74,  0,  0,  0],\n",
       "       [ 0,  1,  1,  1,  0, 64,  0,  0],\n",
       "       [ 0,  0,  1,  0,  0,  0, 87,  0],\n",
       "       [ 0,  0,  0,  0,  0,  0,  0, 73]], dtype=int64)"
      ]
     },
     "execution_count": 247,
     "metadata": {},
     "output_type": "execute_result"
    }
   ],
   "source": [
    "confusion_matrix = confusion_matrix(y_test,pred_rfc_bm)\n",
    "confusion_matrix"
   ]
  },
  {
   "cell_type": "code",
   "execution_count": 73,
   "metadata": {},
   "outputs": [
    {
     "name": "stdout",
     "output_type": "stream",
     "text": [
      "\n",
      "Classification Report:\n",
      "               precision    recall  f1-score   support\n",
      "\n",
      "           0       0.78      0.85      0.82        60\n",
      "           1       0.70      0.42      0.52        55\n",
      "           2       0.49      0.48      0.48        44\n",
      "           3       0.85      0.66      0.75        71\n",
      "           4       0.80      0.97      0.88        72\n",
      "           5       0.71      0.77      0.74        60\n",
      "           6       1.00      0.97      0.98        59\n",
      "           7       0.71      0.92      0.80        53\n",
      "\n",
      "    accuracy                           0.77       474\n",
      "   macro avg       0.76      0.75      0.75       474\n",
      "weighted avg       0.77      0.77      0.76       474\n",
      "\n",
      "Accuracy Score: 76.79324894514767\n",
      "Cross Validation Score: 78.05804749340369\n",
      "\n",
      "Accuracy Score - Cross Validation Score is -1.2647985482560244\n"
     ]
    }
   ],
    },
  {
   "cell_type": "markdown",
   "metadata": {},
   "source": [
    "#### Defining the Parameters list for SV Classifier"
   ]
  },
  {
   "cell_type": "code",
   "execution_count": 248,
   "metadata": {},
   "outputs": [],
   "source": [
    "parameters1 = {'C': np.array([1, 25, 50]),\n",
    "             'decision_function_shape': [\"ovo\",\"ovr\"],\n",
    "             'max_iter': [100,50,25],\n",
    "             'gamma': [\"scale\",\"auto\"]}"
   ]
  },
  {
   "cell_type": "code",
   "execution_count": 250,
   "metadata": {},
   "outputs": [],
   "source": [
    "GridCV = GridSearchCV(SVC(),parameters1,cv=5,n_jobs = -1,verbose=2)"
   ]
  },
  {
   "cell_type": "code",
   "execution_count": 251,
   "metadata": {},
   "outputs": [
    {
     "name": "stdout",
     "output_type": "stream",
     "text": [
      "Fitting 5 folds for each of 36 candidates, totalling 180 fits\n"
     ]
    },
    {
     "data": {
      "text/plain": [
       "GridSearchCV(cv=5, estimator=SVC(), n_jobs=-1,\n",
       "             param_grid={'C': array([ 1, 25, 50]),\n",
       "                         'decision_function_shape': ['ovo', 'ovr'],\n",
       "                         'gamma': ['scale', 'auto'],\n",
       "                         'max_iter': [100, 50, 25]},\n",
       "             verbose=2)"
      ]
     },
     "execution_count": 251,
     "metadata": {},
     "output_type": "execute_result"
    }
   ],
   "source": [
    "GridCV.fit(x_train,y_train)"
   ]
  },
  {
   "cell_type": "code",
   "execution_count": 252,
   "metadata": {},
   "outputs": [
    {
     "data": {
      "text/plain": [
       "{'C': 25, 'decision_function_shape': 'ovo', 'gamma': 'scale', 'max_iter': 100}"
      ]
     },
     "execution_count": 252,
     "metadata": {},
     "output_type": "execute_result"
    }
   ],
   "source": [
    "GridCV.best_params_"
   ]
  },
  {
   "cell_type": "code",
   "execution_count": 253,
   "metadata": {},
   "outputs": [
    {
     "name": "stdout",
     "output_type": "stream",
     "text": [
      "80.60200668896321\n"
     ]
    }
   ],
   "source": [
    "Best_model1 = SVC(C = 25, decision_function_shape = 'ovo', max_iter = 100, gamma = 'scale')\n",
    "Best_model1.fit(x_train,y_train)\n",
    "pred_sv_bm = Best_model1.predict(x_test)\n",
    "accuracy_sv_bm = accuracy_score(y_test,pred_sv_bm)\n",
    "print(accuracy_sv_bm*100)"
   ]
  },
  {
   "cell_type": "markdown",
   "metadata": {},
   "source": [
    "By comparing, we can conclude that Random Forest Classifier is the best model so saving that model as best Model"
   ]
  },
  {
   "cell_type": "markdown",
   "metadata": {},
   "source": [
    "### Saving the Best Model"
   ]
  },
  {
   "cell_type": "code",
   "execution_count": 254,
   "metadata": {},
   "outputs": [
    {
     "data": {
      "text/plain": [
       "['Global_Power_Plant_Final_Best_Model_Random_Forest_Classifier.pkl']"
      ]
     },
     "execution_count": 254,
     "metadata": {},
     "output_type": "execute_result"
    }
   ],
   "source": [
    "joblib.dump(Best_model,\"Global_Power_Plant_Final_Best_Model_Random_Forest_Classifier.pkl\")"
   ]
  },
  {
   "cell_type": "markdown",
   "metadata": {},
   "source": [
    "### Loading the Best Model"
   ]
  },
  {
   "cell_type": "code",
   "execution_count": 255,
   "metadata": {},
   "outputs": [
    {
     "data": {
      "text/plain": [
       "['Global_Power_Plant_Final_Best_Model_Random_Forest_Classifier.pkl']"
      ]
     },
     "execution_count": 255,
     "metadata": {},
     "output_type": "execute_result"
    }
   ],
   "source": [
    "joblib.dump(Best_model,\"Global_Power_Plant_Final_Best_Model_Random_Forest_Classifier.pkl\")"
   ]
  },
  {
   "cell_type": "markdown",
   "metadata": {},
   "source": [
    "### Comparing Actual Value and Predicted Value"
   ]
  },
  {
   "cell_type": "code",
   "execution_count": 256,
   "metadata": {},
   "outputs": [
    {
     "data": {
      "text/html": [
       "<div>\n",
       "<style scoped>\n",
       "    .dataframe tbody tr th:only-of-type {\n",
       "        vertical-align: middle;\n",
       "    }\n",
       "\n",
       "    .dataframe tbody tr th {\n",
       "        vertical-align: top;\n",
       "    }\n",
       "\n",
       "    .dataframe thead th {\n",
       "        text-align: right;\n",
       "    }\n",
       "</style>\n",
       "<table border=\"1\" class=\"dataframe\">\n",
       "  <thead>\n",
       "    <tr style=\"text-align: right;\">\n",
       "      <th></th>\n",
       "      <th>Actual Value</th>\n",
       "      <th>Predicted Value</th>\n",
       "    </tr>\n",
       "  </thead>\n",
       "  <tbody>\n",
       "    <tr>\n",
       "      <th>0</th>\n",
       "      <td>6</td>\n",
       "      <td>2</td>\n",
       "    </tr>\n",
       "    <tr>\n",
       "      <th>1</th>\n",
       "      <td>2</td>\n",
       "      <td>2</td>\n",
       "    </tr>\n",
       "    <tr>\n",
       "      <th>2</th>\n",
       "      <td>1</td>\n",
       "      <td>1</td>\n",
       "    </tr>\n",
       "    <tr>\n",
       "      <th>3</th>\n",
       "      <td>1</td>\n",
       "      <td>1</td>\n",
       "    </tr>\n",
       "    <tr>\n",
       "      <th>4</th>\n",
       "      <td>2</td>\n",
       "      <td>2</td>\n",
       "    </tr>\n",
       "    <tr>\n",
       "      <th>...</th>\n",
       "      <td>...</td>\n",
       "      <td>...</td>\n",
       "    </tr>\n",
       "    <tr>\n",
       "      <th>593</th>\n",
       "      <td>6</td>\n",
       "      <td>6</td>\n",
       "    </tr>\n",
       "    <tr>\n",
       "      <th>594</th>\n",
       "      <td>7</td>\n",
       "      <td>7</td>\n",
       "    </tr>\n",
       "    <tr>\n",
       "      <th>595</th>\n",
       "      <td>1</td>\n",
       "      <td>1</td>\n",
       "    </tr>\n",
       "    <tr>\n",
       "      <th>596</th>\n",
       "      <td>6</td>\n",
       "      <td>6</td>\n",
       "    </tr>\n",
       "    <tr>\n",
       "      <th>597</th>\n",
       "      <td>3</td>\n",
       "      <td>3</td>\n",
       "    </tr>\n",
       "  </tbody>\n",
       "</table>\n",
       "<p>598 rows × 2 columns</p>\n",
       "</div>"
      ],
      "text/plain": [
       "     Actual Value  Predicted Value\n",
       "0               6                2\n",
       "1               2                2\n",
       "2               1                1\n",
       "3               1                1\n",
       "4               2                2\n",
       "..            ...              ...\n",
       "593             6                6\n",
       "594             7                7\n",
       "595             1                1\n",
       "596             6                6\n",
       "597             3                3\n",
       "\n",
       "[598 rows x 2 columns]"
      ]
     },
     "execution_count": 256,
     "metadata": {},
     "output_type": "execute_result"
    }
   ],
   "source": [
    "actual_data = np.array(y_test)\n",
    "predicted_data = np.array(Best_model.predict(x_test))\n",
    "df_comparision = pd.DataFrame({\"Actual Value\":actual_data, \"Predicted Value\":predicted_data}, index=range(len(actual_data)))\n",
    "df_comparision"
   ]
  },
  {
   "cell_type": "markdown",
   "metadata": {},
   "source": [
    "Upon review, found Predicted Value is 91.30% equivalent to Actual Values"
   ]
  },
  {
   "cell_type": "markdown",
   "metadata": {},
   "source": [
    "## Model Building: Regression Problem"
   ]
  },
  {
   "cell_type": "markdown",
   "metadata": {},
   "source": [
    "### Finding the Best Random State "
   ]
  },
  {
   "cell_type": "code",
   "execution_count": 258,
   "metadata": {},
   "outputs": [],
   "source": [
    "x=x_rg.copy()\n",
    "y=y_rg.copy()"
   ]
  },
  {
   "cell_type": "code",
   "execution_count": 259,
   "metadata": {},
   "outputs": [
    {
     "name": "stdout",
     "output_type": "stream",
     "text": [
      "The Best Accuracy is: 0.317456438554639 at Random State: 19\n"
     ]
    }
   ],
   "source": [
    "maxAcc = 0\n",
    "maxRS=0\n",
    "for i in range(1,100):\n",
    "    x_train,x_test,y_train,y_test = train_test_split(x,y,test_size = .23,random_state = i)\n",
    "    mod_random_state =  Lasso()\n",
    "    mod_random_state.fit(x_train,y_train)\n",
    "    pred = mod_random_state.predict(x_test)\n",
    "    acc  = r2_score(y_test,pred)\n",
    "    if acc>maxAcc:\n",
    "        maxAcc=acc\n",
    "        maxRS=i\n",
    "print(f\"The Best Accuracy is: {maxAcc} at Random State: {maxRS}\")"
   ]
  },
  {
   "cell_type": "code",
   "execution_count": 261,
   "metadata": {},
   "outputs": [],
   "source": [
    "x_train,x_test,y_train,y_test = train_test_split(x,y,test_size = .23, random_state =maxRS)"
   ]
  },
  {
   "cell_type": "code",
   "execution_count": 263,
   "metadata": {},
   "outputs": [],
   "source": [
    "#Random Forest Regressor\n",
    "\n",
    "rf = RandomForestRegressor()\n",
    "rf.fit(x_train,y_train)\n",
    "y_rf_pred = rf.predict(x_test)\n",
    "mean_squared_error(y_test,y_rf_pred)\n",
    "np.sqrt(mean_squared_error(y_test,y_rf_pred))\n",
    "\n",
    "#Ridge Regressor Model\n",
    "\n",
    "r = Ridge()\n",
    "r.fit(x_train,y_train)\n",
    "y_r_pred = r.predict(x_test)\n",
    "mean_squared_error(y_test,y_r_pred)\n",
    "np.sqrt(mean_squared_error(y_test,y_r_pred))\n",
    "\n",
    "#Lasso Regression Model\n",
    "\n",
    "l = Lasso()\n",
    "l.fit(x_train,y_train)\n",
    "y_l_pred = l.predict(x_test)\n",
    "mean_squared_error(y_test,y_l_pred)\n",
    "np.sqrt(mean_squared_error(y_test,y_l_pred))\n",
    "\n",
    "#SVR Model\n",
    "\n",
    "SV= SVR()\n",
    "SV.fit(x_train,y_train)\n",
    "y_SV_pred = SV.predict(x_test)\n",
    "mean_squared_error(y_test,y_SV_pred)\n",
    "np.sqrt(mean_squared_error(y_test,y_SV_pred))\n",
    "\n",
    "#AdaBoost Regressor Model\n",
    "\n",
    "adb = AdaBoostRegressor()\n",
    "adb.fit(x_train,y_train)\n",
    "y_adb_pred = adb.predict(x_test)\n",
    "mean_squared_error(y_test,y_adb_pred)\n",
    "np.sqrt(mean_squared_error(y_test,y_adb_pred))\n",
    "\n",
    "#R2_scores of all the models\n",
    "\n",
    "R1 = r2_score(y_test,y_rf_pred)\n",
    "R2 = r2_score(y_test,y_r_pred)\n",
    "R3 = r2_score(y_test,y_l_pred)\n",
    "R4 = r2_score(y_test,y_SV_pred)\n",
    "R5 = r2_score(y_test,y_adb_pred)\n",
    "\n",
    "#Cross Validation Scores of all the models\n",
    "\n",
    "C1 = cross_val_score(rf,x,y,cv=4).mean()\n",
    "C2 = cross_val_score(r,x,y, cv=4).mean()\n",
    "C3 = cross_val_score(l,x,y,cv=4).mean()\n",
    "C4 = cross_val_score(SV,x,y,cv=4).mean()\n",
    "C5 = cross_val_score(adb,x,y,cv=4).mean()\n",
    "\n",
    "#Mean Squared Errors of all the models\n",
    "\n",
    "M1 = mean_squared_error(y_test,y_rf_pred)\n",
    "M2 = mean_squared_error(y_test,y_r_pred)\n",
    "M3 = mean_squared_error(y_test,y_l_pred)\n",
    "M4 = mean_squared_error(y_test,y_SV_pred)\n",
    "M5 = mean_squared_error(y_test,y_adb_pred)\n",
    "\n",
    "#Square Root of Mean Squared Errors of all the models\n",
    "\n",
    "N1 = np.sqrt(mean_squared_error(y_test,y_rf_pred))\n",
    "N2 = np.sqrt(mean_squared_error(y_test,y_r_pred))\n",
    "N3 = np.sqrt(mean_squared_error(y_test,y_l_pred))\n",
    "N4 = np.sqrt(mean_squared_error(y_test,y_SV_pred))\n",
    "N5 = np.sqrt(mean_squared_error(y_test,y_adb_pred))"
   ]
  },
  {
   "cell_type": "markdown",
   "metadata": {},
   "source": [
    "### Random Forest Regressor Model"
   ]
  },
  {
   "cell_type": "code",
   "execution_count": 264,
   "metadata": {},
   "outputs": [
    {
     "name": "stdout",
     "output_type": "stream",
     "text": [
      "R2 Score:  0.5613357025218204\n",
      "Mean Squared Error (MSE):  155706.80376980486\n",
      "Root Mean Squared Error (RMSE):  394.5970143954524\n",
      "Cross validation Score:  0.39964414232310286\n"
     ]
    }
   ],
   "source": [
    "print('R2 Score: ',R1)\n",
    "print('Mean Squared Error (MSE): ',M1)\n",
    "print('Root Mean Squared Error (RMSE): ',N1)\n",
    "print('Cross validation Score: ',C1)"
   ]
  },
  {
   "cell_type": "markdown",
   "metadata": {},
   "source": [
    "### Ridge Regression Model"
   ]
  },
  {
   "cell_type": "code",
   "execution_count": 265,
   "metadata": {},
   "outputs": [
    {
     "name": "stdout",
     "output_type": "stream",
     "text": [
      "R2 Score:  0.3189135579135701\n",
      "Mean Squared Error (MSE):  241756.15293492517\n",
      "Root Mean Squared Error (RMSE):  491.6870477599803\n",
      "Cross validation Score:  0.19364624701016359\n"
     ]
    }
   ],
   "source": [
    "print('R2 Score: ',R2)\n",
    "print('Mean Squared Error (MSE): ',M2)\n",
    "print('Root Mean Squared Error (RMSE): ',N2)\n",
    "print('Cross validation Score: ',C2)"
   ]
  },
  {
   "cell_type": "markdown",
   "metadata": {},
   "source": [
    "### Lasso Regression Model"
   ]
  },
  {
   "cell_type": "code",
   "execution_count": 266,
   "metadata": {},
   "outputs": [
    {
     "name": "stdout",
     "output_type": "stream",
     "text": [
      "R2 Score:  0.317456438554639\n",
      "Mean Squared Error (MSE):  242273.36712216263\n",
      "Root Mean Squared Error (RMSE):  492.2127254776766\n",
      "Cross validation Score:  0.19401557956547838\n"
     ]
    }
   ],
   "source": [
    "print('R2 Score: ',R3)\n",
    "print('Mean Squared Error (MSE): ',M3)\n",
    "print('Root Mean Squared Error (RMSE): ',N3)\n",
    "print('Cross validation Score: ',C3)"
   ]
  },
  {
   "cell_type": "markdown",
   "metadata": {},
   "source": [
    "### SVR Model"
   ]
  },
  {
   "cell_type": "code",
   "execution_count": 267,
   "metadata": {},
   "outputs": [
    {
     "name": "stdout",
     "output_type": "stream",
     "text": [
      "R2 Score:  -0.2116481782092845\n",
      "Mean Squared Error (MSE):  430082.56246762176\n",
      "Root Mean Squared Error (RMSE):  655.806802700019\n",
      "Cross validation Score:  -0.15110424763195074\n"
     ]
    }
   ],
   "source": [
    "print('R2 Score: ',R4)\n",
    "print('Mean Squared Error (MSE): ',M4)\n",
    "print('Root Mean Squared Error (RMSE): ',N4)\n",
    "print('Cross validation Score: ',C4)"
   ]
  },
  {
   "cell_type": "markdown",
   "metadata": {},
   "source": [
    "### AdaBoost Regressor Model"
   ]
  },
  {
   "cell_type": "code",
   "execution_count": 268,
   "metadata": {},
   "outputs": [
    {
     "name": "stdout",
     "output_type": "stream",
     "text": [
      "R2 Score:  0.10303888510685799\n",
      "Mean Squared Error (MSE):  318382.3007906384\n",
      "Root Mean Squared Error (RMSE):  564.2537556726037\n",
      "Cross validation Score:  0.13089836423953968\n"
     ]
    }
   ],
   "source": [
    "print('R2 Score: ',R5)\n",
    "print('Mean Squared Error (MSE): ',M5)\n",
    "print('Root Mean Squared Error (RMSE): ',N5)\n",
    "print('Cross validation Score: ',C5)"
   ]
  },
  {
   "cell_type": "markdown",
   "metadata": {},
   "source": [
    "#### Consolidating all Model R2 Scores and Cross Validation Score"
   ]
  },
  {
   "cell_type": "code",
   "execution_count": 269,
   "metadata": {},
   "outputs": [],
   "source": [
    "Consolidated_Score = pd.DataFrame({'Model':['Random Forest Regressor','Ridge','Lasso','SVR','ABR'], \n",
    "                                   'MSE':[M1,M2,M3,M4,M5], 'RMSE':[N1,N2,N3,N4,N5], 'R2_Score':[R1,R2,R3,R4,R5],\n",
    "                                   'Cross_Validation_Score':[C1,C2,C3,C4,C5],})\n",
    "Consolidated_Score['Difference'] = Consolidated_Score['R2_Score'] - Consolidated_Score['Cross_Validation_Score']"
   ]
  },
  {
   "cell_type": "code",
   "execution_count": 270,
   "metadata": {},
   "outputs": [
    {
     "data": {
      "text/html": [
       "<div>\n",
       "<style scoped>\n",
       "    .dataframe tbody tr th:only-of-type {\n",
       "        vertical-align: middle;\n",
       "    }\n",
       "\n",
       "    .dataframe tbody tr th {\n",
       "        vertical-align: top;\n",
       "    }\n",
       "\n",
       "    .dataframe thead th {\n",
       "        text-align: right;\n",
       "    }\n",
       "</style>\n",
       "<table border=\"1\" class=\"dataframe\">\n",
       "  <thead>\n",
       "    <tr style=\"text-align: right;\">\n",
       "      <th></th>\n",
       "      <th>Model</th>\n",
       "      <th>MSE</th>\n",
       "      <th>RMSE</th>\n",
       "      <th>R2_Score</th>\n",
       "      <th>Cross_Validation_Score</th>\n",
       "      <th>Difference</th>\n",
       "    </tr>\n",
       "  </thead>\n",
       "  <tbody>\n",
       "    <tr>\n",
       "      <th>0</th>\n",
       "      <td>Random Forest Regressor</td>\n",
       "      <td>155706.803770</td>\n",
       "      <td>394.597014</td>\n",
       "      <td>0.561336</td>\n",
       "      <td>0.399644</td>\n",
       "      <td>0.161692</td>\n",
       "    </tr>\n",
       "    <tr>\n",
       "      <th>1</th>\n",
       "      <td>Ridge</td>\n",
       "      <td>241756.152935</td>\n",
       "      <td>491.687048</td>\n",
       "      <td>0.318914</td>\n",
       "      <td>0.193646</td>\n",
       "      <td>0.125267</td>\n",
       "    </tr>\n",
       "    <tr>\n",
       "      <th>2</th>\n",
       "      <td>Lasso</td>\n",
       "      <td>242273.367122</td>\n",
       "      <td>492.212725</td>\n",
       "      <td>0.317456</td>\n",
       "      <td>0.194016</td>\n",
       "      <td>0.123441</td>\n",
       "    </tr>\n",
       "    <tr>\n",
       "      <th>3</th>\n",
       "      <td>SVR</td>\n",
       "      <td>430082.562468</td>\n",
       "      <td>655.806803</td>\n",
       "      <td>-0.211648</td>\n",
       "      <td>-0.151104</td>\n",
       "      <td>-0.060544</td>\n",
       "    </tr>\n",
       "    <tr>\n",
       "      <th>4</th>\n",
       "      <td>ABR</td>\n",
       "      <td>318382.300791</td>\n",
       "      <td>564.253756</td>\n",
       "      <td>0.103039</td>\n",
       "      <td>0.130898</td>\n",
       "      <td>-0.027859</td>\n",
       "    </tr>\n",
       "  </tbody>\n",
       "</table>\n",
       "</div>"
      ],
      "text/plain": [
       "                     Model            MSE        RMSE  R2_Score  \\\n",
       "0  Random Forest Regressor  155706.803770  394.597014  0.561336   \n",
       "1                    Ridge  241756.152935  491.687048  0.318914   \n",
       "2                    Lasso  242273.367122  492.212725  0.317456   \n",
       "3                      SVR  430082.562468  655.806803 -0.211648   \n",
       "4                      ABR  318382.300791  564.253756  0.103039   \n",
       "\n",
       "   Cross_Validation_Score  Difference  \n",
       "0                0.399644    0.161692  \n",
       "1                0.193646    0.125267  \n",
       "2                0.194016    0.123441  \n",
       "3               -0.151104   -0.060544  \n",
       "4                0.130898   -0.027859  "
      ]
     },
     "execution_count": 270,
     "metadata": {},
     "output_type": "execute_result"
    }
   ],
   "source": [
    "Consolidated_Score"
   ]
  },
  {
   "cell_type": "markdown",
   "metadata": {},
   "source": [
    "Upon review, we can observe following things\n",
    "\n",
    "\n",
    "1. Least Difference is with Lasso and followed by Ridge, However, Root Mean Squared Error and Mean Squared Error is high comparatively.\n",
    "\n",
    "\n",
    "\n",
    "\n",
    "2. SVR and ABR Model is also having less difference but cross validation score is in negative and also Root Mean Squared Error and Mean Squared Error is high comparatively with respect to Random Forest Regressor.\n",
    "\n",
    "\n",
    "So Choosing Random Forest Regressor as Best Model to proceed for Hyper Parameter Tuning since it has the low error values which would predict the target variable with better accuaracy"
   ]
  },
  {
   "cell_type": "markdown",
   "metadata": {},
   "source": [
    "### Hyper Parameter Tuning Using Grid Search"
   ]
  },
  {
   "cell_type": "markdown",
   "metadata": {},
   "source": [
    "#### Defining the Parameters list for Random Forest Regressor"
   ]
  },
  {
   "cell_type": "code",
   "execution_count": 271,
   "metadata": {},
   "outputs": [],
   "source": [
    "parameters = {'max_features':[\"auto\", \"sqrt\", \"log2\"],\n",
    "             'n_estimators': [100, 250, 500, 1000],\n",
    "             'n_jobs': [100, 250, 500],\n",
    "             'max_depth': [100, 250, 500]}"
   ]
  },
  {
   "cell_type": "code",
   "execution_count": 272,
   "metadata": {},
   "outputs": [],
   "source": [
    "GridCV = GridSearchCV(RandomForestRegressor(), parameters, cv=5, n_jobs = -1, verbose = 1)"
   ]
  },
  {
   "cell_type": "code",
   "execution_count": 273,
   "metadata": {},
   "outputs": [
    {
     "name": "stdout",
     "output_type": "stream",
     "text": [
      "Fitting 5 folds for each of 108 candidates, totalling 540 fits\n"
     ]
    },
    {
     "data": {
      "text/plain": [
       "GridSearchCV(cv=5, estimator=RandomForestRegressor(), n_jobs=-1,\n",
       "             param_grid={'max_depth': [100, 250, 500],\n",
       "                         'max_features': ['auto', 'sqrt', 'log2'],\n",
       "                         'n_estimators': [100, 250, 500, 1000],\n",
       "                         'n_jobs': [100, 250, 500]},\n",
       "             verbose=1)"
      ]
     },
     "execution_count": 273,
     "metadata": {},
     "output_type": "execute_result"
    }
   ],
   "source": [
    "GridCV.fit(x_train,y_train)"
   ]
  },
  {
   "cell_type": "code",
   "execution_count": 274,
   "metadata": {},
   "outputs": [
    {
     "data": {
      "text/plain": [
       "{'max_depth': 250, 'max_features': 'auto', 'n_estimators': 250, 'n_jobs': 500}"
      ]
     },
     "execution_count": 274,
     "metadata": {},
     "output_type": "execute_result"
    }
   ],
   "source": [
    "GridCV.best_params_"
   ]
  },
  {
   "cell_type": "markdown",
   "metadata": {},
   "source": [
    "Obtaining Best Parameters details for Best Model after training the parameters list given"
   ]
  },
  {
   "cell_type": "markdown",
   "metadata": {},
   "source": [
    "### Training the Best Model with the Best Model Parameters"
   ]
  },
  {
   "cell_type": "code",
   "execution_count": 275,
   "metadata": {},
   "outputs": [],
   "source": [
    "Best_model = RandomForestRegressor(max_features = 'auto', n_estimators= 250, n_jobs = 500, max_depth = 250)"
   ]
  },
  {
   "cell_type": "code",
   "execution_count": 276,
   "metadata": {},
   "outputs": [
    {
     "data": {
      "text/plain": [
       "RandomForestRegressor(max_depth=250, n_estimators=250, n_jobs=500)"
      ]
     },
     "execution_count": 276,
     "metadata": {},
     "output_type": "execute_result"
    }
   ],
   "source": [
    "Best_model.fit(x_train,y_train)"
   ]
  },
  {
   "cell_type": "code",
   "execution_count": 277,
   "metadata": {},
   "outputs": [
    {
     "name": "stdout",
     "output_type": "stream",
     "text": [
      "R2 Score of Best Model is  55.75084676890211\n"
     ]
    }
   ],
   "source": [
    "pred_rfr_bm = Best_model.predict(x_test)\n",
    "R2_Score_bm = r2_score(y_test,pred_rfr_bm)\n",
    "print('R2 Score of Best Model is ',R2_Score_bm*100)"
   ]
  },
  {
   "cell_type": "markdown",
   "metadata": {},
   "source": [
    "### Saving the Best Model"
   ]
  },
  {
   "cell_type": "code",
   "execution_count": 278,
   "metadata": {},
   "outputs": [
    {
     "data": {
      "text/plain": [
       "['Global_Power_Plant_Final_Best_Model_Random_Forest_Regressor.pkl']"
      ]
     },
     "execution_count": 278,
     "metadata": {},
     "output_type": "execute_result"
    }
   ],
   "source": [
    "joblib.dump(Best_model,\"Global_Power_Plant_Final_Best_Model_Random_Forest_Regressor.pkl\")"
   ]
  },
  {
   "cell_type": "markdown",
   "metadata": {},
   "source": [
    "### Loading the Best Model"
   ]
  },
  {
   "cell_type": "code",
   "execution_count": 279,
   "metadata": {},
   "outputs": [],
   "source": [
    "model=joblib.load(\"Global_Power_Plant_Final_Best_Model_Random_Forest_Regressor.pkl\")"
   ]
  },
  {
   "cell_type": "markdown",
   "metadata": {},
   "source": [
    "### Comparing Actual Value and Predicted Value "
   ]
  },
  {
   "cell_type": "code",
   "execution_count": 280,
   "metadata": {},
   "outputs": [
    {
     "data": {
      "text/html": [
       "<div>\n",
       "<style scoped>\n",
       "    .dataframe tbody tr th:only-of-type {\n",
       "        vertical-align: middle;\n",
       "    }\n",
       "\n",
       "    .dataframe tbody tr th {\n",
       "        vertical-align: top;\n",
       "    }\n",
       "\n",
       "    .dataframe thead th {\n",
       "        text-align: right;\n",
       "    }\n",
       "</style>\n",
       "<table border=\"1\" class=\"dataframe\">\n",
       "  <thead>\n",
       "    <tr style=\"text-align: right;\">\n",
       "      <th></th>\n",
       "      <th>Actual Value</th>\n",
       "      <th>Predicted Value</th>\n",
       "    </tr>\n",
       "  </thead>\n",
       "  <tbody>\n",
       "    <tr>\n",
       "      <th>0</th>\n",
       "      <td>107.88</td>\n",
       "      <td>160.644936</td>\n",
       "    </tr>\n",
       "    <tr>\n",
       "      <th>1</th>\n",
       "      <td>2.10</td>\n",
       "      <td>5.307200</td>\n",
       "    </tr>\n",
       "    <tr>\n",
       "      <th>2</th>\n",
       "      <td>5.00</td>\n",
       "      <td>5.848000</td>\n",
       "    </tr>\n",
       "    <tr>\n",
       "      <th>3</th>\n",
       "      <td>1.00</td>\n",
       "      <td>16.363600</td>\n",
       "    </tr>\n",
       "    <tr>\n",
       "      <th>4</th>\n",
       "      <td>18.00</td>\n",
       "      <td>32.155200</td>\n",
       "    </tr>\n",
       "    <tr>\n",
       "      <th>...</th>\n",
       "      <td>...</td>\n",
       "      <td>...</td>\n",
       "    </tr>\n",
       "    <tr>\n",
       "      <th>196</th>\n",
       "      <td>25.50</td>\n",
       "      <td>29.597800</td>\n",
       "    </tr>\n",
       "    <tr>\n",
       "      <th>197</th>\n",
       "      <td>139.20</td>\n",
       "      <td>545.310800</td>\n",
       "    </tr>\n",
       "    <tr>\n",
       "      <th>198</th>\n",
       "      <td>1.00</td>\n",
       "      <td>10.239200</td>\n",
       "    </tr>\n",
       "    <tr>\n",
       "      <th>199</th>\n",
       "      <td>3.00</td>\n",
       "      <td>11.426400</td>\n",
       "    </tr>\n",
       "    <tr>\n",
       "      <th>200</th>\n",
       "      <td>460.00</td>\n",
       "      <td>1433.718000</td>\n",
       "    </tr>\n",
       "  </tbody>\n",
       "</table>\n",
       "<p>201 rows × 2 columns</p>\n",
       "</div>"
      ],
      "text/plain": [
       "     Actual Value  Predicted Value\n",
       "0          107.88       160.644936\n",
       "1            2.10         5.307200\n",
       "2            5.00         5.848000\n",
       "3            1.00        16.363600\n",
       "4           18.00        32.155200\n",
       "..            ...              ...\n",
       "196         25.50        29.597800\n",
       "197        139.20       545.310800\n",
       "198          1.00        10.239200\n",
       "199          3.00        11.426400\n",
       "200        460.00      1433.718000\n",
       "\n",
       "[201 rows x 2 columns]"
      ]
     },
     "execution_count": 280,
     "metadata": {},
     "output_type": "execute_result"
    }
   ],
   "source": [
    "actual_data = np.array(y_test)\n",
    "predicted_data = np.array(Best_model.predict(x_test))\n",
    "df_comparision = pd.DataFrame({\"Actual Value\":actual_data, \"Predicted Value\":predicted_data}, index=range(len(actual_data)))\n",
    "df_comparision"
   ]
  },
  {
   "cell_type": "code",
   "execution_count": 281,
   "metadata": {},
   "outputs": [
    {
     "data": {
      "image/png": "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\n",
      "text/plain": [
       "<Figure size 720x720 with 1 Axes>"
      ]
     },
     "metadata": {
      "needs_background": "light"
     },
     "output_type": "display_data"
    }
   ],
   "source": [
    "plt.figure(figsize=(10,10))\n",
    "plt.scatter(y_test, pred_rfr_bm, c='red')\n",
    "plt.yscale('linear')\n",
    "plt.xscale('linear')\n",
    "\n",
    "p1 = max(max(pred_rfr_bm), max(y_test))\n",
    "p2 = min(min(pred_rfr_bm), min(y_test))\n",
    "plt.plot([p1, p2], [p1, p2], 'b-')\n",
    "plt.xlabel('Actual Values', fontsize=15)\n",
    "plt.ylabel('Predicted Values', fontsize=15)\n",
    "plt.axis('equal')\n",
    "plt.show()"
   ]
  },
  {
   "cell_type": "markdown",
   "metadata": {},
   "source": [
    "Upon review, found Predicted Value is 55.75% equivalent to Actual Values"
   ]
  },
  {
   "cell_type": "code",
   "execution_count": null,
   "metadata": {},
   "outputs": [],
   "source": []
  }
 ],
 "metadata": {
  "kernelspec": {
   "display_name": "Python 3",
   "language": "python",
   "name": "python3"
  },
  "language_info": {
   "codemirror_mode": {
    "name": "ipython",
    "version": 3
   },
   "file_extension": ".py",
   "mimetype": "text/x-python",
   "name": "python",
   "nbconvert_exporter": "python",
   "pygments_lexer": "ipython3",
   "version": "3.8.5"
  }
 },
 "nbformat": 4,
 "nbformat_minor": 4
}
